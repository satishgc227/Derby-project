{
  "nbformat": 4,
  "nbformat_minor": 0,
  "metadata": {
    "colab": {
      "provenance": [],
      "authorship_tag": "ABX9TyNg9TUJ/m54Af5S8b0+81cM",
      "include_colab_link": true
    },
    "kernelspec": {
      "name": "python3",
      "display_name": "Python 3"
    },
    "language_info": {
      "name": "python"
    },
    "accelerator": "GPU"
  },
  "cells": [
    {
      "cell_type": "markdown",
      "metadata": {
        "id": "view-in-github",
        "colab_type": "text"
      },
      "source": [
        "<a href=\"https://colab.research.google.com/github/satishgc227/Derby-project/blob/main/Logistic_Regression%2CXGB%2CRandom_Forest%2CNaive_bayes%2CSVC%2CDeep_learning.ipynb\" target=\"_parent\"><img src=\"https://colab.research.google.com/assets/colab-badge.svg\" alt=\"Open In Colab\"/></a>"
      ]
    },
    {
      "cell_type": "code",
      "execution_count": 1,
      "metadata": {
        "id": "A1v_eD7aYOG9"
      },
      "outputs": [],
      "source": [
        "\n",
        "\n",
        "# Imports\n",
        "import pandas as pd\n",
        "import numpy as np\n",
        "import matplotlib.pyplot as plt\n",
        "from sklearn.cluster import KMeans\n",
        "from sklearn.decomposition import PCA\n",
        "from sklearn.preprocessing import StandardScaler\n",
        "from sklearn.preprocessing import OneHotEncoder\n",
        "from sklearn.model_selection import train_test_split\n",
        "from sklearn.metrics import classification_report, confusion_matrix, accuracy_score\n",
        "\n",
        "from sklearn import model_selection\n",
        "from sklearn import linear_model\n",
        "from sklearn import metrics\n",
        "from sklearn.decomposition import PCA\n",
        "\n",
        "from sklearn.svm import SVC\n",
        "import xgboost as xgb\n",
        "from xgboost import XGBClassifier\n",
        "from sklearn.ensemble import RandomForestClassifier\n",
        "import time\n",
        "\n",
        "from sklearn.preprocessing import MaxAbsScaler\n",
        "from sklearn.naive_bayes import GaussianNB\n",
        "\n",
        "from sklearn.neighbors import KNeighborsClassifier\n",
        "\n",
        "import tensorflow\n",
        "from tensorflow import keras\n",
        "from tensorflow.keras import Sequential\n",
        "from tensorflow.keras.callbacks import EarlyStopping\n",
        "from tensorflow.keras.layers import Dense, Dropout\n",
        "\n"
      ]
    },
    {
      "cell_type": "code",
      "source": [
        "# Load in the data\n",
        "df = pd.read_csv('/content/edited complete.csv',encoding='latin',nrows=100000)\n"
      ],
      "metadata": {
        "colab": {
          "base_uri": "https://localhost:8080/"
        },
        "id": "t0rcM5AEv-NK",
        "outputId": "b5c35cbe-2cb5-4fef-dd50-217f2e04abb9"
      },
      "execution_count": 2,
      "outputs": [
        {
          "output_type": "stream",
          "name": "stderr",
          "text": [
            "/usr/local/lib/python3.7/dist-packages/IPython/core/interactiveshell.py:3326: DtypeWarning: Columns (3) have mixed types.Specify dtype option on import or set low_memory=False.\n",
            "  exec(code_obj, self.user_global_ns, self.user_ns)\n"
          ]
        }
      ]
    },
    {
      "cell_type": "markdown",
      "source": [
        "One hot encoding:"
      ],
      "metadata": {
        "id": "RWFCWOc8wOZN"
      }
    },
    {
      "cell_type": "code",
      "source": [
        "#Unique values of the columns\n",
        "df['race_type\\xa0'].unique()\n",
        "df['course_type'].unique()\n",
        "df['track_condition\\xa0'].unique()\n",
        "df['track_id'].unique()\n"
      ],
      "metadata": {
        "colab": {
          "base_uri": "https://localhost:8080/"
        },
        "id": "83NWz2uBv-Ve",
        "outputId": "40c037b6-bcad-4092-f52e-2a9368ab9044"
      },
      "execution_count": 3,
      "outputs": [
        {
          "output_type": "execute_result",
          "data": {
            "text/plain": [
              "array(['AQU', 'BEL', 'SAR'], dtype=object)"
            ]
          },
          "metadata": {},
          "execution_count": 3
        }
      ]
    },
    {
      "cell_type": "code",
      "source": [
        "s=df[['race_type\\xa0','course_type','track_condition\\xa0','track_id']]"
      ],
      "metadata": {
        "id": "QX8Kg6lbv-aK"
      },
      "execution_count": 4,
      "outputs": []
    },
    {
      "cell_type": "code",
      "source": [
        "ohe=OneHotEncoder()\n",
        "feature_array=ohe.fit_transform(df[['race_type\\xa0','course_type','track_condition\\xa0','track_id']]).toarray()"
      ],
      "metadata": {
        "id": "9urfe30Mv-dP"
      },
      "execution_count": 5,
      "outputs": []
    },
    {
      "cell_type": "code",
      "source": [
        "feature_labels=ohe.categories_\n",
        "print(feature_labels)"
      ],
      "metadata": {
        "colab": {
          "base_uri": "https://localhost:8080/"
        },
        "id": "J-ZGwcSSv-go",
        "outputId": "62686fa0-a54e-48a2-d6a5-51af66c0238f"
      },
      "execution_count": 6,
      "outputs": [
        {
          "output_type": "stream",
          "name": "stdout",
          "text": [
            "[array(['ALW', 'AOC', 'CLM', 'SOC', 'SST', 'STK', 'STR', 'WCL'],\n",
            "      dtype=object), array(['D', 'I', 'M', 'O', 'T'], dtype=object), array(['FM ', 'FT ', 'GD ', 'MY ', 'SY ', 'YL '], dtype=object), array(['AQU', 'BEL', 'SAR'], dtype=object)]\n"
          ]
        }
      ]
    },
    {
      "cell_type": "code",
      "source": [
        "np.hstack(feature_labels)"
      ],
      "metadata": {
        "colab": {
          "base_uri": "https://localhost:8080/"
        },
        "id": "JOQ3CR70v-lj",
        "outputId": "326a7841-797f-4713-fa7d-5281f6c4c587"
      },
      "execution_count": 7,
      "outputs": [
        {
          "output_type": "execute_result",
          "data": {
            "text/plain": [
              "array(['ALW', 'AOC', 'CLM', 'SOC', 'SST', 'STK', 'STR', 'WCL', 'D', 'I',\n",
              "       'M', 'O', 'T', 'FM ', 'FT ', 'GD ', 'MY ', 'SY ', 'YL ', 'AQU',\n",
              "       'BEL', 'SAR'], dtype=object)"
            ]
          },
          "metadata": {},
          "execution_count": 7
        }
      ]
    },
    {
      "cell_type": "code",
      "source": [
        "feature_labels=np.hstack(feature_labels)\n",
        "f=pd.DataFrame(feature_array,columns=feature_labels)\n",
        "pd.concat([df,f],axis=1)"
      ],
      "metadata": {
        "colab": {
          "base_uri": "https://localhost:8080/",
          "height": 661
        },
        "id": "d_e4X0hjv-n7",
        "outputId": "f070546f-2d94-4569-feaf-1540f66302c1"
      },
      "execution_count": 8,
      "outputs": [
        {
          "output_type": "execute_result",
          "data": {
            "text/plain": [
              "      track_id   race_date  race_number  program_number   trakus_index   \\\n",
              "0          AQU  01-01-2019             9               6             73   \n",
              "1          AQU  01-01-2019             9               6             74   \n",
              "2          AQU  01-01-2019             9               6             63   \n",
              "3          AQU  01-01-2019             9               6             64   \n",
              "4          AQU  01-01-2019             9               6             65   \n",
              "...        ...         ...           ...             ...            ...   \n",
              "99995      BEL  04-05-2019             3               2             83   \n",
              "99996      BEL  04-05-2019             3               2             84   \n",
              "99997      BEL  04-05-2019             3               2             73   \n",
              "99998      BEL  04-05-2019             3               2             74   \n",
              "99999      BEL  04-05-2019             3               2             75   \n",
              "\n",
              "       latitude   longitude   distance_id  course_type track_condition   ...  \\\n",
              "0      40.672946  -73.827587           600           D              GD   ...   \n",
              "1      40.672990  -73.827568           600           D              GD   ...   \n",
              "2      40.672510  -73.827781           600           D              GD   ...   \n",
              "3      40.672553  -73.827762           600           D              GD   ...   \n",
              "4      40.672596  -73.827742           600           D              GD   ...   \n",
              "...          ...         ...           ...         ...              ...  ...   \n",
              "99995  40.717702  -73.726057           600           D              SY   ...   \n",
              "99996  40.717692  -73.726116           600           D              SY   ...   \n",
              "99997  40.717738  -73.725438           600           D              SY   ...   \n",
              "99998  40.717739  -73.725500           600           D              SY   ...   \n",
              "99999  40.717740  -73.725561           600           D              SY   ...   \n",
              "\n",
              "         T  FM   FT   GD   MY   SY   YL   AQU  BEL  SAR  \n",
              "0      0.0  0.0  0.0  1.0  0.0  0.0  0.0  1.0  0.0  0.0  \n",
              "1      0.0  0.0  0.0  1.0  0.0  0.0  0.0  1.0  0.0  0.0  \n",
              "2      0.0  0.0  0.0  1.0  0.0  0.0  0.0  1.0  0.0  0.0  \n",
              "3      0.0  0.0  0.0  1.0  0.0  0.0  0.0  1.0  0.0  0.0  \n",
              "4      0.0  0.0  0.0  1.0  0.0  0.0  0.0  1.0  0.0  0.0  \n",
              "...    ...  ...  ...  ...  ...  ...  ...  ...  ...  ...  \n",
              "99995  0.0  0.0  0.0  0.0  0.0  1.0  0.0  0.0  1.0  0.0  \n",
              "99996  0.0  0.0  0.0  0.0  0.0  1.0  0.0  0.0  1.0  0.0  \n",
              "99997  0.0  0.0  0.0  0.0  0.0  1.0  0.0  0.0  1.0  0.0  \n",
              "99998  0.0  0.0  0.0  0.0  0.0  1.0  0.0  0.0  1.0  0.0  \n",
              "99999  0.0  0.0  0.0  0.0  0.0  1.0  0.0  0.0  1.0  0.0  \n",
              "\n",
              "[100000 rows x 40 columns]"
            ],
            "text/html": [
              "\n",
              "  <div id=\"df-de91e005-de25-4810-9419-ec83ad8ba0ca\">\n",
              "    <div class=\"colab-df-container\">\n",
              "      <div>\n",
              "<style scoped>\n",
              "    .dataframe tbody tr th:only-of-type {\n",
              "        vertical-align: middle;\n",
              "    }\n",
              "\n",
              "    .dataframe tbody tr th {\n",
              "        vertical-align: top;\n",
              "    }\n",
              "\n",
              "    .dataframe thead th {\n",
              "        text-align: right;\n",
              "    }\n",
              "</style>\n",
              "<table border=\"1\" class=\"dataframe\">\n",
              "  <thead>\n",
              "    <tr style=\"text-align: right;\">\n",
              "      <th></th>\n",
              "      <th>track_id</th>\n",
              "      <th>race_date</th>\n",
              "      <th>race_number</th>\n",
              "      <th>program_number</th>\n",
              "      <th>trakus_index</th>\n",
              "      <th>latitude</th>\n",
              "      <th>longitude</th>\n",
              "      <th>distance_id</th>\n",
              "      <th>course_type</th>\n",
              "      <th>track_condition</th>\n",
              "      <th>...</th>\n",
              "      <th>T</th>\n",
              "      <th>FM</th>\n",
              "      <th>FT</th>\n",
              "      <th>GD</th>\n",
              "      <th>MY</th>\n",
              "      <th>SY</th>\n",
              "      <th>YL</th>\n",
              "      <th>AQU</th>\n",
              "      <th>BEL</th>\n",
              "      <th>SAR</th>\n",
              "    </tr>\n",
              "  </thead>\n",
              "  <tbody>\n",
              "    <tr>\n",
              "      <th>0</th>\n",
              "      <td>AQU</td>\n",
              "      <td>01-01-2019</td>\n",
              "      <td>9</td>\n",
              "      <td>6</td>\n",
              "      <td>73</td>\n",
              "      <td>40.672946</td>\n",
              "      <td>-73.827587</td>\n",
              "      <td>600</td>\n",
              "      <td>D</td>\n",
              "      <td>GD</td>\n",
              "      <td>...</td>\n",
              "      <td>0.0</td>\n",
              "      <td>0.0</td>\n",
              "      <td>0.0</td>\n",
              "      <td>1.0</td>\n",
              "      <td>0.0</td>\n",
              "      <td>0.0</td>\n",
              "      <td>0.0</td>\n",
              "      <td>1.0</td>\n",
              "      <td>0.0</td>\n",
              "      <td>0.0</td>\n",
              "    </tr>\n",
              "    <tr>\n",
              "      <th>1</th>\n",
              "      <td>AQU</td>\n",
              "      <td>01-01-2019</td>\n",
              "      <td>9</td>\n",
              "      <td>6</td>\n",
              "      <td>74</td>\n",
              "      <td>40.672990</td>\n",
              "      <td>-73.827568</td>\n",
              "      <td>600</td>\n",
              "      <td>D</td>\n",
              "      <td>GD</td>\n",
              "      <td>...</td>\n",
              "      <td>0.0</td>\n",
              "      <td>0.0</td>\n",
              "      <td>0.0</td>\n",
              "      <td>1.0</td>\n",
              "      <td>0.0</td>\n",
              "      <td>0.0</td>\n",
              "      <td>0.0</td>\n",
              "      <td>1.0</td>\n",
              "      <td>0.0</td>\n",
              "      <td>0.0</td>\n",
              "    </tr>\n",
              "    <tr>\n",
              "      <th>2</th>\n",
              "      <td>AQU</td>\n",
              "      <td>01-01-2019</td>\n",
              "      <td>9</td>\n",
              "      <td>6</td>\n",
              "      <td>63</td>\n",
              "      <td>40.672510</td>\n",
              "      <td>-73.827781</td>\n",
              "      <td>600</td>\n",
              "      <td>D</td>\n",
              "      <td>GD</td>\n",
              "      <td>...</td>\n",
              "      <td>0.0</td>\n",
              "      <td>0.0</td>\n",
              "      <td>0.0</td>\n",
              "      <td>1.0</td>\n",
              "      <td>0.0</td>\n",
              "      <td>0.0</td>\n",
              "      <td>0.0</td>\n",
              "      <td>1.0</td>\n",
              "      <td>0.0</td>\n",
              "      <td>0.0</td>\n",
              "    </tr>\n",
              "    <tr>\n",
              "      <th>3</th>\n",
              "      <td>AQU</td>\n",
              "      <td>01-01-2019</td>\n",
              "      <td>9</td>\n",
              "      <td>6</td>\n",
              "      <td>64</td>\n",
              "      <td>40.672553</td>\n",
              "      <td>-73.827762</td>\n",
              "      <td>600</td>\n",
              "      <td>D</td>\n",
              "      <td>GD</td>\n",
              "      <td>...</td>\n",
              "      <td>0.0</td>\n",
              "      <td>0.0</td>\n",
              "      <td>0.0</td>\n",
              "      <td>1.0</td>\n",
              "      <td>0.0</td>\n",
              "      <td>0.0</td>\n",
              "      <td>0.0</td>\n",
              "      <td>1.0</td>\n",
              "      <td>0.0</td>\n",
              "      <td>0.0</td>\n",
              "    </tr>\n",
              "    <tr>\n",
              "      <th>4</th>\n",
              "      <td>AQU</td>\n",
              "      <td>01-01-2019</td>\n",
              "      <td>9</td>\n",
              "      <td>6</td>\n",
              "      <td>65</td>\n",
              "      <td>40.672596</td>\n",
              "      <td>-73.827742</td>\n",
              "      <td>600</td>\n",
              "      <td>D</td>\n",
              "      <td>GD</td>\n",
              "      <td>...</td>\n",
              "      <td>0.0</td>\n",
              "      <td>0.0</td>\n",
              "      <td>0.0</td>\n",
              "      <td>1.0</td>\n",
              "      <td>0.0</td>\n",
              "      <td>0.0</td>\n",
              "      <td>0.0</td>\n",
              "      <td>1.0</td>\n",
              "      <td>0.0</td>\n",
              "      <td>0.0</td>\n",
              "    </tr>\n",
              "    <tr>\n",
              "      <th>...</th>\n",
              "      <td>...</td>\n",
              "      <td>...</td>\n",
              "      <td>...</td>\n",
              "      <td>...</td>\n",
              "      <td>...</td>\n",
              "      <td>...</td>\n",
              "      <td>...</td>\n",
              "      <td>...</td>\n",
              "      <td>...</td>\n",
              "      <td>...</td>\n",
              "      <td>...</td>\n",
              "      <td>...</td>\n",
              "      <td>...</td>\n",
              "      <td>...</td>\n",
              "      <td>...</td>\n",
              "      <td>...</td>\n",
              "      <td>...</td>\n",
              "      <td>...</td>\n",
              "      <td>...</td>\n",
              "      <td>...</td>\n",
              "      <td>...</td>\n",
              "    </tr>\n",
              "    <tr>\n",
              "      <th>99995</th>\n",
              "      <td>BEL</td>\n",
              "      <td>04-05-2019</td>\n",
              "      <td>3</td>\n",
              "      <td>2</td>\n",
              "      <td>83</td>\n",
              "      <td>40.717702</td>\n",
              "      <td>-73.726057</td>\n",
              "      <td>600</td>\n",
              "      <td>D</td>\n",
              "      <td>SY</td>\n",
              "      <td>...</td>\n",
              "      <td>0.0</td>\n",
              "      <td>0.0</td>\n",
              "      <td>0.0</td>\n",
              "      <td>0.0</td>\n",
              "      <td>0.0</td>\n",
              "      <td>1.0</td>\n",
              "      <td>0.0</td>\n",
              "      <td>0.0</td>\n",
              "      <td>1.0</td>\n",
              "      <td>0.0</td>\n",
              "    </tr>\n",
              "    <tr>\n",
              "      <th>99996</th>\n",
              "      <td>BEL</td>\n",
              "      <td>04-05-2019</td>\n",
              "      <td>3</td>\n",
              "      <td>2</td>\n",
              "      <td>84</td>\n",
              "      <td>40.717692</td>\n",
              "      <td>-73.726116</td>\n",
              "      <td>600</td>\n",
              "      <td>D</td>\n",
              "      <td>SY</td>\n",
              "      <td>...</td>\n",
              "      <td>0.0</td>\n",
              "      <td>0.0</td>\n",
              "      <td>0.0</td>\n",
              "      <td>0.0</td>\n",
              "      <td>0.0</td>\n",
              "      <td>1.0</td>\n",
              "      <td>0.0</td>\n",
              "      <td>0.0</td>\n",
              "      <td>1.0</td>\n",
              "      <td>0.0</td>\n",
              "    </tr>\n",
              "    <tr>\n",
              "      <th>99997</th>\n",
              "      <td>BEL</td>\n",
              "      <td>04-05-2019</td>\n",
              "      <td>3</td>\n",
              "      <td>2</td>\n",
              "      <td>73</td>\n",
              "      <td>40.717738</td>\n",
              "      <td>-73.725438</td>\n",
              "      <td>600</td>\n",
              "      <td>D</td>\n",
              "      <td>SY</td>\n",
              "      <td>...</td>\n",
              "      <td>0.0</td>\n",
              "      <td>0.0</td>\n",
              "      <td>0.0</td>\n",
              "      <td>0.0</td>\n",
              "      <td>0.0</td>\n",
              "      <td>1.0</td>\n",
              "      <td>0.0</td>\n",
              "      <td>0.0</td>\n",
              "      <td>1.0</td>\n",
              "      <td>0.0</td>\n",
              "    </tr>\n",
              "    <tr>\n",
              "      <th>99998</th>\n",
              "      <td>BEL</td>\n",
              "      <td>04-05-2019</td>\n",
              "      <td>3</td>\n",
              "      <td>2</td>\n",
              "      <td>74</td>\n",
              "      <td>40.717739</td>\n",
              "      <td>-73.725500</td>\n",
              "      <td>600</td>\n",
              "      <td>D</td>\n",
              "      <td>SY</td>\n",
              "      <td>...</td>\n",
              "      <td>0.0</td>\n",
              "      <td>0.0</td>\n",
              "      <td>0.0</td>\n",
              "      <td>0.0</td>\n",
              "      <td>0.0</td>\n",
              "      <td>1.0</td>\n",
              "      <td>0.0</td>\n",
              "      <td>0.0</td>\n",
              "      <td>1.0</td>\n",
              "      <td>0.0</td>\n",
              "    </tr>\n",
              "    <tr>\n",
              "      <th>99999</th>\n",
              "      <td>BEL</td>\n",
              "      <td>04-05-2019</td>\n",
              "      <td>3</td>\n",
              "      <td>2</td>\n",
              "      <td>75</td>\n",
              "      <td>40.717740</td>\n",
              "      <td>-73.725561</td>\n",
              "      <td>600</td>\n",
              "      <td>D</td>\n",
              "      <td>SY</td>\n",
              "      <td>...</td>\n",
              "      <td>0.0</td>\n",
              "      <td>0.0</td>\n",
              "      <td>0.0</td>\n",
              "      <td>0.0</td>\n",
              "      <td>0.0</td>\n",
              "      <td>1.0</td>\n",
              "      <td>0.0</td>\n",
              "      <td>0.0</td>\n",
              "      <td>1.0</td>\n",
              "      <td>0.0</td>\n",
              "    </tr>\n",
              "  </tbody>\n",
              "</table>\n",
              "<p>100000 rows × 40 columns</p>\n",
              "</div>\n",
              "      <button class=\"colab-df-convert\" onclick=\"convertToInteractive('df-de91e005-de25-4810-9419-ec83ad8ba0ca')\"\n",
              "              title=\"Convert this dataframe to an interactive table.\"\n",
              "              style=\"display:none;\">\n",
              "        \n",
              "  <svg xmlns=\"http://www.w3.org/2000/svg\" height=\"24px\"viewBox=\"0 0 24 24\"\n",
              "       width=\"24px\">\n",
              "    <path d=\"M0 0h24v24H0V0z\" fill=\"none\"/>\n",
              "    <path d=\"M18.56 5.44l.94 2.06.94-2.06 2.06-.94-2.06-.94-.94-2.06-.94 2.06-2.06.94zm-11 1L8.5 8.5l.94-2.06 2.06-.94-2.06-.94L8.5 2.5l-.94 2.06-2.06.94zm10 10l.94 2.06.94-2.06 2.06-.94-2.06-.94-.94-2.06-.94 2.06-2.06.94z\"/><path d=\"M17.41 7.96l-1.37-1.37c-.4-.4-.92-.59-1.43-.59-.52 0-1.04.2-1.43.59L10.3 9.45l-7.72 7.72c-.78.78-.78 2.05 0 2.83L4 21.41c.39.39.9.59 1.41.59.51 0 1.02-.2 1.41-.59l7.78-7.78 2.81-2.81c.8-.78.8-2.07 0-2.86zM5.41 20L4 18.59l7.72-7.72 1.47 1.35L5.41 20z\"/>\n",
              "  </svg>\n",
              "      </button>\n",
              "      \n",
              "  <style>\n",
              "    .colab-df-container {\n",
              "      display:flex;\n",
              "      flex-wrap:wrap;\n",
              "      gap: 12px;\n",
              "    }\n",
              "\n",
              "    .colab-df-convert {\n",
              "      background-color: #E8F0FE;\n",
              "      border: none;\n",
              "      border-radius: 50%;\n",
              "      cursor: pointer;\n",
              "      display: none;\n",
              "      fill: #1967D2;\n",
              "      height: 32px;\n",
              "      padding: 0 0 0 0;\n",
              "      width: 32px;\n",
              "    }\n",
              "\n",
              "    .colab-df-convert:hover {\n",
              "      background-color: #E2EBFA;\n",
              "      box-shadow: 0px 1px 2px rgba(60, 64, 67, 0.3), 0px 1px 3px 1px rgba(60, 64, 67, 0.15);\n",
              "      fill: #174EA6;\n",
              "    }\n",
              "\n",
              "    [theme=dark] .colab-df-convert {\n",
              "      background-color: #3B4455;\n",
              "      fill: #D2E3FC;\n",
              "    }\n",
              "\n",
              "    [theme=dark] .colab-df-convert:hover {\n",
              "      background-color: #434B5C;\n",
              "      box-shadow: 0px 1px 3px 1px rgba(0, 0, 0, 0.15);\n",
              "      filter: drop-shadow(0px 1px 2px rgba(0, 0, 0, 0.3));\n",
              "      fill: #FFFFFF;\n",
              "    }\n",
              "  </style>\n",
              "\n",
              "      <script>\n",
              "        const buttonEl =\n",
              "          document.querySelector('#df-de91e005-de25-4810-9419-ec83ad8ba0ca button.colab-df-convert');\n",
              "        buttonEl.style.display =\n",
              "          google.colab.kernel.accessAllowed ? 'block' : 'none';\n",
              "\n",
              "        async function convertToInteractive(key) {\n",
              "          const element = document.querySelector('#df-de91e005-de25-4810-9419-ec83ad8ba0ca');\n",
              "          const dataTable =\n",
              "            await google.colab.kernel.invokeFunction('convertToInteractive',\n",
              "                                                     [key], {});\n",
              "          if (!dataTable) return;\n",
              "\n",
              "          const docLinkHtml = 'Like what you see? Visit the ' +\n",
              "            '<a target=\"_blank\" href=https://colab.research.google.com/notebooks/data_table.ipynb>data table notebook</a>'\n",
              "            + ' to learn more about interactive tables.';\n",
              "          element.innerHTML = '';\n",
              "          dataTable['output_type'] = 'display_data';\n",
              "          await google.colab.output.renderOutput(dataTable, element);\n",
              "          const docLink = document.createElement('div');\n",
              "          docLink.innerHTML = docLinkHtml;\n",
              "          element.appendChild(docLink);\n",
              "        }\n",
              "      </script>\n",
              "    </div>\n",
              "  </div>\n",
              "  "
            ]
          },
          "metadata": {},
          "execution_count": 8
        }
      ]
    },
    {
      "cell_type": "code",
      "source": [
        "\n",
        "df.drop(['race_date','track_id','course_type','track_condition\\xa0','race_type\\xa0','jockey\\xa0','program_number\\xa0'],axis=1,inplace=True)\n",
        "df=pd.concat([df,f],axis=1)"
      ],
      "metadata": {
        "id": "u6-pSiPBv-s9"
      },
      "execution_count": 9,
      "outputs": []
    },
    {
      "cell_type": "code",
      "source": [
        "df.isnull().any()\n"
      ],
      "metadata": {
        "colab": {
          "base_uri": "https://localhost:8080/"
        },
        "id": "NHBfx_6kv-v7",
        "outputId": "eb56866f-8116-4f4b-93c9-95b98444e249"
      },
      "execution_count": 10,
      "outputs": [
        {
          "output_type": "execute_result",
          "data": {
            "text/plain": [
              "race_number            False\n",
              "trakus_index           False\n",
              "latitude               False\n",
              "longitude              False\n",
              "distance_id            False\n",
              "run_up_distance        False\n",
              "purse                  False\n",
              "post_time              False\n",
              "weight_carried         False\n",
              "odds                   False\n",
              "position_at_finish     False\n",
              "ALW                    False\n",
              "AOC                    False\n",
              "CLM                    False\n",
              "SOC                    False\n",
              "SST                    False\n",
              "STK                    False\n",
              "STR                    False\n",
              "WCL                    False\n",
              "D                      False\n",
              "I                      False\n",
              "M                      False\n",
              "O                      False\n",
              "T                      False\n",
              "FM                     False\n",
              "FT                     False\n",
              "GD                     False\n",
              "MY                     False\n",
              "SY                     False\n",
              "YL                     False\n",
              "AQU                    False\n",
              "BEL                    False\n",
              "SAR                    False\n",
              "dtype: bool"
            ]
          },
          "metadata": {},
          "execution_count": 10
        }
      ]
    },
    {
      "cell_type": "code",
      "source": [
        "#Removing the null values\n",
        "\n",
        "df.replace([np.inf,-np.inf],np.nan ,inplace=True)\n",
        "df.dropna(inplace=True)\n",
        "df.isnull().any()"
      ],
      "metadata": {
        "colab": {
          "base_uri": "https://localhost:8080/"
        },
        "id": "vLCm8J7Tv-za",
        "outputId": "1595a68c-9d77-4ec2-f8c2-c86609a4dc89"
      },
      "execution_count": 11,
      "outputs": [
        {
          "output_type": "execute_result",
          "data": {
            "text/plain": [
              "race_number            False\n",
              "trakus_index           False\n",
              "latitude               False\n",
              "longitude              False\n",
              "distance_id            False\n",
              "run_up_distance        False\n",
              "purse                  False\n",
              "post_time              False\n",
              "weight_carried         False\n",
              "odds                   False\n",
              "position_at_finish     False\n",
              "ALW                    False\n",
              "AOC                    False\n",
              "CLM                    False\n",
              "SOC                    False\n",
              "SST                    False\n",
              "STK                    False\n",
              "STR                    False\n",
              "WCL                    False\n",
              "D                      False\n",
              "I                      False\n",
              "M                      False\n",
              "O                      False\n",
              "T                      False\n",
              "FM                     False\n",
              "FT                     False\n",
              "GD                     False\n",
              "MY                     False\n",
              "SY                     False\n",
              "YL                     False\n",
              "AQU                    False\n",
              "BEL                    False\n",
              "SAR                    False\n",
              "dtype: bool"
            ]
          },
          "metadata": {},
          "execution_count": 11
        }
      ]
    },
    {
      "cell_type": "code",
      "source": [
        "!pip install movecolumn\n",
        "import movecolumn as mc\n",
        "mc.MoveToLast(df,'position_at_finish\\xa0')\n"
      ],
      "metadata": {
        "colab": {
          "base_uri": "https://localhost:8080/",
          "height": 661
        },
        "id": "8ubvhEhav-7R",
        "outputId": "7f80d111-ccdc-49f4-c48c-873a081f30c9"
      },
      "execution_count": 12,
      "outputs": [
        {
          "output_type": "stream",
          "name": "stdout",
          "text": [
            "Looking in indexes: https://pypi.org/simple, https://us-python.pkg.dev/colab-wheels/public/simple/\n",
            "Collecting movecolumn\n",
            "  Downloading movecolumn-0.0.7.tar.gz (6.4 kB)\n",
            "Building wheels for collected packages: movecolumn\n",
            "  Building wheel for movecolumn (setup.py) ... \u001b[?25l\u001b[?25hdone\n",
            "  Created wheel for movecolumn: filename=movecolumn-0.0.7-py3-none-any.whl size=10440 sha256=e38b861b52e1673d6fc95e45d357a1ab6e9b05e5e8b009e96875117bee243c75\n",
            "  Stored in directory: /root/.cache/pip/wheels/4c/ad/b7/671cd4a6e1464bb816aea3bacdcc933acf25e3d47946a7edcf\n",
            "Successfully built movecolumn\n",
            "Installing collected packages: movecolumn\n",
            "Successfully installed movecolumn-0.0.7\n"
          ]
        },
        {
          "output_type": "execute_result",
          "data": {
            "text/plain": [
              "       race_number   trakus_index   latitude   longitude   distance_id   \\\n",
              "0                 9             73  40.672946  -73.827587           600   \n",
              "1                 9             74  40.672990  -73.827568           600   \n",
              "2                 9             63  40.672510  -73.827781           600   \n",
              "3                 9             64  40.672553  -73.827762           600   \n",
              "4                 9             65  40.672596  -73.827742           600   \n",
              "...             ...            ...        ...         ...           ...   \n",
              "99995             3             83  40.717702  -73.726057           600   \n",
              "99996             3             84  40.717692  -73.726116           600   \n",
              "99997             3             73  40.717738  -73.725438           600   \n",
              "99998             3             74  40.717739  -73.725500           600   \n",
              "99999             3             75  40.717740  -73.725561           600   \n",
              "\n",
              "       run_up_distance   purse  post_time   weight_carried   odds  ...  FM   \\\n",
              "0                    48  25000         420              120  2090  ...  0.0   \n",
              "1                    48  25000         420              120  2090  ...  0.0   \n",
              "2                    48  25000         420              120  2090  ...  0.0   \n",
              "3                    48  25000         420              120  2090  ...  0.0   \n",
              "4                    48  25000         420              120  2090  ...  0.0   \n",
              "...                 ...    ...         ...              ...   ...  ...  ...   \n",
              "99995                48  36000         108              123   430  ...  0.0   \n",
              "99996                48  36000         108              123   430  ...  0.0   \n",
              "99997                48  36000         108              123   430  ...  0.0   \n",
              "99998                48  36000         108              123   430  ...  0.0   \n",
              "99999                48  36000         108              123   430  ...  0.0   \n",
              "\n",
              "       FT   GD   MY   SY   YL   AQU  BEL  SAR  position_at_finish   \n",
              "0      0.0  1.0  0.0  0.0  0.0  1.0  0.0  0.0                    8  \n",
              "1      0.0  1.0  0.0  0.0  0.0  1.0  0.0  0.0                    8  \n",
              "2      0.0  1.0  0.0  0.0  0.0  1.0  0.0  0.0                    8  \n",
              "3      0.0  1.0  0.0  0.0  0.0  1.0  0.0  0.0                    8  \n",
              "4      0.0  1.0  0.0  0.0  0.0  1.0  0.0  0.0                    8  \n",
              "...    ...  ...  ...  ...  ...  ...  ...  ...                  ...  \n",
              "99995  0.0  0.0  0.0  1.0  0.0  0.0  1.0  0.0                    6  \n",
              "99996  0.0  0.0  0.0  1.0  0.0  0.0  1.0  0.0                    6  \n",
              "99997  0.0  0.0  0.0  1.0  0.0  0.0  1.0  0.0                    6  \n",
              "99998  0.0  0.0  0.0  1.0  0.0  0.0  1.0  0.0                    6  \n",
              "99999  0.0  0.0  0.0  1.0  0.0  0.0  1.0  0.0                    6  \n",
              "\n",
              "[100000 rows x 33 columns]"
            ],
            "text/html": [
              "\n",
              "  <div id=\"df-2d944af5-b122-4c3a-b987-23feb25613c7\">\n",
              "    <div class=\"colab-df-container\">\n",
              "      <div>\n",
              "<style scoped>\n",
              "    .dataframe tbody tr th:only-of-type {\n",
              "        vertical-align: middle;\n",
              "    }\n",
              "\n",
              "    .dataframe tbody tr th {\n",
              "        vertical-align: top;\n",
              "    }\n",
              "\n",
              "    .dataframe thead th {\n",
              "        text-align: right;\n",
              "    }\n",
              "</style>\n",
              "<table border=\"1\" class=\"dataframe\">\n",
              "  <thead>\n",
              "    <tr style=\"text-align: right;\">\n",
              "      <th></th>\n",
              "      <th>race_number</th>\n",
              "      <th>trakus_index</th>\n",
              "      <th>latitude</th>\n",
              "      <th>longitude</th>\n",
              "      <th>distance_id</th>\n",
              "      <th>run_up_distance</th>\n",
              "      <th>purse</th>\n",
              "      <th>post_time</th>\n",
              "      <th>weight_carried</th>\n",
              "      <th>odds</th>\n",
              "      <th>...</th>\n",
              "      <th>FM</th>\n",
              "      <th>FT</th>\n",
              "      <th>GD</th>\n",
              "      <th>MY</th>\n",
              "      <th>SY</th>\n",
              "      <th>YL</th>\n",
              "      <th>AQU</th>\n",
              "      <th>BEL</th>\n",
              "      <th>SAR</th>\n",
              "      <th>position_at_finish</th>\n",
              "    </tr>\n",
              "  </thead>\n",
              "  <tbody>\n",
              "    <tr>\n",
              "      <th>0</th>\n",
              "      <td>9</td>\n",
              "      <td>73</td>\n",
              "      <td>40.672946</td>\n",
              "      <td>-73.827587</td>\n",
              "      <td>600</td>\n",
              "      <td>48</td>\n",
              "      <td>25000</td>\n",
              "      <td>420</td>\n",
              "      <td>120</td>\n",
              "      <td>2090</td>\n",
              "      <td>...</td>\n",
              "      <td>0.0</td>\n",
              "      <td>0.0</td>\n",
              "      <td>1.0</td>\n",
              "      <td>0.0</td>\n",
              "      <td>0.0</td>\n",
              "      <td>0.0</td>\n",
              "      <td>1.0</td>\n",
              "      <td>0.0</td>\n",
              "      <td>0.0</td>\n",
              "      <td>8</td>\n",
              "    </tr>\n",
              "    <tr>\n",
              "      <th>1</th>\n",
              "      <td>9</td>\n",
              "      <td>74</td>\n",
              "      <td>40.672990</td>\n",
              "      <td>-73.827568</td>\n",
              "      <td>600</td>\n",
              "      <td>48</td>\n",
              "      <td>25000</td>\n",
              "      <td>420</td>\n",
              "      <td>120</td>\n",
              "      <td>2090</td>\n",
              "      <td>...</td>\n",
              "      <td>0.0</td>\n",
              "      <td>0.0</td>\n",
              "      <td>1.0</td>\n",
              "      <td>0.0</td>\n",
              "      <td>0.0</td>\n",
              "      <td>0.0</td>\n",
              "      <td>1.0</td>\n",
              "      <td>0.0</td>\n",
              "      <td>0.0</td>\n",
              "      <td>8</td>\n",
              "    </tr>\n",
              "    <tr>\n",
              "      <th>2</th>\n",
              "      <td>9</td>\n",
              "      <td>63</td>\n",
              "      <td>40.672510</td>\n",
              "      <td>-73.827781</td>\n",
              "      <td>600</td>\n",
              "      <td>48</td>\n",
              "      <td>25000</td>\n",
              "      <td>420</td>\n",
              "      <td>120</td>\n",
              "      <td>2090</td>\n",
              "      <td>...</td>\n",
              "      <td>0.0</td>\n",
              "      <td>0.0</td>\n",
              "      <td>1.0</td>\n",
              "      <td>0.0</td>\n",
              "      <td>0.0</td>\n",
              "      <td>0.0</td>\n",
              "      <td>1.0</td>\n",
              "      <td>0.0</td>\n",
              "      <td>0.0</td>\n",
              "      <td>8</td>\n",
              "    </tr>\n",
              "    <tr>\n",
              "      <th>3</th>\n",
              "      <td>9</td>\n",
              "      <td>64</td>\n",
              "      <td>40.672553</td>\n",
              "      <td>-73.827762</td>\n",
              "      <td>600</td>\n",
              "      <td>48</td>\n",
              "      <td>25000</td>\n",
              "      <td>420</td>\n",
              "      <td>120</td>\n",
              "      <td>2090</td>\n",
              "      <td>...</td>\n",
              "      <td>0.0</td>\n",
              "      <td>0.0</td>\n",
              "      <td>1.0</td>\n",
              "      <td>0.0</td>\n",
              "      <td>0.0</td>\n",
              "      <td>0.0</td>\n",
              "      <td>1.0</td>\n",
              "      <td>0.0</td>\n",
              "      <td>0.0</td>\n",
              "      <td>8</td>\n",
              "    </tr>\n",
              "    <tr>\n",
              "      <th>4</th>\n",
              "      <td>9</td>\n",
              "      <td>65</td>\n",
              "      <td>40.672596</td>\n",
              "      <td>-73.827742</td>\n",
              "      <td>600</td>\n",
              "      <td>48</td>\n",
              "      <td>25000</td>\n",
              "      <td>420</td>\n",
              "      <td>120</td>\n",
              "      <td>2090</td>\n",
              "      <td>...</td>\n",
              "      <td>0.0</td>\n",
              "      <td>0.0</td>\n",
              "      <td>1.0</td>\n",
              "      <td>0.0</td>\n",
              "      <td>0.0</td>\n",
              "      <td>0.0</td>\n",
              "      <td>1.0</td>\n",
              "      <td>0.0</td>\n",
              "      <td>0.0</td>\n",
              "      <td>8</td>\n",
              "    </tr>\n",
              "    <tr>\n",
              "      <th>...</th>\n",
              "      <td>...</td>\n",
              "      <td>...</td>\n",
              "      <td>...</td>\n",
              "      <td>...</td>\n",
              "      <td>...</td>\n",
              "      <td>...</td>\n",
              "      <td>...</td>\n",
              "      <td>...</td>\n",
              "      <td>...</td>\n",
              "      <td>...</td>\n",
              "      <td>...</td>\n",
              "      <td>...</td>\n",
              "      <td>...</td>\n",
              "      <td>...</td>\n",
              "      <td>...</td>\n",
              "      <td>...</td>\n",
              "      <td>...</td>\n",
              "      <td>...</td>\n",
              "      <td>...</td>\n",
              "      <td>...</td>\n",
              "      <td>...</td>\n",
              "    </tr>\n",
              "    <tr>\n",
              "      <th>99995</th>\n",
              "      <td>3</td>\n",
              "      <td>83</td>\n",
              "      <td>40.717702</td>\n",
              "      <td>-73.726057</td>\n",
              "      <td>600</td>\n",
              "      <td>48</td>\n",
              "      <td>36000</td>\n",
              "      <td>108</td>\n",
              "      <td>123</td>\n",
              "      <td>430</td>\n",
              "      <td>...</td>\n",
              "      <td>0.0</td>\n",
              "      <td>0.0</td>\n",
              "      <td>0.0</td>\n",
              "      <td>0.0</td>\n",
              "      <td>1.0</td>\n",
              "      <td>0.0</td>\n",
              "      <td>0.0</td>\n",
              "      <td>1.0</td>\n",
              "      <td>0.0</td>\n",
              "      <td>6</td>\n",
              "    </tr>\n",
              "    <tr>\n",
              "      <th>99996</th>\n",
              "      <td>3</td>\n",
              "      <td>84</td>\n",
              "      <td>40.717692</td>\n",
              "      <td>-73.726116</td>\n",
              "      <td>600</td>\n",
              "      <td>48</td>\n",
              "      <td>36000</td>\n",
              "      <td>108</td>\n",
              "      <td>123</td>\n",
              "      <td>430</td>\n",
              "      <td>...</td>\n",
              "      <td>0.0</td>\n",
              "      <td>0.0</td>\n",
              "      <td>0.0</td>\n",
              "      <td>0.0</td>\n",
              "      <td>1.0</td>\n",
              "      <td>0.0</td>\n",
              "      <td>0.0</td>\n",
              "      <td>1.0</td>\n",
              "      <td>0.0</td>\n",
              "      <td>6</td>\n",
              "    </tr>\n",
              "    <tr>\n",
              "      <th>99997</th>\n",
              "      <td>3</td>\n",
              "      <td>73</td>\n",
              "      <td>40.717738</td>\n",
              "      <td>-73.725438</td>\n",
              "      <td>600</td>\n",
              "      <td>48</td>\n",
              "      <td>36000</td>\n",
              "      <td>108</td>\n",
              "      <td>123</td>\n",
              "      <td>430</td>\n",
              "      <td>...</td>\n",
              "      <td>0.0</td>\n",
              "      <td>0.0</td>\n",
              "      <td>0.0</td>\n",
              "      <td>0.0</td>\n",
              "      <td>1.0</td>\n",
              "      <td>0.0</td>\n",
              "      <td>0.0</td>\n",
              "      <td>1.0</td>\n",
              "      <td>0.0</td>\n",
              "      <td>6</td>\n",
              "    </tr>\n",
              "    <tr>\n",
              "      <th>99998</th>\n",
              "      <td>3</td>\n",
              "      <td>74</td>\n",
              "      <td>40.717739</td>\n",
              "      <td>-73.725500</td>\n",
              "      <td>600</td>\n",
              "      <td>48</td>\n",
              "      <td>36000</td>\n",
              "      <td>108</td>\n",
              "      <td>123</td>\n",
              "      <td>430</td>\n",
              "      <td>...</td>\n",
              "      <td>0.0</td>\n",
              "      <td>0.0</td>\n",
              "      <td>0.0</td>\n",
              "      <td>0.0</td>\n",
              "      <td>1.0</td>\n",
              "      <td>0.0</td>\n",
              "      <td>0.0</td>\n",
              "      <td>1.0</td>\n",
              "      <td>0.0</td>\n",
              "      <td>6</td>\n",
              "    </tr>\n",
              "    <tr>\n",
              "      <th>99999</th>\n",
              "      <td>3</td>\n",
              "      <td>75</td>\n",
              "      <td>40.717740</td>\n",
              "      <td>-73.725561</td>\n",
              "      <td>600</td>\n",
              "      <td>48</td>\n",
              "      <td>36000</td>\n",
              "      <td>108</td>\n",
              "      <td>123</td>\n",
              "      <td>430</td>\n",
              "      <td>...</td>\n",
              "      <td>0.0</td>\n",
              "      <td>0.0</td>\n",
              "      <td>0.0</td>\n",
              "      <td>0.0</td>\n",
              "      <td>1.0</td>\n",
              "      <td>0.0</td>\n",
              "      <td>0.0</td>\n",
              "      <td>1.0</td>\n",
              "      <td>0.0</td>\n",
              "      <td>6</td>\n",
              "    </tr>\n",
              "  </tbody>\n",
              "</table>\n",
              "<p>100000 rows × 33 columns</p>\n",
              "</div>\n",
              "      <button class=\"colab-df-convert\" onclick=\"convertToInteractive('df-2d944af5-b122-4c3a-b987-23feb25613c7')\"\n",
              "              title=\"Convert this dataframe to an interactive table.\"\n",
              "              style=\"display:none;\">\n",
              "        \n",
              "  <svg xmlns=\"http://www.w3.org/2000/svg\" height=\"24px\"viewBox=\"0 0 24 24\"\n",
              "       width=\"24px\">\n",
              "    <path d=\"M0 0h24v24H0V0z\" fill=\"none\"/>\n",
              "    <path d=\"M18.56 5.44l.94 2.06.94-2.06 2.06-.94-2.06-.94-.94-2.06-.94 2.06-2.06.94zm-11 1L8.5 8.5l.94-2.06 2.06-.94-2.06-.94L8.5 2.5l-.94 2.06-2.06.94zm10 10l.94 2.06.94-2.06 2.06-.94-2.06-.94-.94-2.06-.94 2.06-2.06.94z\"/><path d=\"M17.41 7.96l-1.37-1.37c-.4-.4-.92-.59-1.43-.59-.52 0-1.04.2-1.43.59L10.3 9.45l-7.72 7.72c-.78.78-.78 2.05 0 2.83L4 21.41c.39.39.9.59 1.41.59.51 0 1.02-.2 1.41-.59l7.78-7.78 2.81-2.81c.8-.78.8-2.07 0-2.86zM5.41 20L4 18.59l7.72-7.72 1.47 1.35L5.41 20z\"/>\n",
              "  </svg>\n",
              "      </button>\n",
              "      \n",
              "  <style>\n",
              "    .colab-df-container {\n",
              "      display:flex;\n",
              "      flex-wrap:wrap;\n",
              "      gap: 12px;\n",
              "    }\n",
              "\n",
              "    .colab-df-convert {\n",
              "      background-color: #E8F0FE;\n",
              "      border: none;\n",
              "      border-radius: 50%;\n",
              "      cursor: pointer;\n",
              "      display: none;\n",
              "      fill: #1967D2;\n",
              "      height: 32px;\n",
              "      padding: 0 0 0 0;\n",
              "      width: 32px;\n",
              "    }\n",
              "\n",
              "    .colab-df-convert:hover {\n",
              "      background-color: #E2EBFA;\n",
              "      box-shadow: 0px 1px 2px rgba(60, 64, 67, 0.3), 0px 1px 3px 1px rgba(60, 64, 67, 0.15);\n",
              "      fill: #174EA6;\n",
              "    }\n",
              "\n",
              "    [theme=dark] .colab-df-convert {\n",
              "      background-color: #3B4455;\n",
              "      fill: #D2E3FC;\n",
              "    }\n",
              "\n",
              "    [theme=dark] .colab-df-convert:hover {\n",
              "      background-color: #434B5C;\n",
              "      box-shadow: 0px 1px 3px 1px rgba(0, 0, 0, 0.15);\n",
              "      filter: drop-shadow(0px 1px 2px rgba(0, 0, 0, 0.3));\n",
              "      fill: #FFFFFF;\n",
              "    }\n",
              "  </style>\n",
              "\n",
              "      <script>\n",
              "        const buttonEl =\n",
              "          document.querySelector('#df-2d944af5-b122-4c3a-b987-23feb25613c7 button.colab-df-convert');\n",
              "        buttonEl.style.display =\n",
              "          google.colab.kernel.accessAllowed ? 'block' : 'none';\n",
              "\n",
              "        async function convertToInteractive(key) {\n",
              "          const element = document.querySelector('#df-2d944af5-b122-4c3a-b987-23feb25613c7');\n",
              "          const dataTable =\n",
              "            await google.colab.kernel.invokeFunction('convertToInteractive',\n",
              "                                                     [key], {});\n",
              "          if (!dataTable) return;\n",
              "\n",
              "          const docLinkHtml = 'Like what you see? Visit the ' +\n",
              "            '<a target=\"_blank\" href=https://colab.research.google.com/notebooks/data_table.ipynb>data table notebook</a>'\n",
              "            + ' to learn more about interactive tables.';\n",
              "          element.innerHTML = '';\n",
              "          dataTable['output_type'] = 'display_data';\n",
              "          await google.colab.output.renderOutput(dataTable, element);\n",
              "          const docLink = document.createElement('div');\n",
              "          docLink.innerHTML = docLinkHtml;\n",
              "          element.appendChild(docLink);\n",
              "        }\n",
              "      </script>\n",
              "    </div>\n",
              "  </div>\n",
              "  "
            ]
          },
          "metadata": {},
          "execution_count": 12
        }
      ]
    },
    {
      "cell_type": "code",
      "source": [
        "X = df.iloc[:,:-1]\n",
        "y = df.iloc[:, -1]"
      ],
      "metadata": {
        "id": "MXzaT3AUwvjv"
      },
      "execution_count": 13,
      "outputs": []
    },
    {
      "cell_type": "code",
      "source": [],
      "metadata": {
        "id": "ngX0maoywvrA"
      },
      "execution_count": 13,
      "outputs": []
    },
    {
      "cell_type": "markdown",
      "source": [
        "Principal Component Analysis"
      ],
      "metadata": {
        "id": "JeA6T85Hw1pN"
      }
    },
    {
      "cell_type": "code",
      "source": [
        "pca = PCA(n_components=10)\n",
        "X = pca.fit_transform(X)\n"
      ],
      "metadata": {
        "id": "OWXBy85bk8rA"
      },
      "execution_count": 14,
      "outputs": []
    },
    {
      "cell_type": "code",
      "source": [
        "X.shape\n",
        "X"
      ],
      "metadata": {
        "colab": {
          "base_uri": "https://localhost:8080/"
        },
        "id": "mvgNcMcfVh9M",
        "outputId": "f91de156-1444-4ab9-f5d7-a9baea201ff4"
      },
      "execution_count": 15,
      "outputs": [
        {
          "output_type": "execute_result",
          "data": {
            "text/plain": [
              "array([[-4.12409442e+04,  4.90307797e+02, -1.90488233e+02, ...,\n",
              "         3.62138130e+00, -2.40934267e-01,  6.24343883e-02],\n",
              "       [-4.12409440e+04,  4.90305411e+02, -1.90298806e+02, ...,\n",
              "         3.62147629e+00, -2.40761862e-01,  6.25175753e-02],\n",
              "       [-4.12409466e+04,  4.90331654e+02, -1.92382498e+02, ...,\n",
              "         3.62043128e+00, -2.42652196e-01,  6.16021325e-02],\n",
              "       ...,\n",
              "       [-3.02488298e+04, -1.21909653e+03, -4.43837041e+02, ...,\n",
              "        -1.77374899e+00, -6.76265097e-01,  7.18684867e-01],\n",
              "       [-3.02488296e+04, -1.21909892e+03, -4.43647614e+02, ...,\n",
              "        -1.77365330e+00, -6.76130300e-01,  7.18766534e-01],\n",
              "       [-3.02488293e+04, -1.21910130e+03, -4.43458188e+02, ...,\n",
              "        -1.77355758e+00, -6.75996604e-01,  7.18848365e-01]])"
            ]
          },
          "metadata": {},
          "execution_count": 15
        }
      ]
    },
    {
      "cell_type": "markdown",
      "source": [
        "Training and testing the data"
      ],
      "metadata": {
        "id": "3EYrPy5gxBQL"
      }
    },
    {
      "cell_type": "code",
      "source": [
        "X_train, X_test, y_train, y_test = model_selection.train_test_split(X, y, test_size= 0.2, random_state = 1)\n"
      ],
      "metadata": {
        "id": "-vPU9Hu7Sp5x"
      },
      "execution_count": 16,
      "outputs": []
    },
    {
      "cell_type": "code",
      "source": [],
      "metadata": {
        "id": "Q4dtdgZXysbc"
      },
      "execution_count": 16,
      "outputs": []
    },
    {
      "cell_type": "markdown",
      "source": [
        "Standardising the X"
      ],
      "metadata": {
        "id": "Cc0cORbZywzf"
      }
    },
    {
      "cell_type": "code",
      "source": [
        "scaler = StandardScaler()\n",
        "scaler.fit(X_train)\n",
        "\n",
        "X_train = scaler.transform(X_train)\n",
        "X_test = scaler.transform(X_test)"
      ],
      "metadata": {
        "id": "tSeIy8OcyshL"
      },
      "execution_count": 17,
      "outputs": []
    },
    {
      "cell_type": "code",
      "source": [
        "print('X_train dimension= ', X_train.shape)\n",
        "print('X_test dimension= ', X_test.shape)\n",
        "print('y_train dimension= ', y_train.shape)\n",
        "print('y_train dimension= ', y_test.shape)"
      ],
      "metadata": {
        "colab": {
          "base_uri": "https://localhost:8080/"
        },
        "id": "_TL4w608ysq2",
        "outputId": "c3ed6656-4c00-420f-a21c-d3c5eb2247ef"
      },
      "execution_count": 18,
      "outputs": [
        {
          "output_type": "stream",
          "name": "stdout",
          "text": [
            "X_train dimension=  (80000, 10)\n",
            "X_test dimension=  (20000, 10)\n",
            "y_train dimension=  (80000,)\n",
            "y_train dimension=  (20000,)\n"
          ]
        }
      ]
    },
    {
      "cell_type": "code",
      "source": [],
      "metadata": {
        "id": "fqq0V4zTy7Gh"
      },
      "execution_count": 18,
      "outputs": []
    },
    {
      "cell_type": "markdown",
      "source": [
        "Logistic Regression "
      ],
      "metadata": {
        "id": "AMQiCkexzHvi"
      }
    },
    {
      "cell_type": "code",
      "source": [
        "#fitting the model\n",
        "lm = linear_model.LogisticRegression(multi_class='ovr', solver='liblinear')\n",
        "lm.fit(X_train, y_train)"
      ],
      "metadata": {
        "colab": {
          "base_uri": "https://localhost:8080/"
        },
        "id": "YODSueViy7Jz",
        "outputId": "c0bf01d8-04a7-407a-c50c-e80e69f54c23"
      },
      "execution_count": 19,
      "outputs": [
        {
          "output_type": "execute_result",
          "data": {
            "text/plain": [
              "LogisticRegression(multi_class='ovr', solver='liblinear')"
            ]
          },
          "metadata": {},
          "execution_count": 19
        }
      ]
    },
    {
      "cell_type": "code",
      "source": [
        "#Predictions\n",
        "y_pred=lm.predict(X_test)"
      ],
      "metadata": {
        "id": "zy3_Pwt8lorK"
      },
      "execution_count": 20,
      "outputs": []
    },
    {
      "cell_type": "code",
      "source": [
        "#Classification report,accuracy score\n",
        "result1 = classification_report(y_test, y_pred)\n",
        "print(result1)\n",
        "lm_score = accuracy_score(y_test,y_pred)\n",
        "print(lm_score)"
      ],
      "metadata": {
        "colab": {
          "base_uri": "https://localhost:8080/"
        },
        "id": "NICLI2H8lz14",
        "outputId": "5b3d1e45-14e2-45fb-d5ea-9d53e627f303"
      },
      "execution_count": 56,
      "outputs": [
        {
          "output_type": "stream",
          "name": "stdout",
          "text": [
            "              precision    recall  f1-score   support\n",
            "\n",
            "           1       0.32      0.44      0.37      1992\n",
            "           2       0.27      0.15      0.19      2573\n",
            "           3       0.37      0.36      0.36      2353\n",
            "           4       0.28      0.38      0.32      2364\n",
            "           5       0.32      0.31      0.32      2993\n",
            "           6       0.22      0.35      0.27      3459\n",
            "           7       0.37      0.19      0.25      1648\n",
            "           8       0.54      0.29      0.37      1448\n",
            "           9       0.00      0.00      0.00       639\n",
            "          10       0.75      0.38      0.51       400\n",
            "          11       0.75      1.00      0.86       131\n",
            "\n",
            "    accuracy                           0.31     20000\n",
            "   macro avg       0.38      0.35      0.35     20000\n",
            "weighted avg       0.32      0.31      0.30     20000\n",
            "\n",
            "0.308\n"
          ]
        },
        {
          "output_type": "stream",
          "name": "stderr",
          "text": [
            "/usr/local/lib/python3.7/dist-packages/sklearn/metrics/_classification.py:1318: UndefinedMetricWarning: Precision and F-score are ill-defined and being set to 0.0 in labels with no predicted samples. Use `zero_division` parameter to control this behavior.\n",
            "  _warn_prf(average, modifier, msg_start, len(result))\n",
            "/usr/local/lib/python3.7/dist-packages/sklearn/metrics/_classification.py:1318: UndefinedMetricWarning: Precision and F-score are ill-defined and being set to 0.0 in labels with no predicted samples. Use `zero_division` parameter to control this behavior.\n",
            "  _warn_prf(average, modifier, msg_start, len(result))\n",
            "/usr/local/lib/python3.7/dist-packages/sklearn/metrics/_classification.py:1318: UndefinedMetricWarning: Precision and F-score are ill-defined and being set to 0.0 in labels with no predicted samples. Use `zero_division` parameter to control this behavior.\n",
            "  _warn_prf(average, modifier, msg_start, len(result))\n"
          ]
        }
      ]
    },
    {
      "cell_type": "markdown",
      "source": [
        "XGB Classifier:"
      ],
      "metadata": {
        "id": "_ovpcgMIz3iV"
      }
    },
    {
      "cell_type": "code",
      "source": [
        "#Input the parameters\n",
        "xgb = XGBClassifier(n_estimators=10)\n",
        "xgb."
      ],
      "metadata": {
        "id": "VJZu4bJBpHAd"
      },
      "execution_count": 102,
      "outputs": []
    },
    {
      "cell_type": "code",
      "source": [
        "#training time\n",
        "training_start = time.perf_counter()\n",
        "xgb.fit(X_train, y_train)\n",
        "training_end = time.perf_counter()"
      ],
      "metadata": {
        "id": "z7thsd040T3W"
      },
      "execution_count": 103,
      "outputs": []
    },
    {
      "cell_type": "code",
      "source": [
        "#predicting time\n",
        "prediction_start = time.perf_counter()\n",
        "preds1 = xgb.predict(X_test)\n",
        "prediction_end = time.perf_counter()"
      ],
      "metadata": {
        "id": "WUSMuzaT0T6J"
      },
      "execution_count": 104,
      "outputs": []
    },
    {
      "cell_type": "code",
      "source": [
        "xgb_train_time = training_end-training_start\n",
        "xgb_prediction_time = prediction_end-prediction_start"
      ],
      "metadata": {
        "id": "KuUKnzim0T9Z"
      },
      "execution_count": 105,
      "outputs": []
    },
    {
      "cell_type": "code",
      "source": [
        "\n",
        "print(\"Time consumed for training: %4.3f\" % (xgb_train_time))\n",
        "print(\"Time consumed for prediction: %6.5f seconds\" % (xgb_prediction_time))"
      ],
      "metadata": {
        "colab": {
          "base_uri": "https://localhost:8080/"
        },
        "id": "cFGYPtzl0UAE",
        "outputId": "854faa07-8ded-4dab-ae6e-3b55c3fe53cd"
      },
      "execution_count": 106,
      "outputs": [
        {
          "output_type": "stream",
          "name": "stdout",
          "text": [
            "Time consumed for training: 7.653\n",
            "Time consumed for prediction: 0.10672 seconds\n"
          ]
        }
      ]
    },
    {
      "cell_type": "code",
      "source": [
        "XGB_score=accuracy_score(y_test,preds1)\n",
        "XGB_score"
      ],
      "metadata": {
        "colab": {
          "base_uri": "https://localhost:8080/"
        },
        "id": "c-BOhrbbdoIH",
        "outputId": "1875263b-c387-4f5b-c3cf-b7174e26ecc2"
      },
      "execution_count": 107,
      "outputs": [
        {
          "output_type": "execute_result",
          "data": {
            "text/plain": [
              "0.70595"
            ]
          },
          "metadata": {},
          "execution_count": 107
        }
      ]
    },
    {
      "cell_type": "markdown",
      "source": [
        "Random Forest classifier"
      ],
      "metadata": {
        "id": "uUExh6hz0p_K"
      }
    },
    {
      "cell_type": "code",
      "source": [
        "#Input the parameters\n",
        "rfc = RandomForestClassifier(n_estimators=100)\n"
      ],
      "metadata": {
        "id": "BPknU-4idLpA"
      },
      "execution_count": 28,
      "outputs": []
    },
    {
      "cell_type": "code",
      "source": [
        "#Training time\n",
        "training_start = time.perf_counter()\n",
        "rfc.fit(X_train, y_train)\n",
        "training_end = time.perf_counter()"
      ],
      "metadata": {
        "id": "I_p4jlHP0-eg"
      },
      "execution_count": 29,
      "outputs": []
    },
    {
      "cell_type": "code",
      "source": [
        "#predicting time\n",
        "prediction_start = time.perf_counter()\n",
        "preds2 = rfc.predict(X_test)\n",
        "prediction_end = time.perf_counter()"
      ],
      "metadata": {
        "id": "KGHiQfIk0-h0"
      },
      "execution_count": 30,
      "outputs": []
    },
    {
      "cell_type": "code",
      "source": [
        "rfc_train_time = training_end-training_start\n",
        "rfc_prediction_time = prediction_end-prediction_start"
      ],
      "metadata": {
        "id": "sG1xZ8Ov0-lT"
      },
      "execution_count": 31,
      "outputs": []
    },
    {
      "cell_type": "code",
      "source": [
        "\n",
        "print(\"Time consumed for training: %4.3f seconds\" % (rfc_train_time))\n",
        "print(\"Time consumed for prediction: %6.5f seconds\" % (rfc_prediction_time))"
      ],
      "metadata": {
        "colab": {
          "base_uri": "https://localhost:8080/"
        },
        "id": "K9SQIMie0-oe",
        "outputId": "548b1b18-0cc7-4b13-c7ad-006b4b2d6615"
      },
      "execution_count": 32,
      "outputs": [
        {
          "output_type": "stream",
          "name": "stdout",
          "text": [
            "Time consumed for training: 26.341 seconds\n",
            "Time consumed for prediction: 0.28697 seconds\n"
          ]
        }
      ]
    },
    {
      "cell_type": "code",
      "source": [
        "RFC_score=accuracy_score(y_test,preds2)\n",
        "RFC_score"
      ],
      "metadata": {
        "colab": {
          "base_uri": "https://localhost:8080/"
        },
        "id": "G7QJZ4HVe-Se",
        "outputId": "44da080b-fcb4-4e53-f2af-1ff824d40006"
      },
      "execution_count": 59,
      "outputs": [
        {
          "output_type": "execute_result",
          "data": {
            "text/plain": [
              "1.0"
            ]
          },
          "metadata": {},
          "execution_count": 59
        }
      ]
    },
    {
      "cell_type": "markdown",
      "source": [
        "Support Vector Machine"
      ],
      "metadata": {
        "id": "Y1WXGGeB1Rh-"
      }
    },
    {
      "cell_type": "code",
      "source": [
        "#Input the parameters\n",
        "svc = SVC()\n"
      ],
      "metadata": {
        "id": "SqeAsZivqtSM"
      },
      "execution_count": 96,
      "outputs": []
    },
    {
      "cell_type": "code",
      "source": [
        "#Training time\n",
        "training_start = time.perf_counter()\n",
        "svc.fit(X_train, y_train)\n",
        "training_end = time.perf_counter()"
      ],
      "metadata": {
        "id": "WOtkPBYN1aNm"
      },
      "execution_count": 97,
      "outputs": []
    },
    {
      "cell_type": "code",
      "source": [
        "#Testing time\n",
        "prediction_start = time.perf_counter()\n",
        "preds3 = svc.predict(X_test)\n",
        "prediction_end = time.perf_counter()"
      ],
      "metadata": {
        "id": "YnRvCLeN1aRX"
      },
      "execution_count": 98,
      "outputs": []
    },
    {
      "cell_type": "code",
      "source": [
        "\n",
        "svc_train_time = training_end-training_start\n",
        "svc_prediction_time = prediction_end-prediction_start"
      ],
      "metadata": {
        "id": "QB9amrgw1aUC"
      },
      "execution_count": 99,
      "outputs": []
    },
    {
      "cell_type": "code",
      "source": [
        "\n",
        "print(\"Time consumed for training: %4.3f seconds\" % (svc_train_time))\n",
        "print(\"Time consumed for prediction: %6.5f seconds\" % (svc_prediction_time))"
      ],
      "metadata": {
        "colab": {
          "base_uri": "https://localhost:8080/"
        },
        "id": "aO7WGE2z1aW4",
        "outputId": "47699868-14c6-458b-f592-3d7fbae0095d"
      },
      "execution_count": 100,
      "outputs": [
        {
          "output_type": "stream",
          "name": "stdout",
          "text": [
            "Time consumed for training: 114.854 seconds\n",
            "Time consumed for prediction: 47.70416 seconds\n"
          ]
        }
      ]
    },
    {
      "cell_type": "code",
      "source": [
        "SVC_score=accuracy_score(y_test,preds3)\n",
        "SVC_score"
      ],
      "metadata": {
        "colab": {
          "base_uri": "https://localhost:8080/"
        },
        "id": "Dh9sw76Cf-d_",
        "outputId": "0f655eff-6e3f-4cf3-ab10-30add2920db5"
      },
      "execution_count": 101,
      "outputs": [
        {
          "output_type": "execute_result",
          "data": {
            "text/plain": [
              "0.9696"
            ]
          },
          "metadata": {},
          "execution_count": 101
        }
      ]
    },
    {
      "cell_type": "markdown",
      "source": [
        "Naive Bayes"
      ],
      "metadata": {
        "id": "U2shg-6A1ydc"
      }
    },
    {
      "cell_type": "code",
      "source": [
        "#Input the parameters \n",
        "gnb = GaussianNB()\n"
      ],
      "metadata": {
        "id": "j2wI3PbNsUxt"
      },
      "execution_count": 40,
      "outputs": []
    },
    {
      "cell_type": "code",
      "source": [
        "#Training time\n",
        "training_start = time.perf_counter()\n",
        "gnb.fit(X_train, y_train)\n",
        "training_end = time.perf_counter()"
      ],
      "metadata": {
        "id": "7Z0kvl8o2qgQ"
      },
      "execution_count": 41,
      "outputs": []
    },
    {
      "cell_type": "code",
      "source": [
        "#Predicting time\n",
        "prediction_start = time.perf_counter()\n",
        "preds4 = gnb.predict(X_test)\n",
        "prediction_end = time.perf_counter()"
      ],
      "metadata": {
        "id": "qdhPk7dk2qjY"
      },
      "execution_count": 42,
      "outputs": []
    },
    {
      "cell_type": "code",
      "source": [
        "gnb_train_time = training_end-training_start\n",
        "gnb_prediction_time = prediction_end-prediction_start"
      ],
      "metadata": {
        "id": "dPDpIm4O2qpA"
      },
      "execution_count": 43,
      "outputs": []
    },
    {
      "cell_type": "code",
      "source": [
        "print(\"Time consumed for training: %4.3f seconds\" % (gnb_train_time))\n",
        "print(\"Time consumed for prediction: %6.5f seconds\" % (gnb_prediction_time))"
      ],
      "metadata": {
        "colab": {
          "base_uri": "https://localhost:8080/"
        },
        "id": "S9ijEMsJ2qsy",
        "outputId": "033dafeb-ac71-4de0-b1d3-497e84d025ca"
      },
      "execution_count": 44,
      "outputs": [
        {
          "output_type": "stream",
          "name": "stdout",
          "text": [
            "Time consumed for training: 0.029 seconds\n",
            "Time consumed for prediction: 0.02651 seconds\n"
          ]
        }
      ]
    },
    {
      "cell_type": "code",
      "source": [
        "Naive_bayes_score=accuracy_score(y_test,preds4)\n",
        "Naive_bayes_score"
      ],
      "metadata": {
        "colab": {
          "base_uri": "https://localhost:8080/"
        },
        "id": "RC4rPh1o2EoA",
        "outputId": "a3784ef2-9925-48a0-bc2b-948613ef6e69"
      },
      "execution_count": 64,
      "outputs": [
        {
          "output_type": "execute_result",
          "data": {
            "text/plain": [
              "0.29355"
            ]
          },
          "metadata": {},
          "execution_count": 64
        }
      ]
    },
    {
      "cell_type": "markdown",
      "source": [
        "KNeighbours Classifier:"
      ],
      "metadata": {
        "id": "KKDm01kK3C3w"
      }
    },
    {
      "cell_type": "code",
      "source": [
        "#Input the parameters\n",
        "knn = KNeighborsClassifier()"
      ],
      "metadata": {
        "id": "5307MMk4vKLt"
      },
      "execution_count": 46,
      "outputs": []
    },
    {
      "cell_type": "code",
      "source": [
        "#Training time\n",
        "training_start = time.perf_counter()\n",
        "knn.fit(X_train, y_train)\n",
        "training_end = time.perf_counter()"
      ],
      "metadata": {
        "id": "MneD6P2i3Kpv"
      },
      "execution_count": 47,
      "outputs": []
    },
    {
      "cell_type": "code",
      "source": [
        "#Predicting Time\n",
        "prediction_start = time.perf_counter()\n",
        "preds5 = knn.predict(X_test)\n",
        "prediction_end = time.perf_counter()"
      ],
      "metadata": {
        "id": "1KrUNyie3Ksx"
      },
      "execution_count": 48,
      "outputs": []
    },
    {
      "cell_type": "code",
      "source": [
        "knn_train_time = training_end-training_start\n",
        "knn_prediction_time = prediction_end-prediction_start"
      ],
      "metadata": {
        "id": "eZzkdtaV3KwA"
      },
      "execution_count": 49,
      "outputs": []
    },
    {
      "cell_type": "code",
      "source": [
        "print(\"Time consumed for training: %4.3f seconds\" % (knn_train_time))\n",
        "print(\"Time consumed for prediction: %6.5f seconds\" % (knn_prediction_time))"
      ],
      "metadata": {
        "colab": {
          "base_uri": "https://localhost:8080/"
        },
        "id": "Z9BrdNbH3Ky5",
        "outputId": "5c603151-0b2f-49bb-8c81-d98058b33fb1"
      },
      "execution_count": 50,
      "outputs": [
        {
          "output_type": "stream",
          "name": "stdout",
          "text": [
            "Time consumed for training: 0.125 seconds\n",
            "Time consumed for prediction: 0.50582 seconds\n"
          ]
        }
      ]
    },
    {
      "cell_type": "code",
      "source": [
        "KNN_score=accuracy_score(y_test,preds5)\n",
        "KNN_score"
      ],
      "metadata": {
        "colab": {
          "base_uri": "https://localhost:8080/"
        },
        "id": "EHAEHQB-g-if",
        "outputId": "9565a972-0083-4d01-f415-cb9cbc0e3d07"
      },
      "execution_count": 65,
      "outputs": [
        {
          "output_type": "execute_result",
          "data": {
            "text/plain": [
              "1.0"
            ]
          },
          "metadata": {},
          "execution_count": 65
        }
      ]
    },
    {
      "cell_type": "markdown",
      "source": [
        "Results of all models"
      ],
      "metadata": {
        "id": "CktBCI2HD6f9"
      }
    },
    {
      "cell_type": "code",
      "source": [
        "results=pd.DataFrame({\n",
        "    'Model': ['Logistic Regression',\"XGB\",'Random_Forest','SVC','Naive_bayes','KNN'],\n",
        "    'Accuracy_Score': [lm_score,XGB_score,RFC_score,SVC_score,Naive_bayes_score,KNN_score]\n",
        "})\n",
        "\n",
        "results=results.sort_values(by='Accuracy_Score', ascending=False)\n",
        "results=results.set_index('Model')\n",
        "results\n"
      ],
      "metadata": {
        "id": "nUYWEBseCLpJ",
        "outputId": "1f8b397b-baea-476a-bace-0688116d7f23",
        "colab": {
          "base_uri": "https://localhost:8080/",
          "height": 269
        }
      },
      "execution_count": 82,
      "outputs": [
        {
          "output_type": "execute_result",
          "data": {
            "text/plain": [
              "                     Accuracy_Score\n",
              "Model                              \n",
              "Random_Forest               1.00000\n",
              "KNN                         1.00000\n",
              "SVC                         0.96960\n",
              "XGB                         0.70595\n",
              "Logistic Regression         0.30800\n",
              "Naive_bayes                 0.29355"
            ],
            "text/html": [
              "\n",
              "  <div id=\"df-4f6ec3c0-1f74-4746-b1c5-5aa9274cf3c7\">\n",
              "    <div class=\"colab-df-container\">\n",
              "      <div>\n",
              "<style scoped>\n",
              "    .dataframe tbody tr th:only-of-type {\n",
              "        vertical-align: middle;\n",
              "    }\n",
              "\n",
              "    .dataframe tbody tr th {\n",
              "        vertical-align: top;\n",
              "    }\n",
              "\n",
              "    .dataframe thead th {\n",
              "        text-align: right;\n",
              "    }\n",
              "</style>\n",
              "<table border=\"1\" class=\"dataframe\">\n",
              "  <thead>\n",
              "    <tr style=\"text-align: right;\">\n",
              "      <th></th>\n",
              "      <th>Accuracy_Score</th>\n",
              "    </tr>\n",
              "    <tr>\n",
              "      <th>Model</th>\n",
              "      <th></th>\n",
              "    </tr>\n",
              "  </thead>\n",
              "  <tbody>\n",
              "    <tr>\n",
              "      <th>Random_Forest</th>\n",
              "      <td>1.00000</td>\n",
              "    </tr>\n",
              "    <tr>\n",
              "      <th>KNN</th>\n",
              "      <td>1.00000</td>\n",
              "    </tr>\n",
              "    <tr>\n",
              "      <th>SVC</th>\n",
              "      <td>0.96960</td>\n",
              "    </tr>\n",
              "    <tr>\n",
              "      <th>XGB</th>\n",
              "      <td>0.70595</td>\n",
              "    </tr>\n",
              "    <tr>\n",
              "      <th>Logistic Regression</th>\n",
              "      <td>0.30800</td>\n",
              "    </tr>\n",
              "    <tr>\n",
              "      <th>Naive_bayes</th>\n",
              "      <td>0.29355</td>\n",
              "    </tr>\n",
              "  </tbody>\n",
              "</table>\n",
              "</div>\n",
              "      <button class=\"colab-df-convert\" onclick=\"convertToInteractive('df-4f6ec3c0-1f74-4746-b1c5-5aa9274cf3c7')\"\n",
              "              title=\"Convert this dataframe to an interactive table.\"\n",
              "              style=\"display:none;\">\n",
              "        \n",
              "  <svg xmlns=\"http://www.w3.org/2000/svg\" height=\"24px\"viewBox=\"0 0 24 24\"\n",
              "       width=\"24px\">\n",
              "    <path d=\"M0 0h24v24H0V0z\" fill=\"none\"/>\n",
              "    <path d=\"M18.56 5.44l.94 2.06.94-2.06 2.06-.94-2.06-.94-.94-2.06-.94 2.06-2.06.94zm-11 1L8.5 8.5l.94-2.06 2.06-.94-2.06-.94L8.5 2.5l-.94 2.06-2.06.94zm10 10l.94 2.06.94-2.06 2.06-.94-2.06-.94-.94-2.06-.94 2.06-2.06.94z\"/><path d=\"M17.41 7.96l-1.37-1.37c-.4-.4-.92-.59-1.43-.59-.52 0-1.04.2-1.43.59L10.3 9.45l-7.72 7.72c-.78.78-.78 2.05 0 2.83L4 21.41c.39.39.9.59 1.41.59.51 0 1.02-.2 1.41-.59l7.78-7.78 2.81-2.81c.8-.78.8-2.07 0-2.86zM5.41 20L4 18.59l7.72-7.72 1.47 1.35L5.41 20z\"/>\n",
              "  </svg>\n",
              "      </button>\n",
              "      \n",
              "  <style>\n",
              "    .colab-df-container {\n",
              "      display:flex;\n",
              "      flex-wrap:wrap;\n",
              "      gap: 12px;\n",
              "    }\n",
              "\n",
              "    .colab-df-convert {\n",
              "      background-color: #E8F0FE;\n",
              "      border: none;\n",
              "      border-radius: 50%;\n",
              "      cursor: pointer;\n",
              "      display: none;\n",
              "      fill: #1967D2;\n",
              "      height: 32px;\n",
              "      padding: 0 0 0 0;\n",
              "      width: 32px;\n",
              "    }\n",
              "\n",
              "    .colab-df-convert:hover {\n",
              "      background-color: #E2EBFA;\n",
              "      box-shadow: 0px 1px 2px rgba(60, 64, 67, 0.3), 0px 1px 3px 1px rgba(60, 64, 67, 0.15);\n",
              "      fill: #174EA6;\n",
              "    }\n",
              "\n",
              "    [theme=dark] .colab-df-convert {\n",
              "      background-color: #3B4455;\n",
              "      fill: #D2E3FC;\n",
              "    }\n",
              "\n",
              "    [theme=dark] .colab-df-convert:hover {\n",
              "      background-color: #434B5C;\n",
              "      box-shadow: 0px 1px 3px 1px rgba(0, 0, 0, 0.15);\n",
              "      filter: drop-shadow(0px 1px 2px rgba(0, 0, 0, 0.3));\n",
              "      fill: #FFFFFF;\n",
              "    }\n",
              "  </style>\n",
              "\n",
              "      <script>\n",
              "        const buttonEl =\n",
              "          document.querySelector('#df-4f6ec3c0-1f74-4746-b1c5-5aa9274cf3c7 button.colab-df-convert');\n",
              "        buttonEl.style.display =\n",
              "          google.colab.kernel.accessAllowed ? 'block' : 'none';\n",
              "\n",
              "        async function convertToInteractive(key) {\n",
              "          const element = document.querySelector('#df-4f6ec3c0-1f74-4746-b1c5-5aa9274cf3c7');\n",
              "          const dataTable =\n",
              "            await google.colab.kernel.invokeFunction('convertToInteractive',\n",
              "                                                     [key], {});\n",
              "          if (!dataTable) return;\n",
              "\n",
              "          const docLinkHtml = 'Like what you see? Visit the ' +\n",
              "            '<a target=\"_blank\" href=https://colab.research.google.com/notebooks/data_table.ipynb>data table notebook</a>'\n",
              "            + ' to learn more about interactive tables.';\n",
              "          element.innerHTML = '';\n",
              "          dataTable['output_type'] = 'display_data';\n",
              "          await google.colab.output.renderOutput(dataTable, element);\n",
              "          const docLink = document.createElement('div');\n",
              "          docLink.innerHTML = docLinkHtml;\n",
              "          element.appendChild(docLink);\n",
              "        }\n",
              "      </script>\n",
              "    </div>\n",
              "  </div>\n",
              "  "
            ]
          },
          "metadata": {},
          "execution_count": 82
        }
      ]
    },
    {
      "cell_type": "markdown",
      "source": [
        "K -Fold cross validation"
      ],
      "metadata": {
        "id": "lbJPAEB7CM4R"
      }
    },
    {
      "cell_type": "markdown",
      "source": [
        "We will do cross validation for SVC and XG boost since they are giving the best scores.\n",
        "\n",
        "We do this to get a more realistic result by testing the performance for 10 different train and test datasets and averaging the results.\n",
        "\n",
        "Cross validation ensures that the above result is not arbitary and gives a more reliable performance check."
      ],
      "metadata": {
        "id": "lqr5y6kqCdeR"
      }
    },
    {
      "cell_type": "markdown",
      "source": [
        "SVC"
      ],
      "metadata": {
        "id": "I-P7wcDnIvB7"
      }
    },
    {
      "cell_type": "code",
      "source": [
        "from sklearn.model_selection import cross_val_score\n",
        "svc = SVC()\n",
        "scores=cross_val_score(svc,X_train,y_train,cv=2,scoring='accuracy')"
      ],
      "metadata": {
        "id": "GxYRy7QQLL4E"
      },
      "execution_count": 84,
      "outputs": []
    },
    {
      "cell_type": "code",
      "source": [
        "print(scores)\n",
        "print(scores.mean())\n",
        "print(scores.std())\n"
      ],
      "metadata": {
        "id": "9-GQv6OcCLu1",
        "outputId": "4840c284-660e-42a3-8b89-8e716468de50",
        "colab": {
          "base_uri": "https://localhost:8080/"
        }
      },
      "execution_count": 95,
      "outputs": [
        {
          "output_type": "stream",
          "name": "stdout",
          "text": [
            "[0.9988   0.995475]\n",
            "0.9971375\n",
            "0.0016625000000000112\n"
          ]
        }
      ]
    },
    {
      "cell_type": "markdown",
      "source": [
        "XG Boost\n"
      ],
      "metadata": {
        "id": "-IwjnlSdIxcK"
      }
    },
    {
      "cell_type": "code",
      "source": [
        "xgb_cv = XGBClassifier(n_estimators=100)\n",
        "scores = cross_val_score(xgb_cv, X_train, y_train, cv=2, scoring = \"accuracy\")\n",
        "print(\"Scores:\", scores)\n",
        "print(\"Mean:\", scores.mean())\n",
        "print(\"Standard Deviation:\", scores.std())"
      ],
      "metadata": {
        "id": "Xxf1bAePCLyH",
        "outputId": "11aea587-7701-49fe-b3d1-6e401a65d741",
        "colab": {
          "base_uri": "https://localhost:8080/"
        }
      },
      "execution_count": 91,
      "outputs": [
        {
          "output_type": "stream",
          "name": "stdout",
          "text": [
            "Scores: [0.9988   0.995475]\n",
            "Mean: 0.9971375\n",
            "Standard Deviation: 0.0016625000000000112\n"
          ]
        }
      ]
    },
    {
      "cell_type": "markdown",
      "source": [
        "Only SVC is better since the cross validation score is very high for XG boost\n",
        "\n",
        "A high mean corresponds to a more stable performance and a low standard deviation corresponds to smaller range of results."
      ],
      "metadata": {
        "id": "NFe6C5LlNa-p"
      }
    },
    {
      "cell_type": "markdown",
      "source": [
        "Feature importance:\n",
        "We can consider viewing the features importance for XGB since it is quite optimal."
      ],
      "metadata": {
        "id": "nLvnhRFgPrDv"
      }
    },
    {
      "cell_type": "code",
      "source": [
        "X=pd.DataFrame(X)\n",
        "importances=pd.DataFrame({'features': X.columns,\n",
        "                          'importance' : xgb.feature_importances_})\n",
        "\n",
        "importances=importances.sort_values(by='importance', ascending=False)\n",
        "#importances.set_index('features')\n",
        "importances\n"
      ],
      "metadata": {
        "id": "qDjb_qdaNcUQ",
        "outputId": "6dd01cd4-b740-4687-fac6-0b6c1fe4d474",
        "colab": {
          "base_uri": "https://localhost:8080/",
          "height": 363
        }
      },
      "execution_count": 135,
      "outputs": [
        {
          "output_type": "execute_result",
          "data": {
            "text/plain": [
              "   features  importance\n",
              "8         8    0.159666\n",
              "1         1    0.124201\n",
              "2         2    0.116784\n",
              "7         7    0.110827\n",
              "9         9    0.107988\n",
              "3         3    0.105440\n",
              "5         5    0.096854\n",
              "6         6    0.094212\n",
              "0         0    0.084029\n",
              "4         4    0.000000"
            ],
            "text/html": [
              "\n",
              "  <div id=\"df-ac756fbc-3871-4b90-8dee-59e11b6bfe63\">\n",
              "    <div class=\"colab-df-container\">\n",
              "      <div>\n",
              "<style scoped>\n",
              "    .dataframe tbody tr th:only-of-type {\n",
              "        vertical-align: middle;\n",
              "    }\n",
              "\n",
              "    .dataframe tbody tr th {\n",
              "        vertical-align: top;\n",
              "    }\n",
              "\n",
              "    .dataframe thead th {\n",
              "        text-align: right;\n",
              "    }\n",
              "</style>\n",
              "<table border=\"1\" class=\"dataframe\">\n",
              "  <thead>\n",
              "    <tr style=\"text-align: right;\">\n",
              "      <th></th>\n",
              "      <th>features</th>\n",
              "      <th>importance</th>\n",
              "    </tr>\n",
              "  </thead>\n",
              "  <tbody>\n",
              "    <tr>\n",
              "      <th>8</th>\n",
              "      <td>8</td>\n",
              "      <td>0.159666</td>\n",
              "    </tr>\n",
              "    <tr>\n",
              "      <th>1</th>\n",
              "      <td>1</td>\n",
              "      <td>0.124201</td>\n",
              "    </tr>\n",
              "    <tr>\n",
              "      <th>2</th>\n",
              "      <td>2</td>\n",
              "      <td>0.116784</td>\n",
              "    </tr>\n",
              "    <tr>\n",
              "      <th>7</th>\n",
              "      <td>7</td>\n",
              "      <td>0.110827</td>\n",
              "    </tr>\n",
              "    <tr>\n",
              "      <th>9</th>\n",
              "      <td>9</td>\n",
              "      <td>0.107988</td>\n",
              "    </tr>\n",
              "    <tr>\n",
              "      <th>3</th>\n",
              "      <td>3</td>\n",
              "      <td>0.105440</td>\n",
              "    </tr>\n",
              "    <tr>\n",
              "      <th>5</th>\n",
              "      <td>5</td>\n",
              "      <td>0.096854</td>\n",
              "    </tr>\n",
              "    <tr>\n",
              "      <th>6</th>\n",
              "      <td>6</td>\n",
              "      <td>0.094212</td>\n",
              "    </tr>\n",
              "    <tr>\n",
              "      <th>0</th>\n",
              "      <td>0</td>\n",
              "      <td>0.084029</td>\n",
              "    </tr>\n",
              "    <tr>\n",
              "      <th>4</th>\n",
              "      <td>4</td>\n",
              "      <td>0.000000</td>\n",
              "    </tr>\n",
              "  </tbody>\n",
              "</table>\n",
              "</div>\n",
              "      <button class=\"colab-df-convert\" onclick=\"convertToInteractive('df-ac756fbc-3871-4b90-8dee-59e11b6bfe63')\"\n",
              "              title=\"Convert this dataframe to an interactive table.\"\n",
              "              style=\"display:none;\">\n",
              "        \n",
              "  <svg xmlns=\"http://www.w3.org/2000/svg\" height=\"24px\"viewBox=\"0 0 24 24\"\n",
              "       width=\"24px\">\n",
              "    <path d=\"M0 0h24v24H0V0z\" fill=\"none\"/>\n",
              "    <path d=\"M18.56 5.44l.94 2.06.94-2.06 2.06-.94-2.06-.94-.94-2.06-.94 2.06-2.06.94zm-11 1L8.5 8.5l.94-2.06 2.06-.94-2.06-.94L8.5 2.5l-.94 2.06-2.06.94zm10 10l.94 2.06.94-2.06 2.06-.94-2.06-.94-.94-2.06-.94 2.06-2.06.94z\"/><path d=\"M17.41 7.96l-1.37-1.37c-.4-.4-.92-.59-1.43-.59-.52 0-1.04.2-1.43.59L10.3 9.45l-7.72 7.72c-.78.78-.78 2.05 0 2.83L4 21.41c.39.39.9.59 1.41.59.51 0 1.02-.2 1.41-.59l7.78-7.78 2.81-2.81c.8-.78.8-2.07 0-2.86zM5.41 20L4 18.59l7.72-7.72 1.47 1.35L5.41 20z\"/>\n",
              "  </svg>\n",
              "      </button>\n",
              "      \n",
              "  <style>\n",
              "    .colab-df-container {\n",
              "      display:flex;\n",
              "      flex-wrap:wrap;\n",
              "      gap: 12px;\n",
              "    }\n",
              "\n",
              "    .colab-df-convert {\n",
              "      background-color: #E8F0FE;\n",
              "      border: none;\n",
              "      border-radius: 50%;\n",
              "      cursor: pointer;\n",
              "      display: none;\n",
              "      fill: #1967D2;\n",
              "      height: 32px;\n",
              "      padding: 0 0 0 0;\n",
              "      width: 32px;\n",
              "    }\n",
              "\n",
              "    .colab-df-convert:hover {\n",
              "      background-color: #E2EBFA;\n",
              "      box-shadow: 0px 1px 2px rgba(60, 64, 67, 0.3), 0px 1px 3px 1px rgba(60, 64, 67, 0.15);\n",
              "      fill: #174EA6;\n",
              "    }\n",
              "\n",
              "    [theme=dark] .colab-df-convert {\n",
              "      background-color: #3B4455;\n",
              "      fill: #D2E3FC;\n",
              "    }\n",
              "\n",
              "    [theme=dark] .colab-df-convert:hover {\n",
              "      background-color: #434B5C;\n",
              "      box-shadow: 0px 1px 3px 1px rgba(0, 0, 0, 0.15);\n",
              "      filter: drop-shadow(0px 1px 2px rgba(0, 0, 0, 0.3));\n",
              "      fill: #FFFFFF;\n",
              "    }\n",
              "  </style>\n",
              "\n",
              "      <script>\n",
              "        const buttonEl =\n",
              "          document.querySelector('#df-ac756fbc-3871-4b90-8dee-59e11b6bfe63 button.colab-df-convert');\n",
              "        buttonEl.style.display =\n",
              "          google.colab.kernel.accessAllowed ? 'block' : 'none';\n",
              "\n",
              "        async function convertToInteractive(key) {\n",
              "          const element = document.querySelector('#df-ac756fbc-3871-4b90-8dee-59e11b6bfe63');\n",
              "          const dataTable =\n",
              "            await google.colab.kernel.invokeFunction('convertToInteractive',\n",
              "                                                     [key], {});\n",
              "          if (!dataTable) return;\n",
              "\n",
              "          const docLinkHtml = 'Like what you see? Visit the ' +\n",
              "            '<a target=\"_blank\" href=https://colab.research.google.com/notebooks/data_table.ipynb>data table notebook</a>'\n",
              "            + ' to learn more about interactive tables.';\n",
              "          element.innerHTML = '';\n",
              "          dataTable['output_type'] = 'display_data';\n",
              "          await google.colab.output.renderOutput(dataTable, element);\n",
              "          const docLink = document.createElement('div');\n",
              "          docLink.innerHTML = docLinkHtml;\n",
              "          element.appendChild(docLink);\n",
              "        }\n",
              "      </script>\n",
              "    </div>\n",
              "  </div>\n",
              "  "
            ]
          },
          "metadata": {},
          "execution_count": 135
        }
      ]
    },
    {
      "cell_type": "code",
      "source": [
        "#importances.plot.bar(X.columns,importances.importance)"
      ],
      "metadata": {
        "id": "kIkv7RLfCL1Z"
      },
      "execution_count": 140,
      "outputs": []
    },
    {
      "cell_type": "markdown",
      "source": [
        "Clearly we can see that 0,1,2,3,4 "
      ],
      "metadata": {
        "id": "4C7R-4QUSpec"
      }
    },
    {
      "cell_type": "code",
      "source": [
        "\n"
      ],
      "metadata": {
        "id": "vjJ9Mg3LCL3Y",
        "outputId": "56d59761-b566-4423-eda9-27905ded3731",
        "colab": {
          "base_uri": "https://localhost:8080/",
          "height": 166
        }
      },
      "execution_count": 149,
      "outputs": [
        {
          "output_type": "error",
          "ename": "AttributeError",
          "evalue": "ignored",
          "traceback": [
            "\u001b[0;31m---------------------------------------------------------------------------\u001b[0m",
            "\u001b[0;31mAttributeError\u001b[0m                            Traceback (most recent call last)",
            "\u001b[0;32m<ipython-input-149-ba40aa8f7d07>\u001b[0m in \u001b[0;36m<module>\u001b[0;34m\u001b[0m\n\u001b[0;32m----> 1\u001b[0;31m \u001b[0mZ\u001b[0m\u001b[0;34m=\u001b[0m\u001b[0mpca\u001b[0m\u001b[0;34m.\u001b[0m\u001b[0minverse_transform\u001b[0m\u001b[0;34m(\u001b[0m\u001b[0mpca\u001b[0m\u001b[0;34m.\u001b[0m\u001b[0mfit_transform\u001b[0m\u001b[0;34m.\u001b[0m\u001b[0mreshape\u001b[0m\u001b[0;34m(\u001b[0m\u001b[0;34m(\u001b[0m\u001b[0mdf\u001b[0m\u001b[0;34m[\u001b[0m\u001b[0;34m'odds'\u001b[0m\u001b[0;34m]\u001b[0m\u001b[0;34m)\u001b[0m\u001b[0;34m,\u001b[0m\u001b[0;34m-\u001b[0m\u001b[0;36m1\u001b[0m\u001b[0;34m,\u001b[0m\u001b[0;36m1\u001b[0m\u001b[0;34m)\u001b[0m\u001b[0;34m)\u001b[0m\u001b[0;34m\u001b[0m\u001b[0;34m\u001b[0m\u001b[0m\n\u001b[0m",
            "\u001b[0;31mAttributeError\u001b[0m: 'function' object has no attribute 'reshape'"
          ]
        }
      ]
    },
    {
      "cell_type": "code",
      "source": [],
      "metadata": {
        "id": "may24XCGCL6L"
      },
      "execution_count": null,
      "outputs": []
    },
    {
      "cell_type": "code",
      "source": [],
      "metadata": {
        "id": "xV9IrXBcCL9H"
      },
      "execution_count": null,
      "outputs": []
    },
    {
      "cell_type": "code",
      "source": [],
      "metadata": {
        "id": "bH8u78V7CL_i"
      },
      "execution_count": null,
      "outputs": []
    },
    {
      "cell_type": "code",
      "source": [],
      "metadata": {
        "id": "o5hK35EgCMDG"
      },
      "execution_count": null,
      "outputs": []
    },
    {
      "cell_type": "markdown",
      "source": [
        "Deep learning "
      ],
      "metadata": {
        "id": "eerwp6_HY3c8"
      }
    },
    {
      "cell_type": "code",
      "source": [
        "#Initialising the model\n",
        "model=Sequential()\n",
        "model.add(Dense(10,activation='relu',input_dim=10)) #input layer\n",
        "model.add(Dropout(0.1))\n",
        "model.add(Dense(10,activation='relu'))\n",
        "model.add(Dropout(0.1))\n",
        "model.add(Dense(1,activation='sigmoid'))\n",
        "model.summary()"
      ],
      "metadata": {
        "colab": {
          "base_uri": "https://localhost:8080/"
        },
        "id": "vYTz-d0vY4wW",
        "outputId": "e95a9f75-0e62-411f-9c8d-ca5539c8729f"
      },
      "execution_count": 52,
      "outputs": [
        {
          "output_type": "stream",
          "name": "stdout",
          "text": [
            "Model: \"sequential\"\n",
            "_________________________________________________________________\n",
            " Layer (type)                Output Shape              Param #   \n",
            "=================================================================\n",
            " dense (Dense)               (None, 10)                110       \n",
            "                                                                 \n",
            " dropout (Dropout)           (None, 10)                0         \n",
            "                                                                 \n",
            " dense_1 (Dense)             (None, 10)                110       \n",
            "                                                                 \n",
            " dropout_1 (Dropout)         (None, 10)                0         \n",
            "                                                                 \n",
            " dense_2 (Dense)             (None, 1)                 11        \n",
            "                                                                 \n",
            "=================================================================\n",
            "Total params: 231\n",
            "Trainable params: 231\n",
            "Non-trainable params: 0\n",
            "_________________________________________________________________\n"
          ]
        }
      ]
    },
    {
      "cell_type": "code",
      "source": [
        "#Applying optimizers and callbacks\n",
        "optimizer=keras.optimizers.Adam(learning_rate=0.0001)\n",
        "callback=EarlyStopping(monitor='val_loss', min_delta=0.0001,\n",
        "    patience=5,\n",
        "    verbose=1,\n",
        "    mode=\"auto\",\n",
        "    baseline=None,\n",
        "    restore_best_weights=False)"
      ],
      "metadata": {
        "id": "WiZfV2rVZX0w"
      },
      "execution_count": 53,
      "outputs": []
    },
    {
      "cell_type": "code",
      "source": [
        "#Compiling the model\n",
        "model.compile(loss='binary_crossentropy',optimizer=optimizer,metrics=['accuracy'])"
      ],
      "metadata": {
        "id": "DmJkgC3GZbnn"
      },
      "execution_count": 54,
      "outputs": []
    },
    {
      "cell_type": "code",
      "source": [
        "#Fitting the model\n",
        "history=model.fit(X_train,y_train,batch_size=200, epochs=100,\n",
        "                    validation_data = (X_test,y_test), verbose=1, callbacks=callback)"
      ],
      "metadata": {
        "colab": {
          "base_uri": "https://localhost:8080/"
        },
        "id": "UctG2Op8Z4g-",
        "outputId": "293390de-83aa-4374-f9e5-fa493fa642d0"
      },
      "execution_count": 55,
      "outputs": [
        {
          "output_type": "stream",
          "name": "stdout",
          "text": [
            "Epoch 1/100\n",
            "400/400 [==============================] - 4s 4ms/step - loss: 0.8065 - accuracy: 0.0479 - val_loss: -0.7601 - val_accuracy: 0.0672\n",
            "Epoch 2/100\n",
            "400/400 [==============================] - 1s 3ms/step - loss: -2.3179 - accuracy: 0.0880 - val_loss: -4.2007 - val_accuracy: 0.0960\n",
            "Epoch 3/100\n",
            "400/400 [==============================] - 1s 3ms/step - loss: -6.2387 - accuracy: 0.1035 - val_loss: -8.8564 - val_accuracy: 0.0996\n",
            "Epoch 4/100\n",
            "400/400 [==============================] - 1s 3ms/step - loss: -11.6261 - accuracy: 0.1059 - val_loss: -15.2418 - val_accuracy: 0.0996\n",
            "Epoch 5/100\n",
            "400/400 [==============================] - 1s 3ms/step - loss: -18.9407 - accuracy: 0.1060 - val_loss: -23.8756 - val_accuracy: 0.0996\n",
            "Epoch 6/100\n",
            "400/400 [==============================] - 1s 3ms/step - loss: -28.7891 - accuracy: 0.1060 - val_loss: -35.3035 - val_accuracy: 0.0996\n",
            "Epoch 7/100\n",
            "400/400 [==============================] - 1s 3ms/step - loss: -41.4549 - accuracy: 0.1060 - val_loss: -49.6765 - val_accuracy: 0.0996\n",
            "Epoch 8/100\n",
            "400/400 [==============================] - 1s 3ms/step - loss: -57.3276 - accuracy: 0.1060 - val_loss: -67.1051 - val_accuracy: 0.0996\n",
            "Epoch 9/100\n",
            "400/400 [==============================] - 1s 3ms/step - loss: -76.0039 - accuracy: 0.1060 - val_loss: -87.7176 - val_accuracy: 0.0996\n",
            "Epoch 10/100\n",
            "400/400 [==============================] - 1s 3ms/step - loss: -97.9193 - accuracy: 0.1060 - val_loss: -111.8208 - val_accuracy: 0.0996\n",
            "Epoch 11/100\n",
            "400/400 [==============================] - 1s 3ms/step - loss: -123.6432 - accuracy: 0.1060 - val_loss: -139.6915 - val_accuracy: 0.0996\n",
            "Epoch 12/100\n",
            "400/400 [==============================] - 1s 3ms/step - loss: -153.2992 - accuracy: 0.1060 - val_loss: -171.4130 - val_accuracy: 0.0996\n",
            "Epoch 13/100\n",
            "400/400 [==============================] - 1s 3ms/step - loss: -186.0740 - accuracy: 0.1060 - val_loss: -207.0531 - val_accuracy: 0.0996\n",
            "Epoch 14/100\n",
            "400/400 [==============================] - 1s 3ms/step - loss: -223.8750 - accuracy: 0.1060 - val_loss: -246.8258 - val_accuracy: 0.0996\n",
            "Epoch 15/100\n",
            "400/400 [==============================] - 1s 3ms/step - loss: -265.1400 - accuracy: 0.1060 - val_loss: -290.9254 - val_accuracy: 0.0996\n",
            "Epoch 16/100\n",
            "400/400 [==============================] - 1s 3ms/step - loss: -310.1175 - accuracy: 0.1060 - val_loss: -339.3130 - val_accuracy: 0.0996\n",
            "Epoch 17/100\n",
            "400/400 [==============================] - 1s 3ms/step - loss: -361.7231 - accuracy: 0.1060 - val_loss: -392.4193 - val_accuracy: 0.0996\n",
            "Epoch 18/100\n",
            "400/400 [==============================] - 1s 3ms/step - loss: -415.5728 - accuracy: 0.1060 - val_loss: -450.0949 - val_accuracy: 0.0996\n",
            "Epoch 19/100\n",
            "400/400 [==============================] - 2s 4ms/step - loss: -474.4818 - accuracy: 0.1060 - val_loss: -512.6359 - val_accuracy: 0.0996\n",
            "Epoch 20/100\n",
            "400/400 [==============================] - 1s 4ms/step - loss: -538.6912 - accuracy: 0.1060 - val_loss: -580.1916 - val_accuracy: 0.0996\n",
            "Epoch 21/100\n",
            "400/400 [==============================] - 1s 3ms/step - loss: -606.9636 - accuracy: 0.1060 - val_loss: -652.8127 - val_accuracy: 0.0996\n",
            "Epoch 22/100\n",
            "400/400 [==============================] - 1s 3ms/step - loss: -681.5524 - accuracy: 0.1060 - val_loss: -730.7982 - val_accuracy: 0.0996\n",
            "Epoch 23/100\n",
            "400/400 [==============================] - 1s 3ms/step - loss: -762.4061 - accuracy: 0.1060 - val_loss: -814.4883 - val_accuracy: 0.0996\n",
            "Epoch 24/100\n",
            "400/400 [==============================] - 1s 3ms/step - loss: -848.2793 - accuracy: 0.1060 - val_loss: -903.6108 - val_accuracy: 0.0996\n",
            "Epoch 25/100\n",
            "400/400 [==============================] - 1s 3ms/step - loss: -938.6590 - accuracy: 0.1060 - val_loss: -998.5377 - val_accuracy: 0.0996\n",
            "Epoch 26/100\n",
            "400/400 [==============================] - 1s 3ms/step - loss: -1036.4777 - accuracy: 0.1060 - val_loss: -1099.3063 - val_accuracy: 0.0996\n",
            "Epoch 27/100\n",
            "400/400 [==============================] - 1s 3ms/step - loss: -1137.5411 - accuracy: 0.1060 - val_loss: -1206.2360 - val_accuracy: 0.0996\n",
            "Epoch 28/100\n",
            "400/400 [==============================] - 1s 3ms/step - loss: -1245.6498 - accuracy: 0.1060 - val_loss: -1319.2515 - val_accuracy: 0.0996\n",
            "Epoch 29/100\n",
            "400/400 [==============================] - 1s 3ms/step - loss: -1363.1154 - accuracy: 0.1060 - val_loss: -1438.7789 - val_accuracy: 0.0996\n",
            "Epoch 30/100\n",
            "400/400 [==============================] - 1s 3ms/step - loss: -1483.7355 - accuracy: 0.1060 - val_loss: -1564.7871 - val_accuracy: 0.0996\n",
            "Epoch 31/100\n",
            "400/400 [==============================] - 1s 3ms/step - loss: -1610.8625 - accuracy: 0.1060 - val_loss: -1697.2548 - val_accuracy: 0.0996\n",
            "Epoch 32/100\n",
            "400/400 [==============================] - 1s 3ms/step - loss: -1745.6602 - accuracy: 0.1060 - val_loss: -1836.5645 - val_accuracy: 0.0996\n",
            "Epoch 33/100\n",
            "400/400 [==============================] - 1s 3ms/step - loss: -1884.0836 - accuracy: 0.1060 - val_loss: -1982.7080 - val_accuracy: 0.0996\n",
            "Epoch 34/100\n",
            "400/400 [==============================] - 1s 3ms/step - loss: -2033.9854 - accuracy: 0.1060 - val_loss: -2136.2258 - val_accuracy: 0.0996\n",
            "Epoch 35/100\n",
            "400/400 [==============================] - 1s 3ms/step - loss: -2192.7639 - accuracy: 0.1060 - val_loss: -2297.2202 - val_accuracy: 0.0996\n",
            "Epoch 36/100\n",
            "400/400 [==============================] - 1s 3ms/step - loss: -2349.4929 - accuracy: 0.1060 - val_loss: -2465.1841 - val_accuracy: 0.0996\n",
            "Epoch 37/100\n",
            "400/400 [==============================] - 1s 3ms/step - loss: -2518.2075 - accuracy: 0.1060 - val_loss: -2640.5723 - val_accuracy: 0.0996\n",
            "Epoch 38/100\n",
            "400/400 [==============================] - 1s 3ms/step - loss: -2694.7336 - accuracy: 0.1060 - val_loss: -2824.0061 - val_accuracy: 0.0996\n",
            "Epoch 39/100\n",
            "400/400 [==============================] - 1s 3ms/step - loss: -2889.4431 - accuracy: 0.1060 - val_loss: -3017.7993 - val_accuracy: 0.0996\n",
            "Epoch 40/100\n",
            "400/400 [==============================] - 1s 3ms/step - loss: -3077.5098 - accuracy: 0.1060 - val_loss: -3222.0452 - val_accuracy: 0.0996\n",
            "Epoch 41/100\n",
            "400/400 [==============================] - 1s 3ms/step - loss: -3292.9451 - accuracy: 0.1060 - val_loss: -3437.1636 - val_accuracy: 0.0996\n",
            "Epoch 42/100\n",
            "400/400 [==============================] - 1s 3ms/step - loss: -3509.9507 - accuracy: 0.1060 - val_loss: -3661.3999 - val_accuracy: 0.0996\n",
            "Epoch 43/100\n",
            "400/400 [==============================] - 1s 3ms/step - loss: -3739.0215 - accuracy: 0.1060 - val_loss: -3895.2129 - val_accuracy: 0.0996\n",
            "Epoch 44/100\n",
            "400/400 [==============================] - 1s 3ms/step - loss: -3971.6611 - accuracy: 0.1060 - val_loss: -4138.0835 - val_accuracy: 0.0996\n",
            "Epoch 45/100\n",
            "400/400 [==============================] - 1s 3ms/step - loss: -4209.8218 - accuracy: 0.1060 - val_loss: -4390.3223 - val_accuracy: 0.0996\n",
            "Epoch 46/100\n",
            "400/400 [==============================] - 1s 3ms/step - loss: -4470.6162 - accuracy: 0.1060 - val_loss: -4652.8525 - val_accuracy: 0.0996\n",
            "Epoch 47/100\n",
            "400/400 [==============================] - 1s 3ms/step - loss: -4737.8340 - accuracy: 0.1060 - val_loss: -4925.2622 - val_accuracy: 0.0996\n",
            "Epoch 48/100\n",
            "400/400 [==============================] - 1s 3ms/step - loss: -5007.8931 - accuracy: 0.1060 - val_loss: -5207.6567 - val_accuracy: 0.0996\n",
            "Epoch 49/100\n",
            "400/400 [==============================] - 1s 3ms/step - loss: -5285.4639 - accuracy: 0.1060 - val_loss: -5500.4214 - val_accuracy: 0.0996\n",
            "Epoch 50/100\n",
            "400/400 [==============================] - 1s 3ms/step - loss: -5583.0684 - accuracy: 0.1060 - val_loss: -5804.1406 - val_accuracy: 0.0996\n",
            "Epoch 51/100\n",
            "400/400 [==============================] - 1s 3ms/step - loss: -5874.8291 - accuracy: 0.1060 - val_loss: -6117.2153 - val_accuracy: 0.0996\n",
            "Epoch 52/100\n",
            "400/400 [==============================] - 1s 3ms/step - loss: -6227.1060 - accuracy: 0.1060 - val_loss: -6443.7222 - val_accuracy: 0.0996\n",
            "Epoch 53/100\n",
            "400/400 [==============================] - 1s 3ms/step - loss: -6545.9971 - accuracy: 0.1060 - val_loss: -6780.5640 - val_accuracy: 0.0996\n",
            "Epoch 54/100\n",
            "400/400 [==============================] - 1s 3ms/step - loss: -6857.2505 - accuracy: 0.1060 - val_loss: -7127.3071 - val_accuracy: 0.0996\n",
            "Epoch 55/100\n",
            "400/400 [==============================] - 1s 3ms/step - loss: -7222.4150 - accuracy: 0.1060 - val_loss: -7486.2505 - val_accuracy: 0.0996\n",
            "Epoch 56/100\n",
            "400/400 [==============================] - 1s 3ms/step - loss: -7580.5454 - accuracy: 0.1060 - val_loss: -7856.6855 - val_accuracy: 0.0996\n",
            "Epoch 57/100\n",
            "400/400 [==============================] - 1s 3ms/step - loss: -7976.9170 - accuracy: 0.1060 - val_loss: -8240.1436 - val_accuracy: 0.0996\n",
            "Epoch 58/100\n",
            "400/400 [==============================] - 1s 3ms/step - loss: -8330.8223 - accuracy: 0.1060 - val_loss: -8633.7402 - val_accuracy: 0.0996\n",
            "Epoch 59/100\n",
            "400/400 [==============================] - 1s 3ms/step - loss: -8738.4980 - accuracy: 0.1060 - val_loss: -9040.6602 - val_accuracy: 0.0996\n",
            "Epoch 60/100\n",
            "400/400 [==============================] - 1s 3ms/step - loss: -9150.2412 - accuracy: 0.1060 - val_loss: -9459.9248 - val_accuracy: 0.0996\n",
            "Epoch 61/100\n",
            "400/400 [==============================] - 1s 3ms/step - loss: -9583.2891 - accuracy: 0.1060 - val_loss: -9892.5488 - val_accuracy: 0.0996\n",
            "Epoch 62/100\n",
            "400/400 [==============================] - 1s 3ms/step - loss: -10011.7188 - accuracy: 0.1060 - val_loss: -10336.7139 - val_accuracy: 0.0996\n",
            "Epoch 63/100\n",
            "400/400 [==============================] - 1s 3ms/step - loss: -10453.8115 - accuracy: 0.1060 - val_loss: -10793.6465 - val_accuracy: 0.0996\n",
            "Epoch 64/100\n",
            "400/400 [==============================] - 1s 3ms/step - loss: -10911.4307 - accuracy: 0.1060 - val_loss: -11264.0381 - val_accuracy: 0.0996\n",
            "Epoch 65/100\n",
            "400/400 [==============================] - 1s 3ms/step - loss: -11346.9258 - accuracy: 0.1060 - val_loss: -11746.1660 - val_accuracy: 0.0996\n",
            "Epoch 66/100\n",
            "400/400 [==============================] - 1s 3ms/step - loss: -11854.8057 - accuracy: 0.1060 - val_loss: -12242.8604 - val_accuracy: 0.0996\n",
            "Epoch 67/100\n",
            "400/400 [==============================] - 1s 3ms/step - loss: -12368.2734 - accuracy: 0.1060 - val_loss: -12753.2012 - val_accuracy: 0.0996\n",
            "Epoch 68/100\n",
            "400/400 [==============================] - 1s 3ms/step - loss: -12873.3330 - accuracy: 0.1060 - val_loss: -13277.9805 - val_accuracy: 0.0996\n",
            "Epoch 69/100\n",
            "400/400 [==============================] - 2s 4ms/step - loss: -13403.9951 - accuracy: 0.1060 - val_loss: -13815.8340 - val_accuracy: 0.0996\n",
            "Epoch 70/100\n",
            "400/400 [==============================] - 2s 4ms/step - loss: -13948.7148 - accuracy: 0.1060 - val_loss: -14367.6211 - val_accuracy: 0.0996\n",
            "Epoch 71/100\n",
            "400/400 [==============================] - 2s 5ms/step - loss: -14476.6670 - accuracy: 0.1060 - val_loss: -14933.6084 - val_accuracy: 0.0996\n",
            "Epoch 72/100\n",
            "400/400 [==============================] - 2s 5ms/step - loss: -15085.8604 - accuracy: 0.1060 - val_loss: -15515.0127 - val_accuracy: 0.0996\n",
            "Epoch 73/100\n",
            "400/400 [==============================] - 2s 4ms/step - loss: -15645.0625 - accuracy: 0.1060 - val_loss: -16110.4814 - val_accuracy: 0.0996\n",
            "Epoch 74/100\n",
            "400/400 [==============================] - 2s 6ms/step - loss: -16246.8428 - accuracy: 0.1060 - val_loss: -16720.8438 - val_accuracy: 0.0996\n",
            "Epoch 75/100\n",
            "400/400 [==============================] - 2s 4ms/step - loss: -16844.5020 - accuracy: 0.1060 - val_loss: -17345.4043 - val_accuracy: 0.0996\n",
            "Epoch 76/100\n",
            "400/400 [==============================] - 2s 4ms/step - loss: -17466.2285 - accuracy: 0.1060 - val_loss: -17985.0273 - val_accuracy: 0.0996\n",
            "Epoch 77/100\n",
            "400/400 [==============================] - 2s 5ms/step - loss: -18107.4551 - accuracy: 0.1060 - val_loss: -18640.6309 - val_accuracy: 0.0996\n",
            "Epoch 78/100\n",
            "400/400 [==============================] - 1s 3ms/step - loss: -18807.1406 - accuracy: 0.1060 - val_loss: -19312.6738 - val_accuracy: 0.0996\n",
            "Epoch 79/100\n",
            "400/400 [==============================] - 1s 3ms/step - loss: -19476.6055 - accuracy: 0.1060 - val_loss: -19999.5156 - val_accuracy: 0.0996\n",
            "Epoch 80/100\n",
            "400/400 [==============================] - 1s 3ms/step - loss: -20151.3242 - accuracy: 0.1060 - val_loss: -20701.3457 - val_accuracy: 0.0996\n",
            "Epoch 81/100\n",
            "400/400 [==============================] - 1s 3ms/step - loss: -20850.3379 - accuracy: 0.1060 - val_loss: -21420.1406 - val_accuracy: 0.0996\n",
            "Epoch 82/100\n",
            "400/400 [==============================] - 1s 3ms/step - loss: -21574.9688 - accuracy: 0.1060 - val_loss: -22154.4980 - val_accuracy: 0.0996\n",
            "Epoch 83/100\n",
            "400/400 [==============================] - 1s 3ms/step - loss: -22279.3945 - accuracy: 0.1060 - val_loss: -22905.1094 - val_accuracy: 0.0996\n",
            "Epoch 84/100\n",
            "400/400 [==============================] - 1s 3ms/step - loss: -23044.1367 - accuracy: 0.1060 - val_loss: -23670.6387 - val_accuracy: 0.0996\n",
            "Epoch 85/100\n",
            "400/400 [==============================] - 2s 6ms/step - loss: -23843.9336 - accuracy: 0.1060 - val_loss: -24455.4355 - val_accuracy: 0.0996\n",
            "Epoch 86/100\n",
            "400/400 [==============================] - 2s 4ms/step - loss: -24619.1484 - accuracy: 0.1060 - val_loss: -25255.4824 - val_accuracy: 0.0996\n",
            "Epoch 87/100\n",
            "400/400 [==============================] - 2s 5ms/step - loss: -25448.2715 - accuracy: 0.1060 - val_loss: -26074.2129 - val_accuracy: 0.0996\n",
            "Epoch 88/100\n",
            "400/400 [==============================] - 1s 3ms/step - loss: -26192.9941 - accuracy: 0.1060 - val_loss: -26906.3770 - val_accuracy: 0.0996\n",
            "Epoch 89/100\n",
            "400/400 [==============================] - 1s 3ms/step - loss: -27061.3770 - accuracy: 0.1060 - val_loss: -27758.0996 - val_accuracy: 0.0996\n",
            "Epoch 90/100\n",
            "400/400 [==============================] - 1s 3ms/step - loss: -27848.6152 - accuracy: 0.1060 - val_loss: -28625.6289 - val_accuracy: 0.0996\n",
            "Epoch 91/100\n",
            "400/400 [==============================] - 1s 3ms/step - loss: -28739.9609 - accuracy: 0.1060 - val_loss: -29512.0859 - val_accuracy: 0.0996\n",
            "Epoch 92/100\n",
            "400/400 [==============================] - 1s 3ms/step - loss: -29680.8574 - accuracy: 0.1060 - val_loss: -30418.1016 - val_accuracy: 0.0996\n",
            "Epoch 93/100\n",
            "400/400 [==============================] - 1s 3ms/step - loss: -30548.6875 - accuracy: 0.1060 - val_loss: -31340.2793 - val_accuracy: 0.0996\n",
            "Epoch 94/100\n",
            "400/400 [==============================] - 1s 3ms/step - loss: -31468.0352 - accuracy: 0.1060 - val_loss: -32281.1582 - val_accuracy: 0.0996\n",
            "Epoch 95/100\n",
            "400/400 [==============================] - 1s 3ms/step - loss: -32409.9609 - accuracy: 0.1060 - val_loss: -33240.7656 - val_accuracy: 0.0996\n",
            "Epoch 96/100\n",
            "400/400 [==============================] - 1s 3ms/step - loss: -33362.4492 - accuracy: 0.1060 - val_loss: -34218.4102 - val_accuracy: 0.0996\n",
            "Epoch 97/100\n",
            "400/400 [==============================] - 1s 3ms/step - loss: -34312.1523 - accuracy: 0.1060 - val_loss: -35213.4062 - val_accuracy: 0.0996\n",
            "Epoch 98/100\n",
            "400/400 [==============================] - 1s 3ms/step - loss: -35378.9766 - accuracy: 0.1060 - val_loss: -36229.8398 - val_accuracy: 0.0996\n",
            "Epoch 99/100\n",
            "400/400 [==============================] - 1s 3ms/step - loss: -36464.5273 - accuracy: 0.1060 - val_loss: -37265.6602 - val_accuracy: 0.0996\n",
            "Epoch 100/100\n",
            "400/400 [==============================] - 1s 3ms/step - loss: -37483.4961 - accuracy: 0.1060 - val_loss: -38321.1211 - val_accuracy: 0.0996\n"
          ]
        }
      ]
    },
    {
      "cell_type": "code",
      "source": [],
      "metadata": {
        "id": "WposjaYzmmRM"
      },
      "execution_count": 55,
      "outputs": []
    },
    {
      "cell_type": "markdown",
      "source": [
        "Among all the models, deep learning is the worst, "
      ],
      "metadata": {
        "id": "hxezlYdbBLLV"
      }
    }
  ]
}