{
  "nbformat": 4,
  "nbformat_minor": 0,
  "metadata": {
    "colab": {
      "provenance": [],
      "authorship_tag": "ABX9TyM1+9kEBvNVDt4Tu4pFHp/f",
      "include_colab_link": true
    },
    "kernelspec": {
      "name": "python3",
      "display_name": "Python 3"
    },
    "language_info": {
      "name": "python"
    },
    "accelerator": "GPU"
  },
  "cells": [
    {
      "cell_type": "markdown",
      "metadata": {
        "id": "view-in-github",
        "colab_type": "text"
      },
      "source": [
        "<a href=\"https://colab.research.google.com/github/satishgc227/Derby-project/blob/main/Logistic_Regression%2CXGB%2CRandom_Forest%2CNaive_bayes%2CSVC%2CDeep_learning.ipynb\" target=\"_parent\"><img src=\"https://colab.research.google.com/assets/colab-badge.svg\" alt=\"Open In Colab\"/></a>"
      ]
    },
    {
      "cell_type": "code",
      "execution_count": 1,
      "metadata": {
        "id": "A1v_eD7aYOG9"
      },
      "outputs": [],
      "source": [
        "\n",
        "\n",
        "# Imports\n",
        "import pandas as pd\n",
        "import numpy as np\n",
        "import matplotlib.pyplot as plt\n",
        "from sklearn.cluster import KMeans\n",
        "from sklearn.decomposition import PCA\n",
        "from sklearn.preprocessing import StandardScaler\n",
        "from sklearn.preprocessing import OneHotEncoder\n",
        "from sklearn.model_selection import train_test_split\n",
        "from sklearn.metrics import classification_report, confusion_matrix, accuracy_score\n",
        "\n",
        "from sklearn import model_selection\n",
        "from sklearn import linear_model\n",
        "from sklearn import metrics\n",
        "from sklearn.decomposition import PCA\n",
        "\n",
        "from sklearn.svm import SVC\n",
        "import xgboost as xgb\n",
        "from xgboost import XGBClassifier\n",
        "from sklearn.ensemble import RandomForestClassifier\n",
        "import time\n",
        "\n",
        "from sklearn.preprocessing import MaxAbsScaler\n",
        "from sklearn.naive_bayes import GaussianNB\n",
        "\n",
        "from sklearn.neighbors import KNeighborsClassifier\n",
        "\n",
        "import tensorflow\n",
        "from tensorflow import keras\n",
        "from tensorflow.keras import Sequential\n",
        "from tensorflow.keras.callbacks import EarlyStopping\n",
        "from tensorflow.keras.layers import Dense, Dropout\n",
        "\n"
      ]
    },
    {
      "cell_type": "code",
      "source": [
        "# Load in the data\n",
        "df = pd.read_csv('/content/edited complete.csv',encoding='latin',nrows=100000)\n"
      ],
      "metadata": {
        "colab": {
          "base_uri": "https://localhost:8080/"
        },
        "id": "t0rcM5AEv-NK",
        "outputId": "f9552cf4-630d-4576-8380-fb8983c67e9a"
      },
      "execution_count": 2,
      "outputs": [
        {
          "output_type": "stream",
          "name": "stderr",
          "text": [
            "/usr/local/lib/python3.7/dist-packages/IPython/core/interactiveshell.py:3326: DtypeWarning: Columns (3) have mixed types.Specify dtype option on import or set low_memory=False.\n",
            "  exec(code_obj, self.user_global_ns, self.user_ns)\n"
          ]
        }
      ]
    },
    {
      "cell_type": "markdown",
      "source": [
        "One hot encoding:"
      ],
      "metadata": {
        "id": "RWFCWOc8wOZN"
      }
    },
    {
      "cell_type": "code",
      "source": [
        "#Unique values of the columns\n",
        "df['race_type\\xa0'].unique()\n",
        "df['course_type'].unique()\n",
        "df['track_condition\\xa0'].unique()\n",
        "df['track_id'].unique()\n"
      ],
      "metadata": {
        "colab": {
          "base_uri": "https://localhost:8080/"
        },
        "id": "83NWz2uBv-Ve",
        "outputId": "2d8a5630-d1ee-47d1-e4a2-58951f5e8aa3"
      },
      "execution_count": 3,
      "outputs": [
        {
          "output_type": "execute_result",
          "data": {
            "text/plain": [
              "array(['AQU', 'BEL', 'SAR'], dtype=object)"
            ]
          },
          "metadata": {},
          "execution_count": 3
        }
      ]
    },
    {
      "cell_type": "code",
      "source": [
        "s=df[['race_type\\xa0','course_type','track_condition\\xa0','track_id']]"
      ],
      "metadata": {
        "id": "QX8Kg6lbv-aK"
      },
      "execution_count": 4,
      "outputs": []
    },
    {
      "cell_type": "code",
      "source": [
        "ohe=OneHotEncoder()\n",
        "feature_array=ohe.fit_transform(df[['race_type\\xa0','course_type','track_condition\\xa0','track_id']]).toarray()"
      ],
      "metadata": {
        "id": "9urfe30Mv-dP"
      },
      "execution_count": 5,
      "outputs": []
    },
    {
      "cell_type": "code",
      "source": [
        "feature_labels=ohe.categories_\n",
        "print(feature_labels)"
      ],
      "metadata": {
        "colab": {
          "base_uri": "https://localhost:8080/"
        },
        "id": "J-ZGwcSSv-go",
        "outputId": "37d15878-4338-4d5d-af74-78dd55509e21"
      },
      "execution_count": 6,
      "outputs": [
        {
          "output_type": "stream",
          "name": "stdout",
          "text": [
            "[array(['ALW', 'AOC', 'CLM', 'SST', 'STK', nan], dtype=object), array(['D', 'I', 'M', 'O', 'T', nan], dtype=object), array(['FM ', 'FT ', 'GD ', 'MY ', 'SY ', 'YL ', nan], dtype=object), array(['AQU', 'BEL', 'SAR'], dtype=object)]\n"
          ]
        }
      ]
    },
    {
      "cell_type": "code",
      "source": [
        "np.hstack(feature_labels)"
      ],
      "metadata": {
        "colab": {
          "base_uri": "https://localhost:8080/"
        },
        "id": "JOQ3CR70v-lj",
        "outputId": "64efb10c-6099-4cae-8b45-5d5c4155740b"
      },
      "execution_count": 7,
      "outputs": [
        {
          "output_type": "execute_result",
          "data": {
            "text/plain": [
              "array(['ALW', 'AOC', 'CLM', 'SST', 'STK', nan, 'D', 'I', 'M', 'O', 'T',\n",
              "       nan, 'FM ', 'FT ', 'GD ', 'MY ', 'SY ', 'YL ', nan, 'AQU', 'BEL',\n",
              "       'SAR'], dtype=object)"
            ]
          },
          "metadata": {},
          "execution_count": 7
        }
      ]
    },
    {
      "cell_type": "code",
      "source": [
        "feature_labels=np.hstack(feature_labels)\n",
        "f=pd.DataFrame(feature_array,columns=feature_labels)\n",
        "pd.concat([df,f],axis=1)"
      ],
      "metadata": {
        "colab": {
          "base_uri": "https://localhost:8080/",
          "height": 661
        },
        "id": "d_e4X0hjv-n7",
        "outputId": "ce247fe9-79d1-4c2e-d6e4-fcd0269a3d97"
      },
      "execution_count": 8,
      "outputs": [
        {
          "output_type": "execute_result",
          "data": {
            "text/plain": [
              "      track_id   race_date  race_number  program_number   trakus_index   \\\n",
              "0          AQU  01-01-2019             9               6             73   \n",
              "1          AQU  01-01-2019             9               6             74   \n",
              "2          AQU  01-01-2019             9               6             63   \n",
              "3          AQU  01-01-2019             9               6             64   \n",
              "4          AQU  01-01-2019             9               6             65   \n",
              "...        ...         ...           ...             ...            ...   \n",
              "40923      AQU  05-01-2019             5               3             29   \n",
              "40924      AQU  05-01-2019             5               3            198   \n",
              "40925      AQU  05-01-2019             5               3            199   \n",
              "40926      AQU  05-01-2019             5               3            200   \n",
              "40927      AQU  05-01-2019             5               3             21   \n",
              "\n",
              "       latitude   longitude   distance_id  course_type track_condition   ...  \\\n",
              "0      40.672946  -73.827587         600.0           D              GD   ...   \n",
              "1      40.672990  -73.827568         600.0           D              GD   ...   \n",
              "2      40.672510  -73.827781         600.0           D              GD   ...   \n",
              "3      40.672553  -73.827762         600.0           D              GD   ...   \n",
              "4      40.672596  -73.827742         600.0           D              GD   ...   \n",
              "...          ...         ...           ...         ...              ...  ...   \n",
              "40923  40.670348  -73.828764         650.0           D              SY   ...   \n",
              "40924  40.674965  -73.830345         650.0           D              SY   ...   \n",
              "40925  40.674929  -73.830370         650.0           D              SY   ...   \n",
              "40926  40.674894  -73.830394         650.0           D              SY   ...   \n",
              "40927  40.670016  -73.828911           NaN         NaN              NaN  ...   \n",
              "\n",
              "       FM   FT   GD   MY   SY   YL   NaN  AQU  BEL  SAR  \n",
              "0      0.0  0.0  1.0  0.0  0.0  0.0  0.0  1.0  0.0  0.0  \n",
              "1      0.0  0.0  1.0  0.0  0.0  0.0  0.0  1.0  0.0  0.0  \n",
              "2      0.0  0.0  1.0  0.0  0.0  0.0  0.0  1.0  0.0  0.0  \n",
              "3      0.0  0.0  1.0  0.0  0.0  0.0  0.0  1.0  0.0  0.0  \n",
              "4      0.0  0.0  1.0  0.0  0.0  0.0  0.0  1.0  0.0  0.0  \n",
              "...    ...  ...  ...  ...  ...  ...  ...  ...  ...  ...  \n",
              "40923  0.0  0.0  0.0  0.0  1.0  0.0  0.0  1.0  0.0  0.0  \n",
              "40924  0.0  0.0  0.0  0.0  1.0  0.0  0.0  1.0  0.0  0.0  \n",
              "40925  0.0  0.0  0.0  0.0  1.0  0.0  0.0  1.0  0.0  0.0  \n",
              "40926  0.0  0.0  0.0  0.0  1.0  0.0  0.0  1.0  0.0  0.0  \n",
              "40927  0.0  0.0  0.0  0.0  0.0  0.0  1.0  1.0  0.0  0.0  \n",
              "\n",
              "[40928 rows x 40 columns]"
            ],
            "text/html": [
              "\n",
              "  <div id=\"df-5676dc46-85d7-43e5-b315-2cf173153fc8\">\n",
              "    <div class=\"colab-df-container\">\n",
              "      <div>\n",
              "<style scoped>\n",
              "    .dataframe tbody tr th:only-of-type {\n",
              "        vertical-align: middle;\n",
              "    }\n",
              "\n",
              "    .dataframe tbody tr th {\n",
              "        vertical-align: top;\n",
              "    }\n",
              "\n",
              "    .dataframe thead th {\n",
              "        text-align: right;\n",
              "    }\n",
              "</style>\n",
              "<table border=\"1\" class=\"dataframe\">\n",
              "  <thead>\n",
              "    <tr style=\"text-align: right;\">\n",
              "      <th></th>\n",
              "      <th>track_id</th>\n",
              "      <th>race_date</th>\n",
              "      <th>race_number</th>\n",
              "      <th>program_number</th>\n",
              "      <th>trakus_index</th>\n",
              "      <th>latitude</th>\n",
              "      <th>longitude</th>\n",
              "      <th>distance_id</th>\n",
              "      <th>course_type</th>\n",
              "      <th>track_condition</th>\n",
              "      <th>...</th>\n",
              "      <th>FM</th>\n",
              "      <th>FT</th>\n",
              "      <th>GD</th>\n",
              "      <th>MY</th>\n",
              "      <th>SY</th>\n",
              "      <th>YL</th>\n",
              "      <th>NaN</th>\n",
              "      <th>AQU</th>\n",
              "      <th>BEL</th>\n",
              "      <th>SAR</th>\n",
              "    </tr>\n",
              "  </thead>\n",
              "  <tbody>\n",
              "    <tr>\n",
              "      <th>0</th>\n",
              "      <td>AQU</td>\n",
              "      <td>01-01-2019</td>\n",
              "      <td>9</td>\n",
              "      <td>6</td>\n",
              "      <td>73</td>\n",
              "      <td>40.672946</td>\n",
              "      <td>-73.827587</td>\n",
              "      <td>600.0</td>\n",
              "      <td>D</td>\n",
              "      <td>GD</td>\n",
              "      <td>...</td>\n",
              "      <td>0.0</td>\n",
              "      <td>0.0</td>\n",
              "      <td>1.0</td>\n",
              "      <td>0.0</td>\n",
              "      <td>0.0</td>\n",
              "      <td>0.0</td>\n",
              "      <td>0.0</td>\n",
              "      <td>1.0</td>\n",
              "      <td>0.0</td>\n",
              "      <td>0.0</td>\n",
              "    </tr>\n",
              "    <tr>\n",
              "      <th>1</th>\n",
              "      <td>AQU</td>\n",
              "      <td>01-01-2019</td>\n",
              "      <td>9</td>\n",
              "      <td>6</td>\n",
              "      <td>74</td>\n",
              "      <td>40.672990</td>\n",
              "      <td>-73.827568</td>\n",
              "      <td>600.0</td>\n",
              "      <td>D</td>\n",
              "      <td>GD</td>\n",
              "      <td>...</td>\n",
              "      <td>0.0</td>\n",
              "      <td>0.0</td>\n",
              "      <td>1.0</td>\n",
              "      <td>0.0</td>\n",
              "      <td>0.0</td>\n",
              "      <td>0.0</td>\n",
              "      <td>0.0</td>\n",
              "      <td>1.0</td>\n",
              "      <td>0.0</td>\n",
              "      <td>0.0</td>\n",
              "    </tr>\n",
              "    <tr>\n",
              "      <th>2</th>\n",
              "      <td>AQU</td>\n",
              "      <td>01-01-2019</td>\n",
              "      <td>9</td>\n",
              "      <td>6</td>\n",
              "      <td>63</td>\n",
              "      <td>40.672510</td>\n",
              "      <td>-73.827781</td>\n",
              "      <td>600.0</td>\n",
              "      <td>D</td>\n",
              "      <td>GD</td>\n",
              "      <td>...</td>\n",
              "      <td>0.0</td>\n",
              "      <td>0.0</td>\n",
              "      <td>1.0</td>\n",
              "      <td>0.0</td>\n",
              "      <td>0.0</td>\n",
              "      <td>0.0</td>\n",
              "      <td>0.0</td>\n",
              "      <td>1.0</td>\n",
              "      <td>0.0</td>\n",
              "      <td>0.0</td>\n",
              "    </tr>\n",
              "    <tr>\n",
              "      <th>3</th>\n",
              "      <td>AQU</td>\n",
              "      <td>01-01-2019</td>\n",
              "      <td>9</td>\n",
              "      <td>6</td>\n",
              "      <td>64</td>\n",
              "      <td>40.672553</td>\n",
              "      <td>-73.827762</td>\n",
              "      <td>600.0</td>\n",
              "      <td>D</td>\n",
              "      <td>GD</td>\n",
              "      <td>...</td>\n",
              "      <td>0.0</td>\n",
              "      <td>0.0</td>\n",
              "      <td>1.0</td>\n",
              "      <td>0.0</td>\n",
              "      <td>0.0</td>\n",
              "      <td>0.0</td>\n",
              "      <td>0.0</td>\n",
              "      <td>1.0</td>\n",
              "      <td>0.0</td>\n",
              "      <td>0.0</td>\n",
              "    </tr>\n",
              "    <tr>\n",
              "      <th>4</th>\n",
              "      <td>AQU</td>\n",
              "      <td>01-01-2019</td>\n",
              "      <td>9</td>\n",
              "      <td>6</td>\n",
              "      <td>65</td>\n",
              "      <td>40.672596</td>\n",
              "      <td>-73.827742</td>\n",
              "      <td>600.0</td>\n",
              "      <td>D</td>\n",
              "      <td>GD</td>\n",
              "      <td>...</td>\n",
              "      <td>0.0</td>\n",
              "      <td>0.0</td>\n",
              "      <td>1.0</td>\n",
              "      <td>0.0</td>\n",
              "      <td>0.0</td>\n",
              "      <td>0.0</td>\n",
              "      <td>0.0</td>\n",
              "      <td>1.0</td>\n",
              "      <td>0.0</td>\n",
              "      <td>0.0</td>\n",
              "    </tr>\n",
              "    <tr>\n",
              "      <th>...</th>\n",
              "      <td>...</td>\n",
              "      <td>...</td>\n",
              "      <td>...</td>\n",
              "      <td>...</td>\n",
              "      <td>...</td>\n",
              "      <td>...</td>\n",
              "      <td>...</td>\n",
              "      <td>...</td>\n",
              "      <td>...</td>\n",
              "      <td>...</td>\n",
              "      <td>...</td>\n",
              "      <td>...</td>\n",
              "      <td>...</td>\n",
              "      <td>...</td>\n",
              "      <td>...</td>\n",
              "      <td>...</td>\n",
              "      <td>...</td>\n",
              "      <td>...</td>\n",
              "      <td>...</td>\n",
              "      <td>...</td>\n",
              "      <td>...</td>\n",
              "    </tr>\n",
              "    <tr>\n",
              "      <th>40923</th>\n",
              "      <td>AQU</td>\n",
              "      <td>05-01-2019</td>\n",
              "      <td>5</td>\n",
              "      <td>3</td>\n",
              "      <td>29</td>\n",
              "      <td>40.670348</td>\n",
              "      <td>-73.828764</td>\n",
              "      <td>650.0</td>\n",
              "      <td>D</td>\n",
              "      <td>SY</td>\n",
              "      <td>...</td>\n",
              "      <td>0.0</td>\n",
              "      <td>0.0</td>\n",
              "      <td>0.0</td>\n",
              "      <td>0.0</td>\n",
              "      <td>1.0</td>\n",
              "      <td>0.0</td>\n",
              "      <td>0.0</td>\n",
              "      <td>1.0</td>\n",
              "      <td>0.0</td>\n",
              "      <td>0.0</td>\n",
              "    </tr>\n",
              "    <tr>\n",
              "      <th>40924</th>\n",
              "      <td>AQU</td>\n",
              "      <td>05-01-2019</td>\n",
              "      <td>5</td>\n",
              "      <td>3</td>\n",
              "      <td>198</td>\n",
              "      <td>40.674965</td>\n",
              "      <td>-73.830345</td>\n",
              "      <td>650.0</td>\n",
              "      <td>D</td>\n",
              "      <td>SY</td>\n",
              "      <td>...</td>\n",
              "      <td>0.0</td>\n",
              "      <td>0.0</td>\n",
              "      <td>0.0</td>\n",
              "      <td>0.0</td>\n",
              "      <td>1.0</td>\n",
              "      <td>0.0</td>\n",
              "      <td>0.0</td>\n",
              "      <td>1.0</td>\n",
              "      <td>0.0</td>\n",
              "      <td>0.0</td>\n",
              "    </tr>\n",
              "    <tr>\n",
              "      <th>40925</th>\n",
              "      <td>AQU</td>\n",
              "      <td>05-01-2019</td>\n",
              "      <td>5</td>\n",
              "      <td>3</td>\n",
              "      <td>199</td>\n",
              "      <td>40.674929</td>\n",
              "      <td>-73.830370</td>\n",
              "      <td>650.0</td>\n",
              "      <td>D</td>\n",
              "      <td>SY</td>\n",
              "      <td>...</td>\n",
              "      <td>0.0</td>\n",
              "      <td>0.0</td>\n",
              "      <td>0.0</td>\n",
              "      <td>0.0</td>\n",
              "      <td>1.0</td>\n",
              "      <td>0.0</td>\n",
              "      <td>0.0</td>\n",
              "      <td>1.0</td>\n",
              "      <td>0.0</td>\n",
              "      <td>0.0</td>\n",
              "    </tr>\n",
              "    <tr>\n",
              "      <th>40926</th>\n",
              "      <td>AQU</td>\n",
              "      <td>05-01-2019</td>\n",
              "      <td>5</td>\n",
              "      <td>3</td>\n",
              "      <td>200</td>\n",
              "      <td>40.674894</td>\n",
              "      <td>-73.830394</td>\n",
              "      <td>650.0</td>\n",
              "      <td>D</td>\n",
              "      <td>SY</td>\n",
              "      <td>...</td>\n",
              "      <td>0.0</td>\n",
              "      <td>0.0</td>\n",
              "      <td>0.0</td>\n",
              "      <td>0.0</td>\n",
              "      <td>1.0</td>\n",
              "      <td>0.0</td>\n",
              "      <td>0.0</td>\n",
              "      <td>1.0</td>\n",
              "      <td>0.0</td>\n",
              "      <td>0.0</td>\n",
              "    </tr>\n",
              "    <tr>\n",
              "      <th>40927</th>\n",
              "      <td>AQU</td>\n",
              "      <td>05-01-2019</td>\n",
              "      <td>5</td>\n",
              "      <td>3</td>\n",
              "      <td>21</td>\n",
              "      <td>40.670016</td>\n",
              "      <td>-73.828911</td>\n",
              "      <td>NaN</td>\n",
              "      <td>NaN</td>\n",
              "      <td>NaN</td>\n",
              "      <td>...</td>\n",
              "      <td>0.0</td>\n",
              "      <td>0.0</td>\n",
              "      <td>0.0</td>\n",
              "      <td>0.0</td>\n",
              "      <td>0.0</td>\n",
              "      <td>0.0</td>\n",
              "      <td>1.0</td>\n",
              "      <td>1.0</td>\n",
              "      <td>0.0</td>\n",
              "      <td>0.0</td>\n",
              "    </tr>\n",
              "  </tbody>\n",
              "</table>\n",
              "<p>40928 rows × 40 columns</p>\n",
              "</div>\n",
              "      <button class=\"colab-df-convert\" onclick=\"convertToInteractive('df-5676dc46-85d7-43e5-b315-2cf173153fc8')\"\n",
              "              title=\"Convert this dataframe to an interactive table.\"\n",
              "              style=\"display:none;\">\n",
              "        \n",
              "  <svg xmlns=\"http://www.w3.org/2000/svg\" height=\"24px\"viewBox=\"0 0 24 24\"\n",
              "       width=\"24px\">\n",
              "    <path d=\"M0 0h24v24H0V0z\" fill=\"none\"/>\n",
              "    <path d=\"M18.56 5.44l.94 2.06.94-2.06 2.06-.94-2.06-.94-.94-2.06-.94 2.06-2.06.94zm-11 1L8.5 8.5l.94-2.06 2.06-.94-2.06-.94L8.5 2.5l-.94 2.06-2.06.94zm10 10l.94 2.06.94-2.06 2.06-.94-2.06-.94-.94-2.06-.94 2.06-2.06.94z\"/><path d=\"M17.41 7.96l-1.37-1.37c-.4-.4-.92-.59-1.43-.59-.52 0-1.04.2-1.43.59L10.3 9.45l-7.72 7.72c-.78.78-.78 2.05 0 2.83L4 21.41c.39.39.9.59 1.41.59.51 0 1.02-.2 1.41-.59l7.78-7.78 2.81-2.81c.8-.78.8-2.07 0-2.86zM5.41 20L4 18.59l7.72-7.72 1.47 1.35L5.41 20z\"/>\n",
              "  </svg>\n",
              "      </button>\n",
              "      \n",
              "  <style>\n",
              "    .colab-df-container {\n",
              "      display:flex;\n",
              "      flex-wrap:wrap;\n",
              "      gap: 12px;\n",
              "    }\n",
              "\n",
              "    .colab-df-convert {\n",
              "      background-color: #E8F0FE;\n",
              "      border: none;\n",
              "      border-radius: 50%;\n",
              "      cursor: pointer;\n",
              "      display: none;\n",
              "      fill: #1967D2;\n",
              "      height: 32px;\n",
              "      padding: 0 0 0 0;\n",
              "      width: 32px;\n",
              "    }\n",
              "\n",
              "    .colab-df-convert:hover {\n",
              "      background-color: #E2EBFA;\n",
              "      box-shadow: 0px 1px 2px rgba(60, 64, 67, 0.3), 0px 1px 3px 1px rgba(60, 64, 67, 0.15);\n",
              "      fill: #174EA6;\n",
              "    }\n",
              "\n",
              "    [theme=dark] .colab-df-convert {\n",
              "      background-color: #3B4455;\n",
              "      fill: #D2E3FC;\n",
              "    }\n",
              "\n",
              "    [theme=dark] .colab-df-convert:hover {\n",
              "      background-color: #434B5C;\n",
              "      box-shadow: 0px 1px 3px 1px rgba(0, 0, 0, 0.15);\n",
              "      filter: drop-shadow(0px 1px 2px rgba(0, 0, 0, 0.3));\n",
              "      fill: #FFFFFF;\n",
              "    }\n",
              "  </style>\n",
              "\n",
              "      <script>\n",
              "        const buttonEl =\n",
              "          document.querySelector('#df-5676dc46-85d7-43e5-b315-2cf173153fc8 button.colab-df-convert');\n",
              "        buttonEl.style.display =\n",
              "          google.colab.kernel.accessAllowed ? 'block' : 'none';\n",
              "\n",
              "        async function convertToInteractive(key) {\n",
              "          const element = document.querySelector('#df-5676dc46-85d7-43e5-b315-2cf173153fc8');\n",
              "          const dataTable =\n",
              "            await google.colab.kernel.invokeFunction('convertToInteractive',\n",
              "                                                     [key], {});\n",
              "          if (!dataTable) return;\n",
              "\n",
              "          const docLinkHtml = 'Like what you see? Visit the ' +\n",
              "            '<a target=\"_blank\" href=https://colab.research.google.com/notebooks/data_table.ipynb>data table notebook</a>'\n",
              "            + ' to learn more about interactive tables.';\n",
              "          element.innerHTML = '';\n",
              "          dataTable['output_type'] = 'display_data';\n",
              "          await google.colab.output.renderOutput(dataTable, element);\n",
              "          const docLink = document.createElement('div');\n",
              "          docLink.innerHTML = docLinkHtml;\n",
              "          element.appendChild(docLink);\n",
              "        }\n",
              "      </script>\n",
              "    </div>\n",
              "  </div>\n",
              "  "
            ]
          },
          "metadata": {},
          "execution_count": 8
        }
      ]
    },
    {
      "cell_type": "code",
      "source": [
        "\n",
        "df.drop(['race_date','track_id','course_type','track_condition\\xa0','race_type\\xa0','jockey\\xa0','program_number\\xa0'],axis=1,inplace=True)\n",
        "df=pd.concat([df,f],axis=1)"
      ],
      "metadata": {
        "id": "u6-pSiPBv-s9"
      },
      "execution_count": 9,
      "outputs": []
    },
    {
      "cell_type": "code",
      "source": [
        "df.isnull().any()\n"
      ],
      "metadata": {
        "colab": {
          "base_uri": "https://localhost:8080/"
        },
        "id": "NHBfx_6kv-v7",
        "outputId": "dc081d22-3761-4d2f-a71f-6f7058e31adf"
      },
      "execution_count": 10,
      "outputs": [
        {
          "output_type": "execute_result",
          "data": {
            "text/plain": [
              "race_number            False\n",
              "trakus_index           False\n",
              "latitude               False\n",
              "longitude              False\n",
              "distance_id             True\n",
              "run_up_distance         True\n",
              "purse                   True\n",
              "post_time               True\n",
              "weight_carried          True\n",
              "odds                    True\n",
              "position_at_finish      True\n",
              "ALW                    False\n",
              "AOC                    False\n",
              "CLM                    False\n",
              "SST                    False\n",
              "STK                    False\n",
              "NaN                    False\n",
              "D                      False\n",
              "I                      False\n",
              "M                      False\n",
              "O                      False\n",
              "T                      False\n",
              "NaN                    False\n",
              "FM                     False\n",
              "FT                     False\n",
              "GD                     False\n",
              "MY                     False\n",
              "SY                     False\n",
              "YL                     False\n",
              "NaN                    False\n",
              "AQU                    False\n",
              "BEL                    False\n",
              "SAR                    False\n",
              "dtype: bool"
            ]
          },
          "metadata": {},
          "execution_count": 10
        }
      ]
    },
    {
      "cell_type": "code",
      "source": [
        "#Removing the null values\n",
        "\n",
        "df.replace([np.inf,-np.inf],np.nan ,inplace=True)\n",
        "df.dropna(inplace=True)\n",
        "df.isnull().any()"
      ],
      "metadata": {
        "colab": {
          "base_uri": "https://localhost:8080/"
        },
        "id": "vLCm8J7Tv-za",
        "outputId": "3e8c3eb8-cd84-4b2c-ce03-a24b6aaaf001"
      },
      "execution_count": 11,
      "outputs": [
        {
          "output_type": "execute_result",
          "data": {
            "text/plain": [
              "race_number            False\n",
              "trakus_index           False\n",
              "latitude               False\n",
              "longitude              False\n",
              "distance_id            False\n",
              "run_up_distance        False\n",
              "purse                  False\n",
              "post_time              False\n",
              "weight_carried         False\n",
              "odds                   False\n",
              "position_at_finish     False\n",
              "ALW                    False\n",
              "AOC                    False\n",
              "CLM                    False\n",
              "SST                    False\n",
              "STK                    False\n",
              "NaN                    False\n",
              "D                      False\n",
              "I                      False\n",
              "M                      False\n",
              "O                      False\n",
              "T                      False\n",
              "NaN                    False\n",
              "FM                     False\n",
              "FT                     False\n",
              "GD                     False\n",
              "MY                     False\n",
              "SY                     False\n",
              "YL                     False\n",
              "NaN                    False\n",
              "AQU                    False\n",
              "BEL                    False\n",
              "SAR                    False\n",
              "dtype: bool"
            ]
          },
          "metadata": {},
          "execution_count": 11
        }
      ]
    },
    {
      "cell_type": "code",
      "source": [
        "!pip install movecolumn\n",
        "import movecolumn as mc\n",
        "mc.MoveToLast(df,'position_at_finish\\xa0')\n"
      ],
      "metadata": {
        "colab": {
          "base_uri": "https://localhost:8080/",
          "height": 661
        },
        "id": "8ubvhEhav-7R",
        "outputId": "90721bfe-7545-4eb4-f2aa-8ee7f44ecf94"
      },
      "execution_count": 12,
      "outputs": [
        {
          "output_type": "stream",
          "name": "stdout",
          "text": [
            "Looking in indexes: https://pypi.org/simple, https://us-python.pkg.dev/colab-wheels/public/simple/\n",
            "Collecting movecolumn\n",
            "  Downloading movecolumn-0.0.7.tar.gz (6.4 kB)\n",
            "Building wheels for collected packages: movecolumn\n",
            "  Building wheel for movecolumn (setup.py) ... \u001b[?25l\u001b[?25hdone\n",
            "  Created wheel for movecolumn: filename=movecolumn-0.0.7-py3-none-any.whl size=10440 sha256=18f1389178dc93ca17d07442ec66f652543999636a7738f87943d05bea9fe849\n",
            "  Stored in directory: /root/.cache/pip/wheels/4c/ad/b7/671cd4a6e1464bb816aea3bacdcc933acf25e3d47946a7edcf\n",
            "Successfully built movecolumn\n",
            "Installing collected packages: movecolumn\n",
            "Successfully installed movecolumn-0.0.7\n"
          ]
        },
        {
          "output_type": "execute_result",
          "data": {
            "text/plain": [
              "       race_number   trakus_index   latitude   longitude   distance_id   \\\n",
              "0                 9             73  40.672946  -73.827587         600.0   \n",
              "1                 9             74  40.672990  -73.827568         600.0   \n",
              "2                 9             63  40.672510  -73.827781         600.0   \n",
              "3                 9             64  40.672553  -73.827762         600.0   \n",
              "4                 9             65  40.672596  -73.827742         600.0   \n",
              "...             ...            ...        ...         ...           ...   \n",
              "40922             5             28  40.670306  -73.828783         650.0   \n",
              "40923             5             29  40.670348  -73.828764         650.0   \n",
              "40924             5            198  40.674965  -73.830345         650.0   \n",
              "40925             5            199  40.674929  -73.830370         650.0   \n",
              "40926             5            200  40.674894  -73.830394         650.0   \n",
              "\n",
              "       run_up_distance     purse  post_time   weight_carried     odds  ...  \\\n",
              "0                  48.0  25000.0       420.0            120.0  2090.0  ...   \n",
              "1                  48.0  25000.0       420.0            120.0  2090.0  ...   \n",
              "2                  48.0  25000.0       420.0            120.0  2090.0  ...   \n",
              "3                  48.0  25000.0       420.0            120.0  2090.0  ...   \n",
              "4                  48.0  25000.0       420.0            120.0  2090.0  ...   \n",
              "...                 ...      ...         ...              ...     ...  ...   \n",
              "40922              32.0  75000.0       226.0            119.0  1240.0  ...   \n",
              "40923              32.0  75000.0       226.0            119.0  1240.0  ...   \n",
              "40924              32.0  75000.0       226.0            119.0  1240.0  ...   \n",
              "40925              32.0  75000.0       226.0            119.0  1240.0  ...   \n",
              "40926              32.0  75000.0       226.0            119.0  1240.0  ...   \n",
              "\n",
              "       FT   GD   MY   SY   YL   NaN  AQU  BEL  SAR  position_at_finish   \n",
              "0      0.0  1.0  0.0  0.0  0.0  0.0  1.0  0.0  0.0                  8.0  \n",
              "1      0.0  1.0  0.0  0.0  0.0  0.0  1.0  0.0  0.0                  8.0  \n",
              "2      0.0  1.0  0.0  0.0  0.0  0.0  1.0  0.0  0.0                  8.0  \n",
              "3      0.0  1.0  0.0  0.0  0.0  0.0  1.0  0.0  0.0                  8.0  \n",
              "4      0.0  1.0  0.0  0.0  0.0  0.0  1.0  0.0  0.0                  8.0  \n",
              "...    ...  ...  ...  ...  ...  ...  ...  ...  ...                  ...  \n",
              "40922  0.0  0.0  0.0  1.0  0.0  0.0  1.0  0.0  0.0                  6.0  \n",
              "40923  0.0  0.0  0.0  1.0  0.0  0.0  1.0  0.0  0.0                  6.0  \n",
              "40924  0.0  0.0  0.0  1.0  0.0  0.0  1.0  0.0  0.0                  6.0  \n",
              "40925  0.0  0.0  0.0  1.0  0.0  0.0  1.0  0.0  0.0                  6.0  \n",
              "40926  0.0  0.0  0.0  1.0  0.0  0.0  1.0  0.0  0.0                  6.0  \n",
              "\n",
              "[40927 rows x 33 columns]"
            ],
            "text/html": [
              "\n",
              "  <div id=\"df-ddae65ed-a42c-4f21-87a8-c2bdac814f3a\">\n",
              "    <div class=\"colab-df-container\">\n",
              "      <div>\n",
              "<style scoped>\n",
              "    .dataframe tbody tr th:only-of-type {\n",
              "        vertical-align: middle;\n",
              "    }\n",
              "\n",
              "    .dataframe tbody tr th {\n",
              "        vertical-align: top;\n",
              "    }\n",
              "\n",
              "    .dataframe thead th {\n",
              "        text-align: right;\n",
              "    }\n",
              "</style>\n",
              "<table border=\"1\" class=\"dataframe\">\n",
              "  <thead>\n",
              "    <tr style=\"text-align: right;\">\n",
              "      <th></th>\n",
              "      <th>race_number</th>\n",
              "      <th>trakus_index</th>\n",
              "      <th>latitude</th>\n",
              "      <th>longitude</th>\n",
              "      <th>distance_id</th>\n",
              "      <th>run_up_distance</th>\n",
              "      <th>purse</th>\n",
              "      <th>post_time</th>\n",
              "      <th>weight_carried</th>\n",
              "      <th>odds</th>\n",
              "      <th>...</th>\n",
              "      <th>FT</th>\n",
              "      <th>GD</th>\n",
              "      <th>MY</th>\n",
              "      <th>SY</th>\n",
              "      <th>YL</th>\n",
              "      <th>NaN</th>\n",
              "      <th>AQU</th>\n",
              "      <th>BEL</th>\n",
              "      <th>SAR</th>\n",
              "      <th>position_at_finish</th>\n",
              "    </tr>\n",
              "  </thead>\n",
              "  <tbody>\n",
              "    <tr>\n",
              "      <th>0</th>\n",
              "      <td>9</td>\n",
              "      <td>73</td>\n",
              "      <td>40.672946</td>\n",
              "      <td>-73.827587</td>\n",
              "      <td>600.0</td>\n",
              "      <td>48.0</td>\n",
              "      <td>25000.0</td>\n",
              "      <td>420.0</td>\n",
              "      <td>120.0</td>\n",
              "      <td>2090.0</td>\n",
              "      <td>...</td>\n",
              "      <td>0.0</td>\n",
              "      <td>1.0</td>\n",
              "      <td>0.0</td>\n",
              "      <td>0.0</td>\n",
              "      <td>0.0</td>\n",
              "      <td>0.0</td>\n",
              "      <td>1.0</td>\n",
              "      <td>0.0</td>\n",
              "      <td>0.0</td>\n",
              "      <td>8.0</td>\n",
              "    </tr>\n",
              "    <tr>\n",
              "      <th>1</th>\n",
              "      <td>9</td>\n",
              "      <td>74</td>\n",
              "      <td>40.672990</td>\n",
              "      <td>-73.827568</td>\n",
              "      <td>600.0</td>\n",
              "      <td>48.0</td>\n",
              "      <td>25000.0</td>\n",
              "      <td>420.0</td>\n",
              "      <td>120.0</td>\n",
              "      <td>2090.0</td>\n",
              "      <td>...</td>\n",
              "      <td>0.0</td>\n",
              "      <td>1.0</td>\n",
              "      <td>0.0</td>\n",
              "      <td>0.0</td>\n",
              "      <td>0.0</td>\n",
              "      <td>0.0</td>\n",
              "      <td>1.0</td>\n",
              "      <td>0.0</td>\n",
              "      <td>0.0</td>\n",
              "      <td>8.0</td>\n",
              "    </tr>\n",
              "    <tr>\n",
              "      <th>2</th>\n",
              "      <td>9</td>\n",
              "      <td>63</td>\n",
              "      <td>40.672510</td>\n",
              "      <td>-73.827781</td>\n",
              "      <td>600.0</td>\n",
              "      <td>48.0</td>\n",
              "      <td>25000.0</td>\n",
              "      <td>420.0</td>\n",
              "      <td>120.0</td>\n",
              "      <td>2090.0</td>\n",
              "      <td>...</td>\n",
              "      <td>0.0</td>\n",
              "      <td>1.0</td>\n",
              "      <td>0.0</td>\n",
              "      <td>0.0</td>\n",
              "      <td>0.0</td>\n",
              "      <td>0.0</td>\n",
              "      <td>1.0</td>\n",
              "      <td>0.0</td>\n",
              "      <td>0.0</td>\n",
              "      <td>8.0</td>\n",
              "    </tr>\n",
              "    <tr>\n",
              "      <th>3</th>\n",
              "      <td>9</td>\n",
              "      <td>64</td>\n",
              "      <td>40.672553</td>\n",
              "      <td>-73.827762</td>\n",
              "      <td>600.0</td>\n",
              "      <td>48.0</td>\n",
              "      <td>25000.0</td>\n",
              "      <td>420.0</td>\n",
              "      <td>120.0</td>\n",
              "      <td>2090.0</td>\n",
              "      <td>...</td>\n",
              "      <td>0.0</td>\n",
              "      <td>1.0</td>\n",
              "      <td>0.0</td>\n",
              "      <td>0.0</td>\n",
              "      <td>0.0</td>\n",
              "      <td>0.0</td>\n",
              "      <td>1.0</td>\n",
              "      <td>0.0</td>\n",
              "      <td>0.0</td>\n",
              "      <td>8.0</td>\n",
              "    </tr>\n",
              "    <tr>\n",
              "      <th>4</th>\n",
              "      <td>9</td>\n",
              "      <td>65</td>\n",
              "      <td>40.672596</td>\n",
              "      <td>-73.827742</td>\n",
              "      <td>600.0</td>\n",
              "      <td>48.0</td>\n",
              "      <td>25000.0</td>\n",
              "      <td>420.0</td>\n",
              "      <td>120.0</td>\n",
              "      <td>2090.0</td>\n",
              "      <td>...</td>\n",
              "      <td>0.0</td>\n",
              "      <td>1.0</td>\n",
              "      <td>0.0</td>\n",
              "      <td>0.0</td>\n",
              "      <td>0.0</td>\n",
              "      <td>0.0</td>\n",
              "      <td>1.0</td>\n",
              "      <td>0.0</td>\n",
              "      <td>0.0</td>\n",
              "      <td>8.0</td>\n",
              "    </tr>\n",
              "    <tr>\n",
              "      <th>...</th>\n",
              "      <td>...</td>\n",
              "      <td>...</td>\n",
              "      <td>...</td>\n",
              "      <td>...</td>\n",
              "      <td>...</td>\n",
              "      <td>...</td>\n",
              "      <td>...</td>\n",
              "      <td>...</td>\n",
              "      <td>...</td>\n",
              "      <td>...</td>\n",
              "      <td>...</td>\n",
              "      <td>...</td>\n",
              "      <td>...</td>\n",
              "      <td>...</td>\n",
              "      <td>...</td>\n",
              "      <td>...</td>\n",
              "      <td>...</td>\n",
              "      <td>...</td>\n",
              "      <td>...</td>\n",
              "      <td>...</td>\n",
              "      <td>...</td>\n",
              "    </tr>\n",
              "    <tr>\n",
              "      <th>40922</th>\n",
              "      <td>5</td>\n",
              "      <td>28</td>\n",
              "      <td>40.670306</td>\n",
              "      <td>-73.828783</td>\n",
              "      <td>650.0</td>\n",
              "      <td>32.0</td>\n",
              "      <td>75000.0</td>\n",
              "      <td>226.0</td>\n",
              "      <td>119.0</td>\n",
              "      <td>1240.0</td>\n",
              "      <td>...</td>\n",
              "      <td>0.0</td>\n",
              "      <td>0.0</td>\n",
              "      <td>0.0</td>\n",
              "      <td>1.0</td>\n",
              "      <td>0.0</td>\n",
              "      <td>0.0</td>\n",
              "      <td>1.0</td>\n",
              "      <td>0.0</td>\n",
              "      <td>0.0</td>\n",
              "      <td>6.0</td>\n",
              "    </tr>\n",
              "    <tr>\n",
              "      <th>40923</th>\n",
              "      <td>5</td>\n",
              "      <td>29</td>\n",
              "      <td>40.670348</td>\n",
              "      <td>-73.828764</td>\n",
              "      <td>650.0</td>\n",
              "      <td>32.0</td>\n",
              "      <td>75000.0</td>\n",
              "      <td>226.0</td>\n",
              "      <td>119.0</td>\n",
              "      <td>1240.0</td>\n",
              "      <td>...</td>\n",
              "      <td>0.0</td>\n",
              "      <td>0.0</td>\n",
              "      <td>0.0</td>\n",
              "      <td>1.0</td>\n",
              "      <td>0.0</td>\n",
              "      <td>0.0</td>\n",
              "      <td>1.0</td>\n",
              "      <td>0.0</td>\n",
              "      <td>0.0</td>\n",
              "      <td>6.0</td>\n",
              "    </tr>\n",
              "    <tr>\n",
              "      <th>40924</th>\n",
              "      <td>5</td>\n",
              "      <td>198</td>\n",
              "      <td>40.674965</td>\n",
              "      <td>-73.830345</td>\n",
              "      <td>650.0</td>\n",
              "      <td>32.0</td>\n",
              "      <td>75000.0</td>\n",
              "      <td>226.0</td>\n",
              "      <td>119.0</td>\n",
              "      <td>1240.0</td>\n",
              "      <td>...</td>\n",
              "      <td>0.0</td>\n",
              "      <td>0.0</td>\n",
              "      <td>0.0</td>\n",
              "      <td>1.0</td>\n",
              "      <td>0.0</td>\n",
              "      <td>0.0</td>\n",
              "      <td>1.0</td>\n",
              "      <td>0.0</td>\n",
              "      <td>0.0</td>\n",
              "      <td>6.0</td>\n",
              "    </tr>\n",
              "    <tr>\n",
              "      <th>40925</th>\n",
              "      <td>5</td>\n",
              "      <td>199</td>\n",
              "      <td>40.674929</td>\n",
              "      <td>-73.830370</td>\n",
              "      <td>650.0</td>\n",
              "      <td>32.0</td>\n",
              "      <td>75000.0</td>\n",
              "      <td>226.0</td>\n",
              "      <td>119.0</td>\n",
              "      <td>1240.0</td>\n",
              "      <td>...</td>\n",
              "      <td>0.0</td>\n",
              "      <td>0.0</td>\n",
              "      <td>0.0</td>\n",
              "      <td>1.0</td>\n",
              "      <td>0.0</td>\n",
              "      <td>0.0</td>\n",
              "      <td>1.0</td>\n",
              "      <td>0.0</td>\n",
              "      <td>0.0</td>\n",
              "      <td>6.0</td>\n",
              "    </tr>\n",
              "    <tr>\n",
              "      <th>40926</th>\n",
              "      <td>5</td>\n",
              "      <td>200</td>\n",
              "      <td>40.674894</td>\n",
              "      <td>-73.830394</td>\n",
              "      <td>650.0</td>\n",
              "      <td>32.0</td>\n",
              "      <td>75000.0</td>\n",
              "      <td>226.0</td>\n",
              "      <td>119.0</td>\n",
              "      <td>1240.0</td>\n",
              "      <td>...</td>\n",
              "      <td>0.0</td>\n",
              "      <td>0.0</td>\n",
              "      <td>0.0</td>\n",
              "      <td>1.0</td>\n",
              "      <td>0.0</td>\n",
              "      <td>0.0</td>\n",
              "      <td>1.0</td>\n",
              "      <td>0.0</td>\n",
              "      <td>0.0</td>\n",
              "      <td>6.0</td>\n",
              "    </tr>\n",
              "  </tbody>\n",
              "</table>\n",
              "<p>40927 rows × 33 columns</p>\n",
              "</div>\n",
              "      <button class=\"colab-df-convert\" onclick=\"convertToInteractive('df-ddae65ed-a42c-4f21-87a8-c2bdac814f3a')\"\n",
              "              title=\"Convert this dataframe to an interactive table.\"\n",
              "              style=\"display:none;\">\n",
              "        \n",
              "  <svg xmlns=\"http://www.w3.org/2000/svg\" height=\"24px\"viewBox=\"0 0 24 24\"\n",
              "       width=\"24px\">\n",
              "    <path d=\"M0 0h24v24H0V0z\" fill=\"none\"/>\n",
              "    <path d=\"M18.56 5.44l.94 2.06.94-2.06 2.06-.94-2.06-.94-.94-2.06-.94 2.06-2.06.94zm-11 1L8.5 8.5l.94-2.06 2.06-.94-2.06-.94L8.5 2.5l-.94 2.06-2.06.94zm10 10l.94 2.06.94-2.06 2.06-.94-2.06-.94-.94-2.06-.94 2.06-2.06.94z\"/><path d=\"M17.41 7.96l-1.37-1.37c-.4-.4-.92-.59-1.43-.59-.52 0-1.04.2-1.43.59L10.3 9.45l-7.72 7.72c-.78.78-.78 2.05 0 2.83L4 21.41c.39.39.9.59 1.41.59.51 0 1.02-.2 1.41-.59l7.78-7.78 2.81-2.81c.8-.78.8-2.07 0-2.86zM5.41 20L4 18.59l7.72-7.72 1.47 1.35L5.41 20z\"/>\n",
              "  </svg>\n",
              "      </button>\n",
              "      \n",
              "  <style>\n",
              "    .colab-df-container {\n",
              "      display:flex;\n",
              "      flex-wrap:wrap;\n",
              "      gap: 12px;\n",
              "    }\n",
              "\n",
              "    .colab-df-convert {\n",
              "      background-color: #E8F0FE;\n",
              "      border: none;\n",
              "      border-radius: 50%;\n",
              "      cursor: pointer;\n",
              "      display: none;\n",
              "      fill: #1967D2;\n",
              "      height: 32px;\n",
              "      padding: 0 0 0 0;\n",
              "      width: 32px;\n",
              "    }\n",
              "\n",
              "    .colab-df-convert:hover {\n",
              "      background-color: #E2EBFA;\n",
              "      box-shadow: 0px 1px 2px rgba(60, 64, 67, 0.3), 0px 1px 3px 1px rgba(60, 64, 67, 0.15);\n",
              "      fill: #174EA6;\n",
              "    }\n",
              "\n",
              "    [theme=dark] .colab-df-convert {\n",
              "      background-color: #3B4455;\n",
              "      fill: #D2E3FC;\n",
              "    }\n",
              "\n",
              "    [theme=dark] .colab-df-convert:hover {\n",
              "      background-color: #434B5C;\n",
              "      box-shadow: 0px 1px 3px 1px rgba(0, 0, 0, 0.15);\n",
              "      filter: drop-shadow(0px 1px 2px rgba(0, 0, 0, 0.3));\n",
              "      fill: #FFFFFF;\n",
              "    }\n",
              "  </style>\n",
              "\n",
              "      <script>\n",
              "        const buttonEl =\n",
              "          document.querySelector('#df-ddae65ed-a42c-4f21-87a8-c2bdac814f3a button.colab-df-convert');\n",
              "        buttonEl.style.display =\n",
              "          google.colab.kernel.accessAllowed ? 'block' : 'none';\n",
              "\n",
              "        async function convertToInteractive(key) {\n",
              "          const element = document.querySelector('#df-ddae65ed-a42c-4f21-87a8-c2bdac814f3a');\n",
              "          const dataTable =\n",
              "            await google.colab.kernel.invokeFunction('convertToInteractive',\n",
              "                                                     [key], {});\n",
              "          if (!dataTable) return;\n",
              "\n",
              "          const docLinkHtml = 'Like what you see? Visit the ' +\n",
              "            '<a target=\"_blank\" href=https://colab.research.google.com/notebooks/data_table.ipynb>data table notebook</a>'\n",
              "            + ' to learn more about interactive tables.';\n",
              "          element.innerHTML = '';\n",
              "          dataTable['output_type'] = 'display_data';\n",
              "          await google.colab.output.renderOutput(dataTable, element);\n",
              "          const docLink = document.createElement('div');\n",
              "          docLink.innerHTML = docLinkHtml;\n",
              "          element.appendChild(docLink);\n",
              "        }\n",
              "      </script>\n",
              "    </div>\n",
              "  </div>\n",
              "  "
            ]
          },
          "metadata": {},
          "execution_count": 12
        }
      ]
    },
    {
      "cell_type": "code",
      "source": [
        "X = df.iloc[:,:-1]\n",
        "y = df.iloc[:, -1]"
      ],
      "metadata": {
        "id": "MXzaT3AUwvjv"
      },
      "execution_count": 13,
      "outputs": []
    },
    {
      "cell_type": "code",
      "source": [],
      "metadata": {
        "id": "ngX0maoywvrA"
      },
      "execution_count": 13,
      "outputs": []
    },
    {
      "cell_type": "markdown",
      "source": [
        "Principal Component Analysis"
      ],
      "metadata": {
        "id": "JeA6T85Hw1pN"
      }
    },
    {
      "cell_type": "code",
      "source": [
        "pca = PCA(n_components=10)\n",
        "X = pca.fit_transform(X)\n"
      ],
      "metadata": {
        "id": "OWXBy85bk8rA",
        "colab": {
          "base_uri": "https://localhost:8080/"
        },
        "outputId": "01864f52-c813-45e0-8bd1-e8b53f55a2e0"
      },
      "execution_count": 14,
      "outputs": [
        {
          "output_type": "stream",
          "name": "stderr",
          "text": [
            "/usr/local/lib/python3.7/dist-packages/sklearn/utils/validation.py:1692: FutureWarning: Feature names only support names that are all strings. Got feature names with dtypes: ['float', 'str']. An error will be raised in 1.2.\n",
            "  FutureWarning,\n"
          ]
        }
      ]
    },
    {
      "cell_type": "code",
      "source": [
        "X.shape\n",
        "X"
      ],
      "metadata": {
        "colab": {
          "base_uri": "https://localhost:8080/"
        },
        "id": "mvgNcMcfVh9M",
        "outputId": "265b2ff1-1cbb-41d6-e280-da0542d6fa76"
      },
      "execution_count": 15,
      "outputs": [
        {
          "output_type": "execute_result",
          "data": {
            "text/plain": [
              "array([[-4.10006814e+04,  6.41844391e+02, -2.68924738e+02, ...,\n",
              "         3.69243064e+00, -2.52709361e-01,  1.52202692e-01],\n",
              "       [-4.10006812e+04,  6.41837670e+02, -2.68727728e+02, ...,\n",
              "         3.69235469e+00, -2.52690960e-01,  1.52286485e-01],\n",
              "       [-4.10006834e+04,  6.41911601e+02, -2.70894841e+02, ...,\n",
              "         3.69319018e+00, -2.52887490e-01,  1.51366458e-01],\n",
              "       ...,\n",
              "       [ 8.99099461e+03, -5.94449078e+02, -4.54670471e+02, ...,\n",
              "        -4.15092457e-02, -3.85200932e-01,  1.51570982e-01],\n",
              "       [ 8.99099481e+03, -5.94455799e+02, -4.54473461e+02, ...,\n",
              "        -4.15861908e-02, -3.85249314e-01,  1.51632773e-01],\n",
              "       [ 8.99099501e+03, -5.94462520e+02, -4.54276450e+02, ...,\n",
              "        -4.16631409e-02, -3.85297871e-01,  1.51694578e-01]])"
            ]
          },
          "metadata": {},
          "execution_count": 15
        }
      ]
    },
    {
      "cell_type": "markdown",
      "source": [
        "Training and testing the data"
      ],
      "metadata": {
        "id": "3EYrPy5gxBQL"
      }
    },
    {
      "cell_type": "code",
      "source": [
        "X_train, X_test, y_train, y_test = model_selection.train_test_split(X, y, test_size= 0.2, random_state = 1)\n"
      ],
      "metadata": {
        "id": "-vPU9Hu7Sp5x"
      },
      "execution_count": 16,
      "outputs": []
    },
    {
      "cell_type": "code",
      "source": [],
      "metadata": {
        "id": "Q4dtdgZXysbc"
      },
      "execution_count": 16,
      "outputs": []
    },
    {
      "cell_type": "markdown",
      "source": [
        "Standardising the X"
      ],
      "metadata": {
        "id": "Cc0cORbZywzf"
      }
    },
    {
      "cell_type": "code",
      "source": [
        "scaler = StandardScaler()\n",
        "scaler.fit(X_train)\n",
        "\n",
        "X_train = scaler.transform(X_train)\n",
        "X_test = scaler.transform(X_test)"
      ],
      "metadata": {
        "id": "tSeIy8OcyshL"
      },
      "execution_count": 17,
      "outputs": []
    },
    {
      "cell_type": "code",
      "source": [
        "print('X_train dimension= ', X_train.shape)\n",
        "print('X_test dimension= ', X_test.shape)\n",
        "print('y_train dimension= ', y_train.shape)\n",
        "print('y_train dimension= ', y_test.shape)"
      ],
      "metadata": {
        "colab": {
          "base_uri": "https://localhost:8080/"
        },
        "id": "_TL4w608ysq2",
        "outputId": "436b8160-7e3f-46c7-f267-93b72dcb3721"
      },
      "execution_count": 18,
      "outputs": [
        {
          "output_type": "stream",
          "name": "stdout",
          "text": [
            "X_train dimension=  (32741, 10)\n",
            "X_test dimension=  (8186, 10)\n",
            "y_train dimension=  (32741,)\n",
            "y_train dimension=  (8186,)\n"
          ]
        }
      ]
    },
    {
      "cell_type": "code",
      "source": [],
      "metadata": {
        "id": "fqq0V4zTy7Gh"
      },
      "execution_count": 18,
      "outputs": []
    },
    {
      "cell_type": "markdown",
      "source": [
        "Logistic Regression "
      ],
      "metadata": {
        "id": "AMQiCkexzHvi"
      }
    },
    {
      "cell_type": "code",
      "source": [
        "#fitting the model\n",
        "lm = linear_model.LogisticRegression(multi_class='ovr', solver='liblinear')\n",
        "lm.fit(X_train, y_train)"
      ],
      "metadata": {
        "colab": {
          "base_uri": "https://localhost:8080/"
        },
        "id": "YODSueViy7Jz",
        "outputId": "7270d3cd-13e2-46b9-d328-43368c2b66eb"
      },
      "execution_count": 19,
      "outputs": [
        {
          "output_type": "execute_result",
          "data": {
            "text/plain": [
              "LogisticRegression(multi_class='ovr', solver='liblinear')"
            ]
          },
          "metadata": {},
          "execution_count": 19
        }
      ]
    },
    {
      "cell_type": "code",
      "source": [
        "#Predictions\n",
        "y_pred=lm.predict(X_test)"
      ],
      "metadata": {
        "id": "zy3_Pwt8lorK"
      },
      "execution_count": 20,
      "outputs": []
    },
    {
      "cell_type": "code",
      "source": [
        "#Classification report,accuracy score\n",
        "result1 = classification_report(y_test, y_pred)\n",
        "print(result1)\n",
        "result2 = accuracy_score(y_test,y_pred)\n",
        "print(result2)"
      ],
      "metadata": {
        "colab": {
          "base_uri": "https://localhost:8080/"
        },
        "id": "NICLI2H8lz14",
        "outputId": "a604b8a6-108f-40ce-c596-5515f6fa8cd2"
      },
      "execution_count": 21,
      "outputs": [
        {
          "output_type": "stream",
          "name": "stdout",
          "text": [
            "              precision    recall  f1-score   support\n",
            "\n",
            "         1.0       0.50      0.73      0.59       763\n",
            "         2.0       0.53      0.24      0.33      1090\n",
            "         3.0       0.61      0.64      0.62       990\n",
            "         4.0       0.55      0.45      0.49       824\n",
            "         5.0       0.51      0.46      0.48      1364\n",
            "         6.0       0.33      0.36      0.34      1129\n",
            "         7.0       0.57      0.75      0.65       745\n",
            "         8.0       0.50      0.64      0.56       706\n",
            "         9.0       0.49      0.63      0.55       367\n",
            "        10.0       0.00      0.00      0.00       176\n",
            "        11.0       1.00      1.00      1.00        32\n",
            "\n",
            "    accuracy                           0.50      8186\n",
            "   macro avg       0.51      0.54      0.51      8186\n",
            "weighted avg       0.50      0.50      0.49      8186\n",
            "\n",
            "0.5047642316149523\n"
          ]
        },
        {
          "output_type": "stream",
          "name": "stderr",
          "text": [
            "/usr/local/lib/python3.7/dist-packages/sklearn/metrics/_classification.py:1318: UndefinedMetricWarning: Precision and F-score are ill-defined and being set to 0.0 in labels with no predicted samples. Use `zero_division` parameter to control this behavior.\n",
            "  _warn_prf(average, modifier, msg_start, len(result))\n",
            "/usr/local/lib/python3.7/dist-packages/sklearn/metrics/_classification.py:1318: UndefinedMetricWarning: Precision and F-score are ill-defined and being set to 0.0 in labels with no predicted samples. Use `zero_division` parameter to control this behavior.\n",
            "  _warn_prf(average, modifier, msg_start, len(result))\n",
            "/usr/local/lib/python3.7/dist-packages/sklearn/metrics/_classification.py:1318: UndefinedMetricWarning: Precision and F-score are ill-defined and being set to 0.0 in labels with no predicted samples. Use `zero_division` parameter to control this behavior.\n",
            "  _warn_prf(average, modifier, msg_start, len(result))\n"
          ]
        }
      ]
    },
    {
      "cell_type": "markdown",
      "source": [
        "XGB Classifier:"
      ],
      "metadata": {
        "id": "_ovpcgMIz3iV"
      }
    },
    {
      "cell_type": "code",
      "source": [
        "#Input the parameters\n",
        "xgb = XGBClassifier(n_estimators=10)\n",
        "\n",
        "\n",
        "\n",
        "\n"
      ],
      "metadata": {
        "id": "VJZu4bJBpHAd"
      },
      "execution_count": 22,
      "outputs": []
    },
    {
      "cell_type": "code",
      "source": [
        "#training time\n",
        "training_start = time.perf_counter()\n",
        "xgb.fit(X_train, y_train)\n",
        "training_end = time.perf_counter()"
      ],
      "metadata": {
        "id": "z7thsd040T3W"
      },
      "execution_count": 23,
      "outputs": []
    },
    {
      "cell_type": "code",
      "source": [
        "#predicting time\n",
        "prediction_start = time.perf_counter()\n",
        "preds1 = xgb.predict(X_test)\n",
        "prediction_end = time.perf_counter()"
      ],
      "metadata": {
        "id": "WUSMuzaT0T6J"
      },
      "execution_count": 24,
      "outputs": []
    },
    {
      "cell_type": "code",
      "source": [
        "xgb_train_time = training_end-training_start\n",
        "xgb_prediction_time = prediction_end-prediction_start"
      ],
      "metadata": {
        "id": "KuUKnzim0T9Z"
      },
      "execution_count": 25,
      "outputs": []
    },
    {
      "cell_type": "code",
      "source": [
        "\n",
        "print(\"Time consumed for training: %4.3f\" % (xgb_train_time))\n",
        "print(\"Time consumed for prediction: %6.5f seconds\" % (xgb_prediction_time))"
      ],
      "metadata": {
        "colab": {
          "base_uri": "https://localhost:8080/"
        },
        "id": "cFGYPtzl0UAE",
        "outputId": "acea4779-15d4-4d52-ecaa-48d1916b0c73"
      },
      "execution_count": 26,
      "outputs": [
        {
          "output_type": "stream",
          "name": "stdout",
          "text": [
            "Time consumed for training: 2.588\n",
            "Time consumed for prediction: 0.03055 seconds\n"
          ]
        }
      ]
    },
    {
      "cell_type": "code",
      "source": [
        "accuracy_score(y_test,preds1)"
      ],
      "metadata": {
        "colab": {
          "base_uri": "https://localhost:8080/"
        },
        "id": "c-BOhrbbdoIH",
        "outputId": "51fd8c27-5a58-48f4-fa6b-abcd7f8e96d6"
      },
      "execution_count": 27,
      "outputs": [
        {
          "output_type": "execute_result",
          "data": {
            "text/plain": [
              "0.948204251160518"
            ]
          },
          "metadata": {},
          "execution_count": 27
        }
      ]
    },
    {
      "cell_type": "markdown",
      "source": [
        "Random Forest classifier"
      ],
      "metadata": {
        "id": "uUExh6hz0p_K"
      }
    },
    {
      "cell_type": "code",
      "source": [
        "#Input the parameters\n",
        "rfc = RandomForestClassifier(n_estimators=100)\n"
      ],
      "metadata": {
        "id": "BPknU-4idLpA"
      },
      "execution_count": 28,
      "outputs": []
    },
    {
      "cell_type": "code",
      "source": [
        "#Training time\n",
        "training_start = time.perf_counter()\n",
        "rfc.fit(X_train, y_train)\n",
        "training_end = time.perf_counter()"
      ],
      "metadata": {
        "id": "I_p4jlHP0-eg"
      },
      "execution_count": 29,
      "outputs": []
    },
    {
      "cell_type": "code",
      "source": [
        "#predicting time\n",
        "prediction_start = time.perf_counter()\n",
        "preds2 = rfc.predict(X_test)\n",
        "prediction_end = time.perf_counter()"
      ],
      "metadata": {
        "id": "KGHiQfIk0-h0"
      },
      "execution_count": 30,
      "outputs": []
    },
    {
      "cell_type": "code",
      "source": [
        "rfc_train_time = training_end-training_start\n",
        "rfc_prediction_time = prediction_end-prediction_start"
      ],
      "metadata": {
        "id": "sG1xZ8Ov0-lT"
      },
      "execution_count": 31,
      "outputs": []
    },
    {
      "cell_type": "code",
      "source": [
        "\n",
        "print(\"Time consumed for training: %4.3f seconds\" % (rfc_train_time))\n",
        "print(\"Time consumed for prediction: %6.5f seconds\" % (rfc_prediction_time))"
      ],
      "metadata": {
        "colab": {
          "base_uri": "https://localhost:8080/"
        },
        "id": "K9SQIMie0-oe",
        "outputId": "b9a7c4db-dd49-4deb-ea54-1a5de38ac833"
      },
      "execution_count": 32,
      "outputs": [
        {
          "output_type": "stream",
          "name": "stdout",
          "text": [
            "Time consumed for training: 6.198 seconds\n",
            "Time consumed for prediction: 0.13587 seconds\n"
          ]
        }
      ]
    },
    {
      "cell_type": "code",
      "source": [
        "accuracy_score(y_test,preds2)"
      ],
      "metadata": {
        "colab": {
          "base_uri": "https://localhost:8080/"
        },
        "id": "G7QJZ4HVe-Se",
        "outputId": "6f8240ac-5aa2-4fbb-d0d9-05d2f5c75d55"
      },
      "execution_count": 33,
      "outputs": [
        {
          "output_type": "execute_result",
          "data": {
            "text/plain": [
              "1.0"
            ]
          },
          "metadata": {},
          "execution_count": 33
        }
      ]
    },
    {
      "cell_type": "markdown",
      "source": [
        "Support Vector Machine"
      ],
      "metadata": {
        "id": "Y1WXGGeB1Rh-"
      }
    },
    {
      "cell_type": "code",
      "source": [
        "#Input the parameters\n",
        "svc = SVC()\n"
      ],
      "metadata": {
        "id": "SqeAsZivqtSM"
      },
      "execution_count": 34,
      "outputs": []
    },
    {
      "cell_type": "code",
      "source": [
        "#Training time\n",
        "training_start = time.perf_counter()\n",
        "svc.fit(X_train, y_train)\n",
        "training_end = time.perf_counter()"
      ],
      "metadata": {
        "id": "WOtkPBYN1aNm"
      },
      "execution_count": 35,
      "outputs": []
    },
    {
      "cell_type": "code",
      "source": [
        "#Testing time\n",
        "prediction_start = time.perf_counter()\n",
        "preds3 = svc.predict(X_test)\n",
        "prediction_end = time.perf_counter()"
      ],
      "metadata": {
        "id": "YnRvCLeN1aRX"
      },
      "execution_count": 36,
      "outputs": []
    },
    {
      "cell_type": "code",
      "source": [
        "\n",
        "svc_train_time = training_end-training_start\n",
        "svc_prediction_time = prediction_end-prediction_start"
      ],
      "metadata": {
        "id": "QB9amrgw1aUC"
      },
      "execution_count": 37,
      "outputs": []
    },
    {
      "cell_type": "code",
      "source": [
        "\n",
        "print(\"Time consumed for training: %4.3f seconds\" % (svc_train_time))\n",
        "print(\"Time consumed for prediction: %6.5f seconds\" % (svc_prediction_time))"
      ],
      "metadata": {
        "colab": {
          "base_uri": "https://localhost:8080/"
        },
        "id": "aO7WGE2z1aW4",
        "outputId": "187e6125-0ee6-49b0-c768-0f65d3c32af5"
      },
      "execution_count": 38,
      "outputs": [
        {
          "output_type": "stream",
          "name": "stdout",
          "text": [
            "Time consumed for training: 14.480 seconds\n",
            "Time consumed for prediction: 3.96199 seconds\n"
          ]
        }
      ]
    },
    {
      "cell_type": "code",
      "source": [
        "print(accuracy_score(y_test,preds3)) "
      ],
      "metadata": {
        "colab": {
          "base_uri": "https://localhost:8080/"
        },
        "id": "Dh9sw76Cf-d_",
        "outputId": "0e2c3d86-3a8e-4f43-e9f1-fc7d1c377aa9"
      },
      "execution_count": 39,
      "outputs": [
        {
          "output_type": "stream",
          "name": "stdout",
          "text": [
            "0.9926704129000733\n"
          ]
        }
      ]
    },
    {
      "cell_type": "markdown",
      "source": [
        "Naive Bayes"
      ],
      "metadata": {
        "id": "U2shg-6A1ydc"
      }
    },
    {
      "cell_type": "code",
      "source": [
        "#Input the parameters \n",
        "gnb = GaussianNB()\n"
      ],
      "metadata": {
        "id": "j2wI3PbNsUxt"
      },
      "execution_count": 57,
      "outputs": []
    },
    {
      "cell_type": "code",
      "source": [
        "#Training time\n",
        "training_start = time.perf_counter()\n",
        "gnb.fit(X_train, y_train)\n",
        "training_end = time.perf_counter()"
      ],
      "metadata": {
        "id": "7Z0kvl8o2qgQ"
      },
      "execution_count": 58,
      "outputs": []
    },
    {
      "cell_type": "code",
      "source": [
        "#Predicting time\n",
        "prediction_start = time.perf_counter()\n",
        "preds4 = gnb.predict(X_test)\n",
        "prediction_end = time.perf_counter()"
      ],
      "metadata": {
        "id": "qdhPk7dk2qjY"
      },
      "execution_count": 59,
      "outputs": []
    },
    {
      "cell_type": "code",
      "source": [
        "gnb_train_time = training_end-training_start\n",
        "gnb_prediction_time = prediction_end-prediction_start"
      ],
      "metadata": {
        "id": "dPDpIm4O2qpA"
      },
      "execution_count": 61,
      "outputs": []
    },
    {
      "cell_type": "code",
      "source": [
        "print(\"Time consumed for training: %4.3f seconds\" % (gnb_train_time))\n",
        "print(\"Time consumed for prediction: %6.5f seconds\" % (gnb_prediction_time))"
      ],
      "metadata": {
        "colab": {
          "base_uri": "https://localhost:8080/"
        },
        "id": "S9ijEMsJ2qsy",
        "outputId": "2e829999-559c-45a4-a95d-66b7fb4d1a87"
      },
      "execution_count": 62,
      "outputs": [
        {
          "output_type": "stream",
          "name": "stdout",
          "text": [
            "Time consumed for training: 0.017 seconds\n",
            "Time consumed for prediction: 0.01263 seconds\n"
          ]
        }
      ]
    },
    {
      "cell_type": "code",
      "source": [
        "accuracy_score(y_test,preds4)"
      ],
      "metadata": {
        "colab": {
          "base_uri": "https://localhost:8080/"
        },
        "id": "RC4rPh1o2EoA",
        "outputId": "a2cebf24-6f3e-4dcb-e823-2d63f5db639c"
      },
      "execution_count": 63,
      "outputs": [
        {
          "output_type": "execute_result",
          "data": {
            "text/plain": [
              "0.4166870266308331"
            ]
          },
          "metadata": {},
          "execution_count": 63
        }
      ]
    },
    {
      "cell_type": "markdown",
      "source": [
        "KNeighbours Classifier:"
      ],
      "metadata": {
        "id": "KKDm01kK3C3w"
      }
    },
    {
      "cell_type": "code",
      "source": [
        "#Input the parameters\n",
        "knn = KNeighborsClassifier()"
      ],
      "metadata": {
        "id": "5307MMk4vKLt"
      },
      "execution_count": 47,
      "outputs": []
    },
    {
      "cell_type": "code",
      "source": [
        "#Training time\n",
        "training_start = time.perf_counter()\n",
        "knn.fit(X_train, y_train)\n",
        "training_end = time.perf_counter()"
      ],
      "metadata": {
        "id": "MneD6P2i3Kpv"
      },
      "execution_count": 48,
      "outputs": []
    },
    {
      "cell_type": "code",
      "source": [
        "#Predicting Time\n",
        "prediction_start = time.perf_counter()\n",
        "preds5 = knn.predict(X_test)\n",
        "prediction_end = time.perf_counter()"
      ],
      "metadata": {
        "id": "1KrUNyie3Ksx"
      },
      "execution_count": 49,
      "outputs": []
    },
    {
      "cell_type": "code",
      "source": [
        "knn_train_time = training_end-training_start\n",
        "knn_prediction_time = prediction_end-prediction_start"
      ],
      "metadata": {
        "id": "eZzkdtaV3KwA"
      },
      "execution_count": 50,
      "outputs": []
    },
    {
      "cell_type": "code",
      "source": [
        "print(\"Time consumed for training: %4.3f seconds\" % (knn_train_time))\n",
        "print(\"Time consumed for prediction: %6.5f seconds\" % (knn_prediction_time))"
      ],
      "metadata": {
        "colab": {
          "base_uri": "https://localhost:8080/"
        },
        "id": "Z9BrdNbH3Ky5",
        "outputId": "23f8e94a-e6b7-467c-90e7-415d44344bc7"
      },
      "execution_count": 51,
      "outputs": [
        {
          "output_type": "stream",
          "name": "stdout",
          "text": [
            "Time consumed for training: 0.056 seconds\n",
            "Time consumed for prediction: 0.22081 seconds\n"
          ]
        }
      ]
    },
    {
      "cell_type": "code",
      "source": [
        "print(accuracy_score(y_test,preds5))"
      ],
      "metadata": {
        "colab": {
          "base_uri": "https://localhost:8080/"
        },
        "id": "EHAEHQB-g-if",
        "outputId": "9d0e0069-44d2-4e4d-be5c-d9013ca7a832"
      },
      "execution_count": 52,
      "outputs": [
        {
          "output_type": "stream",
          "name": "stdout",
          "text": [
            "1.0\n"
          ]
        }
      ]
    },
    {
      "cell_type": "markdown",
      "source": [
        "Deep learning "
      ],
      "metadata": {
        "id": "eerwp6_HY3c8"
      }
    },
    {
      "cell_type": "code",
      "source": [
        "#Initialising the model\n",
        "model=Sequential()\n",
        "model.add(Dense(10,activation='relu',input_dim=10)) #input layer\n",
        "model.add(Dropout(0.1))\n",
        "model.add(Dense(10,activation='relu'))\n",
        "model.add(Dropout(0.1))\n",
        "model.add(Dense(1,activation='sigmoid'))\n",
        "model.summary()"
      ],
      "metadata": {
        "colab": {
          "base_uri": "https://localhost:8080/"
        },
        "id": "vYTz-d0vY4wW",
        "outputId": "c53f2606-445c-41ed-89cd-253eb69a2b28"
      },
      "execution_count": 53,
      "outputs": [
        {
          "output_type": "stream",
          "name": "stdout",
          "text": [
            "Model: \"sequential\"\n",
            "_________________________________________________________________\n",
            " Layer (type)                Output Shape              Param #   \n",
            "=================================================================\n",
            " dense (Dense)               (None, 10)                110       \n",
            "                                                                 \n",
            " dropout (Dropout)           (None, 10)                0         \n",
            "                                                                 \n",
            " dense_1 (Dense)             (None, 10)                110       \n",
            "                                                                 \n",
            " dropout_1 (Dropout)         (None, 10)                0         \n",
            "                                                                 \n",
            " dense_2 (Dense)             (None, 1)                 11        \n",
            "                                                                 \n",
            "=================================================================\n",
            "Total params: 231\n",
            "Trainable params: 231\n",
            "Non-trainable params: 0\n",
            "_________________________________________________________________\n"
          ]
        }
      ]
    },
    {
      "cell_type": "code",
      "source": [
        "#Applying optimizers and callbacks\n",
        "optimizer=keras.optimizers.Adam(learning_rate=0.0001)\n",
        "callback=EarlyStopping(monitor='val_loss', min_delta=0.0001,\n",
        "    patience=5,\n",
        "    verbose=1,\n",
        "    mode=\"auto\",\n",
        "    baseline=None,\n",
        "    restore_best_weights=False)"
      ],
      "metadata": {
        "id": "WiZfV2rVZX0w"
      },
      "execution_count": 70,
      "outputs": []
    },
    {
      "cell_type": "code",
      "source": [
        "#Compiling the model\n",
        "model.compile(loss='binary_crossentropy',optimizer=optimizer,metrics=['accuracy'])"
      ],
      "metadata": {
        "id": "DmJkgC3GZbnn"
      },
      "execution_count": 71,
      "outputs": []
    },
    {
      "cell_type": "code",
      "source": [
        "#Fitting the model\n",
        "history=model.fit(X_train,y_train,batch_size=200, epochs=100,\n",
        "                    validation_data = (X_test,y_test), verbose=1, callbacks=callback)"
      ],
      "metadata": {
        "colab": {
          "base_uri": "https://localhost:8080/"
        },
        "id": "UctG2Op8Z4g-",
        "outputId": "5c9edfb3-84fc-4d71-f717-4063d40f6e6b"
      },
      "execution_count": 72,
      "outputs": [
        {
          "output_type": "stream",
          "name": "stdout",
          "text": [
            "Epoch 1/100\n",
            "164/164 [==============================] - 1s 4ms/step - loss: -5439427584.0000 - accuracy: 0.0852 - val_loss: -5366087680.0000 - val_accuracy: 0.0932\n",
            "Epoch 2/100\n",
            "164/164 [==============================] - 1s 4ms/step - loss: -5459422208.0000 - accuracy: 0.0852 - val_loss: -5366277632.0000 - val_accuracy: 0.0932\n",
            "Epoch 3/100\n",
            "164/164 [==============================] - 1s 4ms/step - loss: -5448906240.0000 - accuracy: 0.0852 - val_loss: -5366467072.0000 - val_accuracy: 0.0932\n",
            "Epoch 4/100\n",
            "164/164 [==============================] - 1s 4ms/step - loss: -5455844864.0000 - accuracy: 0.0852 - val_loss: -5366656512.0000 - val_accuracy: 0.0932\n",
            "Epoch 5/100\n",
            "164/164 [==============================] - 1s 4ms/step - loss: -5453266432.0000 - accuracy: 0.0852 - val_loss: -5366845952.0000 - val_accuracy: 0.0932\n",
            "Epoch 6/100\n",
            "164/164 [==============================] - 1s 4ms/step - loss: -5445197312.0000 - accuracy: 0.0852 - val_loss: -5367035392.0000 - val_accuracy: 0.0932\n",
            "Epoch 7/100\n",
            "164/164 [==============================] - 1s 4ms/step - loss: -5456287744.0000 - accuracy: 0.0852 - val_loss: -5367224320.0000 - val_accuracy: 0.0932\n",
            "Epoch 8/100\n",
            "164/164 [==============================] - 1s 4ms/step - loss: -5455251456.0000 - accuracy: 0.0852 - val_loss: -5367413248.0000 - val_accuracy: 0.0932\n",
            "Epoch 9/100\n",
            "164/164 [==============================] - 1s 4ms/step - loss: -5431401472.0000 - accuracy: 0.0852 - val_loss: -5367604224.0000 - val_accuracy: 0.0932\n",
            "Epoch 10/100\n",
            "164/164 [==============================] - 1s 3ms/step - loss: -5461724672.0000 - accuracy: 0.0852 - val_loss: -5367793152.0000 - val_accuracy: 0.0932\n",
            "Epoch 11/100\n",
            "164/164 [==============================] - 1s 4ms/step - loss: -5444339712.0000 - accuracy: 0.0852 - val_loss: -5367982592.0000 - val_accuracy: 0.0932\n",
            "Epoch 12/100\n",
            "164/164 [==============================] - 1s 4ms/step - loss: -5433412608.0000 - accuracy: 0.0852 - val_loss: -5368173056.0000 - val_accuracy: 0.0932\n",
            "Epoch 13/100\n",
            "164/164 [==============================] - 1s 4ms/step - loss: -5458262016.0000 - accuracy: 0.0852 - val_loss: -5368363520.0000 - val_accuracy: 0.0932\n",
            "Epoch 14/100\n",
            "164/164 [==============================] - 1s 4ms/step - loss: -5447016960.0000 - accuracy: 0.0852 - val_loss: -5368551424.0000 - val_accuracy: 0.0932\n",
            "Epoch 15/100\n",
            "164/164 [==============================] - 1s 3ms/step - loss: -5438363648.0000 - accuracy: 0.0852 - val_loss: -5368740864.0000 - val_accuracy: 0.0932\n",
            "Epoch 16/100\n",
            "164/164 [==============================] - 1s 4ms/step - loss: -5440497664.0000 - accuracy: 0.0852 - val_loss: -5368931328.0000 - val_accuracy: 0.0932\n",
            "Epoch 17/100\n",
            "164/164 [==============================] - 1s 4ms/step - loss: -5438371328.0000 - accuracy: 0.0852 - val_loss: -5369121280.0000 - val_accuracy: 0.0932\n",
            "Epoch 18/100\n",
            "164/164 [==============================] - 1s 3ms/step - loss: -5453929472.0000 - accuracy: 0.0852 - val_loss: -5369309696.0000 - val_accuracy: 0.0932\n",
            "Epoch 19/100\n",
            "164/164 [==============================] - 1s 3ms/step - loss: -5469652992.0000 - accuracy: 0.0852 - val_loss: -5369500160.0000 - val_accuracy: 0.0932\n",
            "Epoch 20/100\n",
            "164/164 [==============================] - 1s 4ms/step - loss: -5460810240.0000 - accuracy: 0.0852 - val_loss: -5369690112.0000 - val_accuracy: 0.0932\n",
            "Epoch 21/100\n",
            "164/164 [==============================] - 1s 8ms/step - loss: -5452775936.0000 - accuracy: 0.0852 - val_loss: -5369878528.0000 - val_accuracy: 0.0932\n",
            "Epoch 22/100\n",
            "164/164 [==============================] - 1s 6ms/step - loss: -5449931264.0000 - accuracy: 0.0852 - val_loss: -5370067456.0000 - val_accuracy: 0.0932\n",
            "Epoch 23/100\n",
            "164/164 [==============================] - 1s 4ms/step - loss: -5461270528.0000 - accuracy: 0.0852 - val_loss: -5370257408.0000 - val_accuracy: 0.0932\n",
            "Epoch 24/100\n",
            "164/164 [==============================] - 1s 4ms/step - loss: -5455857152.0000 - accuracy: 0.0852 - val_loss: -5370445824.0000 - val_accuracy: 0.0932\n",
            "Epoch 25/100\n",
            "164/164 [==============================] - 1s 4ms/step - loss: -5445697024.0000 - accuracy: 0.0852 - val_loss: -5370635264.0000 - val_accuracy: 0.0932\n",
            "Epoch 26/100\n",
            "164/164 [==============================] - 1s 4ms/step - loss: -5459675648.0000 - accuracy: 0.0852 - val_loss: -5370825216.0000 - val_accuracy: 0.0932\n",
            "Epoch 27/100\n",
            "164/164 [==============================] - 1s 4ms/step - loss: -5446659584.0000 - accuracy: 0.0852 - val_loss: -5371013632.0000 - val_accuracy: 0.0932\n",
            "Epoch 28/100\n",
            "164/164 [==============================] - 1s 4ms/step - loss: -5449753088.0000 - accuracy: 0.0852 - val_loss: -5371204096.0000 - val_accuracy: 0.0932\n",
            "Epoch 29/100\n",
            "164/164 [==============================] - 1s 4ms/step - loss: -5459551744.0000 - accuracy: 0.0852 - val_loss: -5371394048.0000 - val_accuracy: 0.0932\n",
            "Epoch 30/100\n",
            "164/164 [==============================] - 1s 4ms/step - loss: -5458278400.0000 - accuracy: 0.0852 - val_loss: -5371583488.0000 - val_accuracy: 0.0932\n",
            "Epoch 31/100\n",
            "164/164 [==============================] - 1s 3ms/step - loss: -5454533120.0000 - accuracy: 0.0852 - val_loss: -5371772416.0000 - val_accuracy: 0.0932\n",
            "Epoch 32/100\n",
            "164/164 [==============================] - 1s 4ms/step - loss: -5436405760.0000 - accuracy: 0.0852 - val_loss: -5371961856.0000 - val_accuracy: 0.0932\n",
            "Epoch 33/100\n",
            "164/164 [==============================] - 1s 3ms/step - loss: -5445209088.0000 - accuracy: 0.0852 - val_loss: -5372151808.0000 - val_accuracy: 0.0932\n",
            "Epoch 34/100\n",
            "164/164 [==============================] - 1s 3ms/step - loss: -5461778944.0000 - accuracy: 0.0852 - val_loss: -5372341760.0000 - val_accuracy: 0.0932\n",
            "Epoch 35/100\n",
            "164/164 [==============================] - 1s 4ms/step - loss: -5446951424.0000 - accuracy: 0.0852 - val_loss: -5372531712.0000 - val_accuracy: 0.0932\n",
            "Epoch 36/100\n",
            "164/164 [==============================] - 1s 4ms/step - loss: -5453126144.0000 - accuracy: 0.0852 - val_loss: -5372720640.0000 - val_accuracy: 0.0932\n",
            "Epoch 37/100\n",
            "164/164 [==============================] - 1s 4ms/step - loss: -5445422080.0000 - accuracy: 0.0852 - val_loss: -5372909568.0000 - val_accuracy: 0.0932\n",
            "Epoch 38/100\n",
            "164/164 [==============================] - 1s 4ms/step - loss: -5444976640.0000 - accuracy: 0.0852 - val_loss: -5373098496.0000 - val_accuracy: 0.0932\n",
            "Epoch 39/100\n",
            "164/164 [==============================] - 1s 4ms/step - loss: -5471553024.0000 - accuracy: 0.0852 - val_loss: -5373288960.0000 - val_accuracy: 0.0932\n",
            "Epoch 40/100\n",
            "164/164 [==============================] - 1s 4ms/step - loss: -5450329088.0000 - accuracy: 0.0852 - val_loss: -5373477376.0000 - val_accuracy: 0.0932\n",
            "Epoch 41/100\n",
            "164/164 [==============================] - 1s 3ms/step - loss: -5457871872.0000 - accuracy: 0.0852 - val_loss: -5373666816.0000 - val_accuracy: 0.0932\n",
            "Epoch 42/100\n",
            "164/164 [==============================] - 1s 4ms/step - loss: -5466357248.0000 - accuracy: 0.0852 - val_loss: -5373856768.0000 - val_accuracy: 0.0932\n",
            "Epoch 43/100\n",
            "164/164 [==============================] - 1s 3ms/step - loss: -5452045824.0000 - accuracy: 0.0852 - val_loss: -5374047744.0000 - val_accuracy: 0.0932\n",
            "Epoch 44/100\n",
            "164/164 [==============================] - 1s 4ms/step - loss: -5447164416.0000 - accuracy: 0.0852 - val_loss: -5374237184.0000 - val_accuracy: 0.0932\n",
            "Epoch 45/100\n",
            "164/164 [==============================] - 1s 4ms/step - loss: -5461383680.0000 - accuracy: 0.0852 - val_loss: -5374615552.0000 - val_accuracy: 0.0932\n",
            "Epoch 47/100\n",
            "164/164 [==============================] - 1s 4ms/step - loss: -5456374784.0000 - accuracy: 0.0852 - val_loss: -5374804992.0000 - val_accuracy: 0.0932\n",
            "Epoch 48/100\n",
            "164/164 [==============================] - 1s 4ms/step - loss: -5452509184.0000 - accuracy: 0.0852 - val_loss: -5374993408.0000 - val_accuracy: 0.0932\n",
            "Epoch 49/100\n",
            "164/164 [==============================] - 1s 3ms/step - loss: -5465831936.0000 - accuracy: 0.0852 - val_loss: -5375183872.0000 - val_accuracy: 0.0932\n",
            "Epoch 50/100\n",
            "164/164 [==============================] - 1s 4ms/step - loss: -5457729024.0000 - accuracy: 0.0852 - val_loss: -5375374336.0000 - val_accuracy: 0.0932\n",
            "Epoch 51/100\n",
            "164/164 [==============================] - 1s 4ms/step - loss: -5456195584.0000 - accuracy: 0.0852 - val_loss: -5375563776.0000 - val_accuracy: 0.0932\n",
            "Epoch 52/100\n",
            "164/164 [==============================] - 1s 4ms/step - loss: -5454032384.0000 - accuracy: 0.0852 - val_loss: -5375753216.0000 - val_accuracy: 0.0932\n",
            "Epoch 53/100\n",
            "164/164 [==============================] - 1s 3ms/step - loss: -5457691136.0000 - accuracy: 0.0852 - val_loss: -5375942656.0000 - val_accuracy: 0.0932\n",
            "Epoch 54/100\n",
            "164/164 [==============================] - 1s 3ms/step - loss: -5451577344.0000 - accuracy: 0.0852 - val_loss: -5376133120.0000 - val_accuracy: 0.0932\n",
            "Epoch 55/100\n",
            "164/164 [==============================] - 1s 4ms/step - loss: -5465789952.0000 - accuracy: 0.0852 - val_loss: -5376322560.0000 - val_accuracy: 0.0932\n",
            "Epoch 56/100\n",
            "164/164 [==============================] - 1s 3ms/step - loss: -5459613696.0000 - accuracy: 0.0852 - val_loss: -5376512000.0000 - val_accuracy: 0.0932\n",
            "Epoch 57/100\n",
            "164/164 [==============================] - 1s 3ms/step - loss: -5466384896.0000 - accuracy: 0.0852 - val_loss: -5376702464.0000 - val_accuracy: 0.0932\n",
            "Epoch 58/100\n",
            "164/164 [==============================] - 1s 4ms/step - loss: -5458972672.0000 - accuracy: 0.0852 - val_loss: -5376892928.0000 - val_accuracy: 0.0932\n",
            "Epoch 59/100\n",
            "164/164 [==============================] - 1s 4ms/step - loss: -5446024704.0000 - accuracy: 0.0852 - val_loss: -5377082368.0000 - val_accuracy: 0.0932\n",
            "Epoch 60/100\n",
            "164/164 [==============================] - 1s 5ms/step - loss: -5452423680.0000 - accuracy: 0.0852 - val_loss: -5377270784.0000 - val_accuracy: 0.0932\n",
            "Epoch 61/100\n",
            "164/164 [==============================] - 1s 3ms/step - loss: -5450180096.0000 - accuracy: 0.0852 - val_loss: -5377462272.0000 - val_accuracy: 0.0932\n",
            "Epoch 62/100\n",
            "164/164 [==============================] - 1s 4ms/step - loss: -5439175168.0000 - accuracy: 0.0852 - val_loss: -5377651712.0000 - val_accuracy: 0.0932\n",
            "Epoch 63/100\n",
            "164/164 [==============================] - 1s 4ms/step - loss: -5453688320.0000 - accuracy: 0.0852 - val_loss: -5377841152.0000 - val_accuracy: 0.0932\n",
            "Epoch 64/100\n",
            "164/164 [==============================] - 1s 3ms/step - loss: -5451686400.0000 - accuracy: 0.0852 - val_loss: -5378030592.0000 - val_accuracy: 0.0932\n",
            "Epoch 65/100\n",
            "164/164 [==============================] - 1s 4ms/step - loss: -5451303936.0000 - accuracy: 0.0852 - val_loss: -5378220032.0000 - val_accuracy: 0.0932\n",
            "Epoch 66/100\n",
            "164/164 [==============================] - 1s 4ms/step - loss: -5469768704.0000 - accuracy: 0.0852 - val_loss: -5378409984.0000 - val_accuracy: 0.0932\n",
            "Epoch 67/100\n",
            "164/164 [==============================] - 1s 4ms/step - loss: -5445793792.0000 - accuracy: 0.0852 - val_loss: -5378600448.0000 - val_accuracy: 0.0932\n",
            "Epoch 68/100\n",
            "164/164 [==============================] - 1s 4ms/step - loss: -5454588416.0000 - accuracy: 0.0852 - val_loss: -5378789376.0000 - val_accuracy: 0.0932\n",
            "Epoch 69/100\n",
            "164/164 [==============================] - 1s 3ms/step - loss: -5461329408.0000 - accuracy: 0.0852 - val_loss: -5378979840.0000 - val_accuracy: 0.0932\n",
            "Epoch 70/100\n",
            "164/164 [==============================] - 1s 4ms/step - loss: -5461656576.0000 - accuracy: 0.0852 - val_loss: -5379168768.0000 - val_accuracy: 0.0932\n",
            "Epoch 71/100\n",
            "164/164 [==============================] - 1s 3ms/step - loss: -5473184256.0000 - accuracy: 0.0852 - val_loss: -5379358720.0000 - val_accuracy: 0.0932\n",
            "Epoch 72/100\n",
            "164/164 [==============================] - 1s 3ms/step - loss: -5461751808.0000 - accuracy: 0.0852 - val_loss: -5379548672.0000 - val_accuracy: 0.0932\n",
            "Epoch 73/100\n",
            "164/164 [==============================] - 1s 4ms/step - loss: -5464085504.0000 - accuracy: 0.0852 - val_loss: -5379737600.0000 - val_accuracy: 0.0932\n",
            "Epoch 74/100\n",
            "164/164 [==============================] - 1s 3ms/step - loss: -5463523328.0000 - accuracy: 0.0852 - val_loss: -5379927552.0000 - val_accuracy: 0.0932\n",
            "Epoch 75/100\n",
            "164/164 [==============================] - 1s 4ms/step - loss: -5460757504.0000 - accuracy: 0.0852 - val_loss: -5380117504.0000 - val_accuracy: 0.0932\n",
            "Epoch 76/100\n",
            "164/164 [==============================] - 1s 3ms/step - loss: -5460647936.0000 - accuracy: 0.0852 - val_loss: -5380306944.0000 - val_accuracy: 0.0932\n",
            "Epoch 77/100\n",
            "164/164 [==============================] - 1s 4ms/step - loss: -5455106048.0000 - accuracy: 0.0852 - val_loss: -5380497408.0000 - val_accuracy: 0.0932\n",
            "Epoch 78/100\n",
            "164/164 [==============================] - 1s 4ms/step - loss: -5464276992.0000 - accuracy: 0.0852 - val_loss: -5380686336.0000 - val_accuracy: 0.0932\n",
            "Epoch 79/100\n",
            "164/164 [==============================] - 1s 4ms/step - loss: -5461857792.0000 - accuracy: 0.0852 - val_loss: -5380876800.0000 - val_accuracy: 0.0932\n",
            "Epoch 80/100\n",
            "164/164 [==============================] - 1s 4ms/step - loss: -5464685568.0000 - accuracy: 0.0852 - val_loss: -5381065728.0000 - val_accuracy: 0.0932\n",
            "Epoch 81/100\n",
            "164/164 [==============================] - 1s 4ms/step - loss: -5458882560.0000 - accuracy: 0.0852 - val_loss: -5381255680.0000 - val_accuracy: 0.0932\n",
            "Epoch 82/100\n",
            "164/164 [==============================] - 1s 4ms/step - loss: -5464984576.0000 - accuracy: 0.0852 - val_loss: -5381446144.0000 - val_accuracy: 0.0932\n",
            "Epoch 83/100\n",
            "164/164 [==============================] - 1s 4ms/step - loss: -5473564160.0000 - accuracy: 0.0852 - val_loss: -5381635584.0000 - val_accuracy: 0.0932\n",
            "Epoch 84/100\n",
            "164/164 [==============================] - 1s 3ms/step - loss: -5454861312.0000 - accuracy: 0.0852 - val_loss: -5381825536.0000 - val_accuracy: 0.0932\n",
            "Epoch 85/100\n",
            "164/164 [==============================] - 1s 4ms/step - loss: -5452844544.0000 - accuracy: 0.0852 - val_loss: -5382014464.0000 - val_accuracy: 0.0932\n",
            "Epoch 86/100\n",
            "164/164 [==============================] - 1s 4ms/step - loss: -5468223488.0000 - accuracy: 0.0852 - val_loss: -5382204416.0000 - val_accuracy: 0.0932\n",
            "Epoch 87/100\n",
            "164/164 [==============================] - 1s 4ms/step - loss: -5476467200.0000 - accuracy: 0.0852 - val_loss: -5382394368.0000 - val_accuracy: 0.0932\n",
            "Epoch 88/100\n",
            "164/164 [==============================] - 1s 3ms/step - loss: -5456274944.0000 - accuracy: 0.0852 - val_loss: -5382583808.0000 - val_accuracy: 0.0932\n",
            "Epoch 89/100\n",
            "164/164 [==============================] - 1s 3ms/step - loss: -5453892096.0000 - accuracy: 0.0852 - val_loss: -5382774272.0000 - val_accuracy: 0.0932\n",
            "Epoch 90/100\n",
            "164/164 [==============================] - 1s 4ms/step - loss: -5468149760.0000 - accuracy: 0.0852 - val_loss: -5382963200.0000 - val_accuracy: 0.0932\n",
            "Epoch 91/100\n",
            "164/164 [==============================] - 1s 4ms/step - loss: -5458804736.0000 - accuracy: 0.0852 - val_loss: -5383153152.0000 - val_accuracy: 0.0932\n",
            "Epoch 92/100\n",
            "164/164 [==============================] - 1s 4ms/step - loss: -5464230912.0000 - accuracy: 0.0852 - val_loss: -5383343104.0000 - val_accuracy: 0.0932\n",
            "Epoch 93/100\n",
            "164/164 [==============================] - 1s 4ms/step - loss: -5462652928.0000 - accuracy: 0.0852 - val_loss: -5383532544.0000 - val_accuracy: 0.0932\n",
            "Epoch 94/100\n",
            "164/164 [==============================] - 1s 3ms/step - loss: -5446289408.0000 - accuracy: 0.0852 - val_loss: -5383721984.0000 - val_accuracy: 0.0932\n",
            "Epoch 95/100\n",
            "164/164 [==============================] - 1s 3ms/step - loss: -5466537472.0000 - accuracy: 0.0852 - val_loss: -5383912448.0000 - val_accuracy: 0.0932\n",
            "Epoch 96/100\n",
            "164/164 [==============================] - 1s 4ms/step - loss: -5475561984.0000 - accuracy: 0.0852 - val_loss: -5384102400.0000 - val_accuracy: 0.0932\n",
            "Epoch 97/100\n",
            "164/164 [==============================] - 1s 4ms/step - loss: -5474339328.0000 - accuracy: 0.0852 - val_loss: -5384292864.0000 - val_accuracy: 0.0932\n",
            "Epoch 98/100\n",
            "164/164 [==============================] - 1s 4ms/step - loss: -5479251456.0000 - accuracy: 0.0852 - val_loss: -5384482304.0000 - val_accuracy: 0.0932\n",
            "Epoch 99/100\n",
            "164/164 [==============================] - 1s 3ms/step - loss: -5476260352.0000 - accuracy: 0.0852 - val_loss: -5384672768.0000 - val_accuracy: 0.0932\n",
            "Epoch 100/100\n",
            "164/164 [==============================] - 1s 4ms/step - loss: -5458975232.0000 - accuracy: 0.0852 - val_loss: -5384862208.0000 - val_accuracy: 0.0932\n"
          ]
        }
      ]
    },
    {
      "cell_type": "code",
      "source": [],
      "metadata": {
        "id": "WposjaYzmmRM"
      },
      "execution_count": 56,
      "outputs": []
    }
  ]
}