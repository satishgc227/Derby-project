{
  "nbformat": 4,
  "nbformat_minor": 0,
  "metadata": {
    "colab": {
      "provenance": [],
      "authorship_tag": "ABX9TyNov8NSnzSd1eIOhNj6RXtu",
      "include_colab_link": true
    },
    "kernelspec": {
      "name": "python3",
      "display_name": "Python 3"
    },
    "language_info": {
      "name": "python"
    }
  },
  "cells": [
    {
      "cell_type": "markdown",
      "metadata": {
        "id": "view-in-github",
        "colab_type": "text"
      },
      "source": [
        "<a href=\"https://colab.research.google.com/github/satishgc227/Derby-project/blob/main/Kmeans%2CPCA.ipynb\" target=\"_parent\"><img src=\"https://colab.research.google.com/assets/colab-badge.svg\" alt=\"Open In Colab\"/></a>"
      ]
    },
    {
      "cell_type": "code",
      "execution_count": 1,
      "metadata": {
        "id": "0Tzoth5byrfk"
      },
      "outputs": [],
      "source": [
        "# Imports\n",
        "import pandas as pd\n",
        "import numpy as np\n",
        "import matplotlib.pyplot as plt\n",
        "from sklearn.cluster import KMeans\n",
        "from sklearn.decomposition import PCA\n",
        "from sklearn.preprocessing import StandardScaler\n",
        "from sklearn.preprocessing import OneHotEncoder\n",
        "# Load in the data\n",
        "df = pd.read_csv('/content/edited complete.csv',encoding='latin',nrows=10000)\n",
        "\n"
      ]
    },
    {
      "cell_type": "code",
      "source": [
        "df['race_type\\xa0'].unique()\n",
        "df['course_type'].unique()\n",
        "df['track_condition\\xa0'].unique()\n",
        "df['track_id'].unique()\n",
        "\n",
        "s=df[['race_type\\xa0','course_type','track_condition\\xa0','track_id']]"
      ],
      "metadata": {
        "id": "w2dvqvpL14rn"
      },
      "execution_count": 2,
      "outputs": []
    },
    {
      "cell_type": "code",
      "source": [
        "ohe=OneHotEncoder()\n",
        "feature_array=ohe.fit_transform(df[['race_type\\xa0','course_type','track_condition\\xa0','track_id']]).toarray()"
      ],
      "metadata": {
        "id": "mIEcc-ge17xc"
      },
      "execution_count": 3,
      "outputs": []
    },
    {
      "cell_type": "code",
      "source": [
        "feature_labels=ohe.categories_\n",
        "print(feature_labels)"
      ],
      "metadata": {
        "colab": {
          "base_uri": "https://localhost:8080/"
        },
        "id": "dWcQ60dt2BFs",
        "outputId": "d3766054-0c46-42b1-bbb5-337f6945c7fc"
      },
      "execution_count": 4,
      "outputs": [
        {
          "output_type": "stream",
          "name": "stdout",
          "text": [
            "[array(['ALW', 'AOC', 'CLM', 'SST'], dtype=object), array(['D', 'I', 'M', 'O', 'T'], dtype=object), array(['FM ', 'FT ', 'GD ', 'MY ', 'SY '], dtype=object), array(['AQU', 'BEL', 'SAR'], dtype=object)]\n"
          ]
        }
      ]
    },
    {
      "cell_type": "code",
      "source": [
        "np.hstack(feature_labels)"
      ],
      "metadata": {
        "colab": {
          "base_uri": "https://localhost:8080/"
        },
        "id": "jo_tk9Wt2Dbi",
        "outputId": "5d071380-9ddb-4515-bd79-42bc8ddd0b62"
      },
      "execution_count": 5,
      "outputs": [
        {
          "output_type": "execute_result",
          "data": {
            "text/plain": [
              "array(['ALW', 'AOC', 'CLM', 'SST', 'D', 'I', 'M', 'O', 'T', 'FM ', 'FT ',\n",
              "       'GD ', 'MY ', 'SY ', 'AQU', 'BEL', 'SAR'], dtype=object)"
            ]
          },
          "metadata": {},
          "execution_count": 5
        }
      ]
    },
    {
      "cell_type": "code",
      "source": [
        "feature_labels=np.hstack(feature_labels)\n",
        "f=pd.DataFrame(feature_array,columns=feature_labels)\n",
        "pd.concat([df,f],axis=1)"
      ],
      "metadata": {
        "colab": {
          "base_uri": "https://localhost:8080/",
          "height": 661
        },
        "id": "I2fbEAsN2G6L",
        "outputId": "9f01c774-97c2-474d-b678-9bbf7c3b02c8"
      },
      "execution_count": 6,
      "outputs": [
        {
          "output_type": "execute_result",
          "data": {
            "text/plain": [
              "     track_id   race_date  race_number   program_number   trakus_index   \\\n",
              "0         AQU  01-01-2019             9                6             73   \n",
              "1         AQU  01-01-2019             9                6             74   \n",
              "2         AQU  01-01-2019             9                6             63   \n",
              "3         AQU  01-01-2019             9                6             64   \n",
              "4         AQU  01-01-2019             9                6             65   \n",
              "...       ...         ...           ...              ...            ...   \n",
              "9995      BEL  15-09-2019             9                9            251   \n",
              "9996      BEL  15-09-2019             9                9            252   \n",
              "9997      BEL  15-09-2019             9                9            253   \n",
              "9998      BEL  15-09-2019             9                9            254   \n",
              "9999      BEL  15-09-2019             9                9            255   \n",
              "\n",
              "      latitude   longitude   distance_id  course_type track_condition   ...  \\\n",
              "0     40.672946  -73.827587           600           D              GD   ...   \n",
              "1     40.672990  -73.827568           600           D              GD   ...   \n",
              "2     40.672510  -73.827781           600           D              GD   ...   \n",
              "3     40.672553  -73.827762           600           D              GD   ...   \n",
              "4     40.672596  -73.827742           600           D              GD   ...   \n",
              "...         ...         ...           ...         ...              ...  ...   \n",
              "9995  40.714156  -73.725067           700           T              FM   ...   \n",
              "9996  40.714142  -73.725013           700           T              FM   ...   \n",
              "9997  40.714127  -73.724959           700           T              FM   ...   \n",
              "9998  40.714113  -73.724905           700           T              FM   ...   \n",
              "9999  40.714099  -73.724850           700           T              FM   ...   \n",
              "\n",
              "        O    T  FM   FT   GD   MY   SY   AQU  BEL  SAR  \n",
              "0     0.0  0.0  0.0  0.0  1.0  0.0  0.0  1.0  0.0  0.0  \n",
              "1     0.0  0.0  0.0  0.0  1.0  0.0  0.0  1.0  0.0  0.0  \n",
              "2     0.0  0.0  0.0  0.0  1.0  0.0  0.0  1.0  0.0  0.0  \n",
              "3     0.0  0.0  0.0  0.0  1.0  0.0  0.0  1.0  0.0  0.0  \n",
              "4     0.0  0.0  0.0  0.0  1.0  0.0  0.0  1.0  0.0  0.0  \n",
              "...   ...  ...  ...  ...  ...  ...  ...  ...  ...  ...  \n",
              "9995  0.0  1.0  1.0  0.0  0.0  0.0  0.0  0.0  1.0  0.0  \n",
              "9996  0.0  1.0  1.0  0.0  0.0  0.0  0.0  0.0  1.0  0.0  \n",
              "9997  0.0  1.0  1.0  0.0  0.0  0.0  0.0  0.0  1.0  0.0  \n",
              "9998  0.0  1.0  1.0  0.0  0.0  0.0  0.0  0.0  1.0  0.0  \n",
              "9999  0.0  1.0  1.0  0.0  0.0  0.0  0.0  0.0  1.0  0.0  \n",
              "\n",
              "[10000 rows x 35 columns]"
            ],
            "text/html": [
              "\n",
              "  <div id=\"df-bd5a62ba-5d5d-4e7a-91a0-820d17ce4c59\">\n",
              "    <div class=\"colab-df-container\">\n",
              "      <div>\n",
              "<style scoped>\n",
              "    .dataframe tbody tr th:only-of-type {\n",
              "        vertical-align: middle;\n",
              "    }\n",
              "\n",
              "    .dataframe tbody tr th {\n",
              "        vertical-align: top;\n",
              "    }\n",
              "\n",
              "    .dataframe thead th {\n",
              "        text-align: right;\n",
              "    }\n",
              "</style>\n",
              "<table border=\"1\" class=\"dataframe\">\n",
              "  <thead>\n",
              "    <tr style=\"text-align: right;\">\n",
              "      <th></th>\n",
              "      <th>track_id</th>\n",
              "      <th>race_date</th>\n",
              "      <th>race_number</th>\n",
              "      <th>program_number</th>\n",
              "      <th>trakus_index</th>\n",
              "      <th>latitude</th>\n",
              "      <th>longitude</th>\n",
              "      <th>distance_id</th>\n",
              "      <th>course_type</th>\n",
              "      <th>track_condition</th>\n",
              "      <th>...</th>\n",
              "      <th>O</th>\n",
              "      <th>T</th>\n",
              "      <th>FM</th>\n",
              "      <th>FT</th>\n",
              "      <th>GD</th>\n",
              "      <th>MY</th>\n",
              "      <th>SY</th>\n",
              "      <th>AQU</th>\n",
              "      <th>BEL</th>\n",
              "      <th>SAR</th>\n",
              "    </tr>\n",
              "  </thead>\n",
              "  <tbody>\n",
              "    <tr>\n",
              "      <th>0</th>\n",
              "      <td>AQU</td>\n",
              "      <td>01-01-2019</td>\n",
              "      <td>9</td>\n",
              "      <td>6</td>\n",
              "      <td>73</td>\n",
              "      <td>40.672946</td>\n",
              "      <td>-73.827587</td>\n",
              "      <td>600</td>\n",
              "      <td>D</td>\n",
              "      <td>GD</td>\n",
              "      <td>...</td>\n",
              "      <td>0.0</td>\n",
              "      <td>0.0</td>\n",
              "      <td>0.0</td>\n",
              "      <td>0.0</td>\n",
              "      <td>1.0</td>\n",
              "      <td>0.0</td>\n",
              "      <td>0.0</td>\n",
              "      <td>1.0</td>\n",
              "      <td>0.0</td>\n",
              "      <td>0.0</td>\n",
              "    </tr>\n",
              "    <tr>\n",
              "      <th>1</th>\n",
              "      <td>AQU</td>\n",
              "      <td>01-01-2019</td>\n",
              "      <td>9</td>\n",
              "      <td>6</td>\n",
              "      <td>74</td>\n",
              "      <td>40.672990</td>\n",
              "      <td>-73.827568</td>\n",
              "      <td>600</td>\n",
              "      <td>D</td>\n",
              "      <td>GD</td>\n",
              "      <td>...</td>\n",
              "      <td>0.0</td>\n",
              "      <td>0.0</td>\n",
              "      <td>0.0</td>\n",
              "      <td>0.0</td>\n",
              "      <td>1.0</td>\n",
              "      <td>0.0</td>\n",
              "      <td>0.0</td>\n",
              "      <td>1.0</td>\n",
              "      <td>0.0</td>\n",
              "      <td>0.0</td>\n",
              "    </tr>\n",
              "    <tr>\n",
              "      <th>2</th>\n",
              "      <td>AQU</td>\n",
              "      <td>01-01-2019</td>\n",
              "      <td>9</td>\n",
              "      <td>6</td>\n",
              "      <td>63</td>\n",
              "      <td>40.672510</td>\n",
              "      <td>-73.827781</td>\n",
              "      <td>600</td>\n",
              "      <td>D</td>\n",
              "      <td>GD</td>\n",
              "      <td>...</td>\n",
              "      <td>0.0</td>\n",
              "      <td>0.0</td>\n",
              "      <td>0.0</td>\n",
              "      <td>0.0</td>\n",
              "      <td>1.0</td>\n",
              "      <td>0.0</td>\n",
              "      <td>0.0</td>\n",
              "      <td>1.0</td>\n",
              "      <td>0.0</td>\n",
              "      <td>0.0</td>\n",
              "    </tr>\n",
              "    <tr>\n",
              "      <th>3</th>\n",
              "      <td>AQU</td>\n",
              "      <td>01-01-2019</td>\n",
              "      <td>9</td>\n",
              "      <td>6</td>\n",
              "      <td>64</td>\n",
              "      <td>40.672553</td>\n",
              "      <td>-73.827762</td>\n",
              "      <td>600</td>\n",
              "      <td>D</td>\n",
              "      <td>GD</td>\n",
              "      <td>...</td>\n",
              "      <td>0.0</td>\n",
              "      <td>0.0</td>\n",
              "      <td>0.0</td>\n",
              "      <td>0.0</td>\n",
              "      <td>1.0</td>\n",
              "      <td>0.0</td>\n",
              "      <td>0.0</td>\n",
              "      <td>1.0</td>\n",
              "      <td>0.0</td>\n",
              "      <td>0.0</td>\n",
              "    </tr>\n",
              "    <tr>\n",
              "      <th>4</th>\n",
              "      <td>AQU</td>\n",
              "      <td>01-01-2019</td>\n",
              "      <td>9</td>\n",
              "      <td>6</td>\n",
              "      <td>65</td>\n",
              "      <td>40.672596</td>\n",
              "      <td>-73.827742</td>\n",
              "      <td>600</td>\n",
              "      <td>D</td>\n",
              "      <td>GD</td>\n",
              "      <td>...</td>\n",
              "      <td>0.0</td>\n",
              "      <td>0.0</td>\n",
              "      <td>0.0</td>\n",
              "      <td>0.0</td>\n",
              "      <td>1.0</td>\n",
              "      <td>0.0</td>\n",
              "      <td>0.0</td>\n",
              "      <td>1.0</td>\n",
              "      <td>0.0</td>\n",
              "      <td>0.0</td>\n",
              "    </tr>\n",
              "    <tr>\n",
              "      <th>...</th>\n",
              "      <td>...</td>\n",
              "      <td>...</td>\n",
              "      <td>...</td>\n",
              "      <td>...</td>\n",
              "      <td>...</td>\n",
              "      <td>...</td>\n",
              "      <td>...</td>\n",
              "      <td>...</td>\n",
              "      <td>...</td>\n",
              "      <td>...</td>\n",
              "      <td>...</td>\n",
              "      <td>...</td>\n",
              "      <td>...</td>\n",
              "      <td>...</td>\n",
              "      <td>...</td>\n",
              "      <td>...</td>\n",
              "      <td>...</td>\n",
              "      <td>...</td>\n",
              "      <td>...</td>\n",
              "      <td>...</td>\n",
              "      <td>...</td>\n",
              "    </tr>\n",
              "    <tr>\n",
              "      <th>9995</th>\n",
              "      <td>BEL</td>\n",
              "      <td>15-09-2019</td>\n",
              "      <td>9</td>\n",
              "      <td>9</td>\n",
              "      <td>251</td>\n",
              "      <td>40.714156</td>\n",
              "      <td>-73.725067</td>\n",
              "      <td>700</td>\n",
              "      <td>T</td>\n",
              "      <td>FM</td>\n",
              "      <td>...</td>\n",
              "      <td>0.0</td>\n",
              "      <td>1.0</td>\n",
              "      <td>1.0</td>\n",
              "      <td>0.0</td>\n",
              "      <td>0.0</td>\n",
              "      <td>0.0</td>\n",
              "      <td>0.0</td>\n",
              "      <td>0.0</td>\n",
              "      <td>1.0</td>\n",
              "      <td>0.0</td>\n",
              "    </tr>\n",
              "    <tr>\n",
              "      <th>9996</th>\n",
              "      <td>BEL</td>\n",
              "      <td>15-09-2019</td>\n",
              "      <td>9</td>\n",
              "      <td>9</td>\n",
              "      <td>252</td>\n",
              "      <td>40.714142</td>\n",
              "      <td>-73.725013</td>\n",
              "      <td>700</td>\n",
              "      <td>T</td>\n",
              "      <td>FM</td>\n",
              "      <td>...</td>\n",
              "      <td>0.0</td>\n",
              "      <td>1.0</td>\n",
              "      <td>1.0</td>\n",
              "      <td>0.0</td>\n",
              "      <td>0.0</td>\n",
              "      <td>0.0</td>\n",
              "      <td>0.0</td>\n",
              "      <td>0.0</td>\n",
              "      <td>1.0</td>\n",
              "      <td>0.0</td>\n",
              "    </tr>\n",
              "    <tr>\n",
              "      <th>9997</th>\n",
              "      <td>BEL</td>\n",
              "      <td>15-09-2019</td>\n",
              "      <td>9</td>\n",
              "      <td>9</td>\n",
              "      <td>253</td>\n",
              "      <td>40.714127</td>\n",
              "      <td>-73.724959</td>\n",
              "      <td>700</td>\n",
              "      <td>T</td>\n",
              "      <td>FM</td>\n",
              "      <td>...</td>\n",
              "      <td>0.0</td>\n",
              "      <td>1.0</td>\n",
              "      <td>1.0</td>\n",
              "      <td>0.0</td>\n",
              "      <td>0.0</td>\n",
              "      <td>0.0</td>\n",
              "      <td>0.0</td>\n",
              "      <td>0.0</td>\n",
              "      <td>1.0</td>\n",
              "      <td>0.0</td>\n",
              "    </tr>\n",
              "    <tr>\n",
              "      <th>9998</th>\n",
              "      <td>BEL</td>\n",
              "      <td>15-09-2019</td>\n",
              "      <td>9</td>\n",
              "      <td>9</td>\n",
              "      <td>254</td>\n",
              "      <td>40.714113</td>\n",
              "      <td>-73.724905</td>\n",
              "      <td>700</td>\n",
              "      <td>T</td>\n",
              "      <td>FM</td>\n",
              "      <td>...</td>\n",
              "      <td>0.0</td>\n",
              "      <td>1.0</td>\n",
              "      <td>1.0</td>\n",
              "      <td>0.0</td>\n",
              "      <td>0.0</td>\n",
              "      <td>0.0</td>\n",
              "      <td>0.0</td>\n",
              "      <td>0.0</td>\n",
              "      <td>1.0</td>\n",
              "      <td>0.0</td>\n",
              "    </tr>\n",
              "    <tr>\n",
              "      <th>9999</th>\n",
              "      <td>BEL</td>\n",
              "      <td>15-09-2019</td>\n",
              "      <td>9</td>\n",
              "      <td>9</td>\n",
              "      <td>255</td>\n",
              "      <td>40.714099</td>\n",
              "      <td>-73.724850</td>\n",
              "      <td>700</td>\n",
              "      <td>T</td>\n",
              "      <td>FM</td>\n",
              "      <td>...</td>\n",
              "      <td>0.0</td>\n",
              "      <td>1.0</td>\n",
              "      <td>1.0</td>\n",
              "      <td>0.0</td>\n",
              "      <td>0.0</td>\n",
              "      <td>0.0</td>\n",
              "      <td>0.0</td>\n",
              "      <td>0.0</td>\n",
              "      <td>1.0</td>\n",
              "      <td>0.0</td>\n",
              "    </tr>\n",
              "  </tbody>\n",
              "</table>\n",
              "<p>10000 rows × 35 columns</p>\n",
              "</div>\n",
              "      <button class=\"colab-df-convert\" onclick=\"convertToInteractive('df-bd5a62ba-5d5d-4e7a-91a0-820d17ce4c59')\"\n",
              "              title=\"Convert this dataframe to an interactive table.\"\n",
              "              style=\"display:none;\">\n",
              "        \n",
              "  <svg xmlns=\"http://www.w3.org/2000/svg\" height=\"24px\"viewBox=\"0 0 24 24\"\n",
              "       width=\"24px\">\n",
              "    <path d=\"M0 0h24v24H0V0z\" fill=\"none\"/>\n",
              "    <path d=\"M18.56 5.44l.94 2.06.94-2.06 2.06-.94-2.06-.94-.94-2.06-.94 2.06-2.06.94zm-11 1L8.5 8.5l.94-2.06 2.06-.94-2.06-.94L8.5 2.5l-.94 2.06-2.06.94zm10 10l.94 2.06.94-2.06 2.06-.94-2.06-.94-.94-2.06-.94 2.06-2.06.94z\"/><path d=\"M17.41 7.96l-1.37-1.37c-.4-.4-.92-.59-1.43-.59-.52 0-1.04.2-1.43.59L10.3 9.45l-7.72 7.72c-.78.78-.78 2.05 0 2.83L4 21.41c.39.39.9.59 1.41.59.51 0 1.02-.2 1.41-.59l7.78-7.78 2.81-2.81c.8-.78.8-2.07 0-2.86zM5.41 20L4 18.59l7.72-7.72 1.47 1.35L5.41 20z\"/>\n",
              "  </svg>\n",
              "      </button>\n",
              "      \n",
              "  <style>\n",
              "    .colab-df-container {\n",
              "      display:flex;\n",
              "      flex-wrap:wrap;\n",
              "      gap: 12px;\n",
              "    }\n",
              "\n",
              "    .colab-df-convert {\n",
              "      background-color: #E8F0FE;\n",
              "      border: none;\n",
              "      border-radius: 50%;\n",
              "      cursor: pointer;\n",
              "      display: none;\n",
              "      fill: #1967D2;\n",
              "      height: 32px;\n",
              "      padding: 0 0 0 0;\n",
              "      width: 32px;\n",
              "    }\n",
              "\n",
              "    .colab-df-convert:hover {\n",
              "      background-color: #E2EBFA;\n",
              "      box-shadow: 0px 1px 2px rgba(60, 64, 67, 0.3), 0px 1px 3px 1px rgba(60, 64, 67, 0.15);\n",
              "      fill: #174EA6;\n",
              "    }\n",
              "\n",
              "    [theme=dark] .colab-df-convert {\n",
              "      background-color: #3B4455;\n",
              "      fill: #D2E3FC;\n",
              "    }\n",
              "\n",
              "    [theme=dark] .colab-df-convert:hover {\n",
              "      background-color: #434B5C;\n",
              "      box-shadow: 0px 1px 3px 1px rgba(0, 0, 0, 0.15);\n",
              "      filter: drop-shadow(0px 1px 2px rgba(0, 0, 0, 0.3));\n",
              "      fill: #FFFFFF;\n",
              "    }\n",
              "  </style>\n",
              "\n",
              "      <script>\n",
              "        const buttonEl =\n",
              "          document.querySelector('#df-bd5a62ba-5d5d-4e7a-91a0-820d17ce4c59 button.colab-df-convert');\n",
              "        buttonEl.style.display =\n",
              "          google.colab.kernel.accessAllowed ? 'block' : 'none';\n",
              "\n",
              "        async function convertToInteractive(key) {\n",
              "          const element = document.querySelector('#df-bd5a62ba-5d5d-4e7a-91a0-820d17ce4c59');\n",
              "          const dataTable =\n",
              "            await google.colab.kernel.invokeFunction('convertToInteractive',\n",
              "                                                     [key], {});\n",
              "          if (!dataTable) return;\n",
              "\n",
              "          const docLinkHtml = 'Like what you see? Visit the ' +\n",
              "            '<a target=\"_blank\" href=https://colab.research.google.com/notebooks/data_table.ipynb>data table notebook</a>'\n",
              "            + ' to learn more about interactive tables.';\n",
              "          element.innerHTML = '';\n",
              "          dataTable['output_type'] = 'display_data';\n",
              "          await google.colab.output.renderOutput(dataTable, element);\n",
              "          const docLink = document.createElement('div');\n",
              "          docLink.innerHTML = docLinkHtml;\n",
              "          element.appendChild(docLink);\n",
              "        }\n",
              "      </script>\n",
              "    </div>\n",
              "  </div>\n",
              "  "
            ]
          },
          "metadata": {},
          "execution_count": 6
        }
      ]
    },
    {
      "cell_type": "code",
      "source": [
        "df.drop(['race_date','track_id','course_type','track_condition\\xa0','race_type\\xa0','jockey\\xa0','program_number\\xa0'],axis=1,inplace=True)\n",
        "df=pd.concat([df,f],axis=1)"
      ],
      "metadata": {
        "id": "5rP5UqD42VD7"
      },
      "execution_count": 7,
      "outputs": []
    },
    {
      "cell_type": "code",
      "source": [
        "df.isnull().any()\n"
      ],
      "metadata": {
        "id": "eO8sYRJscoju",
        "outputId": "807c9caa-0212-44fd-f8d0-5655e98cab3d",
        "colab": {
          "base_uri": "https://localhost:8080/"
        }
      },
      "execution_count": 8,
      "outputs": [
        {
          "output_type": "execute_result",
          "data": {
            "text/plain": [
              "race_number            False\n",
              "trakus_index           False\n",
              "latitude               False\n",
              "longitude              False\n",
              "distance_id            False\n",
              "run_up_distance        False\n",
              "purse                  False\n",
              "post_time              False\n",
              "weight_carried         False\n",
              "odds                   False\n",
              "position_at_finish     False\n",
              "ALW                    False\n",
              "AOC                    False\n",
              "CLM                    False\n",
              "SST                    False\n",
              "D                      False\n",
              "I                      False\n",
              "M                      False\n",
              "O                      False\n",
              "T                      False\n",
              "FM                     False\n",
              "FT                     False\n",
              "GD                     False\n",
              "MY                     False\n",
              "SY                     False\n",
              "AQU                    False\n",
              "BEL                    False\n",
              "SAR                    False\n",
              "dtype: bool"
            ]
          },
          "metadata": {},
          "execution_count": 8
        }
      ]
    },
    {
      "cell_type": "code",
      "source": [],
      "metadata": {
        "id": "waldf09Tdenj"
      },
      "execution_count": 8,
      "outputs": []
    },
    {
      "cell_type": "markdown",
      "source": [
        "Removing the null values"
      ],
      "metadata": {
        "id": "XoIiUXNIet33"
      }
    },
    {
      "cell_type": "code",
      "source": [
        "df.replace([np.inf,-np.inf],np.nan ,inplace=True)\n",
        "df.dropna(inplace=True)\n",
        "df.isnull().any()"
      ],
      "metadata": {
        "id": "e1J7dr_0eT1-",
        "outputId": "58af25d1-0c7c-456d-b633-21513addd3e6",
        "colab": {
          "base_uri": "https://localhost:8080/"
        }
      },
      "execution_count": 9,
      "outputs": [
        {
          "output_type": "execute_result",
          "data": {
            "text/plain": [
              "race_number            False\n",
              "trakus_index           False\n",
              "latitude               False\n",
              "longitude              False\n",
              "distance_id            False\n",
              "run_up_distance        False\n",
              "purse                  False\n",
              "post_time              False\n",
              "weight_carried         False\n",
              "odds                   False\n",
              "position_at_finish     False\n",
              "ALW                    False\n",
              "AOC                    False\n",
              "CLM                    False\n",
              "SST                    False\n",
              "D                      False\n",
              "I                      False\n",
              "M                      False\n",
              "O                      False\n",
              "T                      False\n",
              "FM                     False\n",
              "FT                     False\n",
              "GD                     False\n",
              "MY                     False\n",
              "SY                     False\n",
              "AQU                    False\n",
              "BEL                    False\n",
              "SAR                    False\n",
              "dtype: bool"
            ]
          },
          "metadata": {},
          "execution_count": 9
        }
      ]
    },
    {
      "cell_type": "code",
      "source": [
        "# Standardize the data to have a mean of ~0 and a variance of 1\n",
        "X_std = StandardScaler().fit_transform(df)\n",
        "# Create a PCA instance: pca\n",
        "pca = PCA(n_components=15)\n",
        "principalComponents = pca.fit_transform(X_std)\n",
        "# Plot the explained variances\n",
        "features = range(pca.n_components_)\n",
        "plt.bar(features, pca.explained_variance_ratio_, color='black')\n",
        "plt.xlabel('PCA features')\n",
        "plt.ylabel('variance %')\n",
        "plt.xticks(features)\n",
        "# Save components to a DataFrame\n",
        "PCA_components = pd.DataFrame(principalComponents)\n",
        "PCA_components"
      ],
      "metadata": {
        "colab": {
          "base_uri": "https://localhost:8080/",
          "height": 750
        },
        "id": "KPX-ToAJ11Ij",
        "outputId": "a3f69b9e-802d-433f-fe3c-644ec4e9c280"
      },
      "execution_count": 10,
      "outputs": [
        {
          "output_type": "execute_result",
          "data": {
            "text/plain": [
              "            0         1         2         3         4         5         6   \\\n",
              "0    -2.937055 -1.783390 -0.968456  0.187720  1.664117  1.233308  0.144967   \n",
              "1    -2.935940 -1.783399 -0.968563  0.187555  1.663709  1.233048  0.145186   \n",
              "2    -2.948196 -1.783311 -0.967379  0.189370  1.668198  1.235907  0.142772   \n",
              "3    -2.947082 -1.783318 -0.967487  0.189205  1.667789  1.235647  0.142991   \n",
              "4    -2.945968 -1.783326 -0.967595  0.189040  1.667381  1.235387  0.143211   \n",
              "...        ...       ...       ...       ...       ...       ...       ...   \n",
              "9995 -1.245955  3.568501  3.596716 -0.404281  1.132924 -0.214310 -1.545279   \n",
              "9996 -1.244789  3.568814  3.596576 -0.404575  1.132522 -0.214602 -1.544947   \n",
              "9997 -1.243621  3.569133  3.596435 -0.404872  1.132121 -0.214895 -1.544614   \n",
              "9998 -1.242455  3.569446  3.596295 -0.405165  1.131719 -0.215188 -1.544282   \n",
              "9999 -1.241286  3.569771  3.596153 -0.405464  1.131318 -0.215482 -1.543947   \n",
              "\n",
              "            7         8         9         10        11        12        13  \\\n",
              "0    -0.481952  0.292894  0.375519 -0.129089 -0.593056  0.914671 -1.335012   \n",
              "1    -0.482941  0.293878  0.373931 -0.124571 -0.592698  0.915112 -1.334539   \n",
              "2    -0.472058  0.283046  0.391399 -0.174272 -0.596637  0.910257 -1.339742   \n",
              "3    -0.473047  0.284031  0.389811 -0.169754 -0.596279  0.910699 -1.339269   \n",
              "4    -0.474037  0.285016  0.388223 -0.165235 -0.595921  0.911140 -1.338796   \n",
              "...        ...       ...       ...       ...       ...       ...       ...   \n",
              "9995 -1.028268  2.041355  1.049626  0.374711  0.496213 -0.088455 -0.006789   \n",
              "9996 -1.029260  2.042331  1.048089  0.379239  0.496520 -0.088061 -0.006303   \n",
              "9997 -1.030253  2.043307  1.046553  0.383768  0.496827 -0.087669 -0.005817   \n",
              "9998 -1.031245  2.044284  1.045016  0.388297  0.497134 -0.087276 -0.005331   \n",
              "9999 -1.032237  2.045259  1.043481  0.392826  0.497440 -0.086884 -0.004844   \n",
              "\n",
              "            14  \n",
              "0    -0.215938  \n",
              "1    -0.215857  \n",
              "2    -0.216749  \n",
              "3    -0.216668  \n",
              "4    -0.216587  \n",
              "...        ...  \n",
              "9995  0.385953  \n",
              "9996  0.385951  \n",
              "9997  0.385948  \n",
              "9998  0.385946  \n",
              "9999  0.385941  \n",
              "\n",
              "[10000 rows x 15 columns]"
            ],
            "text/html": [
              "\n",
              "  <div id=\"df-d158490b-ac25-4859-bab9-8e8b6937ca7b\">\n",
              "    <div class=\"colab-df-container\">\n",
              "      <div>\n",
              "<style scoped>\n",
              "    .dataframe tbody tr th:only-of-type {\n",
              "        vertical-align: middle;\n",
              "    }\n",
              "\n",
              "    .dataframe tbody tr th {\n",
              "        vertical-align: top;\n",
              "    }\n",
              "\n",
              "    .dataframe thead th {\n",
              "        text-align: right;\n",
              "    }\n",
              "</style>\n",
              "<table border=\"1\" class=\"dataframe\">\n",
              "  <thead>\n",
              "    <tr style=\"text-align: right;\">\n",
              "      <th></th>\n",
              "      <th>0</th>\n",
              "      <th>1</th>\n",
              "      <th>2</th>\n",
              "      <th>3</th>\n",
              "      <th>4</th>\n",
              "      <th>5</th>\n",
              "      <th>6</th>\n",
              "      <th>7</th>\n",
              "      <th>8</th>\n",
              "      <th>9</th>\n",
              "      <th>10</th>\n",
              "      <th>11</th>\n",
              "      <th>12</th>\n",
              "      <th>13</th>\n",
              "      <th>14</th>\n",
              "    </tr>\n",
              "  </thead>\n",
              "  <tbody>\n",
              "    <tr>\n",
              "      <th>0</th>\n",
              "      <td>-2.937055</td>\n",
              "      <td>-1.783390</td>\n",
              "      <td>-0.968456</td>\n",
              "      <td>0.187720</td>\n",
              "      <td>1.664117</td>\n",
              "      <td>1.233308</td>\n",
              "      <td>0.144967</td>\n",
              "      <td>-0.481952</td>\n",
              "      <td>0.292894</td>\n",
              "      <td>0.375519</td>\n",
              "      <td>-0.129089</td>\n",
              "      <td>-0.593056</td>\n",
              "      <td>0.914671</td>\n",
              "      <td>-1.335012</td>\n",
              "      <td>-0.215938</td>\n",
              "    </tr>\n",
              "    <tr>\n",
              "      <th>1</th>\n",
              "      <td>-2.935940</td>\n",
              "      <td>-1.783399</td>\n",
              "      <td>-0.968563</td>\n",
              "      <td>0.187555</td>\n",
              "      <td>1.663709</td>\n",
              "      <td>1.233048</td>\n",
              "      <td>0.145186</td>\n",
              "      <td>-0.482941</td>\n",
              "      <td>0.293878</td>\n",
              "      <td>0.373931</td>\n",
              "      <td>-0.124571</td>\n",
              "      <td>-0.592698</td>\n",
              "      <td>0.915112</td>\n",
              "      <td>-1.334539</td>\n",
              "      <td>-0.215857</td>\n",
              "    </tr>\n",
              "    <tr>\n",
              "      <th>2</th>\n",
              "      <td>-2.948196</td>\n",
              "      <td>-1.783311</td>\n",
              "      <td>-0.967379</td>\n",
              "      <td>0.189370</td>\n",
              "      <td>1.668198</td>\n",
              "      <td>1.235907</td>\n",
              "      <td>0.142772</td>\n",
              "      <td>-0.472058</td>\n",
              "      <td>0.283046</td>\n",
              "      <td>0.391399</td>\n",
              "      <td>-0.174272</td>\n",
              "      <td>-0.596637</td>\n",
              "      <td>0.910257</td>\n",
              "      <td>-1.339742</td>\n",
              "      <td>-0.216749</td>\n",
              "    </tr>\n",
              "    <tr>\n",
              "      <th>3</th>\n",
              "      <td>-2.947082</td>\n",
              "      <td>-1.783318</td>\n",
              "      <td>-0.967487</td>\n",
              "      <td>0.189205</td>\n",
              "      <td>1.667789</td>\n",
              "      <td>1.235647</td>\n",
              "      <td>0.142991</td>\n",
              "      <td>-0.473047</td>\n",
              "      <td>0.284031</td>\n",
              "      <td>0.389811</td>\n",
              "      <td>-0.169754</td>\n",
              "      <td>-0.596279</td>\n",
              "      <td>0.910699</td>\n",
              "      <td>-1.339269</td>\n",
              "      <td>-0.216668</td>\n",
              "    </tr>\n",
              "    <tr>\n",
              "      <th>4</th>\n",
              "      <td>-2.945968</td>\n",
              "      <td>-1.783326</td>\n",
              "      <td>-0.967595</td>\n",
              "      <td>0.189040</td>\n",
              "      <td>1.667381</td>\n",
              "      <td>1.235387</td>\n",
              "      <td>0.143211</td>\n",
              "      <td>-0.474037</td>\n",
              "      <td>0.285016</td>\n",
              "      <td>0.388223</td>\n",
              "      <td>-0.165235</td>\n",
              "      <td>-0.595921</td>\n",
              "      <td>0.911140</td>\n",
              "      <td>-1.338796</td>\n",
              "      <td>-0.216587</td>\n",
              "    </tr>\n",
              "    <tr>\n",
              "      <th>...</th>\n",
              "      <td>...</td>\n",
              "      <td>...</td>\n",
              "      <td>...</td>\n",
              "      <td>...</td>\n",
              "      <td>...</td>\n",
              "      <td>...</td>\n",
              "      <td>...</td>\n",
              "      <td>...</td>\n",
              "      <td>...</td>\n",
              "      <td>...</td>\n",
              "      <td>...</td>\n",
              "      <td>...</td>\n",
              "      <td>...</td>\n",
              "      <td>...</td>\n",
              "      <td>...</td>\n",
              "    </tr>\n",
              "    <tr>\n",
              "      <th>9995</th>\n",
              "      <td>-1.245955</td>\n",
              "      <td>3.568501</td>\n",
              "      <td>3.596716</td>\n",
              "      <td>-0.404281</td>\n",
              "      <td>1.132924</td>\n",
              "      <td>-0.214310</td>\n",
              "      <td>-1.545279</td>\n",
              "      <td>-1.028268</td>\n",
              "      <td>2.041355</td>\n",
              "      <td>1.049626</td>\n",
              "      <td>0.374711</td>\n",
              "      <td>0.496213</td>\n",
              "      <td>-0.088455</td>\n",
              "      <td>-0.006789</td>\n",
              "      <td>0.385953</td>\n",
              "    </tr>\n",
              "    <tr>\n",
              "      <th>9996</th>\n",
              "      <td>-1.244789</td>\n",
              "      <td>3.568814</td>\n",
              "      <td>3.596576</td>\n",
              "      <td>-0.404575</td>\n",
              "      <td>1.132522</td>\n",
              "      <td>-0.214602</td>\n",
              "      <td>-1.544947</td>\n",
              "      <td>-1.029260</td>\n",
              "      <td>2.042331</td>\n",
              "      <td>1.048089</td>\n",
              "      <td>0.379239</td>\n",
              "      <td>0.496520</td>\n",
              "      <td>-0.088061</td>\n",
              "      <td>-0.006303</td>\n",
              "      <td>0.385951</td>\n",
              "    </tr>\n",
              "    <tr>\n",
              "      <th>9997</th>\n",
              "      <td>-1.243621</td>\n",
              "      <td>3.569133</td>\n",
              "      <td>3.596435</td>\n",
              "      <td>-0.404872</td>\n",
              "      <td>1.132121</td>\n",
              "      <td>-0.214895</td>\n",
              "      <td>-1.544614</td>\n",
              "      <td>-1.030253</td>\n",
              "      <td>2.043307</td>\n",
              "      <td>1.046553</td>\n",
              "      <td>0.383768</td>\n",
              "      <td>0.496827</td>\n",
              "      <td>-0.087669</td>\n",
              "      <td>-0.005817</td>\n",
              "      <td>0.385948</td>\n",
              "    </tr>\n",
              "    <tr>\n",
              "      <th>9998</th>\n",
              "      <td>-1.242455</td>\n",
              "      <td>3.569446</td>\n",
              "      <td>3.596295</td>\n",
              "      <td>-0.405165</td>\n",
              "      <td>1.131719</td>\n",
              "      <td>-0.215188</td>\n",
              "      <td>-1.544282</td>\n",
              "      <td>-1.031245</td>\n",
              "      <td>2.044284</td>\n",
              "      <td>1.045016</td>\n",
              "      <td>0.388297</td>\n",
              "      <td>0.497134</td>\n",
              "      <td>-0.087276</td>\n",
              "      <td>-0.005331</td>\n",
              "      <td>0.385946</td>\n",
              "    </tr>\n",
              "    <tr>\n",
              "      <th>9999</th>\n",
              "      <td>-1.241286</td>\n",
              "      <td>3.569771</td>\n",
              "      <td>3.596153</td>\n",
              "      <td>-0.405464</td>\n",
              "      <td>1.131318</td>\n",
              "      <td>-0.215482</td>\n",
              "      <td>-1.543947</td>\n",
              "      <td>-1.032237</td>\n",
              "      <td>2.045259</td>\n",
              "      <td>1.043481</td>\n",
              "      <td>0.392826</td>\n",
              "      <td>0.497440</td>\n",
              "      <td>-0.086884</td>\n",
              "      <td>-0.004844</td>\n",
              "      <td>0.385941</td>\n",
              "    </tr>\n",
              "  </tbody>\n",
              "</table>\n",
              "<p>10000 rows × 15 columns</p>\n",
              "</div>\n",
              "      <button class=\"colab-df-convert\" onclick=\"convertToInteractive('df-d158490b-ac25-4859-bab9-8e8b6937ca7b')\"\n",
              "              title=\"Convert this dataframe to an interactive table.\"\n",
              "              style=\"display:none;\">\n",
              "        \n",
              "  <svg xmlns=\"http://www.w3.org/2000/svg\" height=\"24px\"viewBox=\"0 0 24 24\"\n",
              "       width=\"24px\">\n",
              "    <path d=\"M0 0h24v24H0V0z\" fill=\"none\"/>\n",
              "    <path d=\"M18.56 5.44l.94 2.06.94-2.06 2.06-.94-2.06-.94-.94-2.06-.94 2.06-2.06.94zm-11 1L8.5 8.5l.94-2.06 2.06-.94-2.06-.94L8.5 2.5l-.94 2.06-2.06.94zm10 10l.94 2.06.94-2.06 2.06-.94-2.06-.94-.94-2.06-.94 2.06-2.06.94z\"/><path d=\"M17.41 7.96l-1.37-1.37c-.4-.4-.92-.59-1.43-.59-.52 0-1.04.2-1.43.59L10.3 9.45l-7.72 7.72c-.78.78-.78 2.05 0 2.83L4 21.41c.39.39.9.59 1.41.59.51 0 1.02-.2 1.41-.59l7.78-7.78 2.81-2.81c.8-.78.8-2.07 0-2.86zM5.41 20L4 18.59l7.72-7.72 1.47 1.35L5.41 20z\"/>\n",
              "  </svg>\n",
              "      </button>\n",
              "      \n",
              "  <style>\n",
              "    .colab-df-container {\n",
              "      display:flex;\n",
              "      flex-wrap:wrap;\n",
              "      gap: 12px;\n",
              "    }\n",
              "\n",
              "    .colab-df-convert {\n",
              "      background-color: #E8F0FE;\n",
              "      border: none;\n",
              "      border-radius: 50%;\n",
              "      cursor: pointer;\n",
              "      display: none;\n",
              "      fill: #1967D2;\n",
              "      height: 32px;\n",
              "      padding: 0 0 0 0;\n",
              "      width: 32px;\n",
              "    }\n",
              "\n",
              "    .colab-df-convert:hover {\n",
              "      background-color: #E2EBFA;\n",
              "      box-shadow: 0px 1px 2px rgba(60, 64, 67, 0.3), 0px 1px 3px 1px rgba(60, 64, 67, 0.15);\n",
              "      fill: #174EA6;\n",
              "    }\n",
              "\n",
              "    [theme=dark] .colab-df-convert {\n",
              "      background-color: #3B4455;\n",
              "      fill: #D2E3FC;\n",
              "    }\n",
              "\n",
              "    [theme=dark] .colab-df-convert:hover {\n",
              "      background-color: #434B5C;\n",
              "      box-shadow: 0px 1px 3px 1px rgba(0, 0, 0, 0.15);\n",
              "      filter: drop-shadow(0px 1px 2px rgba(0, 0, 0, 0.3));\n",
              "      fill: #FFFFFF;\n",
              "    }\n",
              "  </style>\n",
              "\n",
              "      <script>\n",
              "        const buttonEl =\n",
              "          document.querySelector('#df-d158490b-ac25-4859-bab9-8e8b6937ca7b button.colab-df-convert');\n",
              "        buttonEl.style.display =\n",
              "          google.colab.kernel.accessAllowed ? 'block' : 'none';\n",
              "\n",
              "        async function convertToInteractive(key) {\n",
              "          const element = document.querySelector('#df-d158490b-ac25-4859-bab9-8e8b6937ca7b');\n",
              "          const dataTable =\n",
              "            await google.colab.kernel.invokeFunction('convertToInteractive',\n",
              "                                                     [key], {});\n",
              "          if (!dataTable) return;\n",
              "\n",
              "          const docLinkHtml = 'Like what you see? Visit the ' +\n",
              "            '<a target=\"_blank\" href=https://colab.research.google.com/notebooks/data_table.ipynb>data table notebook</a>'\n",
              "            + ' to learn more about interactive tables.';\n",
              "          element.innerHTML = '';\n",
              "          dataTable['output_type'] = 'display_data';\n",
              "          await google.colab.output.renderOutput(dataTable, element);\n",
              "          const docLink = document.createElement('div');\n",
              "          docLink.innerHTML = docLinkHtml;\n",
              "          element.appendChild(docLink);\n",
              "        }\n",
              "      </script>\n",
              "    </div>\n",
              "  </div>\n",
              "  "
            ]
          },
          "metadata": {},
          "execution_count": 10
        },
        {
          "output_type": "display_data",
          "data": {
            "text/plain": [
              "<Figure size 432x288 with 1 Axes>"
            ],
            "image/png": "[encoded data removed]"
          },
          "metadata": {
            "needs_background": "light"
          }
        }
      ]
    },
    {
      "cell_type": "code",
      "source": [
        "plt.scatter(PCA_components[0], PCA_components[1], alpha=.1, color='black')\n",
        "plt.xlabel('PCA 1')\n",
        "plt.ylabel('PCA 2')"
      ],
      "metadata": {
        "colab": {
          "base_uri": "https://localhost:8080/",
          "height": 296
        },
        "id": "ycPbdnNp3OI9",
        "outputId": "8fdd6cfb-746d-42f1-c550-aeff4995d1ba"
      },
      "execution_count": 11,
      "outputs": [
        {
          "output_type": "execute_result",
          "data": {
            "text/plain": [
              "Text(0, 0.5, 'PCA 2')"
            ]
          },
          "metadata": {},
          "execution_count": 11
        },
        {
          "output_type": "display_data",
          "data": {
            "text/plain": [
              "<Figure size 432x288 with 1 Axes>"
            ],
            "image/png": "[encoded data removed]"
          },
          "metadata": {
            "needs_background": "light"
          }
        }
      ]
    },
    {
      "cell_type": "code",
      "source": [
        "pca.explained_variance_"
      ],
      "metadata": {
        "colab": {
          "base_uri": "https://localhost:8080/"
        },
        "id": "Y1-cNn_b4Vyp",
        "outputId": "6736c156-f134-4054-f591-6bc7896c8325"
      },
      "execution_count": 12,
      "outputs": [
        {
          "output_type": "execute_result",
          "data": {
            "text/plain": [
              "array([8.60266418, 4.61060945, 2.91039539, 2.33871884, 1.66370617,\n",
              "       1.54830755, 1.24810631, 1.12363161, 1.03887143, 0.79524908,\n",
              "       0.6030335 , 0.41529772, 0.34551844, 0.28320443, 0.16111065])"
            ]
          },
          "metadata": {},
          "execution_count": 12
        }
      ]
    },
    {
      "cell_type": "code",
      "source": [
        "pca.explained_variance_ratio_"
      ],
      "metadata": {
        "colab": {
          "base_uri": "https://localhost:8080/"
        },
        "id": "onx8UkjS4jRD",
        "outputId": "835c4d5d-1ba5-4fcd-881c-d70a49625ed8"
      },
      "execution_count": 13,
      "outputs": [
        {
          "output_type": "execute_result",
          "data": {
            "text/plain": [
              "array([0.30720728, 0.16464816, 0.1039323 , 0.08351732, 0.05941214,\n",
              "       0.05529117, 0.04457077, 0.04012569, 0.03709884, 0.02839891,\n",
              "       0.02153476, 0.01483058, 0.01233871, 0.01011343, 0.00575338])"
            ]
          },
          "metadata": {},
          "execution_count": 13
        }
      ]
    },
    {
      "cell_type": "code",
      "source": [],
      "metadata": {
        "id": "6NV0Q7zi5aEq"
      },
      "execution_count": 13,
      "outputs": []
    },
    {
      "cell_type": "markdown",
      "source": [
        "explained_variance plot"
      ],
      "metadata": {
        "id": "Fc8hEX4Q5al1"
      }
    },
    {
      "cell_type": "code",
      "source": [
        "plt.bar(range(1,len(pca.explained_variance_ )+1),pca.explained_variance_ )\n",
        "plt.ylabel('Explained variance')\n",
        "plt.xlabel('Components')\n",
        "plt.plot(range(1,len(pca.explained_variance_ )+1),\n",
        "         np.cumsum(pca.explained_variance_),\n",
        "         c='red',\n",
        "         label=\"Cumulative Explained Variance\")\n",
        "plt.legend(loc='upper left')"
      ],
      "metadata": {
        "colab": {
          "base_uri": "https://localhost:8080/",
          "height": 296
        },
        "id": "bjID-Iwo4wZ6",
        "outputId": "0860f13d-fc69-48ad-dc17-56f65ccb41b4"
      },
      "execution_count": 14,
      "outputs": [
        {
          "output_type": "execute_result",
          "data": {
            "text/plain": [
              "<matplotlib.legend.Legend at 0x7face41c4050>"
            ]
          },
          "metadata": {},
          "execution_count": 14
        },
        {
          "output_type": "display_data",
          "data": {
            "text/plain": [
              "<Figure size 432x288 with 1 Axes>"
            ],
            "image/png": "[encoded data removed]"
          },
          "metadata": {
            "needs_background": "light"
          }
        }
      ]
    },
    {
      "cell_type": "code",
      "source": [],
      "metadata": {
        "id": "jovhmcxg5geE"
      },
      "execution_count": 14,
      "outputs": []
    },
    {
      "cell_type": "markdown",
      "source": [
        "explained_variance_ratio_ plot"
      ],
      "metadata": {
        "id": "vYWe8EoN5gu9"
      }
    },
    {
      "cell_type": "code",
      "source": [
        "plt.plot(pca.explained_variance_ratio_)\n",
        "plt.xlabel('number of components')\n",
        "plt.ylabel('cumulative explained variance')\n",
        "plt.show()\n",
        "\n",
        "\n",
        "#PCA1 is at 0 in xscale"
      ],
      "metadata": {
        "colab": {
          "base_uri": "https://localhost:8080/",
          "height": 279
        },
        "id": "aJYRS_gn5k9w",
        "outputId": "a957eb16-f322-4a97-e721-a32298dfe927"
      },
      "execution_count": 15,
      "outputs": [
        {
          "output_type": "display_data",
          "data": {
            "text/plain": [
              "<Figure size 432x288 with 1 Axes>"
            ],
            "image/png": "[encoded data removed]"
          },
          "metadata": {
            "needs_background": "light"
          }
        }
      ]
    },
    {
      "cell_type": "markdown",
      "source": [
        "Scree plot\n",
        "Scree plot is nothing but plot of eigen values(explained_variance_) for each of the components."
      ],
      "metadata": {
        "id": "v8dpKeFi6u5D"
      }
    },
    {
      "cell_type": "code",
      "source": [
        "plt.plot(pca.explained_variance_)\n",
        "plt.xlabel('number of components')\n",
        "plt.ylabel('cumulative explained variance')\n",
        "plt.show()"
      ],
      "metadata": {
        "colab": {
          "base_uri": "https://localhost:8080/",
          "height": 279
        },
        "id": "1AAnd2gX6yLd",
        "outputId": "b6166d3e-da67-4281-933c-f87fd7f492b9"
      },
      "execution_count": 16,
      "outputs": [
        {
          "output_type": "display_data",
          "data": {
            "text/plain": [
              "<Figure size 432x288 with 1 Axes>"
            ],
            "image/png": "[encoded data removed]"
          },
          "metadata": {
            "needs_background": "light"
          }
        }
      ]
    },
    {
      "cell_type": "markdown",
      "source": [
        "It can be seen from plots that, PCA-1 explains most of the variance than subsequent components. In other words, most of the features are explained and encompassed by PCA1"
      ],
      "metadata": {
        "id": "WyfZhnl17B0L"
      }
    },
    {
      "cell_type": "code",
      "source": [
        "plt.scatter(PCA_components[0], PCA_components[1], alpha=.1, color='black')\n",
        "plt.xlabel('PCA 1')\n",
        "plt.ylabel('PCA 2')"
      ],
      "metadata": {
        "colab": {
          "base_uri": "https://localhost:8080/",
          "height": 296
        },
        "id": "9qfJzncZ7Mj5",
        "outputId": "00b7ab57-711f-4a16-c376-b3af854b3837"
      },
      "execution_count": 17,
      "outputs": [
        {
          "output_type": "execute_result",
          "data": {
            "text/plain": [
              "Text(0, 0.5, 'PCA 2')"
            ]
          },
          "metadata": {},
          "execution_count": 17
        },
        {
          "output_type": "display_data",
          "data": {
            "text/plain": [
              "<Figure size 432x288 with 1 Axes>"
            ],
            "image/png": "[encoded data removed]"
          },
          "metadata": {
            "needs_background": "light"
          }
        }
      ]
    },
    {
      "cell_type": "markdown",
      "source": [
        "Effect of variables on each components\n",
        "components_ attribute provides principal axes in feature space, representing the directions of maximum variance in the data. This means, we can see influence on each of the components by features."
      ],
      "metadata": {
        "id": "TqM6Thkl9k3m"
      }
    },
    {
      "cell_type": "code",
      "source": [
        "import seaborn as sns\n",
        "ax = sns.heatmap(pca.components_,\n",
        "                 cmap='YlGnBu',\n",
        "                 yticklabels=[ \"PCA\"+str(x) for x in range(1,pca.n_components_+1)],\n",
        "                 #xticklabels=list(x.columns),\n",
        "                 cbar_kws={\"orientation\": \"horizontal\"})\n"
      ],
      "metadata": {
        "colab": {
          "base_uri": "https://localhost:8080/",
          "height": 249
        },
        "id": "UwOh947Q7llc",
        "outputId": "c80d14e9-529e-49c9-8d4d-83e09a75778e"
      },
      "execution_count": 18,
      "outputs": [
        {
          "output_type": "display_data",
          "data": {
            "text/plain": [
              "<Figure size 432x288 with 2 Axes>"
            ],
            "image/png": "[encoded data removed]"
          },
          "metadata": {
            "needs_background": "light"
          }
        }
      ]
    },
    {
      "cell_type": "code",
      "source": [
        "#def myplot(score,coeff,labels=None):\n",
        " #   xs = score[:,0]\n",
        "  #  ys = score[:,1]\n",
        "   # n = coeff.shape[0]\n",
        "    #scalex = 1.0/(xs.max() - xs.min())\n",
        "#    scaley = 1.0/(ys.max() - ys.min())\n",
        " #   plt.scatter(xs * scalex,ys * scaley,s=5)\n",
        "  #  for i in range(n):\n",
        "   #     plt.arrow(0, 0, coeff[i,0], coeff[i,1],color = 'r',alpha = 0.5)\n",
        "    #    if labels is None:\n",
        "     #       plt.text(coeff[i,0]* 1.15, coeff[i,1] * 1.15, \"Var\"+str(i+1), color = 'green', ha = 'center', va = 'center')\n",
        "      #  else:\n",
        "       #     plt.text(coeff[i,0]* 1.15, coeff[i,1] * 1.15, labels[i], color = 'g', ha = 'center', va = 'center')\n",
        " \n",
        "    #plt.xlabel(\"PC{}\".format(1))\n",
        "    #plt.ylabel(\"PC{}\".format(2))\n",
        "    #plt.grid()\n",
        "\n",
        "#myplot(principalComponents[:,0:2],np.transpose(pca.components_[0:2, :]))\n",
        "#plt.show()"
      ],
      "metadata": {
        "id": "e7ov2y6U_Z5a"
      },
      "execution_count": 19,
      "outputs": []
    },
    {
      "cell_type": "code",
      "source": [
        "km=KMeans()\n",
        "\n",
        "wcss = []\n",
        "\n",
        "for i in range(1,11):\n",
        "    km = KMeans(n_clusters=i)\n",
        "    \n",
        "    km.fit_predict(df)\n",
        "    wcss.append(km.inertia_)\n",
        "    print('For', i,'Cluster,', np.around(km.inertia_,2),'is the WCSS.')"
      ],
      "metadata": {
        "colab": {
          "base_uri": "https://localhost:8080/"
        },
        "id": "H0MkcoIZ3igO",
        "outputId": "b845cfc0-5259-4c95-bf09-1e85116f03af"
      },
      "execution_count": 20,
      "outputs": [
        {
          "output_type": "stream",
          "name": "stdout",
          "text": [
            "For 1 Cluster, 2572358230801.51 is the WCSS.\n",
            "For 2 Cluster, 576472942761.14 is the WCSS.\n",
            "For 3 Cluster, 300725918816.3 is the WCSS.\n",
            "For 4 Cluster, 182011999945.56 is the WCSS.\n",
            "For 5 Cluster, 101193734267.06 is the WCSS.\n",
            "For 6 Cluster, 74395140868.94 is the WCSS.\n",
            "For 7 Cluster, 52413783315.73 is the WCSS.\n",
            "For 8 Cluster, 38160832594.33 is the WCSS.\n",
            "For 9 Cluster, 30194680461.9 is the WCSS.\n",
            "For 10 Cluster, 25151987002.51 is the WCSS.\n"
          ]
        }
      ]
    },
    {
      "cell_type": "code",
      "source": [
        "import plotly.express as px\n",
        "fig = px.line(x = range(1,11),\n",
        "              y=wcss, \n",
        "              template='simple_white',\n",
        "              title = 'Elbow Plot', markers=True,\n",
        "             color_discrete_sequence=[\"skyblue\"])\n",
        "\n",
        "fig.update_layout(xaxis_title=\"Clusters\",yaxis_title=\" WCSS\")\n",
        "\n",
        "\n",
        "fig.show()"
      ],
      "metadata": {
        "colab": {
          "base_uri": "https://localhost:8080/",
          "height": 542
        },
        "id": "LHIoFoUu3tbo",
        "outputId": "ad973c93-bd8c-488f-dc06-ef700628fffc"
      },
      "execution_count": 21,
      "outputs": [
        {
          "output_type": "display_data",
          "data": {
            "text/html": [
              "<html>\n",
              "<head><meta charset=\"utf-8\" /></head>\n",
              "<body>\n",
              "    <div>            <script src=\"https://cdnjs.cloudflare.com/ajax/libs/mathjax/2.7.5/MathJax.js?config=TeX-AMS-MML_SVG\"></script><script type=\"text/javascript\">if (window.MathJax) {MathJax.Hub.Config({SVG: {font: \"STIX-Web\"}});}</script>                <script type=\"text/javascript\">window.PlotlyConfig = {MathJaxConfig: 'local'};</script>\n",
              "        <script src=\"https://cdn.plot.ly/plotly-2.8.3.min.js\"></script>                <div id=\"7b459bec-6dc3-4697-a160-f7f0a68ad6a7\" class=\"plotly-graph-div\" style=\"height:525px; width:100%;\"></div>            <script type=\"text/javascript\">                                    window.PLOTLYENV=window.PLOTLYENV || {};                                    if (document.getElementById(\"7b459bec-6dc3-4697-a160-f7f0a68ad6a7\")) {                    Plotly.newPlot(                        \"7b459bec-6dc3-4697-a160-f7f0a68ad6a7\",                        [{\"hovertemplate\":\"x=%{x}<br>y=%{y}<extra></extra>\",\"legendgroup\":\"\",\"line\":{\"color\":\"skyblue\",\"dash\":\"solid\"},\"marker\":{\"symbol\":\"circle\"},\"mode\":\"markers+lines\",\"name\":\"\",\"orientation\":\"v\",\"showlegend\":false,\"x\":[1,2,3,4,5,6,7,8,9,10],\"xaxis\":\"x\",\"y\":[2572358230801.5063,576472942761.1405,300725918816.3037,182011999945.55807,101193734267.05899,74395140868.94136,52413783315.73132,38160832594.33235,30194680461.90496,25151987002.513947],\"yaxis\":\"y\",\"type\":\"scatter\"}],                        {\"template\":{\"data\":{\"barpolar\":[{\"marker\":{\"line\":{\"color\":\"white\",\"width\":0.5},\"pattern\":{\"fillmode\":\"overlay\",\"size\":10,\"solidity\":0.2}},\"type\":\"barpolar\"}],\"bar\":[{\"error_x\":{\"color\":\"rgb(36,36,36)\"},\"error_y\":{\"color\":\"rgb(36,36,36)\"},\"marker\":{\"line\":{\"color\":\"white\",\"width\":0.5},\"pattern\":{\"fillmode\":\"overlay\",\"size\":10,\"solidity\":0.2}},\"type\":\"bar\"}],\"carpet\":[{\"aaxis\":{\"endlinecolor\":\"rgb(36,36,36)\",\"gridcolor\":\"white\",\"linecolor\":\"white\",\"minorgridcolor\":\"white\",\"startlinecolor\":\"rgb(36,36,36)\"},\"baxis\":{\"endlinecolor\":\"rgb(36,36,36)\",\"gridcolor\":\"white\",\"linecolor\":\"white\",\"minorgridcolor\":\"white\",\"startlinecolor\":\"rgb(36,36,36)\"},\"type\":\"carpet\"}],\"choropleth\":[{\"colorbar\":{\"outlinewidth\":1,\"tickcolor\":\"rgb(36,36,36)\",\"ticks\":\"outside\"},\"type\":\"choropleth\"}],\"contourcarpet\":[{\"colorbar\":{\"outlinewidth\":1,\"tickcolor\":\"rgb(36,36,36)\",\"ticks\":\"outside\"},\"type\":\"contourcarpet\"}],\"contour\":[{\"colorbar\":{\"outlinewidth\":1,\"tickcolor\":\"rgb(36,36,36)\",\"ticks\":\"outside\"},\"colorscale\":[[0.0,\"#440154\"],[0.1111111111111111,\"#482878\"],[0.2222222222222222,\"#3e4989\"],[0.3333333333333333,\"#31688e\"],[0.4444444444444444,\"#26828e\"],[0.5555555555555556,\"#1f9e89\"],[0.6666666666666666,\"#35b779\"],[0.7777777777777778,\"#6ece58\"],[0.8888888888888888,\"#b5de2b\"],[1.0,\"#fde725\"]],\"type\":\"contour\"}],\"heatmapgl\":[{\"colorbar\":{\"outlinewidth\":1,\"tickcolor\":\"rgb(36,36,36)\",\"ticks\":\"outside\"},\"colorscale\":[[0.0,\"#440154\"],[0.1111111111111111,\"#482878\"],[0.2222222222222222,\"#3e4989\"],[0.3333333333333333,\"#31688e\"],[0.4444444444444444,\"#26828e\"],[0.5555555555555556,\"#1f9e89\"],[0.6666666666666666,\"#35b779\"],[0.7777777777777778,\"#6ece58\"],[0.8888888888888888,\"#b5de2b\"],[1.0,\"#fde725\"]],\"type\":\"heatmapgl\"}],\"heatmap\":[{\"colorbar\":{\"outlinewidth\":1,\"tickcolor\":\"rgb(36,36,36)\",\"ticks\":\"outside\"},\"colorscale\":[[0.0,\"#440154\"],[0.1111111111111111,\"#482878\"],[0.2222222222222222,\"#3e4989\"],[0.3333333333333333,\"#31688e\"],[0.4444444444444444,\"#26828e\"],[0.5555555555555556,\"#1f9e89\"],[0.6666666666666666,\"#35b779\"],[0.7777777777777778,\"#6ece58\"],[0.8888888888888888,\"#b5de2b\"],[1.0,\"#fde725\"]],\"type\":\"heatmap\"}],\"histogram2dcontour\":[{\"colorbar\":{\"outlinewidth\":1,\"tickcolor\":\"rgb(36,36,36)\",\"ticks\":\"outside\"},\"colorscale\":[[0.0,\"#440154\"],[0.1111111111111111,\"#482878\"],[0.2222222222222222,\"#3e4989\"],[0.3333333333333333,\"#31688e\"],[0.4444444444444444,\"#26828e\"],[0.5555555555555556,\"#1f9e89\"],[0.6666666666666666,\"#35b779\"],[0.7777777777777778,\"#6ece58\"],[0.8888888888888888,\"#b5de2b\"],[1.0,\"#fde725\"]],\"type\":\"histogram2dcontour\"}],\"histogram2d\":[{\"colorbar\":{\"outlinewidth\":1,\"tickcolor\":\"rgb(36,36,36)\",\"ticks\":\"outside\"},\"colorscale\":[[0.0,\"#440154\"],[0.1111111111111111,\"#482878\"],[0.2222222222222222,\"#3e4989\"],[0.3333333333333333,\"#31688e\"],[0.4444444444444444,\"#26828e\"],[0.5555555555555556,\"#1f9e89\"],[0.6666666666666666,\"#35b779\"],[0.7777777777777778,\"#6ece58\"],[0.8888888888888888,\"#b5de2b\"],[1.0,\"#fde725\"]],\"type\":\"histogram2d\"}],\"histogram\":[{\"marker\":{\"line\":{\"color\":\"white\",\"width\":0.6}},\"type\":\"histogram\"}],\"mesh3d\":[{\"colorbar\":{\"outlinewidth\":1,\"tickcolor\":\"rgb(36,36,36)\",\"ticks\":\"outside\"},\"type\":\"mesh3d\"}],\"parcoords\":[{\"line\":{\"colorbar\":{\"outlinewidth\":1,\"tickcolor\":\"rgb(36,36,36)\",\"ticks\":\"outside\"}},\"type\":\"parcoords\"}],\"pie\":[{\"automargin\":true,\"type\":\"pie\"}],\"scatter3d\":[{\"line\":{\"colorbar\":{\"outlinewidth\":1,\"tickcolor\":\"rgb(36,36,36)\",\"ticks\":\"outside\"}},\"marker\":{\"colorbar\":{\"outlinewidth\":1,\"tickcolor\":\"rgb(36,36,36)\",\"ticks\":\"outside\"}},\"type\":\"scatter3d\"}],\"scattercarpet\":[{\"marker\":{\"colorbar\":{\"outlinewidth\":1,\"tickcolor\":\"rgb(36,36,36)\",\"ticks\":\"outside\"}},\"type\":\"scattercarpet\"}],\"scattergeo\":[{\"marker\":{\"colorbar\":{\"outlinewidth\":1,\"tickcolor\":\"rgb(36,36,36)\",\"ticks\":\"outside\"}},\"type\":\"scattergeo\"}],\"scattergl\":[{\"marker\":{\"colorbar\":{\"outlinewidth\":1,\"tickcolor\":\"rgb(36,36,36)\",\"ticks\":\"outside\"}},\"type\":\"scattergl\"}],\"scattermapbox\":[{\"marker\":{\"colorbar\":{\"outlinewidth\":1,\"tickcolor\":\"rgb(36,36,36)\",\"ticks\":\"outside\"}},\"type\":\"scattermapbox\"}],\"scatterpolargl\":[{\"marker\":{\"colorbar\":{\"outlinewidth\":1,\"tickcolor\":\"rgb(36,36,36)\",\"ticks\":\"outside\"}},\"type\":\"scatterpolargl\"}],\"scatterpolar\":[{\"marker\":{\"colorbar\":{\"outlinewidth\":1,\"tickcolor\":\"rgb(36,36,36)\",\"ticks\":\"outside\"}},\"type\":\"scatterpolar\"}],\"scatter\":[{\"marker\":{\"colorbar\":{\"outlinewidth\":1,\"tickcolor\":\"rgb(36,36,36)\",\"ticks\":\"outside\"}},\"type\":\"scatter\"}],\"scatterternary\":[{\"marker\":{\"colorbar\":{\"outlinewidth\":1,\"tickcolor\":\"rgb(36,36,36)\",\"ticks\":\"outside\"}},\"type\":\"scatterternary\"}],\"surface\":[{\"colorbar\":{\"outlinewidth\":1,\"tickcolor\":\"rgb(36,36,36)\",\"ticks\":\"outside\"},\"colorscale\":[[0.0,\"#440154\"],[0.1111111111111111,\"#482878\"],[0.2222222222222222,\"#3e4989\"],[0.3333333333333333,\"#31688e\"],[0.4444444444444444,\"#26828e\"],[0.5555555555555556,\"#1f9e89\"],[0.6666666666666666,\"#35b779\"],[0.7777777777777778,\"#6ece58\"],[0.8888888888888888,\"#b5de2b\"],[1.0,\"#fde725\"]],\"type\":\"surface\"}],\"table\":[{\"cells\":{\"fill\":{\"color\":\"rgb(237,237,237)\"},\"line\":{\"color\":\"white\"}},\"header\":{\"fill\":{\"color\":\"rgb(217,217,217)\"},\"line\":{\"color\":\"white\"}},\"type\":\"table\"}]},\"layout\":{\"annotationdefaults\":{\"arrowhead\":0,\"arrowwidth\":1},\"autotypenumbers\":\"strict\",\"coloraxis\":{\"colorbar\":{\"outlinewidth\":1,\"tickcolor\":\"rgb(36,36,36)\",\"ticks\":\"outside\"}},\"colorscale\":{\"diverging\":[[0.0,\"rgb(103,0,31)\"],[0.1,\"rgb(178,24,43)\"],[0.2,\"rgb(214,96,77)\"],[0.3,\"rgb(244,165,130)\"],[0.4,\"rgb(253,219,199)\"],[0.5,\"rgb(247,247,247)\"],[0.6,\"rgb(209,229,240)\"],[0.7,\"rgb(146,197,222)\"],[0.8,\"rgb(67,147,195)\"],[0.9,\"rgb(33,102,172)\"],[1.0,\"rgb(5,48,97)\"]],\"sequential\":[[0.0,\"#440154\"],[0.1111111111111111,\"#482878\"],[0.2222222222222222,\"#3e4989\"],[0.3333333333333333,\"#31688e\"],[0.4444444444444444,\"#26828e\"],[0.5555555555555556,\"#1f9e89\"],[0.6666666666666666,\"#35b779\"],[0.7777777777777778,\"#6ece58\"],[0.8888888888888888,\"#b5de2b\"],[1.0,\"#fde725\"]],\"sequentialminus\":[[0.0,\"#440154\"],[0.1111111111111111,\"#482878\"],[0.2222222222222222,\"#3e4989\"],[0.3333333333333333,\"#31688e\"],[0.4444444444444444,\"#26828e\"],[0.5555555555555556,\"#1f9e89\"],[0.6666666666666666,\"#35b779\"],[0.7777777777777778,\"#6ece58\"],[0.8888888888888888,\"#b5de2b\"],[1.0,\"#fde725\"]]},\"colorway\":[\"#1F77B4\",\"#FF7F0E\",\"#2CA02C\",\"#D62728\",\"#9467BD\",\"#8C564B\",\"#E377C2\",\"#7F7F7F\",\"#BCBD22\",\"#17BECF\"],\"font\":{\"color\":\"rgb(36,36,36)\"},\"geo\":{\"bgcolor\":\"white\",\"lakecolor\":\"white\",\"landcolor\":\"white\",\"showlakes\":true,\"showland\":true,\"subunitcolor\":\"white\"},\"hoverlabel\":{\"align\":\"left\"},\"hovermode\":\"closest\",\"mapbox\":{\"style\":\"light\"},\"paper_bgcolor\":\"white\",\"plot_bgcolor\":\"white\",\"polar\":{\"angularaxis\":{\"gridcolor\":\"rgb(232,232,232)\",\"linecolor\":\"rgb(36,36,36)\",\"showgrid\":false,\"showline\":true,\"ticks\":\"outside\"},\"bgcolor\":\"white\",\"radialaxis\":{\"gridcolor\":\"rgb(232,232,232)\",\"linecolor\":\"rgb(36,36,36)\",\"showgrid\":false,\"showline\":true,\"ticks\":\"outside\"}},\"scene\":{\"xaxis\":{\"backgroundcolor\":\"white\",\"gridcolor\":\"rgb(232,232,232)\",\"gridwidth\":2,\"linecolor\":\"rgb(36,36,36)\",\"showbackground\":true,\"showgrid\":false,\"showline\":true,\"ticks\":\"outside\",\"zeroline\":false,\"zerolinecolor\":\"rgb(36,36,36)\"},\"yaxis\":{\"backgroundcolor\":\"white\",\"gridcolor\":\"rgb(232,232,232)\",\"gridwidth\":2,\"linecolor\":\"rgb(36,36,36)\",\"showbackground\":true,\"showgrid\":false,\"showline\":true,\"ticks\":\"outside\",\"zeroline\":false,\"zerolinecolor\":\"rgb(36,36,36)\"},\"zaxis\":{\"backgroundcolor\":\"white\",\"gridcolor\":\"rgb(232,232,232)\",\"gridwidth\":2,\"linecolor\":\"rgb(36,36,36)\",\"showbackground\":true,\"showgrid\":false,\"showline\":true,\"ticks\":\"outside\",\"zeroline\":false,\"zerolinecolor\":\"rgb(36,36,36)\"}},\"shapedefaults\":{\"fillcolor\":\"black\",\"line\":{\"width\":0},\"opacity\":0.3},\"ternary\":{\"aaxis\":{\"gridcolor\":\"rgb(232,232,232)\",\"linecolor\":\"rgb(36,36,36)\",\"showgrid\":false,\"showline\":true,\"ticks\":\"outside\"},\"baxis\":{\"gridcolor\":\"rgb(232,232,232)\",\"linecolor\":\"rgb(36,36,36)\",\"showgrid\":false,\"showline\":true,\"ticks\":\"outside\"},\"bgcolor\":\"white\",\"caxis\":{\"gridcolor\":\"rgb(232,232,232)\",\"linecolor\":\"rgb(36,36,36)\",\"showgrid\":false,\"showline\":true,\"ticks\":\"outside\"}},\"title\":{\"x\":0.05},\"xaxis\":{\"automargin\":true,\"gridcolor\":\"rgb(232,232,232)\",\"linecolor\":\"rgb(36,36,36)\",\"showgrid\":false,\"showline\":true,\"ticks\":\"outside\",\"title\":{\"standoff\":15},\"zeroline\":false,\"zerolinecolor\":\"rgb(36,36,36)\"},\"yaxis\":{\"automargin\":true,\"gridcolor\":\"rgb(232,232,232)\",\"linecolor\":\"rgb(36,36,36)\",\"showgrid\":false,\"showline\":true,\"ticks\":\"outside\",\"title\":{\"standoff\":15},\"zeroline\":false,\"zerolinecolor\":\"rgb(36,36,36)\"}}},\"xaxis\":{\"anchor\":\"y\",\"domain\":[0.0,1.0],\"title\":{\"text\":\"Clusters\"}},\"yaxis\":{\"anchor\":\"x\",\"domain\":[0.0,1.0],\"title\":{\"text\":\" WCSS\"}},\"legend\":{\"tracegroupgap\":0},\"title\":{\"text\":\"Elbow Plot\"}},                        {\"responsive\": true}                    ).then(function(){\n",
              "                            \n",
              "var gd = document.getElementById('7b459bec-6dc3-4697-a160-f7f0a68ad6a7');\n",
              "var x = new MutationObserver(function (mutations, observer) {{\n",
              "        var display = window.getComputedStyle(gd).display;\n",
              "        if (!display || display === 'none') {{\n",
              "            console.log([gd, 'removed!']);\n",
              "            Plotly.purge(gd);\n",
              "            observer.disconnect();\n",
              "        }}\n",
              "}});\n",
              "\n",
              "// Listen for the removal of the full notebook cells\n",
              "var notebookContainer = gd.closest('#notebook-container');\n",
              "if (notebookContainer) {{\n",
              "    x.observe(notebookContainer, {childList: true});\n",
              "}}\n",
              "\n",
              "// Listen for the clearing of the current output cell\n",
              "var outputEl = gd.closest('.output');\n",
              "if (outputEl) {{\n",
              "    x.observe(outputEl, {childList: true});\n",
              "}}\n",
              "\n",
              "                        })                };                            </script>        </div>\n",
              "</body>\n",
              "</html>"
            ]
          },
          "metadata": {}
        }
      ]
    },
    {
      "cell_type": "code",
      "source": [
        "km = KMeans(n_clusters=6)\n",
        "y_means = km.fit_predict(df)\n",
        "y_means"
      ],
      "metadata": {
        "colab": {
          "base_uri": "https://localhost:8080/"
        },
        "id": "-phlEp0vdDNq",
        "outputId": "c776a2af-b059-48d8-f63f-6ada8efd1ff5"
      },
      "execution_count": 22,
      "outputs": [
        {
          "output_type": "execute_result",
          "data": {
            "text/plain": [
              "array([2, 2, 2, ..., 1, 1, 1], dtype=int32)"
            ]
          },
          "metadata": {},
          "execution_count": 22
        }
      ]
    },
    {
      "cell_type": "code",
      "source": [
        "#df['Target'] = y_means\n",
        "#X = df[df.columns[:-1]].values\n",
        "#y = df[df.columns[-1]].values\n",
        "#y.shape"
      ],
      "metadata": {
        "id": "_MJjt5dzdIV3"
      },
      "execution_count": 23,
      "outputs": []
    },
    {
      "cell_type": "code",
      "source": [],
      "metadata": {
        "id": "ei3Oa-rKfrww"
      },
      "execution_count": 23,
      "outputs": []
    },
    {
      "cell_type": "markdown",
      "source": [
        "Deep learning using position_at_finish as the target variable"
      ],
      "metadata": {
        "id": "EuvDM2_efsWY"
      }
    },
    {
      "cell_type": "code",
      "source": [
        "\n",
        "\n"
      ],
      "metadata": {
        "id": "Jq9WOgmHfw6m"
      },
      "execution_count": 23,
      "outputs": []
    },
    {
      "cell_type": "code",
      "source": [],
      "metadata": {
        "id": "D7TleHxph5-U"
      },
      "execution_count": 23,
      "outputs": []
    },
    {
      "cell_type": "code",
      "source": [
        "pip install movecolumn"
      ],
      "metadata": {
        "id": "cmVHzH8kh9Gj",
        "outputId": "72fc89fb-8583-440e-fdbb-ef7988ed76d9",
        "colab": {
          "base_uri": "https://localhost:8080/"
        }
      },
      "execution_count": 24,
      "outputs": [
        {
          "output_type": "stream",
          "name": "stdout",
          "text": [
            "Looking in indexes: https://pypi.org/simple, https://us-python.pkg.dev/colab-wheels/public/simple/\n",
            "Requirement already satisfied: movecolumn in /usr/local/lib/python3.7/dist-packages (0.0.7)\n"
          ]
        }
      ]
    },
    {
      "cell_type": "code",
      "source": [
        "import movecolumn as mc\n",
        "mc.MoveToLast(df,'position_at_finish\\xa0')"
      ],
      "metadata": {
        "id": "GlxUhSUxiA-o",
        "outputId": "8a1811ac-a1df-45e1-f111-a9888708e41f",
        "colab": {
          "base_uri": "https://localhost:8080/",
          "height": 488
        }
      },
      "execution_count": 25,
      "outputs": [
        {
          "output_type": "execute_result",
          "data": {
            "text/plain": [
              "      race_number   trakus_index   latitude   longitude   distance_id   \\\n",
              "0                9             73  40.672946  -73.827587           600   \n",
              "1                9             74  40.672990  -73.827568           600   \n",
              "2                9             63  40.672510  -73.827781           600   \n",
              "3                9             64  40.672553  -73.827762           600   \n",
              "4                9             65  40.672596  -73.827742           600   \n",
              "...            ...            ...        ...         ...           ...   \n",
              "9995             9            251  40.714156  -73.725067           700   \n",
              "9996             9            252  40.714142  -73.725013           700   \n",
              "9997             9            253  40.714127  -73.724959           700   \n",
              "9998             9            254  40.714113  -73.724905           700   \n",
              "9999             9            255  40.714099  -73.724850           700   \n",
              "\n",
              "      run_up_distance   purse  post_time   weight_carried   odds  ...    T  \\\n",
              "0                   48  25000         420              120  2090  ...  0.0   \n",
              "1                   48  25000         420              120  2090  ...  0.0   \n",
              "2                   48  25000         420              120  2090  ...  0.0   \n",
              "3                   48  25000         420              120  2090  ...  0.0   \n",
              "4                   48  25000         420              120  2090  ...  0.0   \n",
              "...                ...    ...         ...              ...   ...  ...  ...   \n",
              "9995               117  70000         522              114  1660  ...  1.0   \n",
              "9996               117  70000         522              114  1660  ...  1.0   \n",
              "9997               117  70000         522              114  1660  ...  1.0   \n",
              "9998               117  70000         522              114  1660  ...  1.0   \n",
              "9999               117  70000         522              114  1660  ...  1.0   \n",
              "\n",
              "      FM   FT   GD   MY   SY   AQU  BEL  SAR  position_at_finish   \n",
              "0     0.0  0.0  1.0  0.0  0.0  1.0  0.0  0.0                    8  \n",
              "1     0.0  0.0  1.0  0.0  0.0  1.0  0.0  0.0                    8  \n",
              "2     0.0  0.0  1.0  0.0  0.0  1.0  0.0  0.0                    8  \n",
              "3     0.0  0.0  1.0  0.0  0.0  1.0  0.0  0.0                    8  \n",
              "4     0.0  0.0  1.0  0.0  0.0  1.0  0.0  0.0                    8  \n",
              "...   ...  ...  ...  ...  ...  ...  ...  ...                  ...  \n",
              "9995  1.0  0.0  0.0  0.0  0.0  0.0  1.0  0.0                    9  \n",
              "9996  1.0  0.0  0.0  0.0  0.0  0.0  1.0  0.0                    9  \n",
              "9997  1.0  0.0  0.0  0.0  0.0  0.0  1.0  0.0                    9  \n",
              "9998  1.0  0.0  0.0  0.0  0.0  0.0  1.0  0.0                    9  \n",
              "9999  1.0  0.0  0.0  0.0  0.0  0.0  1.0  0.0                    9  \n",
              "\n",
              "[10000 rows x 28 columns]"
            ],
            "text/html": [
              "\n",
              "  <div id=\"df-1ee64c0c-65cb-4dd6-801b-8f2907e5446c\">\n",
              "    <div class=\"colab-df-container\">\n",
              "      <div>\n",
              "<style scoped>\n",
              "    .dataframe tbody tr th:only-of-type {\n",
              "        vertical-align: middle;\n",
              "    }\n",
              "\n",
              "    .dataframe tbody tr th {\n",
              "        vertical-align: top;\n",
              "    }\n",
              "\n",
              "    .dataframe thead th {\n",
              "        text-align: right;\n",
              "    }\n",
              "</style>\n",
              "<table border=\"1\" class=\"dataframe\">\n",
              "  <thead>\n",
              "    <tr style=\"text-align: right;\">\n",
              "      <th></th>\n",
              "      <th>race_number</th>\n",
              "      <th>trakus_index</th>\n",
              "      <th>latitude</th>\n",
              "      <th>longitude</th>\n",
              "      <th>distance_id</th>\n",
              "      <th>run_up_distance</th>\n",
              "      <th>purse</th>\n",
              "      <th>post_time</th>\n",
              "      <th>weight_carried</th>\n",
              "      <th>odds</th>\n",
              "      <th>...</th>\n",
              "      <th>T</th>\n",
              "      <th>FM</th>\n",
              "      <th>FT</th>\n",
              "      <th>GD</th>\n",
              "      <th>MY</th>\n",
              "      <th>SY</th>\n",
              "      <th>AQU</th>\n",
              "      <th>BEL</th>\n",
              "      <th>SAR</th>\n",
              "      <th>position_at_finish</th>\n",
              "    </tr>\n",
              "  </thead>\n",
              "  <tbody>\n",
              "    <tr>\n",
              "      <th>0</th>\n",
              "      <td>9</td>\n",
              "      <td>73</td>\n",
              "      <td>40.672946</td>\n",
              "      <td>-73.827587</td>\n",
              "      <td>600</td>\n",
              "      <td>48</td>\n",
              "      <td>25000</td>\n",
              "      <td>420</td>\n",
              "      <td>120</td>\n",
              "      <td>2090</td>\n",
              "      <td>...</td>\n",
              "      <td>0.0</td>\n",
              "      <td>0.0</td>\n",
              "      <td>0.0</td>\n",
              "      <td>1.0</td>\n",
              "      <td>0.0</td>\n",
              "      <td>0.0</td>\n",
              "      <td>1.0</td>\n",
              "      <td>0.0</td>\n",
              "      <td>0.0</td>\n",
              "      <td>8</td>\n",
              "    </tr>\n",
              "    <tr>\n",
              "      <th>1</th>\n",
              "      <td>9</td>\n",
              "      <td>74</td>\n",
              "      <td>40.672990</td>\n",
              "      <td>-73.827568</td>\n",
              "      <td>600</td>\n",
              "      <td>48</td>\n",
              "      <td>25000</td>\n",
              "      <td>420</td>\n",
              "      <td>120</td>\n",
              "      <td>2090</td>\n",
              "      <td>...</td>\n",
              "      <td>0.0</td>\n",
              "      <td>0.0</td>\n",
              "      <td>0.0</td>\n",
              "      <td>1.0</td>\n",
              "      <td>0.0</td>\n",
              "      <td>0.0</td>\n",
              "      <td>1.0</td>\n",
              "      <td>0.0</td>\n",
              "      <td>0.0</td>\n",
              "      <td>8</td>\n",
              "    </tr>\n",
              "    <tr>\n",
              "      <th>2</th>\n",
              "      <td>9</td>\n",
              "      <td>63</td>\n",
              "      <td>40.672510</td>\n",
              "      <td>-73.827781</td>\n",
              "      <td>600</td>\n",
              "      <td>48</td>\n",
              "      <td>25000</td>\n",
              "      <td>420</td>\n",
              "      <td>120</td>\n",
              "      <td>2090</td>\n",
              "      <td>...</td>\n",
              "      <td>0.0</td>\n",
              "      <td>0.0</td>\n",
              "      <td>0.0</td>\n",
              "      <td>1.0</td>\n",
              "      <td>0.0</td>\n",
              "      <td>0.0</td>\n",
              "      <td>1.0</td>\n",
              "      <td>0.0</td>\n",
              "      <td>0.0</td>\n",
              "      <td>8</td>\n",
              "    </tr>\n",
              "    <tr>\n",
              "      <th>3</th>\n",
              "      <td>9</td>\n",
              "      <td>64</td>\n",
              "      <td>40.672553</td>\n",
              "      <td>-73.827762</td>\n",
              "      <td>600</td>\n",
              "      <td>48</td>\n",
              "      <td>25000</td>\n",
              "      <td>420</td>\n",
              "      <td>120</td>\n",
              "      <td>2090</td>\n",
              "      <td>...</td>\n",
              "      <td>0.0</td>\n",
              "      <td>0.0</td>\n",
              "      <td>0.0</td>\n",
              "      <td>1.0</td>\n",
              "      <td>0.0</td>\n",
              "      <td>0.0</td>\n",
              "      <td>1.0</td>\n",
              "      <td>0.0</td>\n",
              "      <td>0.0</td>\n",
              "      <td>8</td>\n",
              "    </tr>\n",
              "    <tr>\n",
              "      <th>4</th>\n",
              "      <td>9</td>\n",
              "      <td>65</td>\n",
              "      <td>40.672596</td>\n",
              "      <td>-73.827742</td>\n",
              "      <td>600</td>\n",
              "      <td>48</td>\n",
              "      <td>25000</td>\n",
              "      <td>420</td>\n",
              "      <td>120</td>\n",
              "      <td>2090</td>\n",
              "      <td>...</td>\n",
              "      <td>0.0</td>\n",
              "      <td>0.0</td>\n",
              "      <td>0.0</td>\n",
              "      <td>1.0</td>\n",
              "      <td>0.0</td>\n",
              "      <td>0.0</td>\n",
              "      <td>1.0</td>\n",
              "      <td>0.0</td>\n",
              "      <td>0.0</td>\n",
              "      <td>8</td>\n",
              "    </tr>\n",
              "    <tr>\n",
              "      <th>...</th>\n",
              "      <td>...</td>\n",
              "      <td>...</td>\n",
              "      <td>...</td>\n",
              "      <td>...</td>\n",
              "      <td>...</td>\n",
              "      <td>...</td>\n",
              "      <td>...</td>\n",
              "      <td>...</td>\n",
              "      <td>...</td>\n",
              "      <td>...</td>\n",
              "      <td>...</td>\n",
              "      <td>...</td>\n",
              "      <td>...</td>\n",
              "      <td>...</td>\n",
              "      <td>...</td>\n",
              "      <td>...</td>\n",
              "      <td>...</td>\n",
              "      <td>...</td>\n",
              "      <td>...</td>\n",
              "      <td>...</td>\n",
              "      <td>...</td>\n",
              "    </tr>\n",
              "    <tr>\n",
              "      <th>9995</th>\n",
              "      <td>9</td>\n",
              "      <td>251</td>\n",
              "      <td>40.714156</td>\n",
              "      <td>-73.725067</td>\n",
              "      <td>700</td>\n",
              "      <td>117</td>\n",
              "      <td>70000</td>\n",
              "      <td>522</td>\n",
              "      <td>114</td>\n",
              "      <td>1660</td>\n",
              "      <td>...</td>\n",
              "      <td>1.0</td>\n",
              "      <td>1.0</td>\n",
              "      <td>0.0</td>\n",
              "      <td>0.0</td>\n",
              "      <td>0.0</td>\n",
              "      <td>0.0</td>\n",
              "      <td>0.0</td>\n",
              "      <td>1.0</td>\n",
              "      <td>0.0</td>\n",
              "      <td>9</td>\n",
              "    </tr>\n",
              "    <tr>\n",
              "      <th>9996</th>\n",
              "      <td>9</td>\n",
              "      <td>252</td>\n",
              "      <td>40.714142</td>\n",
              "      <td>-73.725013</td>\n",
              "      <td>700</td>\n",
              "      <td>117</td>\n",
              "      <td>70000</td>\n",
              "      <td>522</td>\n",
              "      <td>114</td>\n",
              "      <td>1660</td>\n",
              "      <td>...</td>\n",
              "      <td>1.0</td>\n",
              "      <td>1.0</td>\n",
              "      <td>0.0</td>\n",
              "      <td>0.0</td>\n",
              "      <td>0.0</td>\n",
              "      <td>0.0</td>\n",
              "      <td>0.0</td>\n",
              "      <td>1.0</td>\n",
              "      <td>0.0</td>\n",
              "      <td>9</td>\n",
              "    </tr>\n",
              "    <tr>\n",
              "      <th>9997</th>\n",
              "      <td>9</td>\n",
              "      <td>253</td>\n",
              "      <td>40.714127</td>\n",
              "      <td>-73.724959</td>\n",
              "      <td>700</td>\n",
              "      <td>117</td>\n",
              "      <td>70000</td>\n",
              "      <td>522</td>\n",
              "      <td>114</td>\n",
              "      <td>1660</td>\n",
              "      <td>...</td>\n",
              "      <td>1.0</td>\n",
              "      <td>1.0</td>\n",
              "      <td>0.0</td>\n",
              "      <td>0.0</td>\n",
              "      <td>0.0</td>\n",
              "      <td>0.0</td>\n",
              "      <td>0.0</td>\n",
              "      <td>1.0</td>\n",
              "      <td>0.0</td>\n",
              "      <td>9</td>\n",
              "    </tr>\n",
              "    <tr>\n",
              "      <th>9998</th>\n",
              "      <td>9</td>\n",
              "      <td>254</td>\n",
              "      <td>40.714113</td>\n",
              "      <td>-73.724905</td>\n",
              "      <td>700</td>\n",
              "      <td>117</td>\n",
              "      <td>70000</td>\n",
              "      <td>522</td>\n",
              "      <td>114</td>\n",
              "      <td>1660</td>\n",
              "      <td>...</td>\n",
              "      <td>1.0</td>\n",
              "      <td>1.0</td>\n",
              "      <td>0.0</td>\n",
              "      <td>0.0</td>\n",
              "      <td>0.0</td>\n",
              "      <td>0.0</td>\n",
              "      <td>0.0</td>\n",
              "      <td>1.0</td>\n",
              "      <td>0.0</td>\n",
              "      <td>9</td>\n",
              "    </tr>\n",
              "    <tr>\n",
              "      <th>9999</th>\n",
              "      <td>9</td>\n",
              "      <td>255</td>\n",
              "      <td>40.714099</td>\n",
              "      <td>-73.724850</td>\n",
              "      <td>700</td>\n",
              "      <td>117</td>\n",
              "      <td>70000</td>\n",
              "      <td>522</td>\n",
              "      <td>114</td>\n",
              "      <td>1660</td>\n",
              "      <td>...</td>\n",
              "      <td>1.0</td>\n",
              "      <td>1.0</td>\n",
              "      <td>0.0</td>\n",
              "      <td>0.0</td>\n",
              "      <td>0.0</td>\n",
              "      <td>0.0</td>\n",
              "      <td>0.0</td>\n",
              "      <td>1.0</td>\n",
              "      <td>0.0</td>\n",
              "      <td>9</td>\n",
              "    </tr>\n",
              "  </tbody>\n",
              "</table>\n",
              "<p>10000 rows × 28 columns</p>\n",
              "</div>\n",
              "      <button class=\"colab-df-convert\" onclick=\"convertToInteractive('df-1ee64c0c-65cb-4dd6-801b-8f2907e5446c')\"\n",
              "              title=\"Convert this dataframe to an interactive table.\"\n",
              "              style=\"display:none;\">\n",
              "        \n",
              "  <svg xmlns=\"http://www.w3.org/2000/svg\" height=\"24px\"viewBox=\"0 0 24 24\"\n",
              "       width=\"24px\">\n",
              "    <path d=\"M0 0h24v24H0V0z\" fill=\"none\"/>\n",
              "    <path d=\"M18.56 5.44l.94 2.06.94-2.06 2.06-.94-2.06-.94-.94-2.06-.94 2.06-2.06.94zm-11 1L8.5 8.5l.94-2.06 2.06-.94-2.06-.94L8.5 2.5l-.94 2.06-2.06.94zm10 10l.94 2.06.94-2.06 2.06-.94-2.06-.94-.94-2.06-.94 2.06-2.06.94z\"/><path d=\"M17.41 7.96l-1.37-1.37c-.4-.4-.92-.59-1.43-.59-.52 0-1.04.2-1.43.59L10.3 9.45l-7.72 7.72c-.78.78-.78 2.05 0 2.83L4 21.41c.39.39.9.59 1.41.59.51 0 1.02-.2 1.41-.59l7.78-7.78 2.81-2.81c.8-.78.8-2.07 0-2.86zM5.41 20L4 18.59l7.72-7.72 1.47 1.35L5.41 20z\"/>\n",
              "  </svg>\n",
              "      </button>\n",
              "      \n",
              "  <style>\n",
              "    .colab-df-container {\n",
              "      display:flex;\n",
              "      flex-wrap:wrap;\n",
              "      gap: 12px;\n",
              "    }\n",
              "\n",
              "    .colab-df-convert {\n",
              "      background-color: #E8F0FE;\n",
              "      border: none;\n",
              "      border-radius: 50%;\n",
              "      cursor: pointer;\n",
              "      display: none;\n",
              "      fill: #1967D2;\n",
              "      height: 32px;\n",
              "      padding: 0 0 0 0;\n",
              "      width: 32px;\n",
              "    }\n",
              "\n",
              "    .colab-df-convert:hover {\n",
              "      background-color: #E2EBFA;\n",
              "      box-shadow: 0px 1px 2px rgba(60, 64, 67, 0.3), 0px 1px 3px 1px rgba(60, 64, 67, 0.15);\n",
              "      fill: #174EA6;\n",
              "    }\n",
              "\n",
              "    [theme=dark] .colab-df-convert {\n",
              "      background-color: #3B4455;\n",
              "      fill: #D2E3FC;\n",
              "    }\n",
              "\n",
              "    [theme=dark] .colab-df-convert:hover {\n",
              "      background-color: #434B5C;\n",
              "      box-shadow: 0px 1px 3px 1px rgba(0, 0, 0, 0.15);\n",
              "      filter: drop-shadow(0px 1px 2px rgba(0, 0, 0, 0.3));\n",
              "      fill: #FFFFFF;\n",
              "    }\n",
              "  </style>\n",
              "\n",
              "      <script>\n",
              "        const buttonEl =\n",
              "          document.querySelector('#df-1ee64c0c-65cb-4dd6-801b-8f2907e5446c button.colab-df-convert');\n",
              "        buttonEl.style.display =\n",
              "          google.colab.kernel.accessAllowed ? 'block' : 'none';\n",
              "\n",
              "        async function convertToInteractive(key) {\n",
              "          const element = document.querySelector('#df-1ee64c0c-65cb-4dd6-801b-8f2907e5446c');\n",
              "          const dataTable =\n",
              "            await google.colab.kernel.invokeFunction('convertToInteractive',\n",
              "                                                     [key], {});\n",
              "          if (!dataTable) return;\n",
              "\n",
              "          const docLinkHtml = 'Like what you see? Visit the ' +\n",
              "            '<a target=\"_blank\" href=https://colab.research.google.com/notebooks/data_table.ipynb>data table notebook</a>'\n",
              "            + ' to learn more about interactive tables.';\n",
              "          element.innerHTML = '';\n",
              "          dataTable['output_type'] = 'display_data';\n",
              "          await google.colab.output.renderOutput(dataTable, element);\n",
              "          const docLink = document.createElement('div');\n",
              "          docLink.innerHTML = docLinkHtml;\n",
              "          element.appendChild(docLink);\n",
              "        }\n",
              "      </script>\n",
              "    </div>\n",
              "  </div>\n",
              "  "
            ]
          },
          "metadata": {},
          "execution_count": 25
        }
      ]
    },
    {
      "cell_type": "code",
      "source": [
        "X=df[df.columns[:-1]]\n",
        "X"
      ],
      "metadata": {
        "id": "uEM1shGGiR7O",
        "outputId": "f23b2cdb-b8fa-4893-f049-b8c2478961b3",
        "colab": {
          "base_uri": "https://localhost:8080/",
          "height": 488
        }
      },
      "execution_count": 26,
      "outputs": [
        {
          "output_type": "execute_result",
          "data": {
            "text/plain": [
              "      race_number   trakus_index   latitude   longitude   distance_id   \\\n",
              "0                9             73  40.672946  -73.827587           600   \n",
              "1                9             74  40.672990  -73.827568           600   \n",
              "2                9             63  40.672510  -73.827781           600   \n",
              "3                9             64  40.672553  -73.827762           600   \n",
              "4                9             65  40.672596  -73.827742           600   \n",
              "...            ...            ...        ...         ...           ...   \n",
              "9995             9            251  40.714156  -73.725067           700   \n",
              "9996             9            252  40.714142  -73.725013           700   \n",
              "9997             9            253  40.714127  -73.724959           700   \n",
              "9998             9            254  40.714113  -73.724905           700   \n",
              "9999             9            255  40.714099  -73.724850           700   \n",
              "\n",
              "      run_up_distance   purse  post_time   weight_carried   odds  ...    O  \\\n",
              "0                   48  25000         420              120  2090  ...  0.0   \n",
              "1                   48  25000         420              120  2090  ...  0.0   \n",
              "2                   48  25000         420              120  2090  ...  0.0   \n",
              "3                   48  25000         420              120  2090  ...  0.0   \n",
              "4                   48  25000         420              120  2090  ...  0.0   \n",
              "...                ...    ...         ...              ...   ...  ...  ...   \n",
              "9995               117  70000         522              114  1660  ...  0.0   \n",
              "9996               117  70000         522              114  1660  ...  0.0   \n",
              "9997               117  70000         522              114  1660  ...  0.0   \n",
              "9998               117  70000         522              114  1660  ...  0.0   \n",
              "9999               117  70000         522              114  1660  ...  0.0   \n",
              "\n",
              "        T  FM   FT   GD   MY   SY   AQU  BEL  SAR  \n",
              "0     0.0  0.0  0.0  1.0  0.0  0.0  1.0  0.0  0.0  \n",
              "1     0.0  0.0  0.0  1.0  0.0  0.0  1.0  0.0  0.0  \n",
              "2     0.0  0.0  0.0  1.0  0.0  0.0  1.0  0.0  0.0  \n",
              "3     0.0  0.0  0.0  1.0  0.0  0.0  1.0  0.0  0.0  \n",
              "4     0.0  0.0  0.0  1.0  0.0  0.0  1.0  0.0  0.0  \n",
              "...   ...  ...  ...  ...  ...  ...  ...  ...  ...  \n",
              "9995  1.0  1.0  0.0  0.0  0.0  0.0  0.0  1.0  0.0  \n",
              "9996  1.0  1.0  0.0  0.0  0.0  0.0  0.0  1.0  0.0  \n",
              "9997  1.0  1.0  0.0  0.0  0.0  0.0  0.0  1.0  0.0  \n",
              "9998  1.0  1.0  0.0  0.0  0.0  0.0  0.0  1.0  0.0  \n",
              "9999  1.0  1.0  0.0  0.0  0.0  0.0  0.0  1.0  0.0  \n",
              "\n",
              "[10000 rows x 27 columns]"
            ],
            "text/html": [
              "\n",
              "  <div id=\"df-e4ffee53-bb0c-4b8f-9d70-019a5d7f0c3e\">\n",
              "    <div class=\"colab-df-container\">\n",
              "      <div>\n",
              "<style scoped>\n",
              "    .dataframe tbody tr th:only-of-type {\n",
              "        vertical-align: middle;\n",
              "    }\n",
              "\n",
              "    .dataframe tbody tr th {\n",
              "        vertical-align: top;\n",
              "    }\n",
              "\n",
              "    .dataframe thead th {\n",
              "        text-align: right;\n",
              "    }\n",
              "</style>\n",
              "<table border=\"1\" class=\"dataframe\">\n",
              "  <thead>\n",
              "    <tr style=\"text-align: right;\">\n",
              "      <th></th>\n",
              "      <th>race_number</th>\n",
              "      <th>trakus_index</th>\n",
              "      <th>latitude</th>\n",
              "      <th>longitude</th>\n",
              "      <th>distance_id</th>\n",
              "      <th>run_up_distance</th>\n",
              "      <th>purse</th>\n",
              "      <th>post_time</th>\n",
              "      <th>weight_carried</th>\n",
              "      <th>odds</th>\n",
              "      <th>...</th>\n",
              "      <th>O</th>\n",
              "      <th>T</th>\n",
              "      <th>FM</th>\n",
              "      <th>FT</th>\n",
              "      <th>GD</th>\n",
              "      <th>MY</th>\n",
              "      <th>SY</th>\n",
              "      <th>AQU</th>\n",
              "      <th>BEL</th>\n",
              "      <th>SAR</th>\n",
              "    </tr>\n",
              "  </thead>\n",
              "  <tbody>\n",
              "    <tr>\n",
              "      <th>0</th>\n",
              "      <td>9</td>\n",
              "      <td>73</td>\n",
              "      <td>40.672946</td>\n",
              "      <td>-73.827587</td>\n",
              "      <td>600</td>\n",
              "      <td>48</td>\n",
              "      <td>25000</td>\n",
              "      <td>420</td>\n",
              "      <td>120</td>\n",
              "      <td>2090</td>\n",
              "      <td>...</td>\n",
              "      <td>0.0</td>\n",
              "      <td>0.0</td>\n",
              "      <td>0.0</td>\n",
              "      <td>0.0</td>\n",
              "      <td>1.0</td>\n",
              "      <td>0.0</td>\n",
              "      <td>0.0</td>\n",
              "      <td>1.0</td>\n",
              "      <td>0.0</td>\n",
              "      <td>0.0</td>\n",
              "    </tr>\n",
              "    <tr>\n",
              "      <th>1</th>\n",
              "      <td>9</td>\n",
              "      <td>74</td>\n",
              "      <td>40.672990</td>\n",
              "      <td>-73.827568</td>\n",
              "      <td>600</td>\n",
              "      <td>48</td>\n",
              "      <td>25000</td>\n",
              "      <td>420</td>\n",
              "      <td>120</td>\n",
              "      <td>2090</td>\n",
              "      <td>...</td>\n",
              "      <td>0.0</td>\n",
              "      <td>0.0</td>\n",
              "      <td>0.0</td>\n",
              "      <td>0.0</td>\n",
              "      <td>1.0</td>\n",
              "      <td>0.0</td>\n",
              "      <td>0.0</td>\n",
              "      <td>1.0</td>\n",
              "      <td>0.0</td>\n",
              "      <td>0.0</td>\n",
              "    </tr>\n",
              "    <tr>\n",
              "      <th>2</th>\n",
              "      <td>9</td>\n",
              "      <td>63</td>\n",
              "      <td>40.672510</td>\n",
              "      <td>-73.827781</td>\n",
              "      <td>600</td>\n",
              "      <td>48</td>\n",
              "      <td>25000</td>\n",
              "      <td>420</td>\n",
              "      <td>120</td>\n",
              "      <td>2090</td>\n",
              "      <td>...</td>\n",
              "      <td>0.0</td>\n",
              "      <td>0.0</td>\n",
              "      <td>0.0</td>\n",
              "      <td>0.0</td>\n",
              "      <td>1.0</td>\n",
              "      <td>0.0</td>\n",
              "      <td>0.0</td>\n",
              "      <td>1.0</td>\n",
              "      <td>0.0</td>\n",
              "      <td>0.0</td>\n",
              "    </tr>\n",
              "    <tr>\n",
              "      <th>3</th>\n",
              "      <td>9</td>\n",
              "      <td>64</td>\n",
              "      <td>40.672553</td>\n",
              "      <td>-73.827762</td>\n",
              "      <td>600</td>\n",
              "      <td>48</td>\n",
              "      <td>25000</td>\n",
              "      <td>420</td>\n",
              "      <td>120</td>\n",
              "      <td>2090</td>\n",
              "      <td>...</td>\n",
              "      <td>0.0</td>\n",
              "      <td>0.0</td>\n",
              "      <td>0.0</td>\n",
              "      <td>0.0</td>\n",
              "      <td>1.0</td>\n",
              "      <td>0.0</td>\n",
              "      <td>0.0</td>\n",
              "      <td>1.0</td>\n",
              "      <td>0.0</td>\n",
              "      <td>0.0</td>\n",
              "    </tr>\n",
              "    <tr>\n",
              "      <th>4</th>\n",
              "      <td>9</td>\n",
              "      <td>65</td>\n",
              "      <td>40.672596</td>\n",
              "      <td>-73.827742</td>\n",
              "      <td>600</td>\n",
              "      <td>48</td>\n",
              "      <td>25000</td>\n",
              "      <td>420</td>\n",
              "      <td>120</td>\n",
              "      <td>2090</td>\n",
              "      <td>...</td>\n",
              "      <td>0.0</td>\n",
              "      <td>0.0</td>\n",
              "      <td>0.0</td>\n",
              "      <td>0.0</td>\n",
              "      <td>1.0</td>\n",
              "      <td>0.0</td>\n",
              "      <td>0.0</td>\n",
              "      <td>1.0</td>\n",
              "      <td>0.0</td>\n",
              "      <td>0.0</td>\n",
              "    </tr>\n",
              "    <tr>\n",
              "      <th>...</th>\n",
              "      <td>...</td>\n",
              "      <td>...</td>\n",
              "      <td>...</td>\n",
              "      <td>...</td>\n",
              "      <td>...</td>\n",
              "      <td>...</td>\n",
              "      <td>...</td>\n",
              "      <td>...</td>\n",
              "      <td>...</td>\n",
              "      <td>...</td>\n",
              "      <td>...</td>\n",
              "      <td>...</td>\n",
              "      <td>...</td>\n",
              "      <td>...</td>\n",
              "      <td>...</td>\n",
              "      <td>...</td>\n",
              "      <td>...</td>\n",
              "      <td>...</td>\n",
              "      <td>...</td>\n",
              "      <td>...</td>\n",
              "      <td>...</td>\n",
              "    </tr>\n",
              "    <tr>\n",
              "      <th>9995</th>\n",
              "      <td>9</td>\n",
              "      <td>251</td>\n",
              "      <td>40.714156</td>\n",
              "      <td>-73.725067</td>\n",
              "      <td>700</td>\n",
              "      <td>117</td>\n",
              "      <td>70000</td>\n",
              "      <td>522</td>\n",
              "      <td>114</td>\n",
              "      <td>1660</td>\n",
              "      <td>...</td>\n",
              "      <td>0.0</td>\n",
              "      <td>1.0</td>\n",
              "      <td>1.0</td>\n",
              "      <td>0.0</td>\n",
              "      <td>0.0</td>\n",
              "      <td>0.0</td>\n",
              "      <td>0.0</td>\n",
              "      <td>0.0</td>\n",
              "      <td>1.0</td>\n",
              "      <td>0.0</td>\n",
              "    </tr>\n",
              "    <tr>\n",
              "      <th>9996</th>\n",
              "      <td>9</td>\n",
              "      <td>252</td>\n",
              "      <td>40.714142</td>\n",
              "      <td>-73.725013</td>\n",
              "      <td>700</td>\n",
              "      <td>117</td>\n",
              "      <td>70000</td>\n",
              "      <td>522</td>\n",
              "      <td>114</td>\n",
              "      <td>1660</td>\n",
              "      <td>...</td>\n",
              "      <td>0.0</td>\n",
              "      <td>1.0</td>\n",
              "      <td>1.0</td>\n",
              "      <td>0.0</td>\n",
              "      <td>0.0</td>\n",
              "      <td>0.0</td>\n",
              "      <td>0.0</td>\n",
              "      <td>0.0</td>\n",
              "      <td>1.0</td>\n",
              "      <td>0.0</td>\n",
              "    </tr>\n",
              "    <tr>\n",
              "      <th>9997</th>\n",
              "      <td>9</td>\n",
              "      <td>253</td>\n",
              "      <td>40.714127</td>\n",
              "      <td>-73.724959</td>\n",
              "      <td>700</td>\n",
              "      <td>117</td>\n",
              "      <td>70000</td>\n",
              "      <td>522</td>\n",
              "      <td>114</td>\n",
              "      <td>1660</td>\n",
              "      <td>...</td>\n",
              "      <td>0.0</td>\n",
              "      <td>1.0</td>\n",
              "      <td>1.0</td>\n",
              "      <td>0.0</td>\n",
              "      <td>0.0</td>\n",
              "      <td>0.0</td>\n",
              "      <td>0.0</td>\n",
              "      <td>0.0</td>\n",
              "      <td>1.0</td>\n",
              "      <td>0.0</td>\n",
              "    </tr>\n",
              "    <tr>\n",
              "      <th>9998</th>\n",
              "      <td>9</td>\n",
              "      <td>254</td>\n",
              "      <td>40.714113</td>\n",
              "      <td>-73.724905</td>\n",
              "      <td>700</td>\n",
              "      <td>117</td>\n",
              "      <td>70000</td>\n",
              "      <td>522</td>\n",
              "      <td>114</td>\n",
              "      <td>1660</td>\n",
              "      <td>...</td>\n",
              "      <td>0.0</td>\n",
              "      <td>1.0</td>\n",
              "      <td>1.0</td>\n",
              "      <td>0.0</td>\n",
              "      <td>0.0</td>\n",
              "      <td>0.0</td>\n",
              "      <td>0.0</td>\n",
              "      <td>0.0</td>\n",
              "      <td>1.0</td>\n",
              "      <td>0.0</td>\n",
              "    </tr>\n",
              "    <tr>\n",
              "      <th>9999</th>\n",
              "      <td>9</td>\n",
              "      <td>255</td>\n",
              "      <td>40.714099</td>\n",
              "      <td>-73.724850</td>\n",
              "      <td>700</td>\n",
              "      <td>117</td>\n",
              "      <td>70000</td>\n",
              "      <td>522</td>\n",
              "      <td>114</td>\n",
              "      <td>1660</td>\n",
              "      <td>...</td>\n",
              "      <td>0.0</td>\n",
              "      <td>1.0</td>\n",
              "      <td>1.0</td>\n",
              "      <td>0.0</td>\n",
              "      <td>0.0</td>\n",
              "      <td>0.0</td>\n",
              "      <td>0.0</td>\n",
              "      <td>0.0</td>\n",
              "      <td>1.0</td>\n",
              "      <td>0.0</td>\n",
              "    </tr>\n",
              "  </tbody>\n",
              "</table>\n",
              "<p>10000 rows × 27 columns</p>\n",
              "</div>\n",
              "      <button class=\"colab-df-convert\" onclick=\"convertToInteractive('df-e4ffee53-bb0c-4b8f-9d70-019a5d7f0c3e')\"\n",
              "              title=\"Convert this dataframe to an interactive table.\"\n",
              "              style=\"display:none;\">\n",
              "        \n",
              "  <svg xmlns=\"http://www.w3.org/2000/svg\" height=\"24px\"viewBox=\"0 0 24 24\"\n",
              "       width=\"24px\">\n",
              "    <path d=\"M0 0h24v24H0V0z\" fill=\"none\"/>\n",
              "    <path d=\"M18.56 5.44l.94 2.06.94-2.06 2.06-.94-2.06-.94-.94-2.06-.94 2.06-2.06.94zm-11 1L8.5 8.5l.94-2.06 2.06-.94-2.06-.94L8.5 2.5l-.94 2.06-2.06.94zm10 10l.94 2.06.94-2.06 2.06-.94-2.06-.94-.94-2.06-.94 2.06-2.06.94z\"/><path d=\"M17.41 7.96l-1.37-1.37c-.4-.4-.92-.59-1.43-.59-.52 0-1.04.2-1.43.59L10.3 9.45l-7.72 7.72c-.78.78-.78 2.05 0 2.83L4 21.41c.39.39.9.59 1.41.59.51 0 1.02-.2 1.41-.59l7.78-7.78 2.81-2.81c.8-.78.8-2.07 0-2.86zM5.41 20L4 18.59l7.72-7.72 1.47 1.35L5.41 20z\"/>\n",
              "  </svg>\n",
              "      </button>\n",
              "      \n",
              "  <style>\n",
              "    .colab-df-container {\n",
              "      display:flex;\n",
              "      flex-wrap:wrap;\n",
              "      gap: 12px;\n",
              "    }\n",
              "\n",
              "    .colab-df-convert {\n",
              "      background-color: #E8F0FE;\n",
              "      border: none;\n",
              "      border-radius: 50%;\n",
              "      cursor: pointer;\n",
              "      display: none;\n",
              "      fill: #1967D2;\n",
              "      height: 32px;\n",
              "      padding: 0 0 0 0;\n",
              "      width: 32px;\n",
              "    }\n",
              "\n",
              "    .colab-df-convert:hover {\n",
              "      background-color: #E2EBFA;\n",
              "      box-shadow: 0px 1px 2px rgba(60, 64, 67, 0.3), 0px 1px 3px 1px rgba(60, 64, 67, 0.15);\n",
              "      fill: #174EA6;\n",
              "    }\n",
              "\n",
              "    [theme=dark] .colab-df-convert {\n",
              "      background-color: #3B4455;\n",
              "      fill: #D2E3FC;\n",
              "    }\n",
              "\n",
              "    [theme=dark] .colab-df-convert:hover {\n",
              "      background-color: #434B5C;\n",
              "      box-shadow: 0px 1px 3px 1px rgba(0, 0, 0, 0.15);\n",
              "      filter: drop-shadow(0px 1px 2px rgba(0, 0, 0, 0.3));\n",
              "      fill: #FFFFFF;\n",
              "    }\n",
              "  </style>\n",
              "\n",
              "      <script>\n",
              "        const buttonEl =\n",
              "          document.querySelector('#df-e4ffee53-bb0c-4b8f-9d70-019a5d7f0c3e button.colab-df-convert');\n",
              "        buttonEl.style.display =\n",
              "          google.colab.kernel.accessAllowed ? 'block' : 'none';\n",
              "\n",
              "        async function convertToInteractive(key) {\n",
              "          const element = document.querySelector('#df-e4ffee53-bb0c-4b8f-9d70-019a5d7f0c3e');\n",
              "          const dataTable =\n",
              "            await google.colab.kernel.invokeFunction('convertToInteractive',\n",
              "                                                     [key], {});\n",
              "          if (!dataTable) return;\n",
              "\n",
              "          const docLinkHtml = 'Like what you see? Visit the ' +\n",
              "            '<a target=\"_blank\" href=https://colab.research.google.com/notebooks/data_table.ipynb>data table notebook</a>'\n",
              "            + ' to learn more about interactive tables.';\n",
              "          element.innerHTML = '';\n",
              "          dataTable['output_type'] = 'display_data';\n",
              "          await google.colab.output.renderOutput(dataTable, element);\n",
              "          const docLink = document.createElement('div');\n",
              "          docLink.innerHTML = docLinkHtml;\n",
              "          element.appendChild(docLink);\n",
              "        }\n",
              "      </script>\n",
              "    </div>\n",
              "  </div>\n",
              "  "
            ]
          },
          "metadata": {},
          "execution_count": 26
        }
      ]
    },
    {
      "cell_type": "code",
      "source": [
        "y=df[df.columns[-1]]"
      ],
      "metadata": {
        "id": "B0Y_gOlJjakm"
      },
      "execution_count": 27,
      "outputs": []
    },
    {
      "cell_type": "code",
      "source": [
        "y"
      ],
      "metadata": {
        "id": "MAsOGoWoj_6k",
        "outputId": "b9fd8587-be4d-4ece-edb8-179d2fa2b6d4",
        "colab": {
          "base_uri": "https://localhost:8080/"
        }
      },
      "execution_count": 28,
      "outputs": [
        {
          "output_type": "execute_result",
          "data": {
            "text/plain": [
              "0       8\n",
              "1       8\n",
              "2       8\n",
              "3       8\n",
              "4       8\n",
              "       ..\n",
              "9995    9\n",
              "9996    9\n",
              "9997    9\n",
              "9998    9\n",
              "9999    9\n",
              "Name: position_at_finish , Length: 10000, dtype: int64"
            ]
          },
          "metadata": {},
          "execution_count": 28
        }
      ]
    },
    {
      "cell_type": "code",
      "source": [
        "from sklearn.model_selection import train_test_split\n",
        "X_train, X_test, y_train, y_test = train_test_split(X, y, test_size=0.2, random_state=42)\n",
        "print(X_train.shape, X_test.shape, y_train.shape, X_test.shape)"
      ],
      "metadata": {
        "id": "yksRJSwSkJ8S",
        "outputId": "2072a5d0-fcf4-40b9-ff90-070c6c6cd392",
        "colab": {
          "base_uri": "https://localhost:8080/"
        }
      },
      "execution_count": 29,
      "outputs": [
        {
          "output_type": "stream",
          "name": "stdout",
          "text": [
            "(8000, 27) (2000, 27) (8000,) (2000, 27)\n"
          ]
        }
      ]
    },
    {
      "cell_type": "code",
      "source": [
        "import tensorflow\n",
        "from tensorflow import keras\n",
        "from tensorflow.keras import Sequential\n",
        "from tensorflow.keras.callbacks import EarlyStopping\n",
        "from tensorflow.keras.layers import Dense, Dropout\n",
        "from sklearn.discriminant_analysis import LinearDiscriminantAnalysis as LDA\n"
      ],
      "metadata": {
        "id": "Aw8HH5O_Ia19"
      },
      "execution_count": 30,
      "outputs": []
    },
    {
      "cell_type": "code",
      "source": [
        "model=Sequential()\n",
        "model.add(Dense(38,activation='relu',input_dim=38)) #input layer\n",
        "model.add(Dropout(0.3))\n",
        "model.add(Dense(38,activation='relu'))\n",
        "model.add(Dropout(0.2))\n",
        "model.add(Dense(1,activation='sigmoid'))\n",
        "model.summary()"
      ],
      "metadata": {
        "id": "sgbcJEcpIDqn",
        "outputId": "b7834108-927d-464d-845c-8a04373ae3ad",
        "colab": {
          "base_uri": "https://localhost:8080/"
        }
      },
      "execution_count": 31,
      "outputs": [
        {
          "output_type": "stream",
          "name": "stdout",
          "text": [
            "Model: \"sequential\"\n",
            "_________________________________________________________________\n",
            " Layer (type)                Output Shape              Param #   \n",
            "=================================================================\n",
            " dense (Dense)               (None, 38)                1482      \n",
            "                                                                 \n",
            " dropout (Dropout)           (None, 38)                0         \n",
            "                                                                 \n",
            " dense_1 (Dense)             (None, 38)                1482      \n",
            "                                                                 \n",
            " dropout_1 (Dropout)         (None, 38)                0         \n",
            "                                                                 \n",
            " dense_2 (Dense)             (None, 1)                 39        \n",
            "                                                                 \n",
            "=================================================================\n",
            "Total params: 3,003\n",
            "Trainable params: 3,003\n",
            "Non-trainable params: 0\n",
            "_________________________________________________________________\n"
          ]
        }
      ]
    },
    {
      "cell_type": "code",
      "source": [
        "optimizer=keras.optimizers.Adam(learning_rate=0.0001)\n",
        "callback=EarlyStopping(monitor='val_loss', min_delta=0.0001,\n",
        "    patience=5,\n",
        "    verbose=1,\n",
        "    mode=\"auto\",\n",
        "    baseline=None,\n",
        "    restore_best_weights=False)"
      ],
      "metadata": {
        "id": "a4iDerdPIq_f"
      },
      "execution_count": 32,
      "outputs": []
    },
    {
      "cell_type": "code",
      "source": [],
      "metadata": {
        "id": "7rTjqGJiN5-s"
      },
      "execution_count": 32,
      "outputs": []
    },
    {
      "cell_type": "code",
      "source": [
        "model.compile(loss='binary_crossentropy',optimizer=optimizer,metrics=['accuracy'])"
      ],
      "metadata": {
        "id": "rdyoTDXzIjBz"
      },
      "execution_count": 33,
      "outputs": []
    },
    {
      "cell_type": "code",
      "source": [
        "history=model.fit(X_train,y_train,batch_size=20, epochs=100,\n",
        "                    validation_data = (X_test,y_test), verbose=1, callbacks=callback)"
      ],
      "metadata": {
        "id": "yfdDC9noIj1n",
        "outputId": "a68b9d35-1e62-4d13-c1e3-ed239a3f6817",
        "colab": {
          "base_uri": "https://localhost:8080/",
          "height": 642
        }
      },
      "execution_count": 34,
      "outputs": [
        {
          "output_type": "stream",
          "name": "stdout",
          "text": [
            "Epoch 1/100\n"
          ]
        },
        {
          "output_type": "error",
          "ename": "ValueError",
          "evalue": "ignored",
          "traceback": [
            "\u001b[0;31m---------------------------------------------------------------------------\u001b[0m",
            "\u001b[0;31mValueError\u001b[0m                                Traceback (most recent call last)",
            "\u001b[0;32m<ipython-input-34-3f9a9c7ef00e>\u001b[0m in \u001b[0;36m<module>\u001b[0;34m\u001b[0m\n\u001b[1;32m      1\u001b[0m history=model.fit(X_train,y_train,batch_size=20, epochs=100,\n\u001b[0;32m----> 2\u001b[0;31m                     validation_data = (X_test,y_test), verbose=1, callbacks=callback)\n\u001b[0m",
            "\u001b[0;32m/usr/local/lib/python3.7/dist-packages/keras/utils/traceback_utils.py\u001b[0m in \u001b[0;36merror_handler\u001b[0;34m(*args, **kwargs)\u001b[0m\n\u001b[1;32m     65\u001b[0m     \u001b[0;32mexcept\u001b[0m \u001b[0mException\u001b[0m \u001b[0;32mas\u001b[0m \u001b[0me\u001b[0m\u001b[0;34m:\u001b[0m  \u001b[0;31m# pylint: disable=broad-except\u001b[0m\u001b[0;34m\u001b[0m\u001b[0;34m\u001b[0m\u001b[0m\n\u001b[1;32m     66\u001b[0m       \u001b[0mfiltered_tb\u001b[0m \u001b[0;34m=\u001b[0m \u001b[0m_process_traceback_frames\u001b[0m\u001b[0;34m(\u001b[0m\u001b[0me\u001b[0m\u001b[0;34m.\u001b[0m\u001b[0m__traceback__\u001b[0m\u001b[0;34m)\u001b[0m\u001b[0;34m\u001b[0m\u001b[0;34m\u001b[0m\u001b[0m\n\u001b[0;32m---> 67\u001b[0;31m       \u001b[0;32mraise\u001b[0m \u001b[0me\u001b[0m\u001b[0;34m.\u001b[0m\u001b[0mwith_traceback\u001b[0m\u001b[0;34m(\u001b[0m\u001b[0mfiltered_tb\u001b[0m\u001b[0;34m)\u001b[0m \u001b[0;32mfrom\u001b[0m \u001b[0;32mNone\u001b[0m\u001b[0;34m\u001b[0m\u001b[0;34m\u001b[0m\u001b[0m\n\u001b[0m\u001b[1;32m     68\u001b[0m     \u001b[0;32mfinally\u001b[0m\u001b[0;34m:\u001b[0m\u001b[0;34m\u001b[0m\u001b[0;34m\u001b[0m\u001b[0m\n\u001b[1;32m     69\u001b[0m       \u001b[0;32mdel\u001b[0m \u001b[0mfiltered_tb\u001b[0m\u001b[0;34m\u001b[0m\u001b[0;34m\u001b[0m\u001b[0m\n",
            "\u001b[0;32m/usr/local/lib/python3.7/dist-packages/keras/engine/training.py\u001b[0m in \u001b[0;36mtf__train_function\u001b[0;34m(iterator)\u001b[0m\n\u001b[1;32m     13\u001b[0m                 \u001b[0;32mtry\u001b[0m\u001b[0;34m:\u001b[0m\u001b[0;34m\u001b[0m\u001b[0;34m\u001b[0m\u001b[0m\n\u001b[1;32m     14\u001b[0m                     \u001b[0mdo_return\u001b[0m \u001b[0;34m=\u001b[0m \u001b[0;32mTrue\u001b[0m\u001b[0;34m\u001b[0m\u001b[0;34m\u001b[0m\u001b[0m\n\u001b[0;32m---> 15\u001b[0;31m                     \u001b[0mretval_\u001b[0m \u001b[0;34m=\u001b[0m \u001b[0mag__\u001b[0m\u001b[0;34m.\u001b[0m\u001b[0mconverted_call\u001b[0m\u001b[0;34m(\u001b[0m\u001b[0mag__\u001b[0m\u001b[0;34m.\u001b[0m\u001b[0mld\u001b[0m\u001b[0;34m(\u001b[0m\u001b[0mstep_function\u001b[0m\u001b[0;34m)\u001b[0m\u001b[0;34m,\u001b[0m \u001b[0;34m(\u001b[0m\u001b[0mag__\u001b[0m\u001b[0;34m.\u001b[0m\u001b[0mld\u001b[0m\u001b[0;34m(\u001b[0m\u001b[0mself\u001b[0m\u001b[0;34m)\u001b[0m\u001b[0;34m,\u001b[0m \u001b[0mag__\u001b[0m\u001b[0;34m.\u001b[0m\u001b[0mld\u001b[0m\u001b[0;34m(\u001b[0m\u001b[0miterator\u001b[0m\u001b[0;34m)\u001b[0m\u001b[0;34m)\u001b[0m\u001b[0;34m,\u001b[0m \u001b[0;32mNone\u001b[0m\u001b[0;34m,\u001b[0m \u001b[0mfscope\u001b[0m\u001b[0;34m)\u001b[0m\u001b[0;34m\u001b[0m\u001b[0;34m\u001b[0m\u001b[0m\n\u001b[0m\u001b[1;32m     16\u001b[0m                 \u001b[0;32mexcept\u001b[0m\u001b[0;34m:\u001b[0m\u001b[0;34m\u001b[0m\u001b[0;34m\u001b[0m\u001b[0m\n\u001b[1;32m     17\u001b[0m                     \u001b[0mdo_return\u001b[0m \u001b[0;34m=\u001b[0m \u001b[0;32mFalse\u001b[0m\u001b[0;34m\u001b[0m\u001b[0;34m\u001b[0m\u001b[0m\n",
            "\u001b[0;31mValueError\u001b[0m: in user code:\n\n    File \"/usr/local/lib/python3.7/dist-packages/keras/engine/training.py\", line 1051, in train_function  *\n        return step_function(self, iterator)\n    File \"/usr/local/lib/python3.7/dist-packages/keras/engine/training.py\", line 1040, in step_function  **\n        outputs = model.distribute_strategy.run(run_step, args=(data,))\n    File \"/usr/local/lib/python3.7/dist-packages/keras/engine/training.py\", line 1030, in run_step  **\n        outputs = model.train_step(data)\n    File \"/usr/local/lib/python3.7/dist-packages/keras/engine/training.py\", line 889, in train_step\n        y_pred = self(x, training=True)\n    File \"/usr/local/lib/python3.7/dist-packages/keras/utils/traceback_utils.py\", line 67, in error_handler\n        raise e.with_traceback(filtered_tb) from None\n    File \"/usr/local/lib/python3.7/dist-packages/keras/engine/input_spec.py\", line 264, in assert_input_compatibility\n        raise ValueError(f'Input {input_index} of layer \"{layer_name}\" is '\n\n    ValueError: Input 0 of layer \"sequential\" is incompatible with the layer: expected shape=(None, 38), found shape=(20, 27)\n"
          ]
        }
      ]
    },
    {
      "cell_type": "code",
      "source": [
        "\n",
        "\n",
        "import numpy as np\n",
        "import pandas as pd\n",
        "import matplotlib.pyplot as plt\n",
        "import seaborn as sns\n",
        "\n",
        "import plotly.express as px\n",
        "import matplotlib.pyplot as plt\n",
        "import seaborn as sns\n",
        "\n",
        "plt.rcParams['font.size'] = 12\n",
        "plt.rcParams['figure.figsize'] = (15, 10)\n",
        "\n",
        "from sklearn.preprocessing import OneHotEncoder\n",
        "from sklearn.cluster import KMeans\n",
        "from imblearn.over_sampling  import RandomOverSampler\n",
        "from sklearn.preprocessing import StandardScaler\n",
        "from sklearn.model_selection import train_test_split\n",
        "from sklearn.metrics import confusion_matrix \n",
        "from sklearn.metrics import classification_report\n",
        "from sklearn.metrics import recall_score,precision_score,f1_score\n",
        "\n",
        "scaler = StandardScaler()\n",
        "X= scaler.fit_transform(X)"
      ],
      "metadata": {
        "id": "kFgX2w6BI_7m"
      },
      "execution_count": 35,
      "outputs": []
    },
    {
      "cell_type": "code",
      "source": [
        "from sklearn import decomposition \n",
        "pca = decomposition.PCA(0.90)\n",
        "print(\"Shape of X before PCA -\", X.shape)\n",
        "X = pca.fit_transform(X)\n",
        "print(\"Shape of X after PCA -\", X.shape)\n",
        "X"
      ],
      "metadata": {
        "id": "VE9V6KmjNqZf",
        "outputId": "ca60e6ed-1d94-4dab-987f-1ac2f6d32bc5",
        "colab": {
          "base_uri": "https://localhost:8080/"
        }
      },
      "execution_count": 36,
      "outputs": [
        {
          "output_type": "stream",
          "name": "stdout",
          "text": [
            "Shape of X before PCA - (10000, 27)\n",
            "Shape of X after PCA - (10000, 9)\n"
          ]
        },
        {
          "output_type": "execute_result",
          "data": {
            "text/plain": [
              "array([[-2.77560691, -1.73972307, -1.27356989, ...,  0.64995101,\n",
              "        -0.41215438,  0.32717716],\n",
              "       [-2.77449146, -1.73971953, -1.27367162, ...,  0.6499871 ,\n",
              "        -0.41317117,  0.3281471 ],\n",
              "       [-2.78676186, -1.73977042, -1.27255093, ...,  0.64958705,\n",
              "        -0.40198573,  0.31747719],\n",
              "       ...,\n",
              "       [-1.04382693,  3.8210562 ,  3.05294385, ..., -1.28227167,\n",
              "        -1.14363469,  1.95820353],\n",
              "       [-1.04266305,  3.82138302,  3.05278619, ..., -1.2821571 ,\n",
              "        -1.14465371,  1.95916299],\n",
              "       [-1.04149673,  3.8217224 ,  3.05262623, ..., -1.28203956,\n",
              "        -1.14567254,  1.96012162]])"
            ]
          },
          "metadata": {},
          "execution_count": 36
        }
      ]
    },
    {
      "cell_type": "code",
      "source": [
        "oversample = RandomOverSampler(sampling_strategy='minority')\n",
        "X, y = oversample.fit_resample(X, y)"
      ],
      "metadata": {
        "id": "6ecq1SGGNvFC"
      },
      "execution_count": 37,
      "outputs": []
    },
    {
      "cell_type": "code",
      "source": [
        "print('X Shape -', X.shape)\n",
        "print('y Shape -',y.shape)"
      ],
      "metadata": {
        "id": "EnDzxTn3NxaG",
        "outputId": "7d5c1590-ba62-4423-b127-77229ab1ebbd",
        "colab": {
          "base_uri": "https://localhost:8080/"
        }
      },
      "execution_count": 38,
      "outputs": [
        {
          "output_type": "stream",
          "name": "stdout",
          "text": [
            "X Shape - (12504, 9)\n",
            "y Shape - (12504,)\n"
          ]
        }
      ]
    },
    {
      "cell_type": "code",
      "source": [
        "X_train, X_test, y_train, y_test = train_test_split(X, y, test_size=0.33, random_state=42)"
      ],
      "metadata": {
        "id": "U6nL4YTtWAxz"
      },
      "execution_count": null,
      "outputs": []
    },
    {
      "cell_type": "code",
      "source": [
        "names=['LogisticRegression' ,'KNN','Linear_SVM','XGB_Classifier','Random_Forest']\n",
        "names"
      ],
      "metadata": {
        "id": "y0wzSoo4OYJZ",
        "outputId": "b91eb635-28b9-4bd8-dca0-0aa38848023d",
        "colab": {
          "base_uri": "https://localhost:8080/"
        }
      },
      "execution_count": 39,
      "outputs": [
        {
          "output_type": "execute_result",
          "data": {
            "text/plain": [
              "['LogisticRegression', 'KNN', 'Linear_SVM', 'XGB_Classifier', 'Random_Forest']"
            ]
          },
          "metadata": {},
          "execution_count": 39
        }
      ]
    },
    {
      "cell_type": "code",
      "source": [
        "\n",
        "from sklearn.linear_model import LogisticRegression\n",
        "from sklearn.neighbors import KNeighborsClassifier\n",
        "from sklearn.svm import SVC\n",
        "import xgboost as xgb\n",
        "from xgboost import XGBClassifier\n",
        "from sklearn.ensemble import RandomForestClassifier"
      ],
      "metadata": {
        "id": "5Xa_5MtvOnhW"
      },
      "execution_count": 40,
      "outputs": []
    },
    {
      "cell_type": "code",
      "source": [
        "classifiers=[\n",
        "    LogisticRegression(solver='liblinear',penalty='l2' ,n_jobs=12 ,random_state=0),\n",
        "    KNeighborsClassifier(n_neighbors=3),\n",
        "    SVC(kernel='linear',C=0.025),\n",
        "    XGBClassifier(objective='binary:hinge'),\n",
        "    RandomForestClassifier(max_depth=5,n_estimators=100)]"
      ],
      "metadata": {
        "id": "3t69qdzCOarL"
      },
      "execution_count": 41,
      "outputs": []
    },
    {
      "cell_type": "code",
      "source": [],
      "metadata": {
        "id": "VGNaCaVkWJz7"
      },
      "execution_count": null,
      "outputs": []
    },
    {
      "cell_type": "code",
      "source": [
        "modelscores = []\n",
        "for name, clf in zip(names, classifiers):\n",
        "    clf.fit(X_train, y_train)\n",
        "    score = clf.score(X_test, y_test)\n",
        "    modelscores.append(score)\n",
        "modelscores "
      ],
      "metadata": {
        "id": "YOHgQztZWPKx"
      },
      "execution_count": null,
      "outputs": []
    },
    {
      "cell_type": "code",
      "source": [
        "scores_df=pd.DataFrame(columns=['names','modelscores'])\n",
        "scores_df['names']=names\n",
        "scores_df['modelscores']=modelscores\n",
        "\n",
        "scores_df\n",
        "scores_df.sort_values('modelscores',ascending=False)"
      ],
      "metadata": {
        "id": "fOdLk3APWRQs"
      },
      "execution_count": null,
      "outputs": []
    }
  ]
}