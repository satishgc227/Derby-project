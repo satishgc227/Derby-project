{
  "nbformat": 4,
  "nbformat_minor": 0,
  "metadata": {
    "colab": {
      "provenance": [],
      "authorship_tag": "ABX9TyOWhx+JIBR/NOAqrY5WB2Xy",
      "include_colab_link": true
    },
    "kernelspec": {
      "name": "python3",
      "display_name": "Python 3"
    },
    "language_info": {
      "name": "python"
    }
  },
  "cells": [
    {
      "cell_type": "markdown",
      "metadata": {
        "id": "view-in-github",
        "colab_type": "text"
      },
      "source": [
        "<a href=\"https://colab.research.google.com/github/satishgc227/Derby-project/blob/main/Deep_learning.ipynb\" target=\"_parent\"><img src=\"https://colab.research.google.com/assets/colab-badge.svg\" alt=\"Open In Colab\"/></a>"
      ]
    },
    {
      "cell_type": "code",
      "execution_count": 1,
      "metadata": {
        "id": "6g2D3R0JTtJh"
      },
      "outputs": [],
      "source": [
        "# Import required libraries\n",
        "import pandas as pd\n",
        "from sklearn.preprocessing import LabelEncoder\n",
        "from sklearn.model_selection import train_test_split\n",
        "from sklearn.preprocessing import StandardScaler\n",
        "import tensorflow as tf\n",
        "from tensorflow.keras import Sequential\n",
        "from tensorflow.keras.metrics import Precision\n",
        "from tensorflow.keras.losses import CategoricalCrossentropy\n",
        "from tensorflow.keras.optimizers import Adam\n",
        "from tensorflow.keras.layers import Dense, Dropout\n",
        "import numpy as np\n",
        "import keras\n",
        "from matplotlib import pyplot as plt\n",
        "from sklearn.metrics import mean_squared_error"
      ]
    },
    {
      "cell_type": "code",
      "source": [
        "#Load the dataset\n",
        "cdf=pd.read_csv(\"/content/edited complete.csv\",encoding='latin',nrows=50000)"
      ],
      "metadata": {
        "id": "9BkTPK1UUDIN"
      },
      "execution_count": 2,
      "outputs": []
    },
    {
      "cell_type": "code",
      "source": [
        "cdf.isnull().sum()"
      ],
      "metadata": {
        "colab": {
          "base_uri": "https://localhost:8080/"
        },
        "id": "ynAkwdAcUPXh",
        "outputId": "e70fe1b2-de95-46c2-c2ee-9f585207532c"
      },
      "execution_count": 3,
      "outputs": [
        {
          "output_type": "execute_result",
          "data": {
            "text/plain": [
              "track_id               0\n",
              "race_date              0\n",
              "race_number            0\n",
              "program_number         0\n",
              "trakus_index           0\n",
              "latitude               0\n",
              "longitude              0\n",
              "distance_id            0\n",
              "course_type            0\n",
              "track_condition        0\n",
              "run_up_distance        0\n",
              "race_type              0\n",
              "purse                  0\n",
              "post_time              0\n",
              "weight_carried         0\n",
              "jockey                 0\n",
              "odds                   0\n",
              "position_at_finish     0\n",
              "dtype: int64"
            ]
          },
          "metadata": {},
          "execution_count": 3
        }
      ]
    },
    {
      "cell_type": "code",
      "source": [
        "cdf=cdf.dropna()"
      ],
      "metadata": {
        "id": "0Yok3DwUUjxK"
      },
      "execution_count": 4,
      "outputs": []
    },
    {
      "cell_type": "code",
      "source": [
        "cdf.info()"
      ],
      "metadata": {
        "colab": {
          "base_uri": "https://localhost:8080/"
        },
        "id": "e_1sxjzDUpTY",
        "outputId": "bfb88b18-630b-47ac-d085-ae837bbfce99"
      },
      "execution_count": 5,
      "outputs": [
        {
          "output_type": "stream",
          "name": "stdout",
          "text": [
            "<class 'pandas.core.frame.DataFrame'>\n",
            "Int64Index: 50000 entries, 0 to 49999\n",
            "Data columns (total 18 columns):\n",
            " #   Column               Non-Null Count  Dtype  \n",
            "---  ------               --------------  -----  \n",
            " 0   track_id             50000 non-null  object \n",
            " 1   race_date            50000 non-null  object \n",
            " 2   race_number          50000 non-null  int64  \n",
            " 3   program_number       50000 non-null  object \n",
            " 4   trakus_index         50000 non-null  int64  \n",
            " 5   latitude             50000 non-null  float64\n",
            " 6   longitude            50000 non-null  float64\n",
            " 7   distance_id          50000 non-null  int64  \n",
            " 8   course_type          50000 non-null  object \n",
            " 9   track_condition      50000 non-null  object \n",
            " 10  run_up_distance      50000 non-null  int64  \n",
            " 11  race_type            50000 non-null  object \n",
            " 12  purse                50000 non-null  int64  \n",
            " 13  post_time            50000 non-null  int64  \n",
            " 14  weight_carried       50000 non-null  int64  \n",
            " 15  jockey               50000 non-null  object \n",
            " 16  odds                 50000 non-null  int64  \n",
            " 17  position_at_finish   50000 non-null  int64  \n",
            "dtypes: float64(2), int64(9), object(7)\n",
            "memory usage: 7.2+ MB\n"
          ]
        }
      ]
    },
    {
      "cell_type": "code",
      "source": [
        "# Encode ordinal columns ( categorical values with dtype-object)\n",
        "\n",
        "le=LabelEncoder()\n",
        "obj=cdf.select_dtypes(include='object').columns\n",
        "for f in obj:\n",
        "    cdf[f] = le.fit_transform(cdf[f].astype(str))\n",
        "print(cdf.info())"
      ],
      "metadata": {
        "colab": {
          "base_uri": "https://localhost:8080/"
        },
        "id": "dtpeFFggU4sI",
        "outputId": "60fe5237-675d-4e34-bc57-f7f1afba9c22"
      },
      "execution_count": 6,
      "outputs": [
        {
          "output_type": "stream",
          "name": "stdout",
          "text": [
            "<class 'pandas.core.frame.DataFrame'>\n",
            "Int64Index: 50000 entries, 0 to 49999\n",
            "Data columns (total 18 columns):\n",
            " #   Column               Non-Null Count  Dtype  \n",
            "---  ------               --------------  -----  \n",
            " 0   track_id             50000 non-null  int64  \n",
            " 1   race_date            50000 non-null  int64  \n",
            " 2   race_number          50000 non-null  int64  \n",
            " 3   program_number       50000 non-null  int64  \n",
            " 4   trakus_index         50000 non-null  int64  \n",
            " 5   latitude             50000 non-null  float64\n",
            " 6   longitude            50000 non-null  float64\n",
            " 7   distance_id          50000 non-null  int64  \n",
            " 8   course_type          50000 non-null  int64  \n",
            " 9   track_condition      50000 non-null  int64  \n",
            " 10  run_up_distance      50000 non-null  int64  \n",
            " 11  race_type            50000 non-null  int64  \n",
            " 12  purse                50000 non-null  int64  \n",
            " 13  post_time            50000 non-null  int64  \n",
            " 14  weight_carried       50000 non-null  int64  \n",
            " 15  jockey               50000 non-null  int64  \n",
            " 16  odds                 50000 non-null  int64  \n",
            " 17  position_at_finish   50000 non-null  int64  \n",
            "dtypes: float64(2), int64(16)\n",
            "memory usage: 7.2 MB\n",
            "None\n"
          ]
        }
      ]
    },
    {
      "cell_type": "code",
      "source": [
        "# Take subset of dataset and build a deep learning model\n",
        "fdf = cdf.head(1000)\n",
        "data = fdf.drop(['track_id','program_number\\xa0','race_date','latitude\\xa0','longitude\\xa0','distance_id\\xa0','position_at_finish\\xa0'],axis=1)\n",
        "target = fdf['position_at_finish\\xa0']\n"
      ],
      "metadata": {
        "id": "KBLJuKMgXwZS"
      },
      "execution_count": 7,
      "outputs": []
    },
    {
      "cell_type": "code",
      "source": [
        "# Scale the data (transforming  data so that it fits within a specific scale, like 0-100 or 0-1)\n",
        "\n",
        "ss = StandardScaler()\n",
        "data = pd.DataFrame(ss.fit_transform(data))\n",
        "#print(data.shape, target.shape)\n",
        "\n",
        "# Split the dataset\n",
        "\n",
        "X_train, X_test, y_train, y_test = train_test_split(data, target, train_size = 0.8, test_size = 0.2,\n",
        "                                               random_state = 1)\n",
        "print(X_train.shape, X_test.shape, y_train.shape, y_test.shape)"
      ],
      "metadata": {
        "colab": {
          "base_uri": "https://localhost:8080/"
        },
        "id": "ndCDQMVLYa_e",
        "outputId": "810b9618-15d3-45f0-85fe-4a15f7312b0a"
      },
      "execution_count": 13,
      "outputs": [
        {
          "output_type": "stream",
          "name": "stdout",
          "text": [
            "(800, 11) (200, 11) (800,) (200,)\n"
          ]
        }
      ]
    },
    {
      "cell_type": "code",
      "source": [
        "model=Sequential()\n",
        "model.add(Dense(11,activation='relu',input_dim=11)) #input layer\n",
        "model.add(Dropout(0.1))\n",
        "model.add(Dense(10,activation='relu'))\n",
        "model.add(Dropout(0.1))\n",
        "model.add(Dense(1,activation='softmax'))\n",
        "model.summary()\n",
        "print(model.summary,'\\n')\n"
      ],
      "metadata": {
        "colab": {
          "base_uri": "https://localhost:8080/"
        },
        "id": "wrJdIsP2YiPM",
        "outputId": "996f54ff-412e-4689-d930-ffb48ee0f338"
      },
      "execution_count": 14,
      "outputs": [
        {
          "output_type": "stream",
          "name": "stdout",
          "text": [
            "Model: \"sequential_1\"\n",
            "_________________________________________________________________\n",
            " Layer (type)                Output Shape              Param #   \n",
            "=================================================================\n",
            " dense_3 (Dense)             (None, 11)                132       \n",
            "                                                                 \n",
            " dropout_2 (Dropout)         (None, 11)                0         \n",
            "                                                                 \n",
            " dense_4 (Dense)             (None, 10)                120       \n",
            "                                                                 \n",
            " dropout_3 (Dropout)         (None, 10)                0         \n",
            "                                                                 \n",
            " dense_5 (Dense)             (None, 1)                 11        \n",
            "                                                                 \n",
            "=================================================================\n",
            "Total params: 263\n",
            "Trainable params: 263\n",
            "Non-trainable params: 0\n",
            "_________________________________________________________________\n",
            "<bound method Model.summary of <keras.engine.sequential.Sequential object at 0x7f203599cf10>> \n",
            "\n"
          ]
        }
      ]
    },
    {
      "cell_type": "code",
      "source": [
        "from tensorflow.keras.callbacks import EarlyStopping\n",
        "#Applying optimizers and callbacks\n",
        "optimizer=keras.optimizers.Adam(learning_rate=0.0001)\n",
        "callback=EarlyStopping(monitor='val_loss', min_delta=0.0001,\n",
        "    patience=5,\n",
        "    verbose=1,\n",
        "    mode=\"auto\",\n",
        "    baseline=None,\n",
        "    restore_best_weights=False)\n",
        "\n",
        "#Compiling the model\n",
        "model.compile(loss='binary_crossentropy',optimizer=optimizer,metrics=['accuracy'])\n",
        "\n",
        "\n",
        "#Fitting the model\n",
        "history=model.fit(X_train,y_train,batch_size=200, epochs=100,\n",
        "                    validation_data = (X_test,y_test), verbose=1, callbacks=callback)\n",
        "\n"
      ],
      "metadata": {
        "colab": {
          "base_uri": "https://localhost:8080/"
        },
        "id": "82AG74N9ZTv1",
        "outputId": "8fc159ee-32d3-496f-b02d-4e203bb2325a"
      },
      "execution_count": 15,
      "outputs": [
        {
          "output_type": "stream",
          "name": "stdout",
          "text": [
            "Epoch 1/100\n",
            "4/4 [==============================] - 1s 60ms/step - loss: 1.4698 - accuracy: 0.0000e+00 - val_loss: 1.3221 - val_accuracy: 0.0000e+00\n",
            "Epoch 2/100\n",
            "4/4 [==============================] - 0s 13ms/step - loss: 1.5427 - accuracy: 0.0000e+00 - val_loss: 1.2859 - val_accuracy: 0.0000e+00\n",
            "Epoch 3/100\n",
            "4/4 [==============================] - 0s 11ms/step - loss: 1.5214 - accuracy: 0.0000e+00 - val_loss: 1.2499 - val_accuracy: 0.0000e+00\n",
            "Epoch 4/100\n",
            "4/4 [==============================] - 0s 11ms/step - loss: 1.4334 - accuracy: 0.0000e+00 - val_loss: 1.2138 - val_accuracy: 0.0000e+00\n",
            "Epoch 5/100\n",
            "4/4 [==============================] - 0s 10ms/step - loss: 1.4955 - accuracy: 0.0000e+00 - val_loss: 1.1780 - val_accuracy: 0.0000e+00\n",
            "Epoch 6/100\n",
            "4/4 [==============================] - 0s 10ms/step - loss: 1.3532 - accuracy: 0.0000e+00 - val_loss: 1.1424 - val_accuracy: 0.0000e+00\n",
            "Epoch 7/100\n",
            "4/4 [==============================] - 0s 10ms/step - loss: 1.3175 - accuracy: 0.0000e+00 - val_loss: 1.1068 - val_accuracy: 0.0000e+00\n",
            "Epoch 8/100\n",
            "4/4 [==============================] - 0s 11ms/step - loss: 1.3188 - accuracy: 0.0000e+00 - val_loss: 1.0713 - val_accuracy: 0.0000e+00\n",
            "Epoch 9/100\n",
            "4/4 [==============================] - 0s 10ms/step - loss: 1.2972 - accuracy: 0.0000e+00 - val_loss: 1.0360 - val_accuracy: 0.0000e+00\n",
            "Epoch 10/100\n",
            "4/4 [==============================] - 0s 9ms/step - loss: 1.2231 - accuracy: 0.0000e+00 - val_loss: 1.0008 - val_accuracy: 0.0000e+00\n",
            "Epoch 11/100\n",
            "4/4 [==============================] - 0s 10ms/step - loss: 1.2315 - accuracy: 0.0000e+00 - val_loss: 0.9656 - val_accuracy: 0.0000e+00\n",
            "Epoch 12/100\n",
            "4/4 [==============================] - 0s 10ms/step - loss: 1.2211 - accuracy: 0.0000e+00 - val_loss: 0.9307 - val_accuracy: 0.0000e+00\n",
            "Epoch 13/100\n",
            "4/4 [==============================] - 0s 12ms/step - loss: 1.1820 - accuracy: 0.0000e+00 - val_loss: 0.8959 - val_accuracy: 0.0000e+00\n",
            "Epoch 14/100\n",
            "4/4 [==============================] - 0s 14ms/step - loss: 0.9611 - accuracy: 0.0000e+00 - val_loss: 0.8609 - val_accuracy: 0.0000e+00\n",
            "Epoch 15/100\n",
            "4/4 [==============================] - 0s 11ms/step - loss: 1.0149 - accuracy: 0.0000e+00 - val_loss: 0.8262 - val_accuracy: 0.0000e+00\n",
            "Epoch 16/100\n",
            "4/4 [==============================] - 0s 11ms/step - loss: 1.0583 - accuracy: 0.0000e+00 - val_loss: 0.7913 - val_accuracy: 0.0000e+00\n",
            "Epoch 17/100\n",
            "4/4 [==============================] - 0s 11ms/step - loss: 1.0644 - accuracy: 0.0000e+00 - val_loss: 0.7561 - val_accuracy: 0.0000e+00\n",
            "Epoch 18/100\n",
            "4/4 [==============================] - 0s 11ms/step - loss: 0.9112 - accuracy: 0.0000e+00 - val_loss: 0.7213 - val_accuracy: 0.0000e+00\n",
            "Epoch 19/100\n",
            "4/4 [==============================] - 0s 12ms/step - loss: 0.9537 - accuracy: 0.0000e+00 - val_loss: 0.6866 - val_accuracy: 0.0000e+00\n",
            "Epoch 20/100\n",
            "4/4 [==============================] - 0s 9ms/step - loss: 0.9287 - accuracy: 0.0000e+00 - val_loss: 0.6519 - val_accuracy: 0.0000e+00\n",
            "Epoch 21/100\n",
            "4/4 [==============================] - 0s 12ms/step - loss: 0.9604 - accuracy: 0.0000e+00 - val_loss: 0.6172 - val_accuracy: 0.0000e+00\n",
            "Epoch 22/100\n",
            "4/4 [==============================] - 0s 17ms/step - loss: 0.7984 - accuracy: 0.0000e+00 - val_loss: 0.5826 - val_accuracy: 0.0000e+00\n",
            "Epoch 23/100\n",
            "4/4 [==============================] - 0s 13ms/step - loss: 0.7523 - accuracy: 0.0000e+00 - val_loss: 0.5480 - val_accuracy: 0.0000e+00\n",
            "Epoch 24/100\n",
            "4/4 [==============================] - 0s 13ms/step - loss: 0.6996 - accuracy: 0.0000e+00 - val_loss: 0.5133 - val_accuracy: 0.0000e+00\n",
            "Epoch 25/100\n",
            "4/4 [==============================] - 0s 10ms/step - loss: 0.7621 - accuracy: 0.0000e+00 - val_loss: 0.4785 - val_accuracy: 0.0000e+00\n",
            "Epoch 26/100\n",
            "4/4 [==============================] - 0s 12ms/step - loss: 0.7428 - accuracy: 0.0000e+00 - val_loss: 0.4440 - val_accuracy: 0.0000e+00\n",
            "Epoch 27/100\n",
            "4/4 [==============================] - 0s 11ms/step - loss: 0.5905 - accuracy: 0.0000e+00 - val_loss: 0.4095 - val_accuracy: 0.0000e+00\n",
            "Epoch 28/100\n",
            "4/4 [==============================] - 0s 11ms/step - loss: 0.5564 - accuracy: 0.0000e+00 - val_loss: 0.3749 - val_accuracy: 0.0000e+00\n",
            "Epoch 29/100\n",
            "4/4 [==============================] - 0s 12ms/step - loss: 0.5775 - accuracy: 0.0000e+00 - val_loss: 0.3401 - val_accuracy: 0.0000e+00\n",
            "Epoch 30/100\n",
            "4/4 [==============================] - 0s 11ms/step - loss: 0.6373 - accuracy: 0.0000e+00 - val_loss: 0.3055 - val_accuracy: 0.0000e+00\n",
            "Epoch 31/100\n",
            "4/4 [==============================] - 0s 10ms/step - loss: 0.4932 - accuracy: 0.0000e+00 - val_loss: 0.2708 - val_accuracy: 0.0000e+00\n",
            "Epoch 32/100\n",
            "4/4 [==============================] - 0s 10ms/step - loss: 0.4930 - accuracy: 0.0000e+00 - val_loss: 0.2363 - val_accuracy: 0.0000e+00\n",
            "Epoch 33/100\n",
            "4/4 [==============================] - 0s 11ms/step - loss: 0.3068 - accuracy: 0.0000e+00 - val_loss: 0.2019 - val_accuracy: 0.0000e+00\n",
            "Epoch 34/100\n",
            "4/4 [==============================] - 0s 12ms/step - loss: 0.3486 - accuracy: 0.0000e+00 - val_loss: 0.1674 - val_accuracy: 0.0000e+00\n",
            "Epoch 35/100\n",
            "4/4 [==============================] - 0s 14ms/step - loss: 0.4010 - accuracy: 0.0000e+00 - val_loss: 0.1330 - val_accuracy: 0.0000e+00\n",
            "Epoch 36/100\n",
            "4/4 [==============================] - 0s 14ms/step - loss: 0.3404 - accuracy: 0.0000e+00 - val_loss: 0.0982 - val_accuracy: 0.0000e+00\n",
            "Epoch 37/100\n",
            "4/4 [==============================] - 0s 11ms/step - loss: 0.3251 - accuracy: 0.0000e+00 - val_loss: 0.0632 - val_accuracy: 0.0000e+00\n",
            "Epoch 38/100\n",
            "4/4 [==============================] - 0s 11ms/step - loss: 0.2842 - accuracy: 0.0000e+00 - val_loss: 0.0282 - val_accuracy: 0.0000e+00\n",
            "Epoch 39/100\n",
            "4/4 [==============================] - 0s 10ms/step - loss: 0.2665 - accuracy: 0.0000e+00 - val_loss: -0.0067 - val_accuracy: 0.0000e+00\n",
            "Epoch 40/100\n",
            "4/4 [==============================] - 0s 10ms/step - loss: 0.2825 - accuracy: 0.0000e+00 - val_loss: -0.0418 - val_accuracy: 0.0000e+00\n",
            "Epoch 41/100\n",
            "4/4 [==============================] - 0s 12ms/step - loss: 0.0860 - accuracy: 0.0000e+00 - val_loss: -0.0766 - val_accuracy: 0.0000e+00\n",
            "Epoch 42/100\n",
            "4/4 [==============================] - 0s 11ms/step - loss: 0.2381 - accuracy: 0.0000e+00 - val_loss: -0.1114 - val_accuracy: 0.0000e+00\n",
            "Epoch 43/100\n",
            "4/4 [==============================] - 0s 10ms/step - loss: 0.1584 - accuracy: 0.0000e+00 - val_loss: -0.1465 - val_accuracy: 0.0000e+00\n",
            "Epoch 44/100\n",
            "4/4 [==============================] - 0s 10ms/step - loss: 0.1186 - accuracy: 0.0000e+00 - val_loss: -0.1818 - val_accuracy: 0.0000e+00\n",
            "Epoch 45/100\n",
            "4/4 [==============================] - 0s 11ms/step - loss: -0.0072 - accuracy: 0.0000e+00 - val_loss: -0.2169 - val_accuracy: 0.0000e+00\n",
            "Epoch 46/100\n",
            "4/4 [==============================] - 0s 10ms/step - loss: -0.0192 - accuracy: 0.0000e+00 - val_loss: -0.2522 - val_accuracy: 0.0000e+00\n",
            "Epoch 47/100\n",
            "4/4 [==============================] - 0s 11ms/step - loss: -0.0258 - accuracy: 0.0000e+00 - val_loss: -0.2875 - val_accuracy: 0.0000e+00\n",
            "Epoch 48/100\n",
            "4/4 [==============================] - 0s 10ms/step - loss: -0.0280 - accuracy: 0.0000e+00 - val_loss: -0.3226 - val_accuracy: 0.0000e+00\n",
            "Epoch 49/100\n",
            "4/4 [==============================] - 0s 11ms/step - loss: -0.1364 - accuracy: 0.0000e+00 - val_loss: -0.3579 - val_accuracy: 0.0000e+00\n",
            "Epoch 50/100\n",
            "4/4 [==============================] - 0s 11ms/step - loss: -0.1575 - accuracy: 0.0000e+00 - val_loss: -0.3931 - val_accuracy: 0.0000e+00\n",
            "Epoch 51/100\n",
            "4/4 [==============================] - 0s 12ms/step - loss: -0.1519 - accuracy: 0.0000e+00 - val_loss: -0.4282 - val_accuracy: 0.0000e+00\n",
            "Epoch 52/100\n",
            "4/4 [==============================] - 0s 12ms/step - loss: -0.2051 - accuracy: 0.0000e+00 - val_loss: -0.4634 - val_accuracy: 0.0000e+00\n",
            "Epoch 53/100\n",
            "4/4 [==============================] - 0s 11ms/step - loss: -0.1120 - accuracy: 0.0000e+00 - val_loss: -0.4985 - val_accuracy: 0.0000e+00\n",
            "Epoch 54/100\n",
            "4/4 [==============================] - 0s 11ms/step - loss: -0.2901 - accuracy: 0.0000e+00 - val_loss: -0.5336 - val_accuracy: 0.0000e+00\n",
            "Epoch 55/100\n",
            "4/4 [==============================] - 0s 11ms/step - loss: -0.2835 - accuracy: 0.0000e+00 - val_loss: -0.5689 - val_accuracy: 0.0000e+00\n",
            "Epoch 56/100\n",
            "4/4 [==============================] - 0s 20ms/step - loss: -0.4126 - accuracy: 0.0000e+00 - val_loss: -0.6044 - val_accuracy: 0.0000e+00\n",
            "Epoch 57/100\n",
            "4/4 [==============================] - 0s 11ms/step - loss: -0.3747 - accuracy: 0.0000e+00 - val_loss: -0.6399 - val_accuracy: 0.0000e+00\n",
            "Epoch 58/100\n",
            "4/4 [==============================] - 0s 10ms/step - loss: -0.4017 - accuracy: 0.0000e+00 - val_loss: -0.6756 - val_accuracy: 0.0000e+00\n",
            "Epoch 59/100\n",
            "4/4 [==============================] - 0s 18ms/step - loss: -0.4788 - accuracy: 0.0000e+00 - val_loss: -0.7112 - val_accuracy: 0.0000e+00\n",
            "Epoch 60/100\n",
            "4/4 [==============================] - 0s 11ms/step - loss: -0.4537 - accuracy: 0.0000e+00 - val_loss: -0.7468 - val_accuracy: 0.0000e+00\n",
            "Epoch 61/100\n",
            "4/4 [==============================] - 0s 10ms/step - loss: -0.5698 - accuracy: 0.0000e+00 - val_loss: -0.7825 - val_accuracy: 0.0000e+00\n",
            "Epoch 62/100\n",
            "4/4 [==============================] - 0s 10ms/step - loss: -0.6532 - accuracy: 0.0000e+00 - val_loss: -0.8183 - val_accuracy: 0.0000e+00\n",
            "Epoch 63/100\n",
            "4/4 [==============================] - 0s 11ms/step - loss: -0.6023 - accuracy: 0.0000e+00 - val_loss: -0.8540 - val_accuracy: 0.0000e+00\n",
            "Epoch 64/100\n",
            "4/4 [==============================] - 0s 10ms/step - loss: -0.7188 - accuracy: 0.0000e+00 - val_loss: -0.8899 - val_accuracy: 0.0000e+00\n",
            "Epoch 65/100\n",
            "4/4 [==============================] - 0s 12ms/step - loss: -0.7751 - accuracy: 0.0000e+00 - val_loss: -0.9260 - val_accuracy: 0.0000e+00\n",
            "Epoch 66/100\n",
            "4/4 [==============================] - 0s 12ms/step - loss: -0.7338 - accuracy: 0.0000e+00 - val_loss: -0.9619 - val_accuracy: 0.0000e+00\n",
            "Epoch 67/100\n",
            "4/4 [==============================] - 0s 11ms/step - loss: -0.7062 - accuracy: 0.0000e+00 - val_loss: -0.9979 - val_accuracy: 0.0000e+00\n",
            "Epoch 68/100\n",
            "4/4 [==============================] - 0s 10ms/step - loss: -0.7760 - accuracy: 0.0000e+00 - val_loss: -1.0341 - val_accuracy: 0.0000e+00\n",
            "Epoch 69/100\n",
            "4/4 [==============================] - 0s 10ms/step - loss: -0.8221 - accuracy: 0.0000e+00 - val_loss: -1.0707 - val_accuracy: 0.0000e+00\n",
            "Epoch 70/100\n",
            "4/4 [==============================] - 0s 10ms/step - loss: -0.8194 - accuracy: 0.0000e+00 - val_loss: -1.1073 - val_accuracy: 0.0000e+00\n",
            "Epoch 71/100\n",
            "4/4 [==============================] - 0s 12ms/step - loss: -0.8227 - accuracy: 0.0000e+00 - val_loss: -1.1436 - val_accuracy: 0.0000e+00\n",
            "Epoch 72/100\n",
            "4/4 [==============================] - 0s 17ms/step - loss: -0.9287 - accuracy: 0.0000e+00 - val_loss: -1.1799 - val_accuracy: 0.0000e+00\n",
            "Epoch 73/100\n",
            "4/4 [==============================] - 0s 13ms/step - loss: -0.8557 - accuracy: 0.0000e+00 - val_loss: -1.2159 - val_accuracy: 0.0000e+00\n",
            "Epoch 74/100\n",
            "4/4 [==============================] - 0s 11ms/step - loss: -0.9721 - accuracy: 0.0000e+00 - val_loss: -1.2523 - val_accuracy: 0.0000e+00\n",
            "Epoch 75/100\n",
            "4/4 [==============================] - 0s 11ms/step - loss: -0.9181 - accuracy: 0.0000e+00 - val_loss: -1.2887 - val_accuracy: 0.0000e+00\n",
            "Epoch 76/100\n",
            "4/4 [==============================] - 0s 11ms/step - loss: -0.9928 - accuracy: 0.0000e+00 - val_loss: -1.3252 - val_accuracy: 0.0000e+00\n",
            "Epoch 77/100\n",
            "4/4 [==============================] - 0s 16ms/step - loss: -1.0843 - accuracy: 0.0000e+00 - val_loss: -1.3617 - val_accuracy: 0.0000e+00\n",
            "Epoch 78/100\n",
            "4/4 [==============================] - 0s 10ms/step - loss: -1.0731 - accuracy: 0.0000e+00 - val_loss: -1.3983 - val_accuracy: 0.0000e+00\n",
            "Epoch 79/100\n",
            "4/4 [==============================] - 0s 10ms/step - loss: -1.0922 - accuracy: 0.0000e+00 - val_loss: -1.4351 - val_accuracy: 0.0000e+00\n",
            "Epoch 80/100\n",
            "4/4 [==============================] - 0s 10ms/step - loss: -1.3084 - accuracy: 0.0000e+00 - val_loss: -1.4722 - val_accuracy: 0.0000e+00\n",
            "Epoch 81/100\n",
            "4/4 [==============================] - 0s 11ms/step - loss: -1.2153 - accuracy: 0.0000e+00 - val_loss: -1.5092 - val_accuracy: 0.0000e+00\n",
            "Epoch 82/100\n",
            "4/4 [==============================] - 0s 13ms/step - loss: -1.3418 - accuracy: 0.0000e+00 - val_loss: -1.5461 - val_accuracy: 0.0000e+00\n",
            "Epoch 83/100\n",
            "4/4 [==============================] - 0s 11ms/step - loss: -1.2586 - accuracy: 0.0000e+00 - val_loss: -1.5831 - val_accuracy: 0.0000e+00\n",
            "Epoch 84/100\n",
            "4/4 [==============================] - 0s 12ms/step - loss: -1.3586 - accuracy: 0.0000e+00 - val_loss: -1.6202 - val_accuracy: 0.0000e+00\n",
            "Epoch 85/100\n",
            "4/4 [==============================] - 0s 13ms/step - loss: -1.3877 - accuracy: 0.0000e+00 - val_loss: -1.6573 - val_accuracy: 0.0000e+00\n",
            "Epoch 86/100\n",
            "4/4 [==============================] - 0s 11ms/step - loss: -1.3610 - accuracy: 0.0000e+00 - val_loss: -1.6944 - val_accuracy: 0.0000e+00\n",
            "Epoch 87/100\n",
            "4/4 [==============================] - 0s 11ms/step - loss: -1.4569 - accuracy: 0.0000e+00 - val_loss: -1.7315 - val_accuracy: 0.0000e+00\n",
            "Epoch 88/100\n",
            "4/4 [==============================] - 0s 12ms/step - loss: -1.4765 - accuracy: 0.0000e+00 - val_loss: -1.7688 - val_accuracy: 0.0000e+00\n",
            "Epoch 89/100\n",
            "4/4 [==============================] - 0s 10ms/step - loss: -1.5470 - accuracy: 0.0000e+00 - val_loss: -1.8063 - val_accuracy: 0.0000e+00\n",
            "Epoch 90/100\n",
            "4/4 [==============================] - 0s 12ms/step - loss: -1.7157 - accuracy: 0.0000e+00 - val_loss: -1.8439 - val_accuracy: 0.0000e+00\n",
            "Epoch 91/100\n",
            "4/4 [==============================] - 0s 10ms/step - loss: -1.6398 - accuracy: 0.0000e+00 - val_loss: -1.8817 - val_accuracy: 0.0000e+00\n",
            "Epoch 92/100\n",
            "4/4 [==============================] - 0s 11ms/step - loss: -1.6107 - accuracy: 0.0000e+00 - val_loss: -1.9196 - val_accuracy: 0.0000e+00\n",
            "Epoch 93/100\n",
            "4/4 [==============================] - 0s 11ms/step - loss: -1.7948 - accuracy: 0.0000e+00 - val_loss: -1.9580 - val_accuracy: 0.0000e+00\n",
            "Epoch 94/100\n",
            "4/4 [==============================] - 0s 16ms/step - loss: -1.7984 - accuracy: 0.0000e+00 - val_loss: -1.9962 - val_accuracy: 0.0000e+00\n",
            "Epoch 95/100\n",
            "4/4 [==============================] - 0s 12ms/step - loss: -1.7390 - accuracy: 0.0000e+00 - val_loss: -2.0347 - val_accuracy: 0.0000e+00\n",
            "Epoch 96/100\n",
            "4/4 [==============================] - 0s 10ms/step - loss: -1.7112 - accuracy: 0.0000e+00 - val_loss: -2.0731 - val_accuracy: 0.0000e+00\n",
            "Epoch 97/100\n",
            "4/4 [==============================] - 0s 10ms/step - loss: -1.8927 - accuracy: 0.0000e+00 - val_loss: -2.1110 - val_accuracy: 0.0000e+00\n",
            "Epoch 98/100\n",
            "4/4 [==============================] - 0s 11ms/step - loss: -1.8198 - accuracy: 0.0000e+00 - val_loss: -2.1489 - val_accuracy: 0.0000e+00\n",
            "Epoch 99/100\n",
            "4/4 [==============================] - 0s 10ms/step - loss: -2.0299 - accuracy: 0.0000e+00 - val_loss: -2.1871 - val_accuracy: 0.0000e+00\n",
            "Epoch 100/100\n",
            "4/4 [==============================] - 0s 11ms/step - loss: -1.9547 - accuracy: 0.0000e+00 - val_loss: -2.2255 - val_accuracy: 0.0000e+00\n"
          ]
        }
      ]
    },
    {
      "cell_type": "code",
      "source": [],
      "metadata": {
        "id": "y_3amXKyZ1tq"
      },
      "execution_count": 10,
      "outputs": []
    }
  ]
}