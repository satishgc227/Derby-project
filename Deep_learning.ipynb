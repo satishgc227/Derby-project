{
  "cells": [
    {
      "cell_type": "markdown",
      "metadata": {
        "id": "view-in-github",
        "colab_type": "text"
      },
      "source": [
        "<a href=\"https://colab.research.google.com/github/satishgc227/Derby-project/blob/main/Deep_learning.ipynb\" target=\"_parent\"><img src=\"https://colab.research.google.com/assets/colab-badge.svg\" alt=\"Open In Colab\"/></a>"
      ]
    },
    {
      "cell_type": "code",
      "execution_count": null,
      "metadata": {
        "id": "6g2D3R0JTtJh"
      },
      "outputs": [],
      "source": [
        "# Import required libraries\n",
        "import pandas as pd\n",
        "from sklearn.preprocessing import LabelEncoder\n",
        "from sklearn.model_selection import train_test_split\n",
        "from sklearn.preprocessing import StandardScaler\n",
        "import tensorflow as tf\n",
        "from tensorflow.keras import Sequential\n",
        "from tensorflow.keras.metrics import Precision\n",
        "from tensorflow.keras.losses import CategoricalCrossentropy\n",
        "from tensorflow.keras.optimizers import Adam\n",
        "from tensorflow.keras.layers import Dense, Dropout\n",
        "import numpy as np\n",
        "import keras\n",
        "from matplotlib import pyplot as plt\n",
        "from sklearn.metrics import mean_squared_error"
      ]
    },
    {
      "cell_type": "code",
      "execution_count": null,
      "metadata": {
        "id": "9BkTPK1UUDIN"
      },
      "outputs": [],
      "source": [
        "#Load the dataset\n",
        "cdf=pd.read_csv(\"/content/edited complete.csv\",encoding='latin',nrows=50000)"
      ]
    },
    {
      "cell_type": "code",
      "execution_count": null,
      "metadata": {
        "colab": {
          "base_uri": "https://localhost:8080/"
        },
        "id": "ynAkwdAcUPXh",
        "outputId": "e70fe1b2-de95-46c2-c2ee-9f585207532c"
      },
      "outputs": [
        {
          "data": {
            "text/plain": [
              "track_id               0\n",
              "race_date              0\n",
              "race_number            0\n",
              "program_number         0\n",
              "trakus_index           0\n",
              "latitude               0\n",
              "longitude              0\n",
              "distance_id            0\n",
              "course_type            0\n",
              "track_condition        0\n",
              "run_up_distance        0\n",
              "race_type              0\n",
              "purse                  0\n",
              "post_time              0\n",
              "weight_carried         0\n",
              "jockey                 0\n",
              "odds                   0\n",
              "position_at_finish     0\n",
              "dtype: int64"
            ]
          },
          "execution_count": 3,
          "metadata": {},
          "output_type": "execute_result"
        }
      ],
      "source": [
        "cdf.isnull().sum()"
      ]
    },
    {
      "cell_type": "code",
      "execution_count": null,
      "metadata": {
        "id": "0Yok3DwUUjxK"
      },
      "outputs": [],
      "source": [
        "cdf=cdf.dropna()"
      ]
    },
    {
      "cell_type": "code",
      "execution_count": null,
      "metadata": {
        "colab": {
          "base_uri": "https://localhost:8080/"
        },
        "id": "e_1sxjzDUpTY",
        "outputId": "bfb88b18-630b-47ac-d085-ae837bbfce99"
      },
      "outputs": [
        {
          "name": "stdout",
          "output_type": "stream",
          "text": [
            "<class 'pandas.core.frame.DataFrame'>\n",
            "Int64Index: 50000 entries, 0 to 49999\n",
            "Data columns (total 18 columns):\n",
            " #   Column               Non-Null Count  Dtype  \n",
            "---  ------               --------------  -----  \n",
            " 0   track_id             50000 non-null  object \n",
            " 1   race_date            50000 non-null  object \n",
            " 2   race_number          50000 non-null  int64  \n",
            " 3   program_number       50000 non-null  object \n",
            " 4   trakus_index         50000 non-null  int64  \n",
            " 5   latitude             50000 non-null  float64\n",
            " 6   longitude            50000 non-null  float64\n",
            " 7   distance_id          50000 non-null  int64  \n",
            " 8   course_type          50000 non-null  object \n",
            " 9   track_condition      50000 non-null  object \n",
            " 10  run_up_distance      50000 non-null  int64  \n",
            " 11  race_type            50000 non-null  object \n",
            " 12  purse                50000 non-null  int64  \n",
            " 13  post_time            50000 non-null  int64  \n",
            " 14  weight_carried       50000 non-null  int64  \n",
            " 15  jockey               50000 non-null  object \n",
            " 16  odds                 50000 non-null  int64  \n",
            " 17  position_at_finish   50000 non-null  int64  \n",
            "dtypes: float64(2), int64(9), object(7)\n",
            "memory usage: 7.2+ MB\n"
          ]
        }
      ],
      "source": [
        "cdf.info()"
      ]
    },
    {
      "cell_type": "code",
      "execution_count": null,
      "metadata": {
        "colab": {
          "base_uri": "https://localhost:8080/"
        },
        "id": "dtpeFFggU4sI",
        "outputId": "60fe5237-675d-4e34-bc57-f7f1afba9c22"
      },
      "outputs": [
        {
          "name": "stdout",
          "output_type": "stream",
          "text": [
            "<class 'pandas.core.frame.DataFrame'>\n",
            "Int64Index: 50000 entries, 0 to 49999\n",
            "Data columns (total 18 columns):\n",
            " #   Column               Non-Null Count  Dtype  \n",
            "---  ------               --------------  -----  \n",
            " 0   track_id             50000 non-null  int64  \n",
            " 1   race_date            50000 non-null  int64  \n",
            " 2   race_number          50000 non-null  int64  \n",
            " 3   program_number       50000 non-null  int64  \n",
            " 4   trakus_index         50000 non-null  int64  \n",
            " 5   latitude             50000 non-null  float64\n",
            " 6   longitude            50000 non-null  float64\n",
            " 7   distance_id          50000 non-null  int64  \n",
            " 8   course_type          50000 non-null  int64  \n",
            " 9   track_condition      50000 non-null  int64  \n",
            " 10  run_up_distance      50000 non-null  int64  \n",
            " 11  race_type            50000 non-null  int64  \n",
            " 12  purse                50000 non-null  int64  \n",
            " 13  post_time            50000 non-null  int64  \n",
            " 14  weight_carried       50000 non-null  int64  \n",
            " 15  jockey               50000 non-null  int64  \n",
            " 16  odds                 50000 non-null  int64  \n",
            " 17  position_at_finish   50000 non-null  int64  \n",
            "dtypes: float64(2), int64(16)\n",
            "memory usage: 7.2 MB\n",
            "None\n"
          ]
        }
      ],
      "source": [
        "# Encode ordinal columns ( categorical values with dtype-object)\n",
        "\n",
        "le=LabelEncoder()\n",
        "obj=cdf.select_dtypes(include='object').columns\n",
        "for f in obj:\n",
        "    cdf[f] = le.fit_transform(cdf[f].astype(str))\n",
        "print(cdf.info())"
      ]
    },
    {
      "cell_type": "code",
      "execution_count": null,
      "metadata": {
        "colab": {
          "base_uri": "https://localhost:8080/"
        },
        "id": "KBLJuKMgXwZS",
        "outputId": "94fcaa33-dc43-4e4b-9e24-24e19a04e5dc"
      },
      "outputs": [
        {
          "data": {
            "text/plain": [
              "Index(['race_number ', 'trakus_index ', 'course_type', 'track_condition ',\n",
              "       'run_up_distance ', 'race_type ', 'purse', 'post_time ',\n",
              "       'weight_carried ', 'jockey ', 'odds'],\n",
              "      dtype='object')"
            ]
          },
          "execution_count": 25,
          "metadata": {},
          "output_type": "execute_result"
        }
      ],
      "source": [
        "# Take subset of dataset and build a deep learning model\n",
        "#fdf = cdf.head(1000)\n",
        "X = cdf.drop(['track_id','program_number\\xa0','race_date','latitude\\xa0','longitude\\xa0','distance_id\\xa0','position_at_finish\\xa0'],axis=1)\n",
        "y = cdf['position_at_finish\\xa0']\n",
        "X.columns\n"
      ]
    },
    {
      "cell_type": "code",
      "execution_count": null,
      "metadata": {
        "colab": {
          "base_uri": "https://localhost:8080/"
        },
        "id": "ndCDQMVLYa_e",
        "outputId": "48edb703-367a-47f3-bd95-df59b899f036"
      },
      "outputs": [
        {
          "name": "stdout",
          "output_type": "stream",
          "text": [
            "(40000, 11) (10000, 11) (40000,) (10000,)\n"
          ]
        }
      ],
      "source": [
        "# Scale the data (transforming  data so that it fits within a specific scale, like 0-100 or 0-1)\n",
        "\n",
        "ss = StandardScaler()\n",
        "X = pd.DataFrame(ss.fit_transform(X))\n",
        "#print(data.shape, target.shape)\n",
        "\n",
        "# Split the dataset\n",
        "\n",
        "X_train, X_test, y_train, y_test = train_test_split(X, y, train_size = 0.8, test_size = 0.2,\n",
        "                                               random_state = 1)\n",
        "print(X_train.shape, X_test.shape, y_train.shape, y_test.shape)"
      ]
    },
    {
      "cell_type": "code",
      "execution_count": null,
      "metadata": {
        "colab": {
          "base_uri": "https://localhost:8080/"
        },
        "id": "wrJdIsP2YiPM",
        "outputId": "721baf86-2d80-4b72-c460-f5fcae36a012"
      },
      "outputs": [
        {
          "name": "stdout",
          "output_type": "stream",
          "text": [
            "Model: \"sequential_3\"\n",
            "_________________________________________________________________\n",
            " Layer (type)                Output Shape              Param #   \n",
            "=================================================================\n",
            " dense_9 (Dense)             (None, 11)                132       \n",
            "                                                                 \n",
            " dropout_6 (Dropout)         (None, 11)                0         \n",
            "                                                                 \n",
            " dense_10 (Dense)            (None, 10)                120       \n",
            "                                                                 \n",
            " dropout_7 (Dropout)         (None, 10)                0         \n",
            "                                                                 \n",
            " dense_11 (Dense)            (None, 1)                 11        \n",
            "                                                                 \n",
            "=================================================================\n",
            "Total params: 263\n",
            "Trainable params: 263\n",
            "Non-trainable params: 0\n",
            "_________________________________________________________________\n",
            "<bound method Model.summary of <keras.engine.sequential.Sequential object at 0x7f2036f70250>> \n",
            "\n"
          ]
        }
      ],
      "source": [
        "model=Sequential()\n",
        "model.add(Dense(11,activation='relu',input_dim=11)) #input layer\n",
        "model.add(Dropout(0.1))\n",
        "model.add(Dense(10,activation='relu'))\n",
        "model.add(Dropout(0.1))\n",
        "model.add(Dense(1,activation='softmax'))\n",
        "model.summary()\n",
        "print(model.summary,'\\n')\n"
      ]
    },
    {
      "cell_type": "code",
      "execution_count": null,
      "metadata": {
        "colab": {
          "background_save": true,
          "base_uri": "https://localhost:8080/"
        },
        "id": "82AG74N9ZTv1",
        "outputId": "8ce2360f-6bd6-4c83-d73d-012c06f48026"
      },
      "outputs": [
        {
          "name": "stdout",
          "output_type": "stream",
          "text": [
            "Epoch 1/100\n",
            "200/200 [==============================] - 1s 4ms/step - loss: 0.2934 - accuracy: 0.1028 - val_loss: -0.2546 - val_accuracy: 0.0986\n",
            "Epoch 2/100\n",
            "200/200 [==============================] - 1s 3ms/step - loss: -0.8170 - accuracy: 0.1028 - val_loss: -1.4608 - val_accuracy: 0.0986\n",
            "Epoch 3/100\n",
            "200/200 [==============================] - 1s 3ms/step - loss: -2.1722 - accuracy: 0.1028 - val_loss: -2.9938 - val_accuracy: 0.0986\n",
            "Epoch 4/100\n",
            "200/200 [==============================] - 1s 3ms/step - loss: -3.9421 - accuracy: 0.1028 - val_loss: -4.9865 - val_accuracy: 0.0986\n",
            "Epoch 5/100\n",
            "200/200 [==============================] - 1s 3ms/step - loss: -6.1810 - accuracy: 0.1028 - val_loss: -7.6018 - val_accuracy: 0.0986\n",
            "Epoch 6/100\n",
            "200/200 [==============================] - 1s 3ms/step - loss: -9.2102 - accuracy: 0.1028 - val_loss: -10.9286 - val_accuracy: 0.0986\n",
            "Epoch 7/100\n",
            "200/200 [==============================] - 1s 3ms/step - loss: -12.8547 - accuracy: 0.1028 - val_loss: -14.9965 - val_accuracy: 0.0986\n",
            "Epoch 8/100\n",
            "200/200 [==============================] - 1s 3ms/step - loss: -17.4906 - accuracy: 0.1028 - val_loss: -20.0274 - val_accuracy: 0.0986\n",
            "Epoch 9/100\n",
            "200/200 [==============================] - 1s 3ms/step - loss: -23.0417 - accuracy: 0.1028 - val_loss: -26.0727 - val_accuracy: 0.0986\n",
            "Epoch 10/100\n",
            "200/200 [==============================] - 1s 3ms/step - loss: -29.6521 - accuracy: 0.1028 - val_loss: -33.2081 - val_accuracy: 0.0986\n",
            "Epoch 11/100\n",
            "200/200 [==============================] - 1s 3ms/step - loss: -37.4339 - accuracy: 0.1028 - val_loss: -41.4905 - val_accuracy: 0.0986\n",
            "Epoch 12/100\n",
            "200/200 [==============================] - 1s 3ms/step - loss: -46.4681 - accuracy: 0.1028 - val_loss: -51.0160 - val_accuracy: 0.0986\n",
            "Epoch 13/100\n",
            "200/200 [==============================] - 1s 3ms/step - loss: -56.6241 - accuracy: 0.1028 - val_loss: -61.8067 - val_accuracy: 0.0986\n",
            "Epoch 14/100\n",
            "200/200 [==============================] - 1s 3ms/step - loss: -68.2039 - accuracy: 0.1028 - val_loss: -73.8939 - val_accuracy: 0.0986\n",
            "Epoch 15/100\n",
            "200/200 [==============================] - 1s 3ms/step - loss: -81.0366 - accuracy: 0.1028 - val_loss: -87.3946 - val_accuracy: 0.0986\n",
            "Epoch 16/100\n",
            "200/200 [==============================] - 1s 3ms/step - loss: -95.2050 - accuracy: 0.1028 - val_loss: -102.2316 - val_accuracy: 0.0986\n",
            "Epoch 17/100\n",
            "200/200 [==============================] - 1s 3ms/step - loss: -110.9276 - accuracy: 0.1028 - val_loss: -118.5051 - val_accuracy: 0.0986\n",
            "Epoch 18/100\n",
            "200/200 [==============================] - 1s 3ms/step - loss: -128.3516 - accuracy: 0.1028 - val_loss: -136.2562 - val_accuracy: 0.0986\n",
            "Epoch 19/100\n",
            "200/200 [==============================] - 1s 3ms/step - loss: -146.8624 - accuracy: 0.1028 - val_loss: -155.4537 - val_accuracy: 0.0986\n",
            "Epoch 20/100\n",
            "200/200 [==============================] - 1s 3ms/step - loss: -167.0097 - accuracy: 0.1028 - val_loss: -176.1050 - val_accuracy: 0.0986\n",
            "Epoch 21/100\n",
            "200/200 [==============================] - 1s 3ms/step - loss: -187.8416 - accuracy: 0.1028 - val_loss: -198.2390 - val_accuracy: 0.0986\n",
            "Epoch 22/100\n",
            "200/200 [==============================] - 1s 3ms/step - loss: -211.2593 - accuracy: 0.1028 - val_loss: -222.0157 - val_accuracy: 0.0986\n",
            "Epoch 23/100\n",
            "200/200 [==============================] - 1s 3ms/step - loss: -235.5505 - accuracy: 0.1028 - val_loss: -247.3445 - val_accuracy: 0.0986\n",
            "Epoch 24/100\n",
            "200/200 [==============================] - 1s 3ms/step - loss: -262.3610 - accuracy: 0.1028 - val_loss: -274.4037 - val_accuracy: 0.0986\n",
            "Epoch 25/100\n",
            "200/200 [==============================] - 1s 3ms/step - loss: -290.8553 - accuracy: 0.1028 - val_loss: -303.1068 - val_accuracy: 0.0986\n",
            "Epoch 26/100\n",
            "200/200 [==============================] - 1s 3ms/step - loss: -320.1449 - accuracy: 0.1028 - val_loss: -333.4533 - val_accuracy: 0.0986\n",
            "Epoch 27/100\n",
            "200/200 [==============================] - 1s 3ms/step - loss: -351.0999 - accuracy: 0.1028 - val_loss: -365.4905 - val_accuracy: 0.0986\n",
            "Epoch 28/100\n",
            "200/200 [==============================] - 1s 3ms/step - loss: -384.7504 - accuracy: 0.1028 - val_loss: -399.3275 - val_accuracy: 0.0986\n",
            "Epoch 29/100\n",
            "200/200 [==============================] - 1s 3ms/step - loss: -417.8553 - accuracy: 0.1028 - val_loss: -434.7734 - val_accuracy: 0.0986\n",
            "Epoch 30/100\n",
            "200/200 [==============================] - 1s 3ms/step - loss: -454.1370 - accuracy: 0.1028 - val_loss: -472.0460 - val_accuracy: 0.0986\n",
            "Epoch 31/100\n",
            "200/200 [==============================] - 1s 3ms/step - loss: -494.5175 - accuracy: 0.1028 - val_loss: -511.2390 - val_accuracy: 0.0986\n",
            "Epoch 32/100\n",
            "200/200 [==============================] - 1s 3ms/step - loss: -533.9941 - accuracy: 0.1028 - val_loss: -552.3122 - val_accuracy: 0.0986\n",
            "Epoch 33/100\n",
            "200/200 [==============================] - 1s 3ms/step - loss: -577.1930 - accuracy: 0.1028 - val_loss: -595.3248 - val_accuracy: 0.0986\n",
            "Epoch 34/100\n",
            "200/200 [==============================] - 1s 3ms/step - loss: -620.1118 - accuracy: 0.1028 - val_loss: -640.1682 - val_accuracy: 0.0986\n",
            "Epoch 35/100\n",
            "200/200 [==============================] - 1s 3ms/step - loss: -666.7344 - accuracy: 0.1028 - val_loss: -687.0526 - val_accuracy: 0.0986\n",
            "Epoch 36/100\n",
            "200/200 [==============================] - 1s 3ms/step - loss: -716.3950 - accuracy: 0.1028 - val_loss: -735.9523 - val_accuracy: 0.0986\n",
            "Epoch 37/100\n",
            "200/200 [==============================] - 1s 3ms/step - loss: -765.8768 - accuracy: 0.1028 - val_loss: -786.9768 - val_accuracy: 0.0986\n",
            "Epoch 38/100\n",
            "200/200 [==============================] - 1s 3ms/step - loss: -815.9174 - accuracy: 0.1028 - val_loss: -839.7912 - val_accuracy: 0.0986\n",
            "Epoch 39/100\n",
            "200/200 [==============================] - 1s 3ms/step - loss: -873.1994 - accuracy: 0.1028 - val_loss: -894.8814 - val_accuracy: 0.0986\n",
            "Epoch 40/100\n",
            "200/200 [==============================] - 1s 3ms/step - loss: -928.2569 - accuracy: 0.1028 - val_loss: -951.9806 - val_accuracy: 0.0986\n",
            "Epoch 41/100\n",
            "200/200 [==============================] - 1s 3ms/step - loss: -988.2628 - accuracy: 0.1028 - val_loss: -1011.3917 - val_accuracy: 0.0986\n",
            "Epoch 42/100\n",
            "200/200 [==============================] - 1s 3ms/step - loss: -1047.6293 - accuracy: 0.1028 - val_loss: -1072.7435 - val_accuracy: 0.0986\n",
            "Epoch 43/100\n",
            "200/200 [==============================] - 1s 3ms/step - loss: -1111.0332 - accuracy: 0.1028 - val_loss: -1136.3958 - val_accuracy: 0.0986\n",
            "Epoch 44/100\n",
            "200/200 [==============================] - 1s 3ms/step - loss: -1176.5100 - accuracy: 0.1028 - val_loss: -1202.3990 - val_accuracy: 0.0986\n",
            "Epoch 45/100\n",
            "200/200 [==============================] - 1s 3ms/step - loss: -1241.9871 - accuracy: 0.1028 - val_loss: -1270.5721 - val_accuracy: 0.0986\n",
            "Epoch 46/100\n",
            "200/200 [==============================] - 1s 3ms/step - loss: -1310.3889 - accuracy: 0.1028 - val_loss: -1340.9921 - val_accuracy: 0.0986\n",
            "Epoch 47/100\n",
            "200/200 [==============================] - 1s 3ms/step - loss: -1384.4283 - accuracy: 0.1028 - val_loss: -1413.9331 - val_accuracy: 0.0986\n",
            "Epoch 48/100\n",
            "200/200 [==============================] - 1s 3ms/step - loss: -1460.9719 - accuracy: 0.1028 - val_loss: -1489.2936 - val_accuracy: 0.0986\n",
            "Epoch 49/100\n",
            "200/200 [==============================] - 1s 3ms/step - loss: -1534.2562 - accuracy: 0.1028 - val_loss: -1566.8937 - val_accuracy: 0.0986\n",
            "Epoch 50/100\n",
            "200/200 [==============================] - 1s 3ms/step - loss: -1614.6006 - accuracy: 0.1028 - val_loss: -1646.8986 - val_accuracy: 0.0986\n",
            "Epoch 51/100\n",
            "200/200 [==============================] - 1s 3ms/step - loss: -1702.7836 - accuracy: 0.1028 - val_loss: -1729.7622 - val_accuracy: 0.0986\n",
            "Epoch 52/100\n",
            "200/200 [==============================] - 1s 3ms/step - loss: -1781.1451 - accuracy: 0.1028 - val_loss: -1814.9120 - val_accuracy: 0.0986\n",
            "Epoch 53/100\n",
            "200/200 [==============================] - 1s 3ms/step - loss: -1874.5254 - accuracy: 0.1028 - val_loss: -1902.7078 - val_accuracy: 0.0986\n",
            "Epoch 54/100\n",
            "200/200 [==============================] - 1s 3ms/step - loss: -1958.1686 - accuracy: 0.1028 - val_loss: -1992.9634 - val_accuracy: 0.0986\n",
            "Epoch 55/100\n",
            "200/200 [==============================] - 1s 3ms/step - loss: -2051.6584 - accuracy: 0.1028 - val_loss: -2085.9377 - val_accuracy: 0.0986\n",
            "Epoch 56/100\n",
            "200/200 [==============================] - 1s 3ms/step - loss: -2145.7053 - accuracy: 0.1028 - val_loss: -2181.2351 - val_accuracy: 0.0986\n",
            "Epoch 57/100\n",
            "200/200 [==============================] - 1s 3ms/step - loss: -2243.4419 - accuracy: 0.1028 - val_loss: -2279.5603 - val_accuracy: 0.0986\n",
            "Epoch 58/100\n",
            "200/200 [==============================] - 1s 3ms/step - loss: -2349.6584 - accuracy: 0.1028 - val_loss: -2380.7913 - val_accuracy: 0.0986\n",
            "Epoch 59/100\n",
            "200/200 [==============================] - 1s 3ms/step - loss: -2449.4404 - accuracy: 0.1028 - val_loss: -2484.3777 - val_accuracy: 0.0986\n",
            "Epoch 60/100\n",
            "200/200 [==============================] - 1s 5ms/step - loss: -2550.1880 - accuracy: 0.1028 - val_loss: -2590.7937 - val_accuracy: 0.0986\n",
            "Epoch 61/100\n",
            "200/200 [==============================] - 1s 5ms/step - loss: -2660.9368 - accuracy: 0.1028 - val_loss: -2699.9148 - val_accuracy: 0.0986\n",
            "Epoch 62/100\n",
            "200/200 [==============================] - 1s 5ms/step - loss: -2772.3755 - accuracy: 0.1028 - val_loss: -2811.8811 - val_accuracy: 0.0986\n",
            "Epoch 63/100\n",
            "200/200 [==============================] - 1s 5ms/step - loss: -2888.2727 - accuracy: 0.1028 - val_loss: -2926.9663 - val_accuracy: 0.0986\n",
            "Epoch 64/100\n",
            "200/200 [==============================] - 1s 5ms/step - loss: -3003.9341 - accuracy: 0.1028 - val_loss: -3044.9194 - val_accuracy: 0.0986\n",
            "Epoch 65/100\n",
            "200/200 [==============================] - 1s 3ms/step - loss: -3119.6887 - accuracy: 0.1028 - val_loss: -3165.5845 - val_accuracy: 0.0986\n",
            "Epoch 66/100\n",
            "200/200 [==============================] - 1s 3ms/step - loss: -3246.2698 - accuracy: 0.1028 - val_loss: -3289.2981 - val_accuracy: 0.0986\n",
            "Epoch 67/100\n",
            "200/200 [==============================] - 1s 3ms/step - loss: -3370.4487 - accuracy: 0.1028 - val_loss: -3416.0281 - val_accuracy: 0.0986\n",
            "Epoch 68/100\n",
            "200/200 [==============================] - 1s 3ms/step - loss: -3510.6047 - accuracy: 0.1028 - val_loss: -3545.9260 - val_accuracy: 0.0986\n",
            "Epoch 69/100\n",
            "200/200 [==============================] - 1s 3ms/step - loss: -3635.0571 - accuracy: 0.1028 - val_loss: -3678.6296 - val_accuracy: 0.0986\n",
            "Epoch 70/100\n",
            "200/200 [==============================] - 1s 3ms/step - loss: -3773.0105 - accuracy: 0.1028 - val_loss: -3814.5935 - val_accuracy: 0.0986\n",
            "Epoch 71/100\n",
            "200/200 [==============================] - 1s 3ms/step - loss: -3908.7695 - accuracy: 0.1028 - val_loss: -3953.4812 - val_accuracy: 0.0986\n",
            "Epoch 72/100\n",
            "200/200 [==============================] - 1s 3ms/step - loss: -4040.2285 - accuracy: 0.1028 - val_loss: -4095.2043 - val_accuracy: 0.0986\n",
            "Epoch 73/100\n",
            "200/200 [==============================] - 1s 3ms/step - loss: -4192.1826 - accuracy: 0.1028 - val_loss: -4240.2725 - val_accuracy: 0.0986\n",
            "Epoch 74/100\n",
            "200/200 [==============================] - 1s 3ms/step - loss: -4332.2910 - accuracy: 0.1028 - val_loss: -4388.3794 - val_accuracy: 0.0986\n",
            "Epoch 75/100\n",
            "200/200 [==============================] - 1s 3ms/step - loss: -4482.2744 - accuracy: 0.1028 - val_loss: -4539.7964 - val_accuracy: 0.0986\n",
            "Epoch 76/100\n",
            "200/200 [==============================] - 1s 3ms/step - loss: -4634.9038 - accuracy: 0.1028 - val_loss: -4694.4028 - val_accuracy: 0.0986\n",
            "Epoch 77/100\n",
            "200/200 [==============================] - 1s 3ms/step - loss: -4799.4717 - accuracy: 0.1028 - val_loss: -4852.4902 - val_accuracy: 0.0986\n",
            "Epoch 78/100\n",
            "200/200 [==============================] - 1s 3ms/step - loss: -4948.5664 - accuracy: 0.1028 - val_loss: -5013.6353 - val_accuracy: 0.0986\n",
            "Epoch 79/100\n",
            "200/200 [==============================] - 1s 3ms/step - loss: -5121.9087 - accuracy: 0.1028 - val_loss: -5178.5391 - val_accuracy: 0.0986\n",
            "Epoch 80/100\n",
            "200/200 [==============================] - 1s 3ms/step - loss: -5286.9009 - accuracy: 0.1028 - val_loss: -5346.6885 - val_accuracy: 0.0986\n",
            "Epoch 81/100\n",
            "200/200 [==============================] - 1s 3ms/step - loss: -5463.9028 - accuracy: 0.1028 - val_loss: -5518.3018 - val_accuracy: 0.0986\n",
            "Epoch 82/100\n",
            "200/200 [==============================] - 1s 3ms/step - loss: -5624.6182 - accuracy: 0.1028 - val_loss: -5693.5083 - val_accuracy: 0.0986\n",
            "Epoch 83/100\n",
            "200/200 [==============================] - 1s 3ms/step - loss: -5811.6694 - accuracy: 0.1028 - val_loss: -5871.8828 - val_accuracy: 0.0986\n",
            "Epoch 84/100\n",
            "200/200 [==============================] - 1s 3ms/step - loss: -5994.4883 - accuracy: 0.1028 - val_loss: -6053.8750 - val_accuracy: 0.0986\n",
            "Epoch 85/100\n",
            "200/200 [==============================] - 1s 3ms/step - loss: -6171.4014 - accuracy: 0.1028 - val_loss: -6239.6167 - val_accuracy: 0.0986\n",
            "Epoch 86/100\n",
            "200/200 [==============================] - 1s 3ms/step - loss: -6367.5103 - accuracy: 0.1028 - val_loss: -6428.8188 - val_accuracy: 0.0986\n",
            "Epoch 87/100\n",
            "200/200 [==============================] - 1s 3ms/step - loss: -6566.6191 - accuracy: 0.1028 - val_loss: -6621.5820 - val_accuracy: 0.0986\n",
            "Epoch 88/100\n",
            "200/200 [==============================] - 1s 3ms/step - loss: -6747.2129 - accuracy: 0.1028 - val_loss: -6817.6870 - val_accuracy: 0.0986\n",
            "Epoch 89/100\n",
            "200/200 [==============================] - 1s 3ms/step - loss: -6969.5386 - accuracy: 0.1028 - val_loss: -7018.1128 - val_accuracy: 0.0986\n",
            "Epoch 90/100\n",
            "200/200 [==============================] - 1s 3ms/step - loss: -7144.5967 - accuracy: 0.1028 - val_loss: -7221.2642 - val_accuracy: 0.0986\n",
            "Epoch 91/100\n",
            "200/200 [==============================] - 1s 3ms/step - loss: -7370.1719 - accuracy: 0.1028 - val_loss: -7429.3535 - val_accuracy: 0.0986\n",
            "Epoch 92/100\n",
            "200/200 [==============================] - 1s 3ms/step - loss: -7580.9351 - accuracy: 0.1028 - val_loss: -7640.5039 - val_accuracy: 0.0986\n",
            "Epoch 93/100\n",
            "200/200 [==============================] - 1s 3ms/step - loss: -7785.2002 - accuracy: 0.1028 - val_loss: -7855.5527 - val_accuracy: 0.0986\n",
            "Epoch 94/100\n",
            "200/200 [==============================] - 1s 3ms/step - loss: -8008.3711 - accuracy: 0.1028 - val_loss: -8074.4097 - val_accuracy: 0.0986\n",
            "Epoch 95/100\n",
            "200/200 [==============================] - 1s 3ms/step - loss: -8236.0312 - accuracy: 0.1028 - val_loss: -8296.9990 - val_accuracy: 0.0986\n",
            "Epoch 96/100\n",
            "200/200 [==============================] - 1s 3ms/step - loss: -8447.9600 - accuracy: 0.1028 - val_loss: -8523.2539 - val_accuracy: 0.0986\n",
            "Epoch 97/100\n",
            "200/200 [==============================] - 1s 3ms/step - loss: -8669.9082 - accuracy: 0.1028 - val_loss: -8753.3477 - val_accuracy: 0.0986\n",
            "Epoch 98/100\n",
            "200/200 [==============================] - 1s 3ms/step - loss: -8912.2373 - accuracy: 0.1028 - val_loss: -8987.4668 - val_accuracy: 0.0986\n",
            "Epoch 99/100\n",
            "200/200 [==============================] - 1s 3ms/step - loss: -9163.8770 - accuracy: 0.1028 - val_loss: -9226.3389 - val_accuracy: 0.0986\n",
            "Epoch 100/100\n",
            "200/200 [==============================] - 1s 4ms/step - loss: -9400.1953 - accuracy: 0.1028 - val_loss: -9468.3643 - val_accuracy: 0.0986\n"
          ]
        }
      ],
      "source": [
        "from tensorflow.keras.callbacks import EarlyStopping\n",
        "#Applying optimizers and callbacks\n",
        "optimizer=keras.optimizers.Adam(learning_rate=0.0001)\n",
        "callback=EarlyStopping(monitor='val_loss', min_delta=0.0001,\n",
        "    patience=5,\n",
        "    verbose=1,\n",
        "    mode=\"auto\",\n",
        "    baseline=None,\n",
        "    restore_best_weights=False)\n",
        "\n",
        "#Compiling the model\n",
        "model.compile(loss='binary_crossentropy',optimizer=optimizer,metrics=['accuracy'])\n",
        "\n",
        "\n",
        "#Fitting the model\n",
        "history=model.fit(X_train,y_train,batch_size=200, epochs=100,\n",
        "                    validation_data = (X_test,y_test), verbose=1, callbacks=callback)\n",
        "\n"
      ]
    },
    {
      "cell_type": "code",
      "execution_count": null,
      "metadata": {
        "id": "y_3amXKyZ1tq"
      },
      "outputs": [],
      "source": []
    }
  ],
  "metadata": {
    "colab": {
      "provenance": [],
      "authorship_tag": "ABX9TyPcicfpAzEYLVYOs2CpnP8/",
      "include_colab_link": true
    },
    "kernelspec": {
      "display_name": "Python 3",
      "name": "python3"
    },
    "language_info": {
      "name": "python"
    }
  },
  "nbformat": 4,
  "nbformat_minor": 0
}